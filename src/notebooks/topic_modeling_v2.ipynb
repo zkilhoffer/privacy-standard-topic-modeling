{
 "cells": [
  {
   "cell_type": "markdown",
   "metadata": {},
   "source": [
    "# Finetunes an LLM to improve topic modeling results.\n",
    "\n",
    "2024-03-01\n",
    "\n",
    "Zachary Kilhoffer\n",
    "\n",
    "Requirements:\n",
    "- 'data\\df_2024-02-28.xlsx'\n",
    "- 'data\\df_ada_2024-02-28.xlsx'\n",
    "\n",
    "Outputs:\n",
    "- fine_tuned_model\n",
    "- domain_adapted_model"
   ]
  },
  {
   "cell_type": "code",
   "execution_count": 147,
   "metadata": {},
   "outputs": [],
   "source": [
    "import pandas as pd\n",
    "import transformers\n",
    "import accelerate\n",
    "import ast\n",
    "import os\n",
    "import numpy as np\n",
    "from transformers import AutoTokenizer, AutoModel, DataCollatorForLanguageModeling, Trainer, TrainingArguments, AutoModelForMaskedLM, AutoModelForSequenceClassification\n",
    "from sentence_transformers import SentenceTransformer, models\n",
    "from datasets import Dataset\n",
    "from sklearn.preprocessing import LabelEncoder\n",
    "import joblib  # save the label encoder\n",
    "from openai import OpenAI\n",
    "from bertopic.representation import KeyBERTInspired, MaximalMarginalRelevance\n",
    "from bertopic import BERTopic\n",
    "\n",
    "from umap import UMAP\n",
    "from hdbscan import HDBSCAN  # https://maartengr.github.io/BERTopic/getting_started/parameter%20tuning/parametertuning.html#umap\n"
   ]
  },
  {
   "cell_type": "code",
   "execution_count": 121,
   "metadata": {},
   "outputs": [
    {
     "name": "stdout",
     "output_type": "stream",
     "text": [
      "c:\\analysis 2024-02-19\\privacyvenvv2\\Scripts\\python.exe\n"
     ]
    }
   ],
   "source": [
    "import sys\n",
    "print(sys.executable)\n"
   ]
  },
  {
   "cell_type": "code",
   "execution_count": 120,
   "metadata": {},
   "outputs": [
    {
     "name": "stdout",
     "output_type": "stream",
     "text": [
      "c:\\analysis 2024-02-19\\privacyvenvv2\\Scripts\\pip.exe\n",
      "C:\\Program Files\\Python311\\Scripts\\pip.exe\n",
      "C:\\Users\\zakki\\AppData\\Roaming\\Python\\Python311\\Scripts\\pip.exe\n"
     ]
    }
   ],
   "source": [
    "!where pip"
   ]
  },
  {
   "cell_type": "code",
   "execution_count": 119,
   "metadata": {},
   "outputs": [
    {
     "name": "stdout",
     "output_type": "stream",
     "text": [
      "c:\\analysis 2024-02-19\\privacyvenvv2\\Scripts\\python.exe\n",
      "C:\\Program Files\\Python311\\python.exe\n",
      "C:\\Users\\zakki\\AppData\\Local\\Microsoft\\WindowsApps\\python.exe\n"
     ]
    }
   ],
   "source": [
    "!where python"
   ]
  },
  {
   "cell_type": "code",
   "execution_count": 3,
   "metadata": {},
   "outputs": [],
   "source": [
    "# display tweaks\n",
    "pd.set_option(\"display.max_colwidth\", 200)  # how much text is showing within a cell\n",
    "pd.set_option(\"display.max_columns\", False)\n",
    "pd.set_option(\"display.max_rows\", False)\n",
    "# warnings.filterwarnings(\"ignore\")"
   ]
  },
  {
   "cell_type": "code",
   "execution_count": 111,
   "metadata": {},
   "outputs": [],
   "source": [
    "# read api key\n",
    "def read_key_from_file(filename=r\"key.txt\"):  # replace with yours\n",
    "    with open(filename, 'r') as file:\n",
    "        return file.read().strip()"
   ]
  },
  {
   "cell_type": "code",
   "execution_count": 4,
   "metadata": {},
   "outputs": [],
   "source": [
    "# getting updated dfs\n",
    "df = pd.read_excel(r'data\\df_2024-02-28.xlsx')\n",
    "df_ada = pd.read_excel(r'data\\df_ada_2024-02-28.xlsx')"
   ]
  },
  {
   "cell_type": "code",
   "execution_count": 5,
   "metadata": {},
   "outputs": [],
   "source": [
    "# Merge df with df_ada on df['topic'] and df_ada['topic_num']\n",
    "df_merged = pd.merge(df, df_ada, left_on='topic', right_on='topic_num', how='left')\n",
    "\n",
    "# drop the 'topic_num' column if it's redundant\n",
    "df_merged.drop('topic_num', axis=1, inplace=True)"
   ]
  },
  {
   "cell_type": "code",
   "execution_count": 6,
   "metadata": {},
   "outputs": [],
   "source": [
    "# get rid of needless columns\n",
    "l = ['Unnamed: 0.1', 'Unnamed: 0_x', 'Unnamed: 0_y', 'Unnamed: 1']\n",
    "for x in l:\n",
    "    del df_merged[x]"
   ]
  },
  {
   "cell_type": "code",
   "execution_count": 7,
   "metadata": {},
   "outputs": [
    {
     "data": {
      "text/html": [
       "<div>\n",
       "<style scoped>\n",
       "    .dataframe tbody tr th:only-of-type {\n",
       "        vertical-align: middle;\n",
       "    }\n",
       "\n",
       "    .dataframe tbody tr th {\n",
       "        vertical-align: top;\n",
       "    }\n",
       "\n",
       "    .dataframe thead th {\n",
       "        text-align: right;\n",
       "    }\n",
       "</style>\n",
       "<table border=\"1\" class=\"dataframe\">\n",
       "  <thead>\n",
       "    <tr style=\"text-align: right;\">\n",
       "      <th></th>\n",
       "      <th>topic_num</th>\n",
       "      <th>representative_docs</th>\n",
       "    </tr>\n",
       "  </thead>\n",
       "  <tbody>\n",
       "    <tr>\n",
       "      <th>0</th>\n",
       "      <td>-1</td>\n",
       "      <td>['Event logging. Control 12.4.1 and the associated implementation guidance and other information specified in ISO/IEC 27002 apply. The following sector-specific guidance also applies: Public cloud...</td>\n",
       "    </tr>\n",
       "    <tr>\n",
       "      <th>1</th>\n",
       "      <td>0</td>\n",
       "      <td>['Control and monitoring of service providers and suppliers (sso). Policies and instructions for controlling and monitoring third parties. Basic criterion: Policies and instructions for controllin...</td>\n",
       "    </tr>\n",
       "    <tr>\n",
       "      <th>2</th>\n",
       "      <td>1</td>\n",
       "      <td>['Obligations to personally identifiable information principals. Objective: To ensure that personally identifiable information principals are provided with the appropriate information about the pr...</td>\n",
       "    </tr>\n",
       "    <tr>\n",
       "      <th>3</th>\n",
       "      <td>2</td>\n",
       "      <td>['Cloud service provider shall process customer personal data according to customer\\'s in-structions. the scope of customer\\'s in-structions for the processing of customer personal data shall be d...</td>\n",
       "    </tr>\n",
       "    <tr>\n",
       "      <th>4</th>\n",
       "      <td>3</td>\n",
       "      <td>['Logical and physical access controls. The entity restricts physical access to facilities and protected information assets (for example, data center facilities, backup media storage, and other se...</td>\n",
       "    </tr>\n",
       "    <tr>\n",
       "      <th>5</th>\n",
       "      <td>4</td>\n",
       "      <td>['Configuration management. Configuration settings. A. Establish and document configuration settings for components employed within the system that reflect the most restrictive mode consistent wit...</td>\n",
       "    </tr>\n",
       "    <tr>\n",
       "      <th>6</th>\n",
       "      <td>5</td>\n",
       "      <td>['Information access restriction. Control 9.4.1 and the associated implementation guidance and other information specified in ISO/IEC 27002 apply. The following sector-specific guidance also appli...</td>\n",
       "    </tr>\n",
       "    <tr>\n",
       "      <th>7</th>\n",
       "      <td>6</td>\n",
       "      <td>['Audit and accountability. Audit record generation. a. Provide audit record generation capability for the event types the system is capable of auditing as defined in au-2a on [assignment: organiz...</td>\n",
       "    </tr>\n",
       "    <tr>\n",
       "      <th>8</th>\n",
       "      <td>7</td>\n",
       "      <td>['Additional criteria for privacy. The entity retains personal information consistent with the entity’s objectives related to privacy.. The following points of focus, which apply only to an engage...</td>\n",
       "    </tr>\n",
       "    <tr>\n",
       "      <th>...</th>\n",
       "      <td>...</td>\n",
       "      <td>...</td>\n",
       "    </tr>\n",
       "    <tr>\n",
       "      <th>22</th>\n",
       "      <td>21</td>\n",
       "      <td>[\"Threat &amp; vulnerability management. Threat and vulnerability management policy and procedures. Establish, document, approve, communicate, apply, evaluate, and maintain policies and procedures to ...</td>\n",
       "    </tr>\n",
       "    <tr>\n",
       "      <th>23</th>\n",
       "      <td>22</td>\n",
       "      <td>['Policies for information security. Control 5.1.1 and the associated implementation guidance and other information specified in ISO/IEC 27002 apply. The following sector-specific guidance also ap...</td>\n",
       "    </tr>\n",
       "    <tr>\n",
       "      <th>24</th>\n",
       "      <td>23</td>\n",
       "      <td>['Control environment. Coso principle 3: management establishes, with board oversight, structures, reporting lines, and appropriate authorities and responsibilities in the pursuit of objectives.. ...</td>\n",
       "    </tr>\n",
       "    <tr>\n",
       "      <th>25</th>\n",
       "      <td>24</td>\n",
       "      <td>['Supply chain management, transparency, and accountability. Ssrm control implementation. Implement, operate, and audit or assess the portions of the SSRM which the organization is responsible for...</td>\n",
       "    </tr>\n",
       "    <tr>\n",
       "      <th>26</th>\n",
       "      <td>25</td>\n",
       "      <td>['Data security and privacy lifecycle management. Personal data access, reversal, rectification and deletion. Define and implement processes, procedures, and technical measures to enable data subj...</td>\n",
       "    </tr>\n",
       "    <tr>\n",
       "      <th>27</th>\n",
       "      <td>26</td>\n",
       "      <td>[\"Access control. Use of external systems | limits on authorized use. Permit authorized individuals to use an external system to access the system or to process, store, or transmit organization-co...</td>\n",
       "    </tr>\n",
       "    <tr>\n",
       "      <th>28</th>\n",
       "      <td>27</td>\n",
       "      <td>['Risk assessment. Risk assessment | supply chain risk assessment. (a) Assess supply chain risks associated with [assignment: organization-defined systems, system components, and system services];...</td>\n",
       "    </tr>\n",
       "    <tr>\n",
       "      <th>29</th>\n",
       "      <td>28</td>\n",
       "      <td>['Universal endpoint management. Endpoint inventory. Maintain an inventory of all endpoints used to store and access company data. All organizational endpoint systems should be identified and prot...</td>\n",
       "    </tr>\n",
       "    <tr>\n",
       "      <th>30</th>\n",
       "      <td>29</td>\n",
       "      <td>['Security assessment and authorization. Control assessments | independent assessors. Employ independent assessors or assessment teams to conduct control assessments. Independent assessors or asse...</td>\n",
       "    </tr>\n",
       "  </tbody>\n",
       "</table>\n",
       "<p>31 rows × 2 columns</p>\n",
       "</div>"
      ],
      "text/plain": [
       "    topic_num                                                                                                                                                                                      representative_docs\n",
       "0          -1  ['Event logging. Control 12.4.1 and the associated implementation guidance and other information specified in ISO/IEC 27002 apply. The following sector-specific guidance also applies: Public cloud...\n",
       "1           0  ['Control and monitoring of service providers and suppliers (sso). Policies and instructions for controlling and monitoring third parties. Basic criterion: Policies and instructions for controllin...\n",
       "2           1  ['Obligations to personally identifiable information principals. Objective: To ensure that personally identifiable information principals are provided with the appropriate information about the pr...\n",
       "3           2  ['Cloud service provider shall process customer personal data according to customer\\'s in-structions. the scope of customer\\'s in-structions for the processing of customer personal data shall be d...\n",
       "4           3  ['Logical and physical access controls. The entity restricts physical access to facilities and protected information assets (for example, data center facilities, backup media storage, and other se...\n",
       "5           4  ['Configuration management. Configuration settings. A. Establish and document configuration settings for components employed within the system that reflect the most restrictive mode consistent wit...\n",
       "6           5  ['Information access restriction. Control 9.4.1 and the associated implementation guidance and other information specified in ISO/IEC 27002 apply. The following sector-specific guidance also appli...\n",
       "7           6  ['Audit and accountability. Audit record generation. a. Provide audit record generation capability for the event types the system is capable of auditing as defined in au-2a on [assignment: organiz...\n",
       "8           7  ['Additional criteria for privacy. The entity retains personal information consistent with the entity’s objectives related to privacy.. The following points of focus, which apply only to an engage...\n",
       "..        ...                                                                                                                                                                                                      ...\n",
       "22         21  [\"Threat & vulnerability management. Threat and vulnerability management policy and procedures. Establish, document, approve, communicate, apply, evaluate, and maintain policies and procedures to ...\n",
       "23         22  ['Policies for information security. Control 5.1.1 and the associated implementation guidance and other information specified in ISO/IEC 27002 apply. The following sector-specific guidance also ap...\n",
       "24         23  ['Control environment. Coso principle 3: management establishes, with board oversight, structures, reporting lines, and appropriate authorities and responsibilities in the pursuit of objectives.. ...\n",
       "25         24  ['Supply chain management, transparency, and accountability. Ssrm control implementation. Implement, operate, and audit or assess the portions of the SSRM which the organization is responsible for...\n",
       "26         25  ['Data security and privacy lifecycle management. Personal data access, reversal, rectification and deletion. Define and implement processes, procedures, and technical measures to enable data subj...\n",
       "27         26  [\"Access control. Use of external systems | limits on authorized use. Permit authorized individuals to use an external system to access the system or to process, store, or transmit organization-co...\n",
       "28         27  ['Risk assessment. Risk assessment | supply chain risk assessment. (a) Assess supply chain risks associated with [assignment: organization-defined systems, system components, and system services];...\n",
       "29         28  ['Universal endpoint management. Endpoint inventory. Maintain an inventory of all endpoints used to store and access company data. All organizational endpoint systems should be identified and prot...\n",
       "30         29  ['Security assessment and authorization. Control assessments | independent assessors. Employ independent assessors or assessment teams to conduct control assessments. Independent assessors or asse...\n",
       "\n",
       "[31 rows x 2 columns]"
      ]
     },
     "execution_count": 7,
     "metadata": {},
     "output_type": "execute_result"
    }
   ],
   "source": [
    "# getting a way to say if ALL rows in the df are representative\n",
    "df_temp = df_ada[['topic_num', 'representative_docs']]\n",
    "df_temp"
   ]
  },
  {
   "cell_type": "code",
   "execution_count": 8,
   "metadata": {},
   "outputs": [
    {
     "data": {
      "text/html": [
       "<div>\n",
       "<style scoped>\n",
       "    .dataframe tbody tr th:only-of-type {\n",
       "        vertical-align: middle;\n",
       "    }\n",
       "\n",
       "    .dataframe tbody tr th {\n",
       "        vertical-align: top;\n",
       "    }\n",
       "\n",
       "    .dataframe thead th {\n",
       "        text-align: right;\n",
       "    }\n",
       "</style>\n",
       "<table border=\"1\" class=\"dataframe\">\n",
       "  <thead>\n",
       "    <tr style=\"text-align: right;\">\n",
       "      <th></th>\n",
       "      <th>topic_num</th>\n",
       "      <th>representative_docs</th>\n",
       "    </tr>\n",
       "  </thead>\n",
       "  <tbody>\n",
       "    <tr>\n",
       "      <th>0</th>\n",
       "      <td>-1</td>\n",
       "      <td>[Event logging. Control 12.4.1 and the associated implementation guidance and other information specified in ISO/IEC 27002 apply. The following sector-specific guidance also applies: Public cloud ...</td>\n",
       "    </tr>\n",
       "    <tr>\n",
       "      <th>1</th>\n",
       "      <td>0</td>\n",
       "      <td>[Control and monitoring of service providers and suppliers (sso). Policies and instructions for controlling and monitoring third parties. Basic criterion: Policies and instructions for controlling...</td>\n",
       "    </tr>\n",
       "    <tr>\n",
       "      <th>2</th>\n",
       "      <td>1</td>\n",
       "      <td>[Obligations to personally identifiable information principals. Objective: To ensure that personally identifiable information principals are provided with the appropriate information about the pro...</td>\n",
       "    </tr>\n",
       "    <tr>\n",
       "      <th>3</th>\n",
       "      <td>2</td>\n",
       "      <td>[Cloud service provider shall process customer personal data according to customer's in-structions. the scope of customer's in-structions for the processing of customer personal data shall be defi...</td>\n",
       "    </tr>\n",
       "    <tr>\n",
       "      <th>4</th>\n",
       "      <td>3</td>\n",
       "      <td>[Logical and physical access controls. The entity restricts physical access to facilities and protected information assets (for example, data center facilities, backup media storage, and other sen...</td>\n",
       "    </tr>\n",
       "    <tr>\n",
       "      <th>5</th>\n",
       "      <td>4</td>\n",
       "      <td>[Configuration management. Configuration settings. A. Establish and document configuration settings for components employed within the system that reflect the most restrictive mode consistent with...</td>\n",
       "    </tr>\n",
       "    <tr>\n",
       "      <th>6</th>\n",
       "      <td>5</td>\n",
       "      <td>[Information access restriction. Control 9.4.1 and the associated implementation guidance and other information specified in ISO/IEC 27002 apply. The following sector-specific guidance also applie...</td>\n",
       "    </tr>\n",
       "    <tr>\n",
       "      <th>7</th>\n",
       "      <td>6</td>\n",
       "      <td>[Audit and accountability. Audit record generation. a. Provide audit record generation capability for the event types the system is capable of auditing as defined in au-2a on [assignment: organiza...</td>\n",
       "    </tr>\n",
       "    <tr>\n",
       "      <th>8</th>\n",
       "      <td>7</td>\n",
       "      <td>[Additional criteria for privacy. The entity retains personal information consistent with the entity’s objectives related to privacy.. The following points of focus, which apply only to an engagem...</td>\n",
       "    </tr>\n",
       "    <tr>\n",
       "      <th>...</th>\n",
       "      <td>...</td>\n",
       "      <td>...</td>\n",
       "    </tr>\n",
       "    <tr>\n",
       "      <th>22</th>\n",
       "      <td>21</td>\n",
       "      <td>[Threat &amp; vulnerability management. Threat and vulnerability management policy and procedures. Establish, document, approve, communicate, apply, evaluate, and maintain policies and procedures to i...</td>\n",
       "    </tr>\n",
       "    <tr>\n",
       "      <th>23</th>\n",
       "      <td>22</td>\n",
       "      <td>[Policies for information security. Control 5.1.1 and the associated implementation guidance and other information specified in ISO/IEC 27002 apply. The following sector-specific guidance also app...</td>\n",
       "    </tr>\n",
       "    <tr>\n",
       "      <th>24</th>\n",
       "      <td>23</td>\n",
       "      <td>[Control environment. Coso principle 3: management establishes, with board oversight, structures, reporting lines, and appropriate authorities and responsibilities in the pursuit of objectives.. T...</td>\n",
       "    </tr>\n",
       "    <tr>\n",
       "      <th>25</th>\n",
       "      <td>24</td>\n",
       "      <td>[Supply chain management, transparency, and accountability. Ssrm control implementation. Implement, operate, and audit or assess the portions of the SSRM which the organization is responsible for....</td>\n",
       "    </tr>\n",
       "    <tr>\n",
       "      <th>26</th>\n",
       "      <td>25</td>\n",
       "      <td>[Data security and privacy lifecycle management. Personal data access, reversal, rectification and deletion. Define and implement processes, procedures, and technical measures to enable data subje...</td>\n",
       "    </tr>\n",
       "    <tr>\n",
       "      <th>27</th>\n",
       "      <td>26</td>\n",
       "      <td>[Access control. Use of external systems | limits on authorized use. Permit authorized individuals to use an external system to access the system or to process, store, or transmit organization-con...</td>\n",
       "    </tr>\n",
       "    <tr>\n",
       "      <th>28</th>\n",
       "      <td>27</td>\n",
       "      <td>[Risk assessment. Risk assessment | supply chain risk assessment. (a) Assess supply chain risks associated with [assignment: organization-defined systems, system components, and system services]; ...</td>\n",
       "    </tr>\n",
       "    <tr>\n",
       "      <th>29</th>\n",
       "      <td>28</td>\n",
       "      <td>[Universal endpoint management. Endpoint inventory. Maintain an inventory of all endpoints used to store and access company data. All organizational endpoint systems should be identified and prote...</td>\n",
       "    </tr>\n",
       "    <tr>\n",
       "      <th>30</th>\n",
       "      <td>29</td>\n",
       "      <td>[Security assessment and authorization. Control assessments | independent assessors. Employ independent assessors or assessment teams to conduct control assessments. Independent assessors or asses...</td>\n",
       "    </tr>\n",
       "  </tbody>\n",
       "</table>\n",
       "<p>31 rows × 2 columns</p>\n",
       "</div>"
      ],
      "text/plain": [
       "    topic_num                                                                                                                                                                                      representative_docs\n",
       "0          -1  [Event logging. Control 12.4.1 and the associated implementation guidance and other information specified in ISO/IEC 27002 apply. The following sector-specific guidance also applies: Public cloud ...\n",
       "1           0  [Control and monitoring of service providers and suppliers (sso). Policies and instructions for controlling and monitoring third parties. Basic criterion: Policies and instructions for controlling...\n",
       "2           1  [Obligations to personally identifiable information principals. Objective: To ensure that personally identifiable information principals are provided with the appropriate information about the pro...\n",
       "3           2  [Cloud service provider shall process customer personal data according to customer's in-structions. the scope of customer's in-structions for the processing of customer personal data shall be defi...\n",
       "4           3  [Logical and physical access controls. The entity restricts physical access to facilities and protected information assets (for example, data center facilities, backup media storage, and other sen...\n",
       "5           4  [Configuration management. Configuration settings. A. Establish and document configuration settings for components employed within the system that reflect the most restrictive mode consistent with...\n",
       "6           5  [Information access restriction. Control 9.4.1 and the associated implementation guidance and other information specified in ISO/IEC 27002 apply. The following sector-specific guidance also applie...\n",
       "7           6  [Audit and accountability. Audit record generation. a. Provide audit record generation capability for the event types the system is capable of auditing as defined in au-2a on [assignment: organiza...\n",
       "8           7  [Additional criteria for privacy. The entity retains personal information consistent with the entity’s objectives related to privacy.. The following points of focus, which apply only to an engagem...\n",
       "..        ...                                                                                                                                                                                                      ...\n",
       "22         21  [Threat & vulnerability management. Threat and vulnerability management policy and procedures. Establish, document, approve, communicate, apply, evaluate, and maintain policies and procedures to i...\n",
       "23         22  [Policies for information security. Control 5.1.1 and the associated implementation guidance and other information specified in ISO/IEC 27002 apply. The following sector-specific guidance also app...\n",
       "24         23  [Control environment. Coso principle 3: management establishes, with board oversight, structures, reporting lines, and appropriate authorities and responsibilities in the pursuit of objectives.. T...\n",
       "25         24  [Supply chain management, transparency, and accountability. Ssrm control implementation. Implement, operate, and audit or assess the portions of the SSRM which the organization is responsible for....\n",
       "26         25  [Data security and privacy lifecycle management. Personal data access, reversal, rectification and deletion. Define and implement processes, procedures, and technical measures to enable data subje...\n",
       "27         26  [Access control. Use of external systems | limits on authorized use. Permit authorized individuals to use an external system to access the system or to process, store, or transmit organization-con...\n",
       "28         27  [Risk assessment. Risk assessment | supply chain risk assessment. (a) Assess supply chain risks associated with [assignment: organization-defined systems, system components, and system services]; ...\n",
       "29         28  [Universal endpoint management. Endpoint inventory. Maintain an inventory of all endpoints used to store and access company data. All organizational endpoint systems should be identified and prote...\n",
       "30         29  [Security assessment and authorization. Control assessments | independent assessors. Employ independent assessors or assessment teams to conduct control assessments. Independent assessors or asses...\n",
       "\n",
       "[31 rows x 2 columns]"
      ]
     },
     "execution_count": 8,
     "metadata": {},
     "output_type": "execute_result"
    }
   ],
   "source": [
    "# read in strings as lists as they should be\n",
    "df_temp['representative_docs'] = df_temp['representative_docs'].apply(ast.literal_eval)\n",
    "df_temp"
   ]
  },
  {
   "cell_type": "code",
   "execution_count": 9,
   "metadata": {},
   "outputs": [
    {
     "data": {
      "text/html": [
       "<div>\n",
       "<style scoped>\n",
       "    .dataframe tbody tr th:only-of-type {\n",
       "        vertical-align: middle;\n",
       "    }\n",
       "\n",
       "    .dataframe tbody tr th {\n",
       "        vertical-align: top;\n",
       "    }\n",
       "\n",
       "    .dataframe thead th {\n",
       "        text-align: right;\n",
       "    }\n",
       "</style>\n",
       "<table border=\"1\" class=\"dataframe\">\n",
       "  <thead>\n",
       "    <tr style=\"text-align: right;\">\n",
       "      <th></th>\n",
       "      <th>topic_num</th>\n",
       "      <th>representative_docs</th>\n",
       "    </tr>\n",
       "  </thead>\n",
       "  <tbody>\n",
       "    <tr>\n",
       "      <th>0</th>\n",
       "      <td>-1</td>\n",
       "      <td>Event logging. Control 12.4.1 and the associated implementation guidance and other information specified in ISO/IEC 27002 apply. The following sector-specific guidance also applies: Public cloud p...</td>\n",
       "    </tr>\n",
       "    <tr>\n",
       "      <th>0</th>\n",
       "      <td>-1</td>\n",
       "      <td>Event logging. Control 12.4.1 and the associated implementation guidance and other information specified in ISO/IEC 27002 apply. The following sector-specific guidance also applies.\\n\\nPublic clou...</td>\n",
       "    </tr>\n",
       "    <tr>\n",
       "      <th>0</th>\n",
       "      <td>-1</td>\n",
       "      <td>Information backup. Control 12.3.1 and the associated implementation guidance specified in ISO/IEC 27002 apply. The following sector-specific guidance also applies. Public cloud personally identif...</td>\n",
       "    </tr>\n",
       "    <tr>\n",
       "      <th>1</th>\n",
       "      <td>0</td>\n",
       "      <td>Control and monitoring of service providers and suppliers (sso). Policies and instructions for controlling and monitoring third parties. Basic criterion: Policies and instructions for controlling ...</td>\n",
       "    </tr>\n",
       "    <tr>\n",
       "      <th>1</th>\n",
       "      <td>0</td>\n",
       "      <td>Portability and interoperability (pi). Contractual agreements for the provision of data. Basic Criterion: In contractual agreements, the following aspects are defined with regard to the terminatio...</td>\n",
       "    </tr>\n",
       "  </tbody>\n",
       "</table>\n",
       "</div>"
      ],
      "text/plain": [
       "   topic_num                                                                                                                                                                                      representative_docs\n",
       "0         -1  Event logging. Control 12.4.1 and the associated implementation guidance and other information specified in ISO/IEC 27002 apply. The following sector-specific guidance also applies: Public cloud p...\n",
       "0         -1  Event logging. Control 12.4.1 and the associated implementation guidance and other information specified in ISO/IEC 27002 apply. The following sector-specific guidance also applies.\\n\\nPublic clou...\n",
       "0         -1  Information backup. Control 12.3.1 and the associated implementation guidance specified in ISO/IEC 27002 apply. The following sector-specific guidance also applies. Public cloud personally identif...\n",
       "1          0  Control and monitoring of service providers and suppliers (sso). Policies and instructions for controlling and monitoring third parties. Basic criterion: Policies and instructions for controlling ...\n",
       "1          0  Portability and interoperability (pi). Contractual agreements for the provision of data. Basic Criterion: In contractual agreements, the following aspects are defined with regard to the terminatio..."
      ]
     },
     "execution_count": 9,
     "metadata": {},
     "output_type": "execute_result"
    }
   ],
   "source": [
    "# explode to get items in list out\n",
    "df_temp = df_temp.explode(['representative_docs'])\n",
    "df_temp.head(5)"
   ]
  },
  {
   "cell_type": "code",
   "execution_count": 10,
   "metadata": {},
   "outputs": [],
   "source": [
    "# Create a set for faster lookup times of representative_docs\n",
    "representative_docs_set = set(df_temp['representative_docs'])\n",
    "\n",
    "# Use apply to check each row in df for a match in representative_docs_set\n",
    "df_merged['is_representative'] = df_merged['full_control_text'].apply(lambda x: x in representative_docs_set)"
   ]
  },
  {
   "cell_type": "code",
   "execution_count": 11,
   "metadata": {},
   "outputs": [
    {
     "data": {
      "text/plain": [
       "is_representative\n",
       "False    1032\n",
       "True       93\n",
       "Name: count, dtype: int64"
      ]
     },
     "execution_count": 11,
     "metadata": {},
     "output_type": "execute_result"
    }
   ],
   "source": [
    "df_merged['is_representative'].value_counts()"
   ]
  },
  {
   "cell_type": "code",
   "execution_count": null,
   "metadata": {},
   "outputs": [],
   "source": [
    "# # to visually/manually inspect representative docs. Do they pass the smell test?\n",
    "# df_merged[df_merged['is_representative'] == True].to_excel(r'data\\finalized\\df to inspect 2024-02-28.xlsx')"
   ]
  },
  {
   "cell_type": "markdown",
   "metadata": {},
   "source": [
    "### TBD: in df_merged.topic_label, add 'NA' if df_merged.topic == -1\n",
    "That will make the pivot table more informative\n",
    "Rather, just change the label \"Cloud data privacy and security\" into \"Unlabeled\""
   ]
  },
  {
   "cell_type": "code",
   "execution_count": 12,
   "metadata": {},
   "outputs": [
    {
     "data": {
      "text/html": [
       "<div>\n",
       "<style scoped>\n",
       "    .dataframe tbody tr th:only-of-type {\n",
       "        vertical-align: middle;\n",
       "    }\n",
       "\n",
       "    .dataframe tbody tr th {\n",
       "        vertical-align: top;\n",
       "    }\n",
       "\n",
       "    .dataframe thead th {\n",
       "        text-align: right;\n",
       "    }\n",
       "</style>\n",
       "<table border=\"1\" class=\"dataframe\">\n",
       "  <thead>\n",
       "    <tr style=\"text-align: right;\">\n",
       "      <th>topic_label</th>\n",
       "      <th>Audit Accountability and Logging Procedures.</th>\n",
       "      <th>Auditing Vulnerabilities in Cloud Security</th>\n",
       "      <th>Cloud Data Privacy and Security</th>\n",
       "      <th>Cloud Data Privacy and Security.</th>\n",
       "      <th>Cloud Service Security and Virtualization</th>\n",
       "      <th>Communication and COSO Process Assessments.</th>\n",
       "      <th>Cryptographic Key Management Processes.</th>\n",
       "      <th>GDPR Compliance in Cloud Services</th>\n",
       "      <th>ISO Standards for PII Data Protection.</th>\n",
       "      <th>Impartial Security Assessment and Authorization.</th>\n",
       "      <th>Incident Response and Organization Security.</th>\n",
       "      <th>Media Sanitization and Protection.</th>\n",
       "      <th>Network Security and Unauthorized Access</th>\n",
       "      <th>Organization's Group Account Security Management.</th>\n",
       "      <th>Organization's Security and Access Control</th>\n",
       "      <th>Organizational Configuration Management Processes.</th>\n",
       "      <th>Organizational Contingency and Reconstitution Planning</th>\n",
       "      <th>Organizational Security Policies and Procedures.</th>\n",
       "      <th>Organizational Security Process and Documentation</th>\n",
       "      <th>Organizational Security and Employee Training.</th>\n",
       "      <th>Organizational User Identification and Authentication.</th>\n",
       "      <th>PII Handling and Lawful Processing.</th>\n",
       "      <th>Personal Data Security Lifecycle Management</th>\n",
       "      <th>Physical Access Control Measures.</th>\n",
       "      <th>Privacy Control and Data Management</th>\n",
       "      <th>Public Cloud PII Protection Guidance.</th>\n",
       "      <th>SSRM in Cloud Service Management.</th>\n",
       "      <th>Supply Chain Risk Mitigation.</th>\n",
       "      <th>Unauthorized Malicious System Intrusion Alerts.</th>\n",
       "      <th>Universal Endpoint Management and Security</th>\n",
       "      <th>Vulnerability Management and Remediation Strategies</th>\n",
       "    </tr>\n",
       "    <tr>\n",
       "      <th>document</th>\n",
       "      <th></th>\n",
       "      <th></th>\n",
       "      <th></th>\n",
       "      <th></th>\n",
       "      <th></th>\n",
       "      <th></th>\n",
       "      <th></th>\n",
       "      <th></th>\n",
       "      <th></th>\n",
       "      <th></th>\n",
       "      <th></th>\n",
       "      <th></th>\n",
       "      <th></th>\n",
       "      <th></th>\n",
       "      <th></th>\n",
       "      <th></th>\n",
       "      <th></th>\n",
       "      <th></th>\n",
       "      <th></th>\n",
       "      <th></th>\n",
       "      <th></th>\n",
       "      <th></th>\n",
       "      <th></th>\n",
       "      <th></th>\n",
       "      <th></th>\n",
       "      <th></th>\n",
       "      <th></th>\n",
       "      <th></th>\n",
       "      <th></th>\n",
       "      <th></th>\n",
       "      <th></th>\n",
       "    </tr>\n",
       "  </thead>\n",
       "  <tbody>\n",
       "    <tr>\n",
       "      <th>c5</th>\n",
       "      <td>0</td>\n",
       "      <td>121</td>\n",
       "      <td>0</td>\n",
       "      <td>0</td>\n",
       "      <td>0</td>\n",
       "      <td>0</td>\n",
       "      <td>0</td>\n",
       "      <td>0</td>\n",
       "      <td>0</td>\n",
       "      <td>0</td>\n",
       "      <td>0</td>\n",
       "      <td>0</td>\n",
       "      <td>0</td>\n",
       "      <td>0</td>\n",
       "      <td>0</td>\n",
       "      <td>0</td>\n",
       "      <td>0</td>\n",
       "      <td>0</td>\n",
       "      <td>0</td>\n",
       "      <td>0</td>\n",
       "      <td>0</td>\n",
       "      <td>0</td>\n",
       "      <td>0</td>\n",
       "      <td>0</td>\n",
       "      <td>0</td>\n",
       "      <td>0</td>\n",
       "      <td>0</td>\n",
       "      <td>0</td>\n",
       "      <td>0</td>\n",
       "      <td>0</td>\n",
       "      <td>0</td>\n",
       "    </tr>\n",
       "    <tr>\n",
       "      <th>ccm</th>\n",
       "      <td>11</td>\n",
       "      <td>21</td>\n",
       "      <td>37</td>\n",
       "      <td>0</td>\n",
       "      <td>0</td>\n",
       "      <td>0</td>\n",
       "      <td>22</td>\n",
       "      <td>1</td>\n",
       "      <td>0</td>\n",
       "      <td>1</td>\n",
       "      <td>7</td>\n",
       "      <td>2</td>\n",
       "      <td>0</td>\n",
       "      <td>3</td>\n",
       "      <td>1</td>\n",
       "      <td>8</td>\n",
       "      <td>0</td>\n",
       "      <td>2</td>\n",
       "      <td>0</td>\n",
       "      <td>13</td>\n",
       "      <td>3</td>\n",
       "      <td>0</td>\n",
       "      <td>16</td>\n",
       "      <td>10</td>\n",
       "      <td>0</td>\n",
       "      <td>0</td>\n",
       "      <td>16</td>\n",
       "      <td>0</td>\n",
       "      <td>0</td>\n",
       "      <td>13</td>\n",
       "      <td>10</td>\n",
       "    </tr>\n",
       "    <tr>\n",
       "      <th>eu_coc</th>\n",
       "      <td>0</td>\n",
       "      <td>0</td>\n",
       "      <td>2</td>\n",
       "      <td>0</td>\n",
       "      <td>0</td>\n",
       "      <td>0</td>\n",
       "      <td>0</td>\n",
       "      <td>59</td>\n",
       "      <td>0</td>\n",
       "      <td>0</td>\n",
       "      <td>0</td>\n",
       "      <td>1</td>\n",
       "      <td>0</td>\n",
       "      <td>0</td>\n",
       "      <td>0</td>\n",
       "      <td>0</td>\n",
       "      <td>0</td>\n",
       "      <td>0</td>\n",
       "      <td>0</td>\n",
       "      <td>1</td>\n",
       "      <td>0</td>\n",
       "      <td>0</td>\n",
       "      <td>0</td>\n",
       "      <td>0</td>\n",
       "      <td>0</td>\n",
       "      <td>0</td>\n",
       "      <td>0</td>\n",
       "      <td>0</td>\n",
       "      <td>0</td>\n",
       "      <td>0</td>\n",
       "      <td>0</td>\n",
       "    </tr>\n",
       "    <tr>\n",
       "      <th>fedramp</th>\n",
       "      <td>27</td>\n",
       "      <td>0</td>\n",
       "      <td>40</td>\n",
       "      <td>0</td>\n",
       "      <td>0</td>\n",
       "      <td>0</td>\n",
       "      <td>4</td>\n",
       "      <td>0</td>\n",
       "      <td>0</td>\n",
       "      <td>12</td>\n",
       "      <td>22</td>\n",
       "      <td>10</td>\n",
       "      <td>28</td>\n",
       "      <td>23</td>\n",
       "      <td>12</td>\n",
       "      <td>32</td>\n",
       "      <td>34</td>\n",
       "      <td>18</td>\n",
       "      <td>21</td>\n",
       "      <td>13</td>\n",
       "      <td>31</td>\n",
       "      <td>0</td>\n",
       "      <td>0</td>\n",
       "      <td>26</td>\n",
       "      <td>0</td>\n",
       "      <td>0</td>\n",
       "      <td>0</td>\n",
       "      <td>13</td>\n",
       "      <td>34</td>\n",
       "      <td>0</td>\n",
       "      <td>10</td>\n",
       "    </tr>\n",
       "    <tr>\n",
       "      <th>iso_27002</th>\n",
       "      <td>0</td>\n",
       "      <td>0</td>\n",
       "      <td>18</td>\n",
       "      <td>12</td>\n",
       "      <td>0</td>\n",
       "      <td>0</td>\n",
       "      <td>0</td>\n",
       "      <td>0</td>\n",
       "      <td>0</td>\n",
       "      <td>0</td>\n",
       "      <td>0</td>\n",
       "      <td>3</td>\n",
       "      <td>0</td>\n",
       "      <td>0</td>\n",
       "      <td>0</td>\n",
       "      <td>0</td>\n",
       "      <td>0</td>\n",
       "      <td>0</td>\n",
       "      <td>0</td>\n",
       "      <td>0</td>\n",
       "      <td>0</td>\n",
       "      <td>2</td>\n",
       "      <td>0</td>\n",
       "      <td>0</td>\n",
       "      <td>0</td>\n",
       "      <td>6</td>\n",
       "      <td>0</td>\n",
       "      <td>0</td>\n",
       "      <td>0</td>\n",
       "      <td>0</td>\n",
       "      <td>0</td>\n",
       "    </tr>\n",
       "    <tr>\n",
       "      <th>iso_27017</th>\n",
       "      <td>0</td>\n",
       "      <td>4</td>\n",
       "      <td>2</td>\n",
       "      <td>0</td>\n",
       "      <td>38</td>\n",
       "      <td>0</td>\n",
       "      <td>0</td>\n",
       "      <td>1</td>\n",
       "      <td>0</td>\n",
       "      <td>0</td>\n",
       "      <td>0</td>\n",
       "      <td>1</td>\n",
       "      <td>0</td>\n",
       "      <td>0</td>\n",
       "      <td>0</td>\n",
       "      <td>0</td>\n",
       "      <td>0</td>\n",
       "      <td>0</td>\n",
       "      <td>0</td>\n",
       "      <td>0</td>\n",
       "      <td>0</td>\n",
       "      <td>0</td>\n",
       "      <td>0</td>\n",
       "      <td>0</td>\n",
       "      <td>0</td>\n",
       "      <td>1</td>\n",
       "      <td>0</td>\n",
       "      <td>0</td>\n",
       "      <td>0</td>\n",
       "      <td>0</td>\n",
       "      <td>0</td>\n",
       "    </tr>\n",
       "    <tr>\n",
       "      <th>iso_27018</th>\n",
       "      <td>0</td>\n",
       "      <td>0</td>\n",
       "      <td>19</td>\n",
       "      <td>11</td>\n",
       "      <td>0</td>\n",
       "      <td>0</td>\n",
       "      <td>0</td>\n",
       "      <td>0</td>\n",
       "      <td>0</td>\n",
       "      <td>0</td>\n",
       "      <td>0</td>\n",
       "      <td>4</td>\n",
       "      <td>0</td>\n",
       "      <td>0</td>\n",
       "      <td>0</td>\n",
       "      <td>0</td>\n",
       "      <td>0</td>\n",
       "      <td>0</td>\n",
       "      <td>0</td>\n",
       "      <td>0</td>\n",
       "      <td>0</td>\n",
       "      <td>3</td>\n",
       "      <td>0</td>\n",
       "      <td>0</td>\n",
       "      <td>0</td>\n",
       "      <td>7</td>\n",
       "      <td>0</td>\n",
       "      <td>0</td>\n",
       "      <td>0</td>\n",
       "      <td>0</td>\n",
       "      <td>0</td>\n",
       "    </tr>\n",
       "    <tr>\n",
       "      <th>iso_27701</th>\n",
       "      <td>0</td>\n",
       "      <td>0</td>\n",
       "      <td>23</td>\n",
       "      <td>0</td>\n",
       "      <td>0</td>\n",
       "      <td>0</td>\n",
       "      <td>0</td>\n",
       "      <td>0</td>\n",
       "      <td>24</td>\n",
       "      <td>0</td>\n",
       "      <td>0</td>\n",
       "      <td>5</td>\n",
       "      <td>0</td>\n",
       "      <td>0</td>\n",
       "      <td>0</td>\n",
       "      <td>0</td>\n",
       "      <td>0</td>\n",
       "      <td>0</td>\n",
       "      <td>0</td>\n",
       "      <td>0</td>\n",
       "      <td>0</td>\n",
       "      <td>86</td>\n",
       "      <td>0</td>\n",
       "      <td>0</td>\n",
       "      <td>0</td>\n",
       "      <td>3</td>\n",
       "      <td>0</td>\n",
       "      <td>0</td>\n",
       "      <td>0</td>\n",
       "      <td>0</td>\n",
       "      <td>0</td>\n",
       "    </tr>\n",
       "    <tr>\n",
       "      <th>soc2</th>\n",
       "      <td>0</td>\n",
       "      <td>0</td>\n",
       "      <td>0</td>\n",
       "      <td>0</td>\n",
       "      <td>0</td>\n",
       "      <td>17</td>\n",
       "      <td>0</td>\n",
       "      <td>0</td>\n",
       "      <td>0</td>\n",
       "      <td>0</td>\n",
       "      <td>0</td>\n",
       "      <td>0</td>\n",
       "      <td>0</td>\n",
       "      <td>0</td>\n",
       "      <td>0</td>\n",
       "      <td>0</td>\n",
       "      <td>0</td>\n",
       "      <td>0</td>\n",
       "      <td>0</td>\n",
       "      <td>0</td>\n",
       "      <td>0</td>\n",
       "      <td>0</td>\n",
       "      <td>0</td>\n",
       "      <td>8</td>\n",
       "      <td>36</td>\n",
       "      <td>0</td>\n",
       "      <td>0</td>\n",
       "      <td>0</td>\n",
       "      <td>0</td>\n",
       "      <td>0</td>\n",
       "      <td>0</td>\n",
       "    </tr>\n",
       "    <tr>\n",
       "      <th>Total</th>\n",
       "      <td>38</td>\n",
       "      <td>146</td>\n",
       "      <td>141</td>\n",
       "      <td>23</td>\n",
       "      <td>38</td>\n",
       "      <td>17</td>\n",
       "      <td>26</td>\n",
       "      <td>61</td>\n",
       "      <td>24</td>\n",
       "      <td>13</td>\n",
       "      <td>29</td>\n",
       "      <td>26</td>\n",
       "      <td>28</td>\n",
       "      <td>26</td>\n",
       "      <td>13</td>\n",
       "      <td>40</td>\n",
       "      <td>34</td>\n",
       "      <td>20</td>\n",
       "      <td>21</td>\n",
       "      <td>27</td>\n",
       "      <td>34</td>\n",
       "      <td>91</td>\n",
       "      <td>16</td>\n",
       "      <td>44</td>\n",
       "      <td>36</td>\n",
       "      <td>17</td>\n",
       "      <td>16</td>\n",
       "      <td>13</td>\n",
       "      <td>34</td>\n",
       "      <td>13</td>\n",
       "      <td>20</td>\n",
       "    </tr>\n",
       "  </tbody>\n",
       "</table>\n",
       "</div>"
      ],
      "text/plain": [
       "topic_label  Audit Accountability and Logging Procedures.  ...  Vulnerability Management and Remediation Strategies\n",
       "document                                                   ...                                                     \n",
       "c5                                                      0  ...                                                    0\n",
       "ccm                                                    11  ...                                                   10\n",
       "eu_coc                                                  0  ...                                                    0\n",
       "fedramp                                                27  ...                                                   10\n",
       "iso_27002                                               0  ...                                                    0\n",
       "iso_27017                                               0  ...                                                    0\n",
       "iso_27018                                               0  ...                                                    0\n",
       "iso_27701                                               0  ...                                                    0\n",
       "soc2                                                    0  ...                                                    0\n",
       "Total                                                  38  ...                                                   20\n",
       "\n",
       "[10 rows x 31 columns]"
      ]
     },
     "execution_count": 12,
     "metadata": {},
     "output_type": "execute_result"
    }
   ],
   "source": [
    "# Pivot table: Document summary\n",
    "\n",
    "# Step 1: Add a helper column for counting if needed\n",
    "df_merged['count'] = 1\n",
    "\n",
    "# Step 2: Create the pivot table using 'docs' as index, 'topic' as columns, and the new 'count' column for values\n",
    "pivot_table = df_merged.pivot_table(index='document', columns='topic_label', values='count', aggfunc='count', fill_value=0)\n",
    "\n",
    "pivot_table.loc['Total'] = pivot_table.sum()\n",
    "\n",
    "# Now, pivot_table should have documents as rows and topics as columns with counts\n",
    "pivot_table"
   ]
  },
  {
   "cell_type": "code",
   "execution_count": 13,
   "metadata": {},
   "outputs": [
    {
     "data": {
      "text/html": [
       "<div>\n",
       "<style scoped>\n",
       "    .dataframe tbody tr th:only-of-type {\n",
       "        vertical-align: middle;\n",
       "    }\n",
       "\n",
       "    .dataframe tbody tr th {\n",
       "        vertical-align: top;\n",
       "    }\n",
       "\n",
       "    .dataframe thead th {\n",
       "        text-align: right;\n",
       "    }\n",
       "</style>\n",
       "<table border=\"1\" class=\"dataframe\">\n",
       "  <thead>\n",
       "    <tr style=\"text-align: right;\">\n",
       "      <th>topic_label</th>\n",
       "      <th>Audit Accountability and Logging Procedures.</th>\n",
       "      <th>Auditing Vulnerabilities in Cloud Security</th>\n",
       "      <th>Cloud Data Privacy and Security</th>\n",
       "      <th>Cloud Data Privacy and Security.</th>\n",
       "      <th>Cloud Service Security and Virtualization</th>\n",
       "      <th>Communication and COSO Process Assessments.</th>\n",
       "      <th>Cryptographic Key Management Processes.</th>\n",
       "      <th>GDPR Compliance in Cloud Services</th>\n",
       "      <th>ISO Standards for PII Data Protection.</th>\n",
       "      <th>Impartial Security Assessment and Authorization.</th>\n",
       "      <th>Incident Response and Organization Security.</th>\n",
       "      <th>Media Sanitization and Protection.</th>\n",
       "      <th>Network Security and Unauthorized Access</th>\n",
       "      <th>Organization's Group Account Security Management.</th>\n",
       "      <th>Organization's Security and Access Control</th>\n",
       "      <th>Organizational Configuration Management Processes.</th>\n",
       "      <th>Organizational Contingency and Reconstitution Planning</th>\n",
       "      <th>Organizational Security Policies and Procedures.</th>\n",
       "      <th>Organizational Security Process and Documentation</th>\n",
       "      <th>Organizational Security and Employee Training.</th>\n",
       "      <th>Organizational User Identification and Authentication.</th>\n",
       "      <th>PII Handling and Lawful Processing.</th>\n",
       "      <th>Personal Data Security Lifecycle Management</th>\n",
       "      <th>Physical Access Control Measures.</th>\n",
       "      <th>Privacy Control and Data Management</th>\n",
       "      <th>Public Cloud PII Protection Guidance.</th>\n",
       "      <th>SSRM in Cloud Service Management.</th>\n",
       "      <th>Supply Chain Risk Mitigation.</th>\n",
       "      <th>Unauthorized Malicious System Intrusion Alerts.</th>\n",
       "      <th>Universal Endpoint Management and Security</th>\n",
       "      <th>Vulnerability Management and Remediation Strategies</th>\n",
       "    </tr>\n",
       "    <tr>\n",
       "      <th>document</th>\n",
       "      <th></th>\n",
       "      <th></th>\n",
       "      <th></th>\n",
       "      <th></th>\n",
       "      <th></th>\n",
       "      <th></th>\n",
       "      <th></th>\n",
       "      <th></th>\n",
       "      <th></th>\n",
       "      <th></th>\n",
       "      <th></th>\n",
       "      <th></th>\n",
       "      <th></th>\n",
       "      <th></th>\n",
       "      <th></th>\n",
       "      <th></th>\n",
       "      <th></th>\n",
       "      <th></th>\n",
       "      <th></th>\n",
       "      <th></th>\n",
       "      <th></th>\n",
       "      <th></th>\n",
       "      <th></th>\n",
       "      <th></th>\n",
       "      <th></th>\n",
       "      <th></th>\n",
       "      <th></th>\n",
       "      <th></th>\n",
       "      <th></th>\n",
       "      <th></th>\n",
       "      <th></th>\n",
       "    </tr>\n",
       "  </thead>\n",
       "  <tbody>\n",
       "    <tr>\n",
       "      <th>c5</th>\n",
       "      <td>0.0</td>\n",
       "      <td>100.0</td>\n",
       "      <td>0.0</td>\n",
       "      <td>0.0</td>\n",
       "      <td>0.0</td>\n",
       "      <td>0.0</td>\n",
       "      <td>0.0</td>\n",
       "      <td>0.0</td>\n",
       "      <td>0.0</td>\n",
       "      <td>0.0</td>\n",
       "      <td>0.0</td>\n",
       "      <td>0.0</td>\n",
       "      <td>0.0</td>\n",
       "      <td>0.0</td>\n",
       "      <td>0.0</td>\n",
       "      <td>0.0</td>\n",
       "      <td>0.0</td>\n",
       "      <td>0.0</td>\n",
       "      <td>0.0</td>\n",
       "      <td>0.0</td>\n",
       "      <td>0.0</td>\n",
       "      <td>0.0</td>\n",
       "      <td>0.0</td>\n",
       "      <td>0.0</td>\n",
       "      <td>0.0</td>\n",
       "      <td>0.0</td>\n",
       "      <td>0.0</td>\n",
       "      <td>0.0</td>\n",
       "      <td>0.0</td>\n",
       "      <td>0.0</td>\n",
       "      <td>0.0</td>\n",
       "    </tr>\n",
       "    <tr>\n",
       "      <th>ccm</th>\n",
       "      <td>5.6</td>\n",
       "      <td>10.7</td>\n",
       "      <td>18.8</td>\n",
       "      <td>0.0</td>\n",
       "      <td>0.0</td>\n",
       "      <td>0.0</td>\n",
       "      <td>11.2</td>\n",
       "      <td>0.5</td>\n",
       "      <td>0.0</td>\n",
       "      <td>0.5</td>\n",
       "      <td>3.6</td>\n",
       "      <td>1.0</td>\n",
       "      <td>0.0</td>\n",
       "      <td>1.5</td>\n",
       "      <td>0.5</td>\n",
       "      <td>4.1</td>\n",
       "      <td>0.0</td>\n",
       "      <td>1.0</td>\n",
       "      <td>0.0</td>\n",
       "      <td>6.6</td>\n",
       "      <td>1.5</td>\n",
       "      <td>0.0</td>\n",
       "      <td>8.1</td>\n",
       "      <td>5.1</td>\n",
       "      <td>0.0</td>\n",
       "      <td>0.0</td>\n",
       "      <td>8.1</td>\n",
       "      <td>0.0</td>\n",
       "      <td>0.0</td>\n",
       "      <td>6.6</td>\n",
       "      <td>5.1</td>\n",
       "    </tr>\n",
       "    <tr>\n",
       "      <th>eu_coc</th>\n",
       "      <td>0.0</td>\n",
       "      <td>0.0</td>\n",
       "      <td>3.2</td>\n",
       "      <td>0.0</td>\n",
       "      <td>0.0</td>\n",
       "      <td>0.0</td>\n",
       "      <td>0.0</td>\n",
       "      <td>93.7</td>\n",
       "      <td>0.0</td>\n",
       "      <td>0.0</td>\n",
       "      <td>0.0</td>\n",
       "      <td>1.6</td>\n",
       "      <td>0.0</td>\n",
       "      <td>0.0</td>\n",
       "      <td>0.0</td>\n",
       "      <td>0.0</td>\n",
       "      <td>0.0</td>\n",
       "      <td>0.0</td>\n",
       "      <td>0.0</td>\n",
       "      <td>1.6</td>\n",
       "      <td>0.0</td>\n",
       "      <td>0.0</td>\n",
       "      <td>0.0</td>\n",
       "      <td>0.0</td>\n",
       "      <td>0.0</td>\n",
       "      <td>0.0</td>\n",
       "      <td>0.0</td>\n",
       "      <td>0.0</td>\n",
       "      <td>0.0</td>\n",
       "      <td>0.0</td>\n",
       "      <td>0.0</td>\n",
       "    </tr>\n",
       "    <tr>\n",
       "      <th>fedramp</th>\n",
       "      <td>6.6</td>\n",
       "      <td>0.0</td>\n",
       "      <td>9.8</td>\n",
       "      <td>0.0</td>\n",
       "      <td>0.0</td>\n",
       "      <td>0.0</td>\n",
       "      <td>1.0</td>\n",
       "      <td>0.0</td>\n",
       "      <td>0.0</td>\n",
       "      <td>2.9</td>\n",
       "      <td>5.4</td>\n",
       "      <td>2.4</td>\n",
       "      <td>6.8</td>\n",
       "      <td>5.6</td>\n",
       "      <td>2.9</td>\n",
       "      <td>7.8</td>\n",
       "      <td>8.3</td>\n",
       "      <td>4.4</td>\n",
       "      <td>5.1</td>\n",
       "      <td>3.2</td>\n",
       "      <td>7.6</td>\n",
       "      <td>0.0</td>\n",
       "      <td>0.0</td>\n",
       "      <td>6.3</td>\n",
       "      <td>0.0</td>\n",
       "      <td>0.0</td>\n",
       "      <td>0.0</td>\n",
       "      <td>3.2</td>\n",
       "      <td>8.3</td>\n",
       "      <td>0.0</td>\n",
       "      <td>2.4</td>\n",
       "    </tr>\n",
       "    <tr>\n",
       "      <th>iso_27002</th>\n",
       "      <td>0.0</td>\n",
       "      <td>0.0</td>\n",
       "      <td>43.9</td>\n",
       "      <td>29.3</td>\n",
       "      <td>0.0</td>\n",
       "      <td>0.0</td>\n",
       "      <td>0.0</td>\n",
       "      <td>0.0</td>\n",
       "      <td>0.0</td>\n",
       "      <td>0.0</td>\n",
       "      <td>0.0</td>\n",
       "      <td>7.3</td>\n",
       "      <td>0.0</td>\n",
       "      <td>0.0</td>\n",
       "      <td>0.0</td>\n",
       "      <td>0.0</td>\n",
       "      <td>0.0</td>\n",
       "      <td>0.0</td>\n",
       "      <td>0.0</td>\n",
       "      <td>0.0</td>\n",
       "      <td>0.0</td>\n",
       "      <td>4.9</td>\n",
       "      <td>0.0</td>\n",
       "      <td>0.0</td>\n",
       "      <td>0.0</td>\n",
       "      <td>14.6</td>\n",
       "      <td>0.0</td>\n",
       "      <td>0.0</td>\n",
       "      <td>0.0</td>\n",
       "      <td>0.0</td>\n",
       "      <td>0.0</td>\n",
       "    </tr>\n",
       "    <tr>\n",
       "      <th>iso_27017</th>\n",
       "      <td>0.0</td>\n",
       "      <td>8.5</td>\n",
       "      <td>4.3</td>\n",
       "      <td>0.0</td>\n",
       "      <td>80.9</td>\n",
       "      <td>0.0</td>\n",
       "      <td>0.0</td>\n",
       "      <td>2.1</td>\n",
       "      <td>0.0</td>\n",
       "      <td>0.0</td>\n",
       "      <td>0.0</td>\n",
       "      <td>2.1</td>\n",
       "      <td>0.0</td>\n",
       "      <td>0.0</td>\n",
       "      <td>0.0</td>\n",
       "      <td>0.0</td>\n",
       "      <td>0.0</td>\n",
       "      <td>0.0</td>\n",
       "      <td>0.0</td>\n",
       "      <td>0.0</td>\n",
       "      <td>0.0</td>\n",
       "      <td>0.0</td>\n",
       "      <td>0.0</td>\n",
       "      <td>0.0</td>\n",
       "      <td>0.0</td>\n",
       "      <td>2.1</td>\n",
       "      <td>0.0</td>\n",
       "      <td>0.0</td>\n",
       "      <td>0.0</td>\n",
       "      <td>0.0</td>\n",
       "      <td>0.0</td>\n",
       "    </tr>\n",
       "    <tr>\n",
       "      <th>iso_27018</th>\n",
       "      <td>0.0</td>\n",
       "      <td>0.0</td>\n",
       "      <td>43.2</td>\n",
       "      <td>25.0</td>\n",
       "      <td>0.0</td>\n",
       "      <td>0.0</td>\n",
       "      <td>0.0</td>\n",
       "      <td>0.0</td>\n",
       "      <td>0.0</td>\n",
       "      <td>0.0</td>\n",
       "      <td>0.0</td>\n",
       "      <td>9.1</td>\n",
       "      <td>0.0</td>\n",
       "      <td>0.0</td>\n",
       "      <td>0.0</td>\n",
       "      <td>0.0</td>\n",
       "      <td>0.0</td>\n",
       "      <td>0.0</td>\n",
       "      <td>0.0</td>\n",
       "      <td>0.0</td>\n",
       "      <td>0.0</td>\n",
       "      <td>6.8</td>\n",
       "      <td>0.0</td>\n",
       "      <td>0.0</td>\n",
       "      <td>0.0</td>\n",
       "      <td>15.9</td>\n",
       "      <td>0.0</td>\n",
       "      <td>0.0</td>\n",
       "      <td>0.0</td>\n",
       "      <td>0.0</td>\n",
       "      <td>0.0</td>\n",
       "    </tr>\n",
       "    <tr>\n",
       "      <th>iso_27701</th>\n",
       "      <td>0.0</td>\n",
       "      <td>0.0</td>\n",
       "      <td>16.3</td>\n",
       "      <td>0.0</td>\n",
       "      <td>0.0</td>\n",
       "      <td>0.0</td>\n",
       "      <td>0.0</td>\n",
       "      <td>0.0</td>\n",
       "      <td>17.0</td>\n",
       "      <td>0.0</td>\n",
       "      <td>0.0</td>\n",
       "      <td>3.5</td>\n",
       "      <td>0.0</td>\n",
       "      <td>0.0</td>\n",
       "      <td>0.0</td>\n",
       "      <td>0.0</td>\n",
       "      <td>0.0</td>\n",
       "      <td>0.0</td>\n",
       "      <td>0.0</td>\n",
       "      <td>0.0</td>\n",
       "      <td>0.0</td>\n",
       "      <td>61.0</td>\n",
       "      <td>0.0</td>\n",
       "      <td>0.0</td>\n",
       "      <td>0.0</td>\n",
       "      <td>2.1</td>\n",
       "      <td>0.0</td>\n",
       "      <td>0.0</td>\n",
       "      <td>0.0</td>\n",
       "      <td>0.0</td>\n",
       "      <td>0.0</td>\n",
       "    </tr>\n",
       "    <tr>\n",
       "      <th>soc2</th>\n",
       "      <td>0.0</td>\n",
       "      <td>0.0</td>\n",
       "      <td>0.0</td>\n",
       "      <td>0.0</td>\n",
       "      <td>0.0</td>\n",
       "      <td>27.9</td>\n",
       "      <td>0.0</td>\n",
       "      <td>0.0</td>\n",
       "      <td>0.0</td>\n",
       "      <td>0.0</td>\n",
       "      <td>0.0</td>\n",
       "      <td>0.0</td>\n",
       "      <td>0.0</td>\n",
       "      <td>0.0</td>\n",
       "      <td>0.0</td>\n",
       "      <td>0.0</td>\n",
       "      <td>0.0</td>\n",
       "      <td>0.0</td>\n",
       "      <td>0.0</td>\n",
       "      <td>0.0</td>\n",
       "      <td>0.0</td>\n",
       "      <td>0.0</td>\n",
       "      <td>0.0</td>\n",
       "      <td>13.1</td>\n",
       "      <td>59.0</td>\n",
       "      <td>0.0</td>\n",
       "      <td>0.0</td>\n",
       "      <td>0.0</td>\n",
       "      <td>0.0</td>\n",
       "      <td>0.0</td>\n",
       "      <td>0.0</td>\n",
       "    </tr>\n",
       "    <tr>\n",
       "      <th>Total</th>\n",
       "      <td>3.4</td>\n",
       "      <td>13.0</td>\n",
       "      <td>12.5</td>\n",
       "      <td>2.0</td>\n",
       "      <td>3.4</td>\n",
       "      <td>1.5</td>\n",
       "      <td>2.3</td>\n",
       "      <td>5.4</td>\n",
       "      <td>2.1</td>\n",
       "      <td>1.2</td>\n",
       "      <td>2.6</td>\n",
       "      <td>2.3</td>\n",
       "      <td>2.5</td>\n",
       "      <td>2.3</td>\n",
       "      <td>1.2</td>\n",
       "      <td>3.6</td>\n",
       "      <td>3.0</td>\n",
       "      <td>1.8</td>\n",
       "      <td>1.9</td>\n",
       "      <td>2.4</td>\n",
       "      <td>3.0</td>\n",
       "      <td>8.1</td>\n",
       "      <td>1.4</td>\n",
       "      <td>3.9</td>\n",
       "      <td>3.2</td>\n",
       "      <td>1.5</td>\n",
       "      <td>1.4</td>\n",
       "      <td>1.2</td>\n",
       "      <td>3.0</td>\n",
       "      <td>1.2</td>\n",
       "      <td>1.8</td>\n",
       "    </tr>\n",
       "  </tbody>\n",
       "</table>\n",
       "</div>"
      ],
      "text/plain": [
       "topic_label  Audit Accountability and Logging Procedures.  ...  Vulnerability Management and Remediation Strategies\n",
       "document                                                   ...                                                     \n",
       "c5                                                    0.0  ...                                                  0.0\n",
       "ccm                                                   5.6  ...                                                  5.1\n",
       "eu_coc                                                0.0  ...                                                  0.0\n",
       "fedramp                                               6.6  ...                                                  2.4\n",
       "iso_27002                                             0.0  ...                                                  0.0\n",
       "iso_27017                                             0.0  ...                                                  0.0\n",
       "iso_27018                                             0.0  ...                                                  0.0\n",
       "iso_27701                                             0.0  ...                                                  0.0\n",
       "soc2                                                  0.0  ...                                                  0.0\n",
       "Total                                                 3.4  ...                                                  1.8\n",
       "\n",
       "[10 rows x 31 columns]"
      ]
     },
     "execution_count": 13,
     "metadata": {},
     "output_type": "execute_result"
    }
   ],
   "source": [
    "# normalized pivot table\n",
    "\n",
    "# Normalize the counts by row to get the percentage and then round to two decimals\n",
    "pivot_table_percentage_rounded = (pivot_table.div(pivot_table.sum(axis=1), axis=0) * 100).round(1)\n",
    "\n",
    "# Display the pivot table with percentages rounded to two decimals\n",
    "pivot_table_percentage_rounded"
   ]
  },
  {
   "cell_type": "code",
   "execution_count": 14,
   "metadata": {},
   "outputs": [
    {
     "data": {
      "text/html": [
       "<div>\n",
       "<style scoped>\n",
       "    .dataframe tbody tr th:only-of-type {\n",
       "        vertical-align: middle;\n",
       "    }\n",
       "\n",
       "    .dataframe tbody tr th {\n",
       "        vertical-align: top;\n",
       "    }\n",
       "\n",
       "    .dataframe thead th {\n",
       "        text-align: right;\n",
       "    }\n",
       "</style>\n",
       "<table border=\"1\" class=\"dataframe\">\n",
       "  <thead>\n",
       "    <tr style=\"text-align: right;\">\n",
       "      <th>topic_label</th>\n",
       "      <th>Audit Accountability and Logging Procedures.</th>\n",
       "      <th>Auditing Vulnerabilities in Cloud Security</th>\n",
       "      <th>Cloud Data Privacy and Security</th>\n",
       "      <th>Cloud Data Privacy and Security.</th>\n",
       "      <th>Cloud Service Security and Virtualization</th>\n",
       "      <th>Communication and COSO Process Assessments.</th>\n",
       "      <th>Cryptographic Key Management Processes.</th>\n",
       "      <th>GDPR Compliance in Cloud Services</th>\n",
       "      <th>ISO Standards for PII Data Protection.</th>\n",
       "      <th>Impartial Security Assessment and Authorization.</th>\n",
       "      <th>Incident Response and Organization Security.</th>\n",
       "      <th>Media Sanitization and Protection.</th>\n",
       "      <th>Network Security and Unauthorized Access</th>\n",
       "      <th>Organization's Group Account Security Management.</th>\n",
       "      <th>Organization's Security and Access Control</th>\n",
       "      <th>Organizational Configuration Management Processes.</th>\n",
       "      <th>Organizational Contingency and Reconstitution Planning</th>\n",
       "      <th>Organizational Security Policies and Procedures.</th>\n",
       "      <th>Organizational Security Process and Documentation</th>\n",
       "      <th>Organizational Security and Employee Training.</th>\n",
       "      <th>Organizational User Identification and Authentication.</th>\n",
       "      <th>PII Handling and Lawful Processing.</th>\n",
       "      <th>Personal Data Security Lifecycle Management</th>\n",
       "      <th>Physical Access Control Measures.</th>\n",
       "      <th>Privacy Control and Data Management</th>\n",
       "      <th>Public Cloud PII Protection Guidance.</th>\n",
       "      <th>SSRM in Cloud Service Management.</th>\n",
       "      <th>Supply Chain Risk Mitigation.</th>\n",
       "      <th>Unauthorized Malicious System Intrusion Alerts.</th>\n",
       "      <th>Universal Endpoint Management and Security</th>\n",
       "      <th>Vulnerability Management and Remediation Strategies</th>\n",
       "    </tr>\n",
       "    <tr>\n",
       "      <th>document</th>\n",
       "      <th></th>\n",
       "      <th></th>\n",
       "      <th></th>\n",
       "      <th></th>\n",
       "      <th></th>\n",
       "      <th></th>\n",
       "      <th></th>\n",
       "      <th></th>\n",
       "      <th></th>\n",
       "      <th></th>\n",
       "      <th></th>\n",
       "      <th></th>\n",
       "      <th></th>\n",
       "      <th></th>\n",
       "      <th></th>\n",
       "      <th></th>\n",
       "      <th></th>\n",
       "      <th></th>\n",
       "      <th></th>\n",
       "      <th></th>\n",
       "      <th></th>\n",
       "      <th></th>\n",
       "      <th></th>\n",
       "      <th></th>\n",
       "      <th></th>\n",
       "      <th></th>\n",
       "      <th></th>\n",
       "      <th></th>\n",
       "      <th></th>\n",
       "      <th></th>\n",
       "      <th></th>\n",
       "    </tr>\n",
       "  </thead>\n",
       "  <tbody>\n",
       "    <tr>\n",
       "      <th>c5</th>\n",
       "      <td>0.0</td>\n",
       "      <td>100.0</td>\n",
       "      <td>0.0</td>\n",
       "      <td>0.0</td>\n",
       "      <td>0.0</td>\n",
       "      <td>0.0</td>\n",
       "      <td>0.0</td>\n",
       "      <td>0.0</td>\n",
       "      <td>0.0</td>\n",
       "      <td>0.0</td>\n",
       "      <td>0.0</td>\n",
       "      <td>0.0</td>\n",
       "      <td>0.0</td>\n",
       "      <td>0.0</td>\n",
       "      <td>0.0</td>\n",
       "      <td>0.0</td>\n",
       "      <td>0.0</td>\n",
       "      <td>0.0</td>\n",
       "      <td>0.0</td>\n",
       "      <td>0.0</td>\n",
       "      <td>0.0</td>\n",
       "      <td>0.0</td>\n",
       "      <td>0.0</td>\n",
       "      <td>0.0</td>\n",
       "      <td>0.0</td>\n",
       "      <td>0.0</td>\n",
       "      <td>0.0</td>\n",
       "      <td>0.0</td>\n",
       "      <td>0.0</td>\n",
       "      <td>0.0</td>\n",
       "      <td>0.0</td>\n",
       "    </tr>\n",
       "    <tr>\n",
       "      <th>ccm</th>\n",
       "      <td>5.6</td>\n",
       "      <td>10.7</td>\n",
       "      <td>18.8</td>\n",
       "      <td>0.0</td>\n",
       "      <td>0.0</td>\n",
       "      <td>0.0</td>\n",
       "      <td>11.2</td>\n",
       "      <td>0.5</td>\n",
       "      <td>0.0</td>\n",
       "      <td>0.5</td>\n",
       "      <td>3.6</td>\n",
       "      <td>1.0</td>\n",
       "      <td>0.0</td>\n",
       "      <td>1.5</td>\n",
       "      <td>0.5</td>\n",
       "      <td>4.1</td>\n",
       "      <td>0.0</td>\n",
       "      <td>1.0</td>\n",
       "      <td>0.0</td>\n",
       "      <td>6.6</td>\n",
       "      <td>1.5</td>\n",
       "      <td>0.0</td>\n",
       "      <td>8.1</td>\n",
       "      <td>5.1</td>\n",
       "      <td>0.0</td>\n",
       "      <td>0.0</td>\n",
       "      <td>8.1</td>\n",
       "      <td>0.0</td>\n",
       "      <td>0.0</td>\n",
       "      <td>6.6</td>\n",
       "      <td>5.1</td>\n",
       "    </tr>\n",
       "    <tr>\n",
       "      <th>eu_coc</th>\n",
       "      <td>0.0</td>\n",
       "      <td>0.0</td>\n",
       "      <td>3.2</td>\n",
       "      <td>0.0</td>\n",
       "      <td>0.0</td>\n",
       "      <td>0.0</td>\n",
       "      <td>0.0</td>\n",
       "      <td>93.7</td>\n",
       "      <td>0.0</td>\n",
       "      <td>0.0</td>\n",
       "      <td>0.0</td>\n",
       "      <td>1.6</td>\n",
       "      <td>0.0</td>\n",
       "      <td>0.0</td>\n",
       "      <td>0.0</td>\n",
       "      <td>0.0</td>\n",
       "      <td>0.0</td>\n",
       "      <td>0.0</td>\n",
       "      <td>0.0</td>\n",
       "      <td>1.6</td>\n",
       "      <td>0.0</td>\n",
       "      <td>0.0</td>\n",
       "      <td>0.0</td>\n",
       "      <td>0.0</td>\n",
       "      <td>0.0</td>\n",
       "      <td>0.0</td>\n",
       "      <td>0.0</td>\n",
       "      <td>0.0</td>\n",
       "      <td>0.0</td>\n",
       "      <td>0.0</td>\n",
       "      <td>0.0</td>\n",
       "    </tr>\n",
       "    <tr>\n",
       "      <th>fedramp</th>\n",
       "      <td>6.6</td>\n",
       "      <td>0.0</td>\n",
       "      <td>9.8</td>\n",
       "      <td>0.0</td>\n",
       "      <td>0.0</td>\n",
       "      <td>0.0</td>\n",
       "      <td>1.0</td>\n",
       "      <td>0.0</td>\n",
       "      <td>0.0</td>\n",
       "      <td>2.9</td>\n",
       "      <td>5.4</td>\n",
       "      <td>2.4</td>\n",
       "      <td>6.8</td>\n",
       "      <td>5.6</td>\n",
       "      <td>2.9</td>\n",
       "      <td>7.8</td>\n",
       "      <td>8.3</td>\n",
       "      <td>4.4</td>\n",
       "      <td>5.1</td>\n",
       "      <td>3.2</td>\n",
       "      <td>7.6</td>\n",
       "      <td>0.0</td>\n",
       "      <td>0.0</td>\n",
       "      <td>6.3</td>\n",
       "      <td>0.0</td>\n",
       "      <td>0.0</td>\n",
       "      <td>0.0</td>\n",
       "      <td>3.2</td>\n",
       "      <td>8.3</td>\n",
       "      <td>0.0</td>\n",
       "      <td>2.4</td>\n",
       "    </tr>\n",
       "    <tr>\n",
       "      <th>iso_27002</th>\n",
       "      <td>0.0</td>\n",
       "      <td>0.0</td>\n",
       "      <td>43.9</td>\n",
       "      <td>29.3</td>\n",
       "      <td>0.0</td>\n",
       "      <td>0.0</td>\n",
       "      <td>0.0</td>\n",
       "      <td>0.0</td>\n",
       "      <td>0.0</td>\n",
       "      <td>0.0</td>\n",
       "      <td>0.0</td>\n",
       "      <td>7.3</td>\n",
       "      <td>0.0</td>\n",
       "      <td>0.0</td>\n",
       "      <td>0.0</td>\n",
       "      <td>0.0</td>\n",
       "      <td>0.0</td>\n",
       "      <td>0.0</td>\n",
       "      <td>0.0</td>\n",
       "      <td>0.0</td>\n",
       "      <td>0.0</td>\n",
       "      <td>4.9</td>\n",
       "      <td>0.0</td>\n",
       "      <td>0.0</td>\n",
       "      <td>0.0</td>\n",
       "      <td>14.6</td>\n",
       "      <td>0.0</td>\n",
       "      <td>0.0</td>\n",
       "      <td>0.0</td>\n",
       "      <td>0.0</td>\n",
       "      <td>0.0</td>\n",
       "    </tr>\n",
       "    <tr>\n",
       "      <th>iso_27017</th>\n",
       "      <td>0.0</td>\n",
       "      <td>8.5</td>\n",
       "      <td>4.3</td>\n",
       "      <td>0.0</td>\n",
       "      <td>80.9</td>\n",
       "      <td>0.0</td>\n",
       "      <td>0.0</td>\n",
       "      <td>2.1</td>\n",
       "      <td>0.0</td>\n",
       "      <td>0.0</td>\n",
       "      <td>0.0</td>\n",
       "      <td>2.1</td>\n",
       "      <td>0.0</td>\n",
       "      <td>0.0</td>\n",
       "      <td>0.0</td>\n",
       "      <td>0.0</td>\n",
       "      <td>0.0</td>\n",
       "      <td>0.0</td>\n",
       "      <td>0.0</td>\n",
       "      <td>0.0</td>\n",
       "      <td>0.0</td>\n",
       "      <td>0.0</td>\n",
       "      <td>0.0</td>\n",
       "      <td>0.0</td>\n",
       "      <td>0.0</td>\n",
       "      <td>2.1</td>\n",
       "      <td>0.0</td>\n",
       "      <td>0.0</td>\n",
       "      <td>0.0</td>\n",
       "      <td>0.0</td>\n",
       "      <td>0.0</td>\n",
       "    </tr>\n",
       "    <tr>\n",
       "      <th>iso_27018</th>\n",
       "      <td>0.0</td>\n",
       "      <td>0.0</td>\n",
       "      <td>43.2</td>\n",
       "      <td>25.0</td>\n",
       "      <td>0.0</td>\n",
       "      <td>0.0</td>\n",
       "      <td>0.0</td>\n",
       "      <td>0.0</td>\n",
       "      <td>0.0</td>\n",
       "      <td>0.0</td>\n",
       "      <td>0.0</td>\n",
       "      <td>9.1</td>\n",
       "      <td>0.0</td>\n",
       "      <td>0.0</td>\n",
       "      <td>0.0</td>\n",
       "      <td>0.0</td>\n",
       "      <td>0.0</td>\n",
       "      <td>0.0</td>\n",
       "      <td>0.0</td>\n",
       "      <td>0.0</td>\n",
       "      <td>0.0</td>\n",
       "      <td>6.8</td>\n",
       "      <td>0.0</td>\n",
       "      <td>0.0</td>\n",
       "      <td>0.0</td>\n",
       "      <td>15.9</td>\n",
       "      <td>0.0</td>\n",
       "      <td>0.0</td>\n",
       "      <td>0.0</td>\n",
       "      <td>0.0</td>\n",
       "      <td>0.0</td>\n",
       "    </tr>\n",
       "    <tr>\n",
       "      <th>iso_27701</th>\n",
       "      <td>0.0</td>\n",
       "      <td>0.0</td>\n",
       "      <td>16.3</td>\n",
       "      <td>0.0</td>\n",
       "      <td>0.0</td>\n",
       "      <td>0.0</td>\n",
       "      <td>0.0</td>\n",
       "      <td>0.0</td>\n",
       "      <td>17.0</td>\n",
       "      <td>0.0</td>\n",
       "      <td>0.0</td>\n",
       "      <td>3.5</td>\n",
       "      <td>0.0</td>\n",
       "      <td>0.0</td>\n",
       "      <td>0.0</td>\n",
       "      <td>0.0</td>\n",
       "      <td>0.0</td>\n",
       "      <td>0.0</td>\n",
       "      <td>0.0</td>\n",
       "      <td>0.0</td>\n",
       "      <td>0.0</td>\n",
       "      <td>61.0</td>\n",
       "      <td>0.0</td>\n",
       "      <td>0.0</td>\n",
       "      <td>0.0</td>\n",
       "      <td>2.1</td>\n",
       "      <td>0.0</td>\n",
       "      <td>0.0</td>\n",
       "      <td>0.0</td>\n",
       "      <td>0.0</td>\n",
       "      <td>0.0</td>\n",
       "    </tr>\n",
       "    <tr>\n",
       "      <th>soc2</th>\n",
       "      <td>0.0</td>\n",
       "      <td>0.0</td>\n",
       "      <td>0.0</td>\n",
       "      <td>0.0</td>\n",
       "      <td>0.0</td>\n",
       "      <td>27.9</td>\n",
       "      <td>0.0</td>\n",
       "      <td>0.0</td>\n",
       "      <td>0.0</td>\n",
       "      <td>0.0</td>\n",
       "      <td>0.0</td>\n",
       "      <td>0.0</td>\n",
       "      <td>0.0</td>\n",
       "      <td>0.0</td>\n",
       "      <td>0.0</td>\n",
       "      <td>0.0</td>\n",
       "      <td>0.0</td>\n",
       "      <td>0.0</td>\n",
       "      <td>0.0</td>\n",
       "      <td>0.0</td>\n",
       "      <td>0.0</td>\n",
       "      <td>0.0</td>\n",
       "      <td>0.0</td>\n",
       "      <td>13.1</td>\n",
       "      <td>59.0</td>\n",
       "      <td>0.0</td>\n",
       "      <td>0.0</td>\n",
       "      <td>0.0</td>\n",
       "      <td>0.0</td>\n",
       "      <td>0.0</td>\n",
       "      <td>0.0</td>\n",
       "    </tr>\n",
       "    <tr>\n",
       "      <th>Total</th>\n",
       "      <td>15.6</td>\n",
       "      <td>132.2</td>\n",
       "      <td>152.0</td>\n",
       "      <td>56.3</td>\n",
       "      <td>84.3</td>\n",
       "      <td>29.4</td>\n",
       "      <td>14.5</td>\n",
       "      <td>101.7</td>\n",
       "      <td>19.1</td>\n",
       "      <td>4.6</td>\n",
       "      <td>11.6</td>\n",
       "      <td>29.3</td>\n",
       "      <td>9.3</td>\n",
       "      <td>9.4</td>\n",
       "      <td>4.6</td>\n",
       "      <td>15.5</td>\n",
       "      <td>11.3</td>\n",
       "      <td>7.2</td>\n",
       "      <td>7.0</td>\n",
       "      <td>13.8</td>\n",
       "      <td>12.1</td>\n",
       "      <td>80.8</td>\n",
       "      <td>9.5</td>\n",
       "      <td>28.4</td>\n",
       "      <td>62.2</td>\n",
       "      <td>36.2</td>\n",
       "      <td>9.5</td>\n",
       "      <td>4.4</td>\n",
       "      <td>11.3</td>\n",
       "      <td>7.8</td>\n",
       "      <td>9.3</td>\n",
       "    </tr>\n",
       "  </tbody>\n",
       "</table>\n",
       "</div>"
      ],
      "text/plain": [
       "topic_label  Audit Accountability and Logging Procedures.  ...  Vulnerability Management and Remediation Strategies\n",
       "document                                                   ...                                                     \n",
       "c5                                                    0.0  ...                                                  0.0\n",
       "ccm                                                   5.6  ...                                                  5.1\n",
       "eu_coc                                                0.0  ...                                                  0.0\n",
       "fedramp                                               6.6  ...                                                  2.4\n",
       "iso_27002                                             0.0  ...                                                  0.0\n",
       "iso_27017                                             0.0  ...                                                  0.0\n",
       "iso_27018                                             0.0  ...                                                  0.0\n",
       "iso_27701                                             0.0  ...                                                  0.0\n",
       "soc2                                                  0.0  ...                                                  0.0\n",
       "Total                                                15.6  ...                                                  9.3\n",
       "\n",
       "[10 rows x 31 columns]"
      ]
     },
     "execution_count": 14,
     "metadata": {},
     "output_type": "execute_result"
    }
   ],
   "source": [
    "# Sum the values for each column and add as a new row called \"Total\"\n",
    "pivot_table_percentage_rounded.loc['Total'] = pivot_table_percentage_rounded.sum()\n",
    "\n",
    "# Display the updated pivot table with the \"Total\" row\n",
    "pivot_table_percentage_rounded"
   ]
  },
  {
   "cell_type": "markdown",
   "metadata": {},
   "source": [
    "# Training domain-customized finetuning model"
   ]
  },
  {
   "cell_type": "code",
   "execution_count": 15,
   "metadata": {},
   "outputs": [],
   "source": [
    "# 1. Prepare dataset\n",
    "texts = list(df_merged['full_control_text'].values)"
   ]
  },
  {
   "cell_type": "code",
   "execution_count": null,
   "metadata": {},
   "outputs": [],
   "source": [
    "# 2. Tokenize Your Dataset\n",
    "tokenizer = AutoTokenizer.from_pretrained(\"bert-base-cased\")\n",
    "\n",
    "def tokenize_function(examples):\n",
    "    return tokenizer(examples[\"text\"], padding=\"max_length\", truncation=True, max_length=512)\n",
    "\n",
    "# Create a Dataset object from your texts\n",
    "dataset = Dataset.from_dict({\"text\": texts})\n",
    "\n",
    "# Tokenize the dataset\n",
    "tokenized_dataset = dataset.map(tokenize_function, batched=True)\n",
    "\n",
    "# 3. Create a Data Collator for MLM\n",
    "data_collator = DataCollatorForLanguageModeling(tokenizer=tokenizer, mlm=True, mlm_probability=0.15)"
   ]
  },
  {
   "cell_type": "code",
   "execution_count": null,
   "metadata": {},
   "outputs": [],
   "source": [
    "model = AutoModelForMaskedLM.from_pretrained(\"bert-base-cased\")\n",
    "\n",
    "training_args = TrainingArguments(\n",
    "    output_dir=\"./pretrained_model\",\n",
    "    overwrite_output_dir=True,\n",
    "    num_train_epochs=3,\n",
    "    per_device_train_batch_size=16,\n",
    "    save_steps=10_000,\n",
    "    save_total_limit=2,\n",
    ")\n",
    "\n",
    "trainer = Trainer(\n",
    "    model=model,\n",
    "    args=training_args,\n",
    "    data_collator=data_collator,\n",
    "    train_dataset=tokenized_dataset,  # Directly use the tokenized dataset here\n",
    ")\n",
    "\n",
    "trainer.train()"
   ]
  },
  {
   "cell_type": "code",
   "execution_count": null,
   "metadata": {},
   "outputs": [],
   "source": [
    "# 5. Saving the Further Pretrained Model\n",
    "model.save_pretrained(\"outputs\\domain_adapted_model\")\n",
    "tokenizer.save_pretrained(\"outputs\\domain_adapted_model\")"
   ]
  },
  {
   "cell_type": "markdown",
   "metadata": {},
   "source": [
    "# TBD\n",
    "finetune with labeled data"
   ]
  },
  {
   "cell_type": "code",
   "execution_count": null,
   "metadata": {},
   "outputs": [],
   "source": [
    "# importing the model already trained \n",
    "domain_adapted_model = 'outputs\\domain_adapted_model'"
   ]
  },
  {
   "cell_type": "markdown",
   "metadata": {},
   "source": [
    "## Prepping training data"
   ]
  },
  {
   "cell_type": "code",
   "execution_count": null,
   "metadata": {},
   "outputs": [],
   "source": [
    "# importing training data not yet in proper format\n",
    "df_training = pd.read_excel(r'data\\labels\\df_labels_consensus.xlsx', sheet_name='Data')\n",
    "temp_labels = pd.read_excel(r'data\\labels\\df_labels_consensus.xlsx', sheet_name='Label Choices')"
   ]
  },
  {
   "cell_type": "code",
   "execution_count": null,
   "metadata": {},
   "outputs": [],
   "source": [
    "# inspecting\n",
    "df_training.head()"
   ]
  },
  {
   "cell_type": "code",
   "execution_count": null,
   "metadata": {},
   "outputs": [],
   "source": [
    "df_training['66_label'][2]"
   ]
  },
  {
   "cell_type": "code",
   "execution_count": null,
   "metadata": {},
   "outputs": [],
   "source": [
    "# inspecting\n",
    "temp_labels.head()"
   ]
  },
  {
   "cell_type": "code",
   "execution_count": null,
   "metadata": {},
   "outputs": [],
   "source": [
    "# must strip these strings\n",
    "str(temp_labels['Abbreviation'][22])"
   ]
  },
  {
   "cell_type": "code",
   "execution_count": null,
   "metadata": {},
   "outputs": [],
   "source": [
    "temp_labels['Abbreviation'] = temp_labels['Abbreviation'].apply(lambda x: str(x).strip())"
   ]
  },
  {
   "cell_type": "code",
   "execution_count": null,
   "metadata": {},
   "outputs": [],
   "source": [
    "# confirming it worked\n",
    "str(temp_labels['Abbreviation'][22])"
   ]
  },
  {
   "cell_type": "code",
   "execution_count": null,
   "metadata": {},
   "outputs": [],
   "source": [
    "# removing all but necessary columns for simplicity\n",
    "temp_labels = temp_labels[['Category', 'Definition', 'Abbreviation']]\n",
    "temp_labels.head()"
   ]
  },
  {
   "cell_type": "code",
   "execution_count": null,
   "metadata": {},
   "outputs": [],
   "source": [
    "# only taking the majority opinion (66_label) because I\"m not sure about weighting\n",
    "\n",
    "# Merge df_training with temp_labels on df_training['33_label'] and df_ada['topic_num']\n",
    "df_training = pd.merge(df_training, temp_labels, left_on='66_label', right_on='Abbreviation', how='left')\n",
    "\n",
    "# drop unneeded columns\n",
    "to_drop = ['33_label', '66_label', 'page', 'document', 'Abbreviation', 'indexmaybe', 'control_category', 'control_text']\n",
    "\n",
    "for x in to_drop:\n",
    "    del df_training[x]\n",
    "\n",
    "df_training.head()"
   ]
  },
  {
   "cell_type": "code",
   "execution_count": null,
   "metadata": {},
   "outputs": [],
   "source": [
    "# concatenate the category and definition as we need one column of labels\n",
    "df_training['label'] = df_training['Category'] + ': ' + df_training['Definition']\n",
    "df_training['label']\n",
    "del df_training['Category']\n",
    "del df_training['Definition']\n",
    "\n",
    "# check results\n",
    "df_training.head()"
   ]
  },
  {
   "cell_type": "markdown",
   "metadata": {},
   "source": [
    "## Tokenizing training data"
   ]
  },
  {
   "cell_type": "code",
   "execution_count": null,
   "metadata": {},
   "outputs": [],
   "source": [
    "# df_training is DataFrame with labeled data\n",
    "texts = df_training['control_text_corrected'].values\n",
    "labels = df_training['label'].values\n",
    "\n",
    "# Convert text labels to integers\n",
    "label_encoder = LabelEncoder()\n",
    "encoded_labels = label_encoder.fit_transform(labels)\n",
    "\n",
    "# Create a Dataset object from your texts and encoded labels\n",
    "labeled_dataset = Dataset.from_dict({\"text\": texts, \"label\": encoded_labels})\n",
    "\n",
    "# Tokenize the labeled dataset\n",
    "tokenizer = AutoTokenizer.from_pretrained(\"bert-base-cased\")\n",
    "\n",
    "def tokenize_function(examples):\n",
    "    # Adjust the function to handle the mapping correctly for sequence classification\n",
    "    return tokenizer(examples[\"text\"], padding=\"max_length\", truncation=True, max_length=512)\n",
    "\n",
    "tokenized_labeled_dataset = labeled_dataset.map(tokenize_function, batched=True)\n",
    "\n",
    "# Ensure model is suited for sequence classification\n",
    "model = AutoModelForSequenceClassification.from_pretrained(domain_adapted_model, num_labels=len(label_encoder.classes_))"
   ]
  },
  {
   "cell_type": "code",
   "execution_count": null,
   "metadata": {},
   "outputs": [],
   "source": [
    "# Define training arguments\n",
    "training_args = TrainingArguments(\n",
    "    output_dir=\"outputs/fine_tuned_model\",\n",
    "    overwrite_output_dir=True,\n",
    "    num_train_epochs=3,\n",
    "    per_device_train_batch_size=16,\n",
    "    save_steps=10_000,\n",
    "    save_total_limit=2,\n",
    ")\n",
    "\n",
    "# Initialize the Trainer\n",
    "trainer = Trainer(\n",
    "    model=model,\n",
    "    args=training_args,\n",
    "    train_dataset=tokenized_labeled_dataset,\n",
    ")\n",
    "\n",
    "# Train the model\n",
    "trainer.train()\n",
    "\n",
    "# Optionally, save the model and the tokenizer\n",
    "model.save_pretrained(\"outputs/fine_tuned_model\")\n",
    "tokenizer.save_pretrained(\"outputs/fine_tuned_model\")"
   ]
  },
  {
   "cell_type": "code",
   "execution_count": null,
   "metadata": {},
   "outputs": [],
   "source": [
    "# Also, save the label encoder for later use in inference to decode the predicted labels\n",
    "joblib.dump(label_encoder, \"outputs/fine_tuned_model/label_encoder.joblib\")"
   ]
  },
  {
   "cell_type": "markdown",
   "metadata": {},
   "source": [
    "# Retry Topic Modeling w/Fine-tuned model"
   ]
  },
  {
   "cell_type": "code",
   "execution_count": 19,
   "metadata": {},
   "outputs": [],
   "source": [
    "# convert model to something BERTopic can use\n",
    "\n",
    "# Load fine-tuned model and its tokenizer\n",
    "model_path = 'outputs/fine_tuned_model'  # Adjust path as necessary\n",
    "transformer_model = AutoModel.from_pretrained(model_path)\n",
    "tokenizer = AutoTokenizer.from_pretrained(model_path)\n",
    "\n",
    "# Create a mean pooling layer\n",
    "pooling_model = models.Pooling(\n",
    "    transformer_model.config.hidden_size,\n",
    "    pooling_mode_mean_tokens=True,\n",
    "    pooling_mode_cls_token=False,\n",
    "    pooling_mode_max_tokens=False\n",
    ")\n",
    "\n",
    "# Combine the models into a SentenceTransformers model\n",
    "model = SentenceTransformer(modules=[models.Transformer(model_path), pooling_model])\n",
    "\n",
    "# Save the SentenceTransformers model for future use\n",
    "model.save('outputs/sentence_transformers_compatible_model')\n"
   ]
  },
  {
   "cell_type": "code",
   "execution_count": 20,
   "metadata": {},
   "outputs": [
    {
     "name": "stderr",
     "output_type": "stream",
     "text": [
      "Batches: 100%|██████████| 36/36 [04:49<00:00,  8.04s/it]\n"
     ]
    }
   ],
   "source": [
    "# Block 1: Generate Embeddings Using the Fine-tuned Model\n",
    "\n",
    "# make list of texts for embeddings\n",
    "docs = list(df_merged['full_control_text'].values)\n",
    "\n",
    "# Load your fine-tuned sentence-transformers model\n",
    "model_path = \"outputs/sentence_transformers_compatible_model\"\n",
    "finetuned_model = SentenceTransformer(model_path)\n",
    "\n",
    "# Generate embeddings for each document\n",
    "embeddings = finetuned_model.encode(docs, show_progress_bar=True)\n",
    "\n",
    "# Add the embeddings to DataFrame\n",
    "df_merged['finetune_embeddings'] = embeddings.tolist()"
   ]
  },
  {
   "cell_type": "code",
   "execution_count": null,
   "metadata": {},
   "outputs": [],
   "source": [
    "# # Block 2: Use Pre-generated Embeddings for Topic Modeling with BERTopic, KeyBERTInspired\n",
    "\n",
    "# # Load pre-generated embeddings\n",
    "# pre_generated_embeddings = list(df_merged['finetune_embeddings'].values)\n",
    "# pre_generated_embeddings = np.array(pre_generated_embeddings)\n",
    "\n",
    "# # Create a representation model\n",
    "# representation_model = KeyBERTInspired(random_state=42)\n",
    "\n",
    "# # Instantiate BERTopic with your fine-tuned model's embeddings and the representation model\n",
    "# topic_model = BERTopic(embedding_model='all-MiniLM-L6-v2',  # needed, but doesn't regenerate embeddings. see https://github.com/MaartenGr/BERTopic/issues/1601\n",
    "#                        verbose=True,\n",
    "#                        n_gram_range=(1, 3),\n",
    "#                        min_topic_size=2,\n",
    "#                        calculate_probabilities=True,\n",
    "#                        representation_model=representation_model)\n",
    "\n",
    "# # Fit BERTopic to your documents using pre-generated embeddings\n",
    "# topics, probs = topic_model.fit_transform(docs, embeddings=pre_generated_embeddings)\n"
   ]
  },
  {
   "cell_type": "code",
   "execution_count": null,
   "metadata": {},
   "outputs": [],
   "source": [
    "# # Optional: Print top terms for each topic\n",
    "# space = \" \"*10\n",
    "# for k, v in topic_model.get_topics().items():\n",
    "    \n",
    "#     if k != -1:  # Exclude outlier topic if present\n",
    "#         print(f'Cluster {k: 3}: {\",     \".join([term for term, _ in v[:3]])}')"
   ]
  },
  {
   "cell_type": "markdown",
   "metadata": {},
   "source": [
    "## Try 2 showing documents per class (to abandon)"
   ]
  },
  {
   "cell_type": "code",
   "execution_count": null,
   "metadata": {},
   "outputs": [],
   "source": [
    "# # Block 2: Use Pre-generated Embeddings for Topic Modeling with BERTopic, KeyBERTInspired\n",
    "\n",
    "# # Load pre-generated embeddings\n",
    "# pre_generated_embeddings = list(df_merged['finetune_embeddings'].values)\n",
    "# pre_generated_embeddings = np.array(pre_generated_embeddings)\n",
    "\n",
    "# # Create a representation model\n",
    "# representation_model = KeyBERTInspired(random_state=42)\n",
    "\n",
    "# # prepare classes - experimental, trying to visualize topics by class (document) easier! https://maartengr.github.io/BERTopic/getting_started/visualization/visualize_topics.html#visualize-topics-per-class\n",
    "# classes = df_merged['document']\n",
    "\n",
    "# # Instantiate BERTopic with your fine-tuned model's embeddings and the representation model\n",
    "# topic_model = BERTopic(embedding_model='all-MiniLM-L6-v2',  # needed, but doesn't regenerate embeddings. see https://github.com/MaartenGr/BERTopic/issues/1601\n",
    "#                        verbose=True,\n",
    "#                        n_gram_range=(1, 3),\n",
    "#                        min_topic_size=2,\n",
    "#                        calculate_probabilities=True,\n",
    "#                        representation_model=representation_model)\n",
    "\n",
    "# # Fit BERTopic to your documents using pre-generated embeddings\n",
    "# topics, probs = topic_model.fit_transform(docs, embeddings=pre_generated_embeddings)\n",
    "# topics_per_class = topic_model.topics_per_class(docs, classes=classes)"
   ]
  },
  {
   "cell_type": "code",
   "execution_count": null,
   "metadata": {},
   "outputs": [],
   "source": [
    "# topic_model.visualize_topics_per_class(topics_per_class)"
   ]
  },
  {
   "cell_type": "code",
   "execution_count": null,
   "metadata": {},
   "outputs": [],
   "source": [
    "# df_merged['topics_new'] = topics"
   ]
  },
  {
   "cell_type": "code",
   "execution_count": null,
   "metadata": {},
   "outputs": [],
   "source": [
    "# # Pivot table: Document summary\n",
    "\n",
    "# # Step 1: Add a helper column for counting if needed\n",
    "# df_merged['count'] = 1\n",
    "\n",
    "# # Step 2: Create the pivot table using 'docs' as index, 'topic' as columns, and the new 'count' column for values\n",
    "# pivot_table = df_merged.pivot_table(index='document', columns='topics_new', values='count', aggfunc='count', fill_value=0)\n",
    "\n",
    "# pivot_table.loc['Total'] = pivot_table.sum()\n",
    "\n",
    "\n",
    "# # Now, pivot_table should have documents as rows and topics as columns with counts\n",
    "# pivot_table"
   ]
  },
  {
   "cell_type": "code",
   "execution_count": null,
   "metadata": {},
   "outputs": [],
   "source": [
    "# # normalized pivot table\n",
    "\n",
    "# # Normalize the counts by row to get the percentage and then round to two decimals\n",
    "# pivot_table_percentage_rounded = (pivot_table.div(pivot_table.sum(axis=1), axis=0) * 100).round(1)\n",
    "\n",
    "# # Display the pivot table with percentages rounded to two decimals\n",
    "# pivot_table_percentage_rounded"
   ]
  },
  {
   "cell_type": "markdown",
   "metadata": {},
   "source": [
    "# Try 3\n",
    "\n",
    "### TO DO: \n",
    "\n",
    "- Set min topic size == 2, Get the topics to be done hierarchically, then merge manually as needed"
   ]
  },
  {
   "cell_type": "code",
   "execution_count": null,
   "metadata": {},
   "outputs": [],
   "source": [
    "# # Block 2: Use Pre-generated Embeddings for Topic Modeling with BERTopic, KeyBERTInspired\n",
    "\n",
    "# # Load pre-generated embeddings\n",
    "# pre_generated_embeddings = list(df_merged['finetune_embeddings'].values)\n",
    "# pre_generated_embeddings = np.array(pre_generated_embeddings)\n",
    "\n",
    "# # Create a representation model\n",
    "# representation_model = KeyBERTInspired(random_state=42)\n",
    "\n",
    "# # Instantiate BERTopic with your fine-tuned model's embeddings and the representation model\n",
    "# topic_model = BERTopic(embedding_model=finetuned_model,  # needed, but doesn't regenerate embeddings. see https://github.com/MaartenGr/BERTopic/issues/1601\n",
    "#                        verbose=True,\n",
    "#                        n_gram_range=(1, 3),\n",
    "#                        min_topic_size=2,\n",
    "#                        calculate_probabilities=True,\n",
    "#                        representation_model=representation_model)\n",
    "\n",
    "# # Fit BERTopic to your documents using pre-generated embeddings\n",
    "# topics, probs = topic_model.fit_transform(docs, embeddings=pre_generated_embeddings)"
   ]
  },
  {
   "cell_type": "code",
   "execution_count": null,
   "metadata": {},
   "outputs": [],
   "source": [
    "# # Optional: Print top terms for each topic\n",
    "# space = \" \"*10\n",
    "# for k, v in topic_model.get_topics().items():\n",
    "#     if k != -1:  # Exclude outlier topic if present\n",
    "#         print(f'Cluster {k: 3}: {\",     \".join([term for term, _ in v[:3]])}')"
   ]
  },
  {
   "cell_type": "markdown",
   "metadata": {},
   "source": [
    "# 2024-03-04"
   ]
  },
  {
   "cell_type": "markdown",
   "metadata": {},
   "source": [
    "MaximalMarginalRelevance¶\n",
    "\n",
    "When we calculate the weights of keywords, we typically do not consider whether we already have similar keywords in our topic. Words like \"car\" and \"cars\" essentially represent the same information and often redundant.\n",
    "\n",
    "\n",
    "\n",
    "To decrease this redundancy and improve the diversity of keywords, we can use an algorithm called Maximal Marginal Relevance (MMR)."
   ]
  },
  {
   "cell_type": "markdown",
   "metadata": {},
   "source": [
    "***"
   ]
  },
  {
   "cell_type": "code",
   "execution_count": 142,
   "metadata": {},
   "outputs": [],
   "source": [
    "# instantiate topic modeling\n",
    "\n",
    "# Load fine-tuned sentence-transformers model\n",
    "model_path = \"outputs/sentence_transformers_compatible_model\"\n",
    "finetuned_model = SentenceTransformer(model_path)\n",
    "\n",
    "# Load pre-generated embeddings\n",
    "pre_generated_embeddings = list(df_merged['finetune_embeddings'].values)\n",
    "pre_generated_embeddings = np.array(pre_generated_embeddings)\n",
    "\n",
    "# specifying dimensionality reduction\n",
    "umap_model = UMAP(n_neighbors=15, n_components=5, metric='cosine', low_memory=False)  # may need to tweak\n",
    "\n",
    "# specifying cluster model\n",
    "hdbscan_model = HDBSCAN(min_cluster_size=2, metric='euclidean', prediction_data=True)  # To Do: check with new min cluster size\n",
    "\n",
    "# Create a representation model, 3 parts\n",
    "keybert_model = KeyBERTInspired(random_state=42)\n",
    "mmr_model = MaximalMarginalRelevance(diversity=0.3)\n",
    "representation_model = {\n",
    "    \"KeyBERT\": keybert_model,\n",
    "    # \"OpenAI\": openai_model,  # Uncomment if you will use OpenAI\n",
    "    \"MMR\": mmr_model\n",
    "}\n",
    "\n",
    "# Instantiate BERTopic with fine-tuned model's embeddings and the representation model\n",
    "topic_model = BERTopic(embedding_model=finetuned_model,  \n",
    "                       verbose=True,\n",
    "                       n_gram_range=(1, 3),\n",
    "                       min_topic_size=2,\n",
    "                       calculate_probabilities=True,\n",
    "                       representation_model=representation_model)\n",
    "\n",
    "# note that embedding_model=finetuned_model doesn't remake embeddings. see https://github.com/MaartenGr/BERTopic/issues/1601                   "
   ]
  },
  {
   "cell_type": "code",
   "execution_count": 143,
   "metadata": {},
   "outputs": [
    {
     "name": "stderr",
     "output_type": "stream",
     "text": [
      "2024-03-04 15:27:47,800 - BERTopic - Dimensionality - Fitting the dimensionality reduction algorithm\n",
      "2024-03-04 15:27:50,888 - BERTopic - Dimensionality - Completed ✓\n",
      "2024-03-04 15:27:50,890 - BERTopic - Cluster - Start clustering the reduced embeddings\n",
      "2024-03-04 15:27:51,681 - BERTopic - Cluster - Completed ✓\n",
      "2024-03-04 15:27:51,684 - BERTopic - Representation - Extracting topics from clusters using representation models.\n",
      "2024-03-04 15:32:04,502 - BERTopic - Representation - Completed ✓\n"
     ]
    }
   ],
   "source": [
    "# run topic modeling\n",
    "topics, probs = topic_model.fit_transform(docs, embeddings=pre_generated_embeddings)"
   ]
  },
  {
   "cell_type": "code",
   "execution_count": 160,
   "metadata": {},
   "outputs": [
    {
     "data": {
      "text/plain": [
       "document\n",
       "fedramp      410\n",
       "ccm          197\n",
       "iso_27701    141\n",
       "c5           121\n",
       "eu_coc        63\n",
       "soc2          61\n",
       "iso_27017     47\n",
       "iso_27018     44\n",
       "iso_27002     41\n",
       "Name: count, dtype: int64"
      ]
     },
     "execution_count": 160,
     "metadata": {},
     "output_type": "execute_result"
    }
   ],
   "source": [
    "df_merged['document'].value_counts()"
   ]
  },
  {
   "cell_type": "code",
   "execution_count": 159,
   "metadata": {},
   "outputs": [
    {
     "data": {
      "text/html": [
       "<div>\n",
       "<style scoped>\n",
       "    .dataframe tbody tr th:only-of-type {\n",
       "        vertical-align: middle;\n",
       "    }\n",
       "\n",
       "    .dataframe tbody tr th {\n",
       "        vertical-align: top;\n",
       "    }\n",
       "\n",
       "    .dataframe thead th {\n",
       "        text-align: right;\n",
       "    }\n",
       "</style>\n",
       "<table border=\"1\" class=\"dataframe\">\n",
       "  <thead>\n",
       "    <tr style=\"text-align: right;\">\n",
       "      <th></th>\n",
       "      <th>control_category</th>\n",
       "      <th>control_code</th>\n",
       "      <th>control_name</th>\n",
       "      <th>control_text</th>\n",
       "      <th>page</th>\n",
       "      <th>document</th>\n",
       "      <th>control_text_corrected</th>\n",
       "      <th>full_control_text</th>\n",
       "      <th>finetune_embeddings</th>\n",
       "      <th>count</th>\n",
       "    </tr>\n",
       "  </thead>\n",
       "  <tbody>\n",
       "    <tr>\n",
       "      <th>0</th>\n",
       "      <td>organisation of information security (ois)</td>\n",
       "      <td>OIS-01</td>\n",
       "      <td>information security management system (isms)</td>\n",
       "      <td>basic criterion: the cloud service provider operates an information security management system (isms) in accordance with iso/iec 27001. the scope of the isms covers the cloud service provider’s or...</td>\n",
       "      <td>36.0</td>\n",
       "      <td>c5</td>\n",
       "      <td>Basic criterion: The cloud service provider operates an Information Security Management System (ISMS) in accordance with ISO/IEC 27001. The scope of the ISMS covers the cloud service provider's or...</td>\n",
       "      <td>Organisation of information security (ois). Information security management system (isms). Basic criterion: The cloud service provider operates an Information Security Management System (ISMS) in ...</td>\n",
       "      <td>[0.26916763186454773, -0.17895491421222687, 0.05843820422887802, 0.10326196253299713, 0.41640037298202515, -0.26914629340171814, 0.020081838592886925, 0.2376757264137268, 0.32093170285224915, 0.48...</td>\n",
       "      <td>1</td>\n",
       "    </tr>\n",
       "    <tr>\n",
       "      <th>1</th>\n",
       "      <td>organisation of information security (ois)</td>\n",
       "      <td>OIS-02</td>\n",
       "      <td>information security policy</td>\n",
       "      <td>basic criterion: the top management of the cloud service provider has adopted an information security policy and communicated it to internal and external employees as well as cloud customers. the ...</td>\n",
       "      <td>36.0</td>\n",
       "      <td>c5</td>\n",
       "      <td>Basic criterion: The top management of the cloud service provider has adopted an information security policy and communicated it to internal and external employees, as well as cloud customers. The...</td>\n",
       "      <td>Organisation of information security (ois). Information security policy. Basic criterion: The top management of the cloud service provider has adopted an information security policy and communicat...</td>\n",
       "      <td>[0.30318355560302734, -0.28403574228286743, 0.011182880960404873, 0.11411823332309723, 0.5018870830535889, -0.15271033346652985, 0.13693717122077942, 0.2578427791595459, 0.3121120035648346, 0.2964...</td>\n",
       "      <td>1</td>\n",
       "    </tr>\n",
       "    <tr>\n",
       "      <th>2</th>\n",
       "      <td>organisation of information security (ois)</td>\n",
       "      <td>OIS-03</td>\n",
       "      <td>interfaces and dependencies</td>\n",
       "      <td>basic criterion: interfaces and dependencies between cloud service delivery activities performed by the cloud service provider and activities performed by third parties are documented and communic...</td>\n",
       "      <td>37.0</td>\n",
       "      <td>c5</td>\n",
       "      <td>Basic criterion: Interfaces and dependencies between cloud service delivery activities performed by the cloud service provider and activities performed by third parties are documented and communic...</td>\n",
       "      <td>Organisation of information security (ois). Interfaces and dependencies. Basic criterion: Interfaces and dependencies between cloud service delivery activities performed by the cloud service provi...</td>\n",
       "      <td>[0.3901818096637726, -0.3114907145500183, 0.045606814324855804, 0.10600920766592026, 0.46738895773887634, -0.3043411374092102, 0.04243272915482521, 0.09063242375850677, 0.15170085430145264, 0.3258...</td>\n",
       "      <td>1</td>\n",
       "    </tr>\n",
       "  </tbody>\n",
       "</table>\n",
       "</div>"
      ],
      "text/plain": [
       "                             control_category  ... count\n",
       "0  organisation of information security (ois)  ...     1\n",
       "1  organisation of information security (ois)  ...     1\n",
       "2  organisation of information security (ois)  ...     1\n",
       "\n",
       "[3 rows x 10 columns]"
      ]
     },
     "execution_count": 159,
     "metadata": {},
     "output_type": "execute_result"
    }
   ],
   "source": [
    "df_merged.head(3)"
   ]
  },
  {
   "cell_type": "code",
   "execution_count": 158,
   "metadata": {},
   "outputs": [
    {
     "name": "stdout",
     "output_type": "stream",
     "text": [
      "Appended topic 0: Cloud Service Security and Privacy\n",
      "Appended topic 1: Cloud Service Provider Criteria Compliance.\n",
      "Appended topic 2: Cloud Service Provider Data Security.\n",
      "Appended topic 3: Contingency Planning for Alternate Sites.\n",
      "Appended topic 4: Privacy & Personal Information Handling\n",
      "Appended topic 5: Cryptography and Key Management Processes.\n",
      "Appended topic 6: Public Cloud Personal Identifiable Information Control\n",
      "Appended topic 7: ISO Standards in Information Security\n",
      "Appended topic 8: Security and Privacy System Requirements\n",
      "Appended topic 9: Identification and Multi-Factor Authentication\n",
      "Appended topic 10: Organizational Control over Personal Information.\n",
      "Appended topic 11: Maintenance and Configuration Management Tools\n",
      "Appended topic 12: Cloud Service Physical Security Requirements.\n",
      "Appended topic 13: Personally Identifiable Information Control\n",
      "Appended topic 14: System Component Configuration Management\n",
      "Appended topic 15: Cloud Service Provider Data Management.\n",
      "Appended topic 16: Personally Identifiable Information Management\n",
      "Appended topic 17: Audit Records and Logging Management\n",
      "Appended topic 18: User Registration and Implementation Guidance\n",
      "Appended topic 19: Supply Chain Management and Transparency\n",
      "Appended topic 20: Board of Directors Control Activities\n",
      "Appended topic 21: Network Security and Continuous Auditing\n",
      "Appended topic 22: Personal Identity Verification and Authentication\n",
      "Appended topic 23: Monitoring and Managing Access Control\n",
      "Appended topic 24: Software Integrity and Authorized Execution\n",
      "Appended topic 25: Security and Privacy Policy Procedures.\n",
      "Appended topic 26: Cryptographic Mechanisms and Key Management\n",
      "Appended topic 27: Malware and Tamper Resistance Management\n",
      "Appended topic 28: Public Data Transmission and Storage\n",
      "Appended topic 29: Privileged Identity and Access Management\n",
      "Appended topic 30: Personnel Screening, Sanctions, and Record Retention.\n",
      "Appended topic 31: SSRM and Security Incident Management.\n",
      "Appended topic 32: Supply Chain Risk and Incident Handling\n",
      "Appended topic 33: Change and Application Security Management.\n",
      "Appended topic 34: Public Cloud Personally Identifiable Protection\n",
      "Appended topic 35: Wireless Access Control and Intrusion\n",
      "Appended topic 36: Managing Identified System Vulnerabilities.\n",
      "Appended topic 37: Vulnerability Risk and Remediation Management.\n",
      "Appended topic 38: ISO/IEC 27002:2013 Data Privacy Controls.\n",
      "Appended topic 39: Policies and Procedures Management\n",
      "Appended topic 40: Security and Privacy Policy Procedures.\n",
      "Appended topic 41: Isolation and Separation in Security\n",
      "Appended topic 42: Identification, Authentication, and Authenticators\n",
      "Appended topic 43: Emergency Power Control Measures.\n",
      "Appended topic 44: Data Inventory and Tracking Management\n",
      "Appended topic 45: Personnel Notification and Environmental Controls\n",
      "Appended topic 46: Protecting Personal Data on Media\n",
      "Appended topic 47: Media Protection and Control Measures\n",
      "Appended topic 48: Privacy Principles and Processing Conditions\n",
      "Appended topic 49: Network Defense and Exfiltration Prevention.\n",
      "Appended topic 50: Remote Access and Boundary Protection\n",
      "Appended topic 51: ISO/IEC 27002:2013 Data Privacy\n",
      "Appended topic 52: Remote Access and Media Sanitization.\n",
      "Appended topic 53: Personally Identifiable Information Management.\n",
      "Appended topic 54: Mobile Device Access and Configuration Control\n",
      "Appended topic 55: Cloud Service Providers Data Privacy.\n",
      "Appended topic 56: Automated Incident Response and Handling\n",
      "Appended topic 57: Penetration Testing and Assessor Independence\n",
      "Appended topic 58: Personnel and System Maintenance Security\n",
      "Appended topic 59: System Component Authenticity & Updates\n",
      "Appended topic 60: Incident Response and Training Procedures.\n",
      "Appended topic 61: Public Cloud PII Processor Contracts\n",
      "Appended topic 62: PII Transmission Control Measures.\n",
      "Appended topic 63: Obligations to PII Principals.\n",
      "Appended topic 64: Access Control to Protected Assets.\n",
      "Appended topic 65: Remote Access and Privileged Commands Control\n",
      "Appended topic 66: Rules of Behavior and Social Media\n",
      "Appended topic 67: Cloud Service Provider Data Policies.\n",
      "Appended topic 68: Cloud Security and Data Management.\n",
      "Appended topic 69: Non-Disclosure Agreements and Data Retention.\n",
      "Appended topic 70: Data Security and Privacy Management.\n",
      "Appended topic 71: Password and Authenticator Management.\n",
      "Appended topic 72: Unauthorized Access and Audit Logs.\n",
      "Appended topic 73: Authentication and Password Management\n",
      "Appended topic 74: \"Security Awareness Training Responsibilities\"\n",
      "Appended topic 75: Secure Erasure of Temporary Files.\n",
      "Appended topic 76: Policies and Requirements for Cloud Security\n",
      "Appended topic 77: Privileged Account and Access Control.\n",
      "Appended topic 78: PII Sharing, Transfer, Disclosure Compliance.\n",
      "Appended topic 79: Datacenter Security and Maintenance Policies\n",
      "Appended topic 80: Infrastructure & Virtualization Security Management.\n",
      "Appended topic 81: Asset Protection and Management Policies\n",
      "Appended topic 82: Access Authorization and Maintenance Management\n",
      "Appended topic 83: Communication and Vendor Management\n",
      "Appended topic 84: PII Disclosure Recording and Control\n",
      "Appended topic 85: Logging, Monitoring, and Access Controls\n",
      "Appended topic 86: Incident Response Management and Testing.\n",
      "Appended topic 87: Public Cloud Personally Identifiable Information\n",
      "Appended topic 88: Public Cloud Personal Identifiable Information Security.\n",
      "Appended topic 89: Coordinating Contingency and Related Plans\n",
      "Appended topic 90: Cloud Service Security and Management.\n",
      "Appended topic 91: Security and Privacy in System Development Life Cycle.\n",
      "Appended topic 92: Processing Integrity and Output Accuracy.\n",
      "Appended topic 93: Security Categorization and SCRM Assessment.\n",
      "Appended topic 94: Organization-Defined System Security Controls.\n",
      "Appended topic 95: System Clocks Synchronization and Time\n",
      "Appended topic 96: Insider Threat and Assessment Strategies.\n",
      "Appended topic 97: Tailoring and Contingency Planning in Incident Response.\n",
      "Appended topic 98: Privacy Design and Information Processing.\n",
      "Appended topic 99: EU Cloud Service Data Protections\n",
      "Appended topic 100: Managing Personal Identifiable Information Security\n",
      "Appended topic 101: Managing Personally Identifiable Information\n",
      "Appended topic 102: Cloud Customer Data and Security Controls\n",
      "Appended topic 103: Managing Cloud Service Access Rights.\n",
      "Appended topic 104: Automated System Access and Spam Protection\n",
      "Appended topic 105: Personally Identifiable Information Processing\n",
      "Appended topic 106: Scope and Protection of PII\n",
      "Appended topic 107: Customer Obligations and Compliance Information.\n",
      "Appended topic 108: Managing Personally Identifiable Information.\n",
      "Appended topic 109: Personally Identifiable Information Control\n",
      "Appended topic 110: Entity Risk Assessment and Objectives\n",
      "Appended topic 111: Security Event Detection and Monitoring\n",
      "Appended topic 112: System Availability and Capacity Management\n",
      "Appended topic 113: Backup and Version Control Procedures.\n",
      "Appended topic 114: GDPR Compliance for Cloud Services.\n",
      "Appended topic 115: Audit Record Analysis and Correlation\n",
      "Appended topic 116: Privileged Access and Vulnerability Scanning\n",
      "Appended topic 117: Unique User IDs Management.\n",
      "Appended topic 118: Functions, Ports, Protocols, Services Management.\n",
      "Appended topic 119: Data Protection and Privacy Design\n",
      "Appended topic 120: Secure Disposal of Hardcopy Materials\n",
      "Appended topic 121: Audit and Assurance Policies Standards\n",
      "Appended topic 122: \"Access Management and Data Security\"\n",
      "Appended topic 123: Controlling Access to Devices\n",
      "Appended topic 124: Data Management and Security Controls.\n",
      "Appended topic 125: User ID Management and Control\n",
      "Appended topic 126: Business Continuity and Operational Resilience\n",
      "Appended topic 127: Key Management and Encryption Audits.\n",
      "Appended topic 128: Concurrent Session Control and Termination\n",
      "Appended topic 129: Unauthorized Component Detection and Logon Control\n",
      "Appended topic 130: Identity & Access Management Controls\n",
      "Appended topic 131: Network Communication Security and Segregation\n",
      "Appended topic 132: Encrypted Information Flow Control\n",
      "Appended topic 133: Data Security, Privacy, and Employee Screening.\n",
      "Appended topic 134: Policy and Procedure Management.\n",
      "Appended topic 135: Managing Internal System Components & Connections.\n",
      "Appended topic 136: Data Management, Privacy and Integrity.\n",
      "Appended topic 137: Physical Security and Protection Measures\n",
      "Appended topic 138: Personal Identifiable Information Processing and Transfer\n",
      "Appended topic 139: Threat Detection and Mitigation Procedures\n",
      "Appended topic 140: Privilege and External System Access\n"
     ]
    }
   ],
   "source": [
    "# must manually add openai representation because the bertopic utility doesn't work\n",
    "client = OpenAI(api_key=read_key_from_file())\n",
    "# openai_model = OpenAI(client, model=\"gpt-4\", exponential_backoff=True, chat=False)\n",
    "\n",
    "# main loop - get the topic names from OpenAI\n",
    "import time\n",
    "rows_to_append = []\n",
    "\n",
    "# client = openai.OpenAI(api_key=read_key_from_file())  # NOTE: this is the old and now defunct way of calling OPenAI\n",
    "\n",
    "for x, i in enumerate(topic_model.get_topics()):\n",
    "  # skip -1, outliers\n",
    "  if x == 0 and i == -1:\n",
    "        continue\n",
    "  completion = client.chat.completions.create(\n",
    "    model=\"gpt-4\",\n",
    "    messages = [\n",
    "{\"role\": \"system\", \"content\": \"You are a helpful assistant, knowledgeable on data privacy and security standards and controls, that helps in topic modeling tasks.\"},\n",
    "{\"role\": \"user\", \"content\": f\"I have a topic that contains the following documents: {topic_model.get_representative_docs()[i]}.\"},\n",
    "{\"role\": \"user\", \"content\": f\"The topic is described by the following keyword-probability pairs: {topic_model.get_topics()[i]}.\"},\n",
    "{\"role\": \"user\", \"content\": \"\"\"Based on the information above, extract a short but highly descriptive topic label of at most 5 words. \n",
    " \n",
    "    Make sure it is in the following format:\n",
    "    \n",
    "    topic: <topic label>.\"\"\"},\n",
    "]\n",
    "  )\n",
    "\n",
    "  # Extract the topic label from the completion response\n",
    "  topic_label = completion.choices[0].message.content.split(\"topic: \")[1].strip()\n",
    "\n",
    "  rows_to_append.append({\n",
    "    \"topic_num\": i,\n",
    "    \"representative_docs\": topic_model.get_representative_docs()[i],  \n",
    "    \"top_words\": topic_model.get_topics()[i], \n",
    "    \"topic_label\": topic_label\n",
    "    })\n",
    "\n",
    "  print(f\"Appended topic {i}: {topic_label}\")\n",
    "\n",
    "  time.sleep(.1)"
   ]
  },
  {
   "cell_type": "code",
   "execution_count": null,
   "metadata": {},
   "outputs": [],
   "source": [
    "# Initial DataFrame\n",
    "df_ada = pd.DataFrame({\"topic_num\": [],\n",
    "                       \"representative_docs\": [],\n",
    "                       \"top_words\": [],\n",
    "                       \"topic_label\": []})\n",
    "# Concatenate collected rows with the original DataFrame\n",
    "df_ada = pd.concat([df_ada, pd.DataFrame(rows_to_append)], ignore_index=True)"
   ]
  },
  {
   "cell_type": "markdown",
   "metadata": {},
   "source": [
    "***"
   ]
  },
  {
   "cell_type": "code",
   "execution_count": 82,
   "metadata": {},
   "outputs": [
    {
     "name": "stderr",
     "output_type": "stream",
     "text": [
      "100%|██████████| 82/82 [00:23<00:00,  3.47it/s]\n"
     ]
    }
   ],
   "source": [
    "# use fitted BERTopic model to extract possible hierarchies from our c-TF-IDF matrix\n",
    "hierarchical_topics = topic_model.hierarchical_topics(docs)  # https://maartengr.github.io/BERTopic/getting_started/hierarchicaltopics/hierarchicaltopics.html#merge-topics"
   ]
  },
  {
   "cell_type": "code",
   "execution_count": 83,
   "metadata": {},
   "outputs": [
    {
     "data": {
      "text/html": [
       "<div>\n",
       "<style scoped>\n",
       "    .dataframe tbody tr th:only-of-type {\n",
       "        vertical-align: middle;\n",
       "    }\n",
       "\n",
       "    .dataframe tbody tr th {\n",
       "        vertical-align: top;\n",
       "    }\n",
       "\n",
       "    .dataframe thead th {\n",
       "        text-align: right;\n",
       "    }\n",
       "</style>\n",
       "<table border=\"1\" class=\"dataframe\">\n",
       "  <thead>\n",
       "    <tr style=\"text-align: right;\">\n",
       "      <th></th>\n",
       "      <th>Parent_ID</th>\n",
       "      <th>Parent_Name</th>\n",
       "      <th>Topics</th>\n",
       "      <th>Child_Left_ID</th>\n",
       "      <th>Child_Left_Name</th>\n",
       "      <th>Child_Right_ID</th>\n",
       "      <th>Child_Right_Name</th>\n",
       "      <th>Distance</th>\n",
       "    </tr>\n",
       "  </thead>\n",
       "  <tbody>\n",
       "    <tr>\n",
       "      <th>19</th>\n",
       "      <td>102</td>\n",
       "      <td>authentication_identification and authentication_and authentication_authenticators_multi factor authentication</td>\n",
       "      <td>[21, 40]</td>\n",
       "      <td>21</td>\n",
       "      <td>authentication_identification and authentication_and authentication_multi factor authentication_factor authentication</td>\n",
       "      <td>40</td>\n",
       "      <td>authentication_identification and authentication_cached authenticators_authenticators identification and_cryptographic module</td>\n",
       "      <td>0.746193</td>\n",
       "    </tr>\n",
       "    <tr>\n",
       "      <th>18</th>\n",
       "      <td>101</td>\n",
       "      <td>data subjects_criteria for privacy_of personal information_the entity objectives_objectives related to</td>\n",
       "      <td>[7, 76]</td>\n",
       "      <td>76</td>\n",
       "      <td>criteria for processing_for processing integrity_processing integrity_for processing_completely and accurately</td>\n",
       "      <td>7</td>\n",
       "      <td>data subjects_criteria for privacy_of personal information_objectives related to_to privacy</td>\n",
       "      <td>0.744382</td>\n",
       "    </tr>\n",
       "    <tr>\n",
       "      <th>17</th>\n",
       "      <td>100</td>\n",
       "      <td>the cloud_cloud service_the cloud service_provider_service provider</td>\n",
       "      <td>[0, 4, 13, 61]</td>\n",
       "      <td>98</td>\n",
       "      <td>cloud service provider_service provider_cloud service_the customer_the cloud service</td>\n",
       "      <td>0</td>\n",
       "      <td>the cloud service_continuous_cloud service_provider_service provider</td>\n",
       "      <td>0.721467</td>\n",
       "    </tr>\n",
       "    <tr>\n",
       "      <th>16</th>\n",
       "      <td>99</td>\n",
       "      <td>and privacy_security and privacy_security and_development_life cycle</td>\n",
       "      <td>[8, 36, 57]</td>\n",
       "      <td>36</td>\n",
       "      <td>system component or_system component_supply chain_system system_system system component</td>\n",
       "      <td>94</td>\n",
       "      <td>security and privacy_and privacy_security and_development_systems</td>\n",
       "      <td>0.700403</td>\n",
       "    </tr>\n",
       "    <tr>\n",
       "      <th>15</th>\n",
       "      <td>98</td>\n",
       "      <td>cloud service provider_service provider_cloud service_the customer_the cloud service</td>\n",
       "      <td>[4, 13, 61]</td>\n",
       "      <td>61</td>\n",
       "      <td>the cloud service_cloud service provider_cloud service_provide the customer_subcontractors or</td>\n",
       "      <td>85</td>\n",
       "      <td>cloud service provider_service provider_cloud service_the customer_the cloud service</td>\n",
       "      <td>0.699175</td>\n",
       "    </tr>\n",
       "    <tr>\n",
       "      <th>14</th>\n",
       "      <td>97</td>\n",
       "      <td>iec 27002 2013_iec 27002_iso iec 27002_personally identifiable information_personally identifiable</td>\n",
       "      <td>[16, 31, 78]</td>\n",
       "      <td>89</td>\n",
       "      <td>iec 27002 2013_iec 27002_iso iec 27002_personally identifiable_personally identifiable information</td>\n",
       "      <td>78</td>\n",
       "      <td>technical compliance review_27002 2013 18_27002 2013_iec 27002 2013_in iso iec</td>\n",
       "      <td>0.666756</td>\n",
       "    </tr>\n",
       "    <tr>\n",
       "      <th>13</th>\n",
       "      <td>96</td>\n",
       "      <td>personally identifiable_personally identifiable information_identifiable information_cloud personally identifiable_public cloud</td>\n",
       "      <td>[23, 26, 63, 72]</td>\n",
       "      <td>87</td>\n",
       "      <td>personally identifiable information_personally identifiable_identifiable information_cloud personally identifiable_public cloud</td>\n",
       "      <td>92</td>\n",
       "      <td>personally identifiable information_personally identifiable_identifiable information_identifiable_public cloud</td>\n",
       "      <td>0.638196</td>\n",
       "    </tr>\n",
       "    <tr>\n",
       "      <th>12</th>\n",
       "      <td>95</td>\n",
       "      <td>of focus_points of focus_points of_board of_the board of</td>\n",
       "      <td>[19, 48]</td>\n",
       "      <td>19</td>\n",
       "      <td>the board of_of directors_board of directors_board of_of focus</td>\n",
       "      <td>48</td>\n",
       "      <td>communicates_business partners_and business_and business partners_vendors and business</td>\n",
       "      <td>0.635446</td>\n",
       "    </tr>\n",
       "    <tr>\n",
       "      <th>11</th>\n",
       "      <td>94</td>\n",
       "      <td>security and privacy_and privacy_security and_development_systems</td>\n",
       "      <td>[8, 57]</td>\n",
       "      <td>8</td>\n",
       "      <td>monitoring_security and privacy_and privacy_security and_the system</td>\n",
       "      <td>57</td>\n",
       "      <td>and privacy_security and privacy_system development life_development life cycle_system development</td>\n",
       "      <td>0.608296</td>\n",
       "    </tr>\n",
       "    <tr>\n",
       "      <th>...</th>\n",
       "      <td>...</td>\n",
       "      <td>...</td>\n",
       "      <td>...</td>\n",
       "      <td>...</td>\n",
       "      <td>...</td>\n",
       "      <td>...</td>\n",
       "      <td>...</td>\n",
       "      <td>...</td>\n",
       "    </tr>\n",
       "    <tr>\n",
       "      <th>8</th>\n",
       "      <td>91</td>\n",
       "      <td>and procedures_policies and procedures_policies and_should be_business continuity</td>\n",
       "      <td>[1, 5]</td>\n",
       "      <td>5</td>\n",
       "      <td>business continuity_resilience_and procedures_operational resilience_policies and procedures</td>\n",
       "      <td>1</td>\n",
       "      <td>supply chain_and procedures_policies and procedures_policies and_audit</td>\n",
       "      <td>0.581442</td>\n",
       "    </tr>\n",
       "    <tr>\n",
       "      <th>7</th>\n",
       "      <td>90</td>\n",
       "      <td>personally identifiable information_personally identifiable_identifiable information_identifiable_of personally identifiable</td>\n",
       "      <td>[3, 17, 22]</td>\n",
       "      <td>3</td>\n",
       "      <td>personally identifiable_personally identifiable information_identifiable information_identifiable_the organization shall</td>\n",
       "      <td>88</td>\n",
       "      <td>personally identifiable information_personally identifiable_identifiable information_identifiable_the organization should</td>\n",
       "      <td>0.489935</td>\n",
       "    </tr>\n",
       "    <tr>\n",
       "      <th>6</th>\n",
       "      <td>89</td>\n",
       "      <td>iec 27002 2013_iec 27002_iso iec 27002_personally identifiable_personally identifiable information</td>\n",
       "      <td>[16, 31]</td>\n",
       "      <td>16</td>\n",
       "      <td>personally identifiable_personally identifiable information_identifiable information_identifiable_iec 27002 2013</td>\n",
       "      <td>31</td>\n",
       "      <td>iec 27002 2013_iec 27002_iso iec 27002_of iso iec_27002 2013 is</td>\n",
       "      <td>0.448824</td>\n",
       "    </tr>\n",
       "    <tr>\n",
       "      <th>5</th>\n",
       "      <td>88</td>\n",
       "      <td>personally identifiable information_personally identifiable_identifiable information_identifiable_the organization should</td>\n",
       "      <td>[17, 22]</td>\n",
       "      <td>22</td>\n",
       "      <td>personally identifiable_personally identifiable information_identifiable information_identifiable_the personally identifiable</td>\n",
       "      <td>17</td>\n",
       "      <td>personally identifiable_personally identifiable information_identifiable information_identifiable_the organization should</td>\n",
       "      <td>0.438053</td>\n",
       "    </tr>\n",
       "    <tr>\n",
       "      <th>4</th>\n",
       "      <td>87</td>\n",
       "      <td>personally identifiable information_personally identifiable_identifiable information_cloud personally identifiable_public cloud</td>\n",
       "      <td>[26, 72]</td>\n",
       "      <td>26</td>\n",
       "      <td>personally identifiable information_personally identifiable_identifiable information_cloud personally identifiable_public cloud</td>\n",
       "      <td>72</td>\n",
       "      <td>cloud personally identifiable_public cloud_identifiable information processor_personally identifiable_personally identifiable information</td>\n",
       "      <td>0.430330</td>\n",
       "    </tr>\n",
       "    <tr>\n",
       "      <th>3</th>\n",
       "      <td>86</td>\n",
       "      <td>cloud service_the cloud service_cloud service customer_cloud service provider_service provider</td>\n",
       "      <td>[11, 15, 79]</td>\n",
       "      <td>84</td>\n",
       "      <td>cloud service_the cloud service_service customer_cloud service customer_cloud service provider</td>\n",
       "      <td>79</td>\n",
       "      <td>cloud service_cloud service customer_the cloud service_cloud services_secret authentication information</td>\n",
       "      <td>0.425552</td>\n",
       "    </tr>\n",
       "    <tr>\n",
       "      <th>2</th>\n",
       "      <td>85</td>\n",
       "      <td>cloud service provider_service provider_cloud service_the customer_the cloud service</td>\n",
       "      <td>[4, 13]</td>\n",
       "      <td>4</td>\n",
       "      <td>cloud service provider_service provider_cloud service_service provider shall_customer personal data</td>\n",
       "      <td>13</td>\n",
       "      <td>cloud service_cloud service provider_service provider_the customer_the cloud service</td>\n",
       "      <td>0.400802</td>\n",
       "    </tr>\n",
       "    <tr>\n",
       "      <th>1</th>\n",
       "      <td>84</td>\n",
       "      <td>cloud service_the cloud service_service customer_cloud service customer_cloud service provider</td>\n",
       "      <td>[11, 15]</td>\n",
       "      <td>15</td>\n",
       "      <td>cloud service_the cloud service_service customer_cloud service customer_cloud service provider</td>\n",
       "      <td>11</td>\n",
       "      <td>cloud service_the cloud service_cloud service customer_cloud services_cloud service provider</td>\n",
       "      <td>0.258093</td>\n",
       "    </tr>\n",
       "    <tr>\n",
       "      <th>0</th>\n",
       "      <td>83</td>\n",
       "      <td>security and privacy_and privacy_security and_policy and procedures_organization defined</td>\n",
       "      <td>[12, 20]</td>\n",
       "      <td>12</td>\n",
       "      <td>security and privacy_security and_and privacy_assignment organization_assignment organization defined</td>\n",
       "      <td>20</td>\n",
       "      <td>and privacy_security and privacy_contingency_organization defined_policy and procedures</td>\n",
       "      <td>0.224141</td>\n",
       "    </tr>\n",
       "  </tbody>\n",
       "</table>\n",
       "<p>20 rows × 8 columns</p>\n",
       "</div>"
      ],
      "text/plain": [
       "   Parent_ID  ...  Distance\n",
       "19       102  ...  0.746193\n",
       "18       101  ...  0.744382\n",
       "17       100  ...  0.721467\n",
       "16        99  ...  0.700403\n",
       "15        98  ...  0.699175\n",
       "14        97  ...  0.666756\n",
       "13        96  ...  0.638196\n",
       "12        95  ...  0.635446\n",
       "11        94  ...  0.608296\n",
       "..       ...  ...       ...\n",
       "8         91  ...  0.581442\n",
       "7         90  ...  0.489935\n",
       "6         89  ...  0.448824\n",
       "5         88  ...  0.438053\n",
       "4         87  ...  0.430330\n",
       "3         86  ...  0.425552\n",
       "2         85  ...  0.400802\n",
       "1         84  ...  0.258093\n",
       "0         83  ...  0.224141\n",
       "\n",
       "[20 rows x 8 columns]"
      ]
     },
     "execution_count": 83,
     "metadata": {},
     "output_type": "execute_result"
    }
   ],
   "source": [
    "hierarchical_topics.tail(20)"
   ]
  },
  {
   "cell_type": "code",
   "execution_count": 84,
   "metadata": {},
   "outputs": [
    {
     "name": "stdout",
     "output_type": "stream",
     "text": [
      "Cluster   0: the cloud service,     continuous,     cloud service\n",
      "Cluster   1: supply chain,     and procedures,     policies and procedures\n",
      "Cluster   2: privileged access,     access management,     identity access\n",
      "Cluster   3: personally identifiable,     personally identifiable information,     identifiable information\n",
      "Cluster   4: cloud service provider,     service provider,     cloud service\n",
      "Cluster   5: business continuity,     resilience,     and procedures\n",
      "Cluster   6: contingency,     alternate processing,     contingency planning\n",
      "Cluster   7: data subjects,     criteria for privacy,     of personal information\n",
      "Cluster   8: monitoring,     security and privacy,     and privacy\n",
      "Cluster   9: key management,     cryptography encryption,     encryption key management\n",
      "Cluster  10: incident response,     incident response incident,     response training\n",
      "Cluster  11: cloud service,     the cloud service,     cloud service customer\n",
      "Cluster  12: security and privacy,     security and,     and privacy\n",
      "Cluster  13: cloud service,     cloud service provider,     service provider\n",
      "Cluster  14: cryptographic,     cryptographic mechanisms,     cryptography\n",
      "Cluster  15: cloud service,     the cloud service,     service customer\n",
      "Cluster  16: personally identifiable,     personally identifiable information,     identifiable information\n",
      "Cluster  17: personally identifiable,     personally identifiable information,     identifiable information\n",
      "Cluster  18: audit records,     audit log,     audit record\n",
      "Cluster  19: the board of,     of directors,     board of directors\n",
      "Cluster  20: and privacy,     security and privacy,     contingency\n",
      "Cluster  21: authentication,     identification and authentication,     and authentication\n",
      "Cluster  22: personally identifiable,     personally identifiable information,     identifiable information\n",
      "Cluster  23: public cloud,     personally identifiable information,     personally identifiable\n",
      "Cluster  24: digital media,     non digital media,     storage devices\n",
      "Cluster  25: supply chain,     chain,     the supply chain\n",
      "Cluster  26: personally identifiable information,     personally identifiable,     identifiable information\n",
      "Cluster  27: identification and authentication,     and authentication,     verification\n",
      "Cluster  28: wireless networking,     wireless networking capabilities,     intrusion alarms\n",
      "Cluster  29: malware,     reconfiguration,     dynamic reconfiguration\n",
      "Cluster  30: at rest,     exfiltration,     information at rest\n",
      "Cluster  31: iec 27002 2013,     iec 27002,     iso iec 27002\n",
      "Cluster  32: assignment organization defined,     regulations policies standards,     directives regulations policies\n",
      "Cluster  33: firmware,     software programs,     firmware and information\n",
      "Cluster  34: public data transmission,     public data,     personally identifiable information\n",
      "Cluster  35: power supply,     data centers,     and environmental protection\n",
      "Cluster  36: system component or,     system component,     supply chain\n",
      "Cluster  37: automated tools,     tools and mechanisms,     information location\n",
      "Cluster  38: of behavior,     rules of behavior,     rules of\n",
      "Cluster  39: assignment organization defined,     assignment organization,     access agreements\n",
      "Cluster  40: authentication,     identification and authentication,     cached authenticators\n",
      "Cluster  41: hardcopy material,     of hardcopy material,     creation of hardcopy\n",
      "Cluster  42: account monitoring,     system accounts,     control account management\n",
      "Cluster  43: personally identifiable,     personally identifiable information,     identifiable information\n",
      "Cluster  44: and de registration,     registration and de,     user registration and\n",
      "Cluster  45: host based,     security functions,     host based monitoring\n",
      "Cluster  46: split tunneling,     remote access,     managed interfaces\n",
      "Cluster  47: personnel or roles,     emergency responders,     environmental controls\n",
      "Cluster  48: communicates,     business partners,     and business\n",
      "Cluster  49: penetration testing,     assessors,     impartiality\n",
      "Cluster  50: remediation,     action and milestones,     plan of action\n",
      "Cluster  51: pii,     public cloud,     personally identifiable\n",
      "Cluster  52: agreement terms,     of employment,     the employee\n",
      "Cluster  53: unauthorized,     audit logs,     to unauthorized\n",
      "Cluster  54: controls are relevant,     this privacy principle,     with legal basis\n",
      "Cluster  55: system components,     security relevant changes,     component authenticity\n",
      "Cluster  56: temporary files are,     deterministic,     procedure should identify\n",
      "Cluster  57: and privacy,     security and privacy,     system development life\n",
      "Cluster  58: datacenter,     datacenter security,     policies and procedures\n",
      "Cluster  59: protected information assets,     protected information,     information assets\n",
      "Cluster  60: criteria for availability,     mitigation,     plan testing\n",
      "Cluster  61: the cloud service,     cloud service provider,     cloud service\n",
      "Cluster  62: data protection impact,     change management,     management data\n",
      "Cluster  63: personally identifiable information,     personally identifiable,     identifiable information\n",
      "Cluster  64: shared system resources,     shared system,     system resources\n",
      "Cluster  65: malicious code,     authenticator,     authentication\n",
      "Cluster  66: to third parties,     personally identifiable information,     personally identifiable\n",
      "Cluster  67: network access,     access control,     access control points\n",
      "Cluster  68: functions ports protocols,     functions ports,     ports protocols and\n",
      "Cluster  69: least privilege,     based access scheme,     access scheme\n",
      "Cluster  70: maintenance tools,     mobile code within,     system updates\n",
      "Cluster  71: contingency plan,     organizational elements,     contingency plan testing\n",
      "Cluster  72: cloud personally identifiable,     public cloud,     identifiable information processor\n",
      "Cluster  73: synchronization,     of milliseconds,     coordinated universal time\n",
      "Cluster  74: id management,     user id management,     the information system\n",
      "Cluster  75: controls designed to,     data reaches its,     to appropriate controls\n",
      "Cluster  76: criteria for processing,     for processing integrity,     processing integrity\n",
      "Cluster  77: account management,     automated system account,     system account usage\n",
      "Cluster  78: technical compliance review,     27002 2013 18,     27002 2013\n",
      "Cluster  79: cloud service,     cloud service customer,     the cloud service\n",
      "Cluster  80: onsite personnel,     the organization should,     onsite personnel and\n",
      "Cluster  81: and privacy representatives,     organization generated,     organization generated alerts\n",
      "Cluster  82: or re use,     secure disposal or,     re use of\n"
     ]
    }
   ],
   "source": [
    "# TBC: is this the same as below, or do we have different topics/topic representations here?\n",
    "# Print top terms for each topic\n",
    "space = \" \"*10\n",
    "for k, v in topic_model.get_topics().items():\n",
    "    if k != -1:  # Exclude outlier topic if present\n",
    "        print(f'Cluster {k: 3}: {\",     \".join([term for term, _ in v[:3]])}')"
   ]
  },
  {
   "cell_type": "markdown",
   "metadata": {},
   "source": [
    "- check here: https://maartengr.github.io/BERTopic/index.html#visualizations"
   ]
  },
  {
   "cell_type": "code",
   "execution_count": 85,
   "metadata": {},
   "outputs": [
    {
     "ename": "ValueError",
     "evalue": "Mime type rendering requires nbformat>=4.2.0 but it is not installed",
     "output_type": "error",
     "traceback": [
      "\u001b[1;31m---------------------------------------------------------------------------\u001b[0m",
      "\u001b[1;31mValueError\u001b[0m                                Traceback (most recent call last)",
      "File \u001b[1;32mc:\\analysis 2024-02-19\\privacyvenvv2\\Lib\\site-packages\\IPython\\core\\formatters.py:925\u001b[0m, in \u001b[0;36mIPythonDisplayFormatter.__call__\u001b[1;34m(self, obj)\u001b[0m\n\u001b[0;32m    923\u001b[0m method \u001b[38;5;241m=\u001b[39m get_real_method(obj, \u001b[38;5;28mself\u001b[39m\u001b[38;5;241m.\u001b[39mprint_method)\n\u001b[0;32m    924\u001b[0m \u001b[38;5;28;01mif\u001b[39;00m method \u001b[38;5;129;01mis\u001b[39;00m \u001b[38;5;129;01mnot\u001b[39;00m \u001b[38;5;28;01mNone\u001b[39;00m:\n\u001b[1;32m--> 925\u001b[0m     \u001b[43mmethod\u001b[49m\u001b[43m(\u001b[49m\u001b[43m)\u001b[49m\n\u001b[0;32m    926\u001b[0m     \u001b[38;5;28;01mreturn\u001b[39;00m \u001b[38;5;28;01mTrue\u001b[39;00m\n",
      "File \u001b[1;32mc:\\analysis 2024-02-19\\privacyvenvv2\\Lib\\site-packages\\plotly\\basedatatypes.py:832\u001b[0m, in \u001b[0;36mBaseFigure._ipython_display_\u001b[1;34m(self)\u001b[0m\n\u001b[0;32m    829\u001b[0m \u001b[38;5;28;01mimport\u001b[39;00m \u001b[38;5;21;01mplotly\u001b[39;00m\u001b[38;5;21;01m.\u001b[39;00m\u001b[38;5;21;01mio\u001b[39;00m \u001b[38;5;28;01mas\u001b[39;00m \u001b[38;5;21;01mpio\u001b[39;00m\n\u001b[0;32m    831\u001b[0m \u001b[38;5;28;01mif\u001b[39;00m pio\u001b[38;5;241m.\u001b[39mrenderers\u001b[38;5;241m.\u001b[39mrender_on_display \u001b[38;5;129;01mand\u001b[39;00m pio\u001b[38;5;241m.\u001b[39mrenderers\u001b[38;5;241m.\u001b[39mdefault:\n\u001b[1;32m--> 832\u001b[0m     \u001b[43mpio\u001b[49m\u001b[38;5;241;43m.\u001b[39;49m\u001b[43mshow\u001b[49m\u001b[43m(\u001b[49m\u001b[38;5;28;43mself\u001b[39;49m\u001b[43m)\u001b[49m\n\u001b[0;32m    833\u001b[0m \u001b[38;5;28;01melse\u001b[39;00m:\n\u001b[0;32m    834\u001b[0m     \u001b[38;5;28mprint\u001b[39m(\u001b[38;5;28mrepr\u001b[39m(\u001b[38;5;28mself\u001b[39m))\n",
      "File \u001b[1;32mc:\\analysis 2024-02-19\\privacyvenvv2\\Lib\\site-packages\\plotly\\io\\_renderers.py:394\u001b[0m, in \u001b[0;36mshow\u001b[1;34m(fig, renderer, validate, **kwargs)\u001b[0m\n\u001b[0;32m    389\u001b[0m         \u001b[38;5;28;01mraise\u001b[39;00m \u001b[38;5;167;01mValueError\u001b[39;00m(\n\u001b[0;32m    390\u001b[0m             \u001b[38;5;124m\"\u001b[39m\u001b[38;5;124mMime type rendering requires ipython but it is not installed\u001b[39m\u001b[38;5;124m\"\u001b[39m\n\u001b[0;32m    391\u001b[0m         )\n\u001b[0;32m    393\u001b[0m     \u001b[38;5;28;01mif\u001b[39;00m \u001b[38;5;129;01mnot\u001b[39;00m nbformat \u001b[38;5;129;01mor\u001b[39;00m Version(nbformat\u001b[38;5;241m.\u001b[39m__version__) \u001b[38;5;241m<\u001b[39m Version(\u001b[38;5;124m\"\u001b[39m\u001b[38;5;124m4.2.0\u001b[39m\u001b[38;5;124m\"\u001b[39m):\n\u001b[1;32m--> 394\u001b[0m         \u001b[38;5;28;01mraise\u001b[39;00m \u001b[38;5;167;01mValueError\u001b[39;00m(\n\u001b[0;32m    395\u001b[0m             \u001b[38;5;124m\"\u001b[39m\u001b[38;5;124mMime type rendering requires nbformat>=4.2.0 but it is not installed\u001b[39m\u001b[38;5;124m\"\u001b[39m\n\u001b[0;32m    396\u001b[0m         )\n\u001b[0;32m    398\u001b[0m     ipython_display\u001b[38;5;241m.\u001b[39mdisplay(bundle, raw\u001b[38;5;241m=\u001b[39m\u001b[38;5;28;01mTrue\u001b[39;00m)\n\u001b[0;32m    400\u001b[0m \u001b[38;5;66;03m# external renderers\u001b[39;00m\n",
      "\u001b[1;31mValueError\u001b[0m: Mime type rendering requires nbformat>=4.2.0 but it is not installed"
     ]
    },
    {
     "data": {
      "application/vnd.plotly.v1+json": {
       "config": {
        "plotlyServerURL": "https://plot.ly"
       },
       "data": [
        {
         "hoverinfo": "text",
         "marker": {
          "color": "rgb(61,153,112)"
         },
         "mode": "lines",
         "text": [
          "criteria for processing_for processing integrity_processing integrity_for processing_completely and accurately",
          "",
          "",
          "data subjects_criteria for privacy_of personal information_objectives related to_to privacy"
         ],
         "type": "scatter",
         "x": [
          0,
          0.7443822152717212,
          0.7443822152717212,
          0
         ],
         "xaxis": "x",
         "y": [
          -5,
          -5,
          -15,
          -15
         ],
         "yaxis": "y"
        },
        {
         "hoverinfo": "text",
         "marker": {
          "color": "rgb(61,153,112)"
         },
         "mode": "lines",
         "text": [
          "data subjects_criteria for privacy_of personal information_the entity objectives_objectives related to",
          "",
          "",
          "criteria for availability_mitigation_plan testing_recovery plan_incident recovery"
         ],
         "type": "scatter",
         "x": [
          0.7443822152717212,
          0.834394514986856,
          0.834394514986856,
          0
         ],
         "xaxis": "x",
         "y": [
          -10,
          -10,
          -25,
          -25
         ],
         "yaxis": "y"
        },
        {
         "hoverinfo": "text",
         "marker": {
          "color": "rgb(61,153,112)"
         },
         "mode": "lines",
         "text": [
          "the board of_of directors_board of directors_board of_of focus",
          "",
          "",
          "communicates_business partners_and business_and business partners_vendors and business"
         ],
         "type": "scatter",
         "x": [
          0,
          0.6354464811081453,
          0.6354464811081453,
          0
         ],
         "xaxis": "x",
         "y": [
          -35,
          -35,
          -45,
          -45
         ],
         "yaxis": "y"
        },
        {
         "hoverinfo": "text",
         "marker": {
          "color": "rgb(61,153,112)"
         },
         "mode": "lines",
         "text": [
          "of focus_points of focus_points of_board of_the board of",
          "",
          "",
          "protected information assets_protected information_information assets_processes are in_to protected information"
         ],
         "type": "scatter",
         "x": [
          0.6354464811081453,
          0.8858490004016465,
          0.8858490004016465,
          0
         ],
         "xaxis": "x",
         "y": [
          -40,
          -40,
          -55,
          -55
         ],
         "yaxis": "y"
        },
        {
         "hoverinfo": "text",
         "marker": {
          "color": "rgb(61,153,112)"
         },
         "mode": "lines",
         "text": [
          "data subjects_criteria for privacy_entity objectives_the entity objectives_of personal information",
          "",
          "",
          "of focus_points of focus_points of_of directors_the board of"
         ],
         "type": "scatter",
         "x": [
          0.834394514986856,
          0.9002063886344135,
          0.9002063886344135,
          0.8858490004016465
         ],
         "xaxis": "x",
         "y": [
          -17.5,
          -17.5,
          -47.5,
          -47.5
         ],
         "yaxis": "y"
        },
        {
         "hoverinfo": "text",
         "marker": {
          "color": "rgb(255,65,54)"
         },
         "mode": "lines",
         "text": [
          "authentication_identification and authentication_and authentication_multi factor authentication_factor authentication",
          "",
          "",
          "authentication_identification and authentication_cached authenticators_authenticators identification and_cryptographic module"
         ],
         "type": "scatter",
         "x": [
          0,
          0.74619344791153,
          0.74619344791153,
          0
         ],
         "xaxis": "x",
         "y": [
          -75,
          -75,
          -85,
          -85
         ],
         "yaxis": "y"
        },
        {
         "hoverinfo": "text",
         "marker": {
          "color": "rgb(255,65,54)"
         },
         "mode": "lines",
         "text": [
          "identification and authentication_and authentication_verification_non organizational users_authentication",
          "",
          "",
          "authentication_identification and authentication_and authentication_authenticators_multi factor authentication"
         ],
         "type": "scatter",
         "x": [
          0,
          0.8353350115822169,
          0.8353350115822169,
          0.74619344791153
         ],
         "xaxis": "x",
         "y": [
          -65,
          -65,
          -80,
          -80
         ],
         "yaxis": "y"
        },
        {
         "hoverinfo": "text",
         "marker": {
          "color": "rgb(255,65,54)"
         },
         "mode": "lines",
         "text": [
          "authentication_identification and authentication_and authentication_identification and_authenticators",
          "",
          "",
          "malicious code_authenticator_authentication_authentication credentials_malicious code protection"
         ],
         "type": "scatter",
         "x": [
          0.8353350115822169,
          0.9115915890747156,
          0.9115915890747156,
          0
         ],
         "xaxis": "x",
         "y": [
          -72.5,
          -72.5,
          -95,
          -95
         ],
         "yaxis": "y"
        },
        {
         "hoverinfo": "text",
         "marker": {
          "color": "rgb(35,205,205)"
         },
         "mode": "lines",
         "text": [
          "shared system resources_shared system_system resources_users or roles_concurrent sessions for",
          "",
          "",
          "least privilege_based access scheme_access scheme_privileged accounts_privilege levels"
         ],
         "type": "scatter",
         "x": [
          0,
          0.9345969224419417,
          0.9345969224419417,
          0
         ],
         "xaxis": "x",
         "y": [
          -115,
          -115,
          -125,
          -125
         ],
         "yaxis": "y"
        },
        {
         "hoverinfo": "text",
         "marker": {
          "color": "rgb(35,205,205)"
         },
         "mode": "lines",
         "text": [
          "shared system resources_shared system_system resources_least privilege_users or roles",
          "",
          "",
          "unauthorized_audit logs_to unauthorized_unauthorized changes_audit logs access"
         ],
         "type": "scatter",
         "x": [
          0.9345969224419417,
          0.9646164456407671,
          0.9646164456407671,
          0
         ],
         "xaxis": "x",
         "y": [
          -120,
          -120,
          -135,
          -135
         ],
         "yaxis": "y"
        },
        {
         "hoverinfo": "text",
         "marker": {
          "color": "rgb(35,205,205)"
         },
         "mode": "lines",
         "text": [
          "synchronization_of milliseconds_coordinated universal time_system components time_internal system clocks",
          "",
          "",
          "shared system resources_shared system_least privilege_system resources_unauthorized"
         ],
         "type": "scatter",
         "x": [
          0,
          0.972015041277988,
          0.972015041277988,
          0.9646164456407671
         ],
         "xaxis": "x",
         "y": [
          -105,
          -105,
          -127.5,
          -127.5
         ],
         "yaxis": "y"
        },
        {
         "hoverinfo": "text",
         "marker": {
          "color": "rgb(35,205,205)"
         },
         "mode": "lines",
         "text": [
          "assignment organization defined_assignment organization_access agreements_organization defined_defined time period",
          "",
          "",
          "of behavior_rules of behavior_rules of_publicly accessible_organizational"
         ],
         "type": "scatter",
         "x": [
          0,
          0.803719379100407,
          0.803719379100407,
          0
         ],
         "xaxis": "x",
         "y": [
          -155,
          -155,
          -165,
          -165
         ],
         "yaxis": "y"
        },
        {
         "hoverinfo": "text",
         "marker": {
          "color": "rgb(35,205,205)"
         },
         "mode": "lines",
         "text": [
          "account monitoring_system accounts_control account management_access control account_assignment organization defined",
          "",
          "",
          "rules of behavior_of behavior_rules of_assignment organization defined_assignment organization"
         ],
         "type": "scatter",
         "x": [
          0,
          0.8733673160345992,
          0.8733673160345992,
          0.803719379100407
         ],
         "xaxis": "x",
         "y": [
          -145,
          -145,
          -160,
          -160
         ],
         "yaxis": "y"
        },
        {
         "hoverinfo": "text",
         "marker": {
          "color": "rgb(35,205,205)"
         },
         "mode": "lines",
         "text": [
          "assignment organization defined_regulations policies standards_directives regulations policies_regulations policies_orders directives regulations",
          "",
          "",
          "audit records_audit log_audit record_log storage_audit log storage"
         ],
         "type": "scatter",
         "x": [
          0,
          0.8317247204088745,
          0.8317247204088745,
          0
         ],
         "xaxis": "x",
         "y": [
          -175,
          -175,
          -185,
          -185
         ],
         "yaxis": "y"
        },
        {
         "hoverinfo": "text",
         "marker": {
          "color": "rgb(35,205,205)"
         },
         "mode": "lines",
         "text": [
          "assignment organization_assignment organization defined_organization defined_organizational_of behavior",
          "",
          "",
          "audit records_audit log_assignment organization defined_audit log storage_log storage"
         ],
         "type": "scatter",
         "x": [
          0.8733673160345992,
          0.9006398125080769,
          0.9006398125080769,
          0.8317247204088745
         ],
         "xaxis": "x",
         "y": [
          -152.5,
          -152.5,
          -180,
          -180
         ],
         "yaxis": "y"
        },
        {
         "hoverinfo": "text",
         "marker": {
          "color": "rgb(35,205,205)"
         },
         "mode": "lines",
         "text": [
          "organization defined_assignment organization defined_assignment organization_organization_audit records",
          "",
          "",
          "and privacy representatives_organization generated_organization generated alerts_generated alerts_organization defined"
         ],
         "type": "scatter",
         "x": [
          0.9006398125080769,
          0.9193719398349846,
          0.9193719398349846,
          0
         ],
         "xaxis": "x",
         "y": [
          -166.25,
          -166.25,
          -195,
          -195
         ],
         "yaxis": "y"
        },
        {
         "hoverinfo": "text",
         "marker": {
          "color": "rgb(35,205,205)"
         },
         "mode": "lines",
         "text": [
          "system clocks_shared system resources_shared system_least privilege_synchronization",
          "",
          "",
          "audit_organization defined_assignment organization_assignment organization defined_organization"
         ],
         "type": "scatter",
         "x": [
          0.972015041277988,
          0.9923671210311831,
          0.9923671210311831,
          0.9193719398349846
         ],
         "xaxis": "x",
         "y": [
          -116.25,
          -116.25,
          -180.625,
          -180.625
         ],
         "yaxis": "y"
        },
        {
         "hoverinfo": "text",
         "marker": {
          "color": "rgb(133,20,75)"
         },
         "mode": "lines",
         "text": [
          "power supply_data centers_and environmental protection_emergency lighting_physical and environmental",
          "",
          "",
          "personnel or roles_emergency responders_environmental controls_organization defined_and environmental protection"
         ],
         "type": "scatter",
         "x": [
          0,
          0.8182916784929948,
          0.8182916784929948,
          0
         ],
         "xaxis": "x",
         "y": [
          -205,
          -205,
          -215,
          -215
         ],
         "yaxis": "y"
        },
        {
         "hoverinfo": "text",
         "marker": {
          "color": "rgb(255,220,0)"
         },
         "mode": "lines",
         "text": [
          "wireless networking_wireless networking capabilities_intrusion alarms_unauthorized_access control wireless",
          "",
          "",
          "network access_access control_access control points_control points_network access to"
         ],
         "type": "scatter",
         "x": [
          0,
          0.8215045047660376,
          0.8215045047660376,
          0
         ],
         "xaxis": "x",
         "y": [
          -235,
          -235,
          -245,
          -245
         ],
         "yaxis": "y"
        },
        {
         "hoverinfo": "text",
         "marker": {
          "color": "rgb(255,220,0)"
         },
         "mode": "lines",
         "text": [
          "onsite personnel_the organization should_onsite personnel and_remote working_the return of",
          "",
          "",
          "access control_wireless networking_wireless networking capabilities_networking capabilities_intrusion alarms"
         ],
         "type": "scatter",
         "x": [
          0,
          0.9017399607335006,
          0.9017399607335006,
          0.8215045047660376
         ],
         "xaxis": "x",
         "y": [
          -225,
          -225,
          -240,
          -240
         ],
         "yaxis": "y"
        },
        {
         "hoverinfo": "text",
         "marker": {
          "color": "rgb(255,220,0)"
         },
         "mode": "lines",
         "text": [
          "wireless access_access control_wireless networking_physical access to_intrusion",
          "",
          "",
          "account management_automated system account_system account usage_remote access methods_system account management"
         ],
         "type": "scatter",
         "x": [
          0.9017399607335006,
          0.964835194473625,
          0.964835194473625,
          0
         ],
         "xaxis": "x",
         "y": [
          -232.5,
          -232.5,
          -255,
          -255
         ],
         "yaxis": "y"
        },
        {
         "hoverinfo": "text",
         "marker": {
          "color": "rgb(0,116,217)"
         },
         "mode": "lines",
         "text": [
          "and environmental protection_environmental protection_physical and environmental_power supply_data centers",
          "",
          "",
          "access control_wireless access_remote access_wireless networking_physical access to"
         ],
         "type": "scatter",
         "x": [
          0.8182916784929948,
          1.0221953995012403,
          1.0221953995012403,
          0.964835194473625
         ],
         "xaxis": "x",
         "y": [
          -210,
          -210,
          -243.75,
          -243.75
         ],
         "yaxis": "y"
        },
        {
         "hoverinfo": "text",
         "marker": {
          "color": "rgb(0,116,217)"
         },
         "mode": "lines",
         "text": [
          "audit_organization defined_assignment organization defined_assignment organization_organization",
          "",
          "",
          "environmental_physical access_physical and environmental_physical and_and environmental"
         ],
         "type": "scatter",
         "x": [
          0.9923671210311831,
          1.098498802341027,
          1.098498802341027,
          1.0221953995012403
         ],
         "xaxis": "x",
         "y": [
          -148.4375,
          -148.4375,
          -226.875,
          -226.875
         ],
         "yaxis": "y"
        },
        {
         "hoverinfo": "text",
         "marker": {
          "color": "rgb(40,35,35)"
         },
         "mode": "lines",
         "text": [
          "key management_cryptography encryption_encryption key management_cryptography encryption key_management system",
          "",
          "",
          "cryptographic_cryptographic mechanisms_cryptography_implement cryptographic mechanisms_cryptographic mechanisms to"
         ],
         "type": "scatter",
         "x": [
          0,
          0.8121788744812308,
          0.8121788744812308,
          0
         ],
         "xaxis": "x",
         "y": [
          -265,
          -265,
          -275,
          -275
         ],
         "yaxis": "y"
        },
        {
         "hoverinfo": "text",
         "marker": {
          "color": "rgb(40,35,35)"
         },
         "mode": "lines",
         "text": [
          "at rest_exfiltration_information at rest_of information_non privileged users",
          "",
          "",
          "split tunneling_remote access_managed interfaces_proxy servers_external network"
         ],
         "type": "scatter",
         "x": [
          0,
          0.8308169067356507,
          0.8308169067356507,
          0
         ],
         "xaxis": "x",
         "y": [
          -295,
          -295,
          -305,
          -305
         ],
         "yaxis": "y"
        },
        {
         "hoverinfo": "text",
         "marker": {
          "color": "rgb(40,35,35)"
         },
         "mode": "lines",
         "text": [
          "host based_security functions_host based monitoring_based monitoring_system management",
          "",
          "",
          "boundary protection_split tunneling_managed interfaces_tunneling_networks"
         ],
         "type": "scatter",
         "x": [
          0,
          0.913541361387689,
          0.913541361387689,
          0.8308169067356507
         ],
         "xaxis": "x",
         "y": [
          -285,
          -285,
          -300,
          -300
         ],
         "yaxis": "y"
        },
        {
         "hoverinfo": "text",
         "marker": {
          "color": "rgb(40,35,35)"
         },
         "mode": "lines",
         "text": [
          "network_boundary protection_interfaces_host based_split",
          "",
          "",
          "digital media_non digital media_storage devices_digital media includes_portable storage devices"
         ],
         "type": "scatter",
         "x": [
          0.913541361387689,
          0.9262769534156065,
          0.9262769534156065,
          0
         ],
         "xaxis": "x",
         "y": [
          -292.5,
          -292.5,
          -315,
          -315
         ],
         "yaxis": "y"
        },
        {
         "hoverinfo": "text",
         "marker": {
          "color": "rgb(40,35,35)"
         },
         "mode": "lines",
         "text": [
          "cryptographic_cryptography_cryptography encryption_encryption key management_cryptography encryption key",
          "",
          "",
          "media_boundary_network_digital media_transport"
         ],
         "type": "scatter",
         "x": [
          0.8121788744812308,
          0.9582686076146235,
          0.9582686076146235,
          0.9262769534156065
         ],
         "xaxis": "x",
         "y": [
          -270,
          -270,
          -303.75,
          -303.75
         ],
         "yaxis": "y"
        },
        {
         "hoverinfo": "text",
         "marker": {
          "color": "rgb(61,153,112)"
         },
         "mode": "lines",
         "text": [
          "firmware_software programs_firmware and information_software firmware and_software firmware",
          "",
          "",
          "system components_security relevant changes_component authenticity_detection and response_management family component"
         ],
         "type": "scatter",
         "x": [
          0,
          0.8585576834800952,
          0.8585576834800952,
          0
         ],
         "xaxis": "x",
         "y": [
          -325,
          -325,
          -335,
          -335
         ],
         "yaxis": "y"
        },
        {
         "hoverinfo": "text",
         "marker": {
          "color": "rgb(61,153,112)"
         },
         "mode": "lines",
         "text": [
          "automated tools_tools and mechanisms_information location_baseline configuration_transaction recovery",
          "",
          "",
          "maintenance tools_mobile code within_system updates_of mobile code_use of mobile"
         ],
         "type": "scatter",
         "x": [
          0,
          0.8876968132696893,
          0.8876968132696893,
          0
         ],
         "xaxis": "x",
         "y": [
          -345,
          -345,
          -355,
          -355
         ],
         "yaxis": "y"
        },
        {
         "hoverinfo": "text",
         "marker": {
          "color": "rgb(61,153,112)"
         },
         "mode": "lines",
         "text": [
          "software programs_firmware and information_software firmware and_information integrity_assignment organization defined",
          "",
          "",
          "mobile code_maintenance tools_automated tools_tools and_tools can"
         ],
         "type": "scatter",
         "x": [
          0.8585576834800952,
          0.9538363477161362,
          0.9538363477161362,
          0.8876968132696893
         ],
         "xaxis": "x",
         "y": [
          -330,
          -330,
          -350,
          -350
         ],
         "yaxis": "y"
        },
        {
         "hoverinfo": "text",
         "marker": {
          "color": "rgb(0,116,217)"
         },
         "mode": "lines",
         "text": [
          "cryptographic_media_key management_of_system",
          "",
          "",
          "firmware_maintenance tools_and information_authorized software_organization defined"
         ],
         "type": "scatter",
         "x": [
          0.9582686076146235,
          1.0322177918672497,
          1.0322177918672497,
          0.9538363477161362
         ],
         "xaxis": "x",
         "y": [
          -286.875,
          -286.875,
          -340,
          -340
         ],
         "yaxis": "y"
        },
        {
         "hoverinfo": "text",
         "marker": {
          "color": "rgb(0,116,217)"
         },
         "mode": "lines",
         "text": [
          "organization defined_audit_organization_assignment organization_assignment organization defined",
          "",
          "",
          "media_cryptographic_system_of_software"
         ],
         "type": "scatter",
         "x": [
          1.098498802341027,
          1.1089369176909551,
          1.1089369176909551,
          1.0322177918672497
         ],
         "xaxis": "x",
         "y": [
          -187.65625,
          -187.65625,
          -313.4375,
          -313.4375
         ],
         "yaxis": "y"
        },
        {
         "hoverinfo": "text",
         "marker": {
          "color": "rgb(255,65,54)"
         },
         "mode": "lines",
         "text": [
          "incident response_incident response incident_response training_incident handling_incident response training",
          "",
          "",
          "contingency plan_organizational elements_contingency plan testing_response plans_contingency plans"
         ],
         "type": "scatter",
         "x": [
          0,
          0.8252949324293013,
          0.8252949324293013,
          0
         ],
         "xaxis": "x",
         "y": [
          -365,
          -365,
          -375,
          -375
         ],
         "yaxis": "y"
        },
        {
         "hoverinfo": "text",
         "marker": {
          "color": "rgb(255,65,54)"
         },
         "mode": "lines",
         "text": [
          "incident response_incident response incident_response training_incident response plans_incident response testing",
          "",
          "",
          "contingency_alternate processing_contingency planning_alternate processing site_telecommunications services"
         ],
         "type": "scatter",
         "x": [
          0.8252949324293013,
          0.9134737216133749,
          0.9134737216133749,
          0
         ],
         "xaxis": "x",
         "y": [
          -370,
          -370,
          -385,
          -385
         ],
         "yaxis": "y"
        },
        {
         "hoverinfo": "text",
         "marker": {
          "color": "rgb(0,116,217)"
         },
         "mode": "lines",
         "text": [
          "contingency_incident response_alternate processing_contingency planning_alternate processing site",
          "",
          "",
          "controls are relevant_this privacy principle_with legal basis_applicable jurisdictions and_conditions for collection"
         ],
         "type": "scatter",
         "x": [
          0.9134737216133749,
          1.0363675252781614,
          1.0363675252781614,
          0
         ],
         "xaxis": "x",
         "y": [
          -377.5,
          -377.5,
          -395,
          -395
         ],
         "yaxis": "y"
        },
        {
         "hoverinfo": "text",
         "marker": {
          "color": "rgb(0,116,217)"
         },
         "mode": "lines",
         "text": [
          "of_organization defined_organization_assignment organization defined_assignment organization",
          "",
          "",
          "contingency_incident response_alternate processing_contingency planning_alternate processing site"
         ],
         "type": "scatter",
         "x": [
          1.1089369176909551,
          1.1214184039523123,
          1.1214184039523123,
          1.0363675252781614
         ],
         "xaxis": "x",
         "y": [
          -250.546875,
          -250.546875,
          -386.25,
          -386.25
         ],
         "yaxis": "y"
        },
        {
         "hoverinfo": "text",
         "marker": {
          "color": "rgb(0,116,217)"
         },
         "mode": "lines",
         "text": [
          "authentication_authenticators_identification and authentication_and authentication_identification and",
          "",
          "",
          "organization defined_organization_assignment organization_assignment organization defined_organizations"
         ],
         "type": "scatter",
         "x": [
          0.9115915890747156,
          1.1859150048238278,
          1.1859150048238278,
          1.1214184039523123
         ],
         "xaxis": "x",
         "y": [
          -83.75,
          -83.75,
          -318.3984375,
          -318.3984375
         ],
         "yaxis": "y"
        },
        {
         "hoverinfo": "text",
         "marker": {
          "color": "rgb(35,205,205)"
         },
         "mode": "lines",
         "text": [
          "monitoring_security and privacy_and privacy_security and_the system",
          "",
          "",
          "and privacy_security and privacy_system development life_development life cycle_system development"
         ],
         "type": "scatter",
         "x": [
          0,
          0.6082960390366231,
          0.6082960390366231,
          0
         ],
         "xaxis": "x",
         "y": [
          -435,
          -435,
          -445,
          -445
         ],
         "yaxis": "y"
        },
        {
         "hoverinfo": "text",
         "marker": {
          "color": "rgb(35,205,205)"
         },
         "mode": "lines",
         "text": [
          "system component or_system component_supply chain_system system_system system component",
          "",
          "",
          "security and privacy_and privacy_security and_development_systems"
         ],
         "type": "scatter",
         "x": [
          0,
          0.7004029144408658,
          0.7004029144408658,
          0.6082960390366231
         ],
         "xaxis": "x",
         "y": [
          -425,
          -425,
          -440,
          -440
         ],
         "yaxis": "y"
        },
        {
         "hoverinfo": "text",
         "marker": {
          "color": "rgb(35,205,205)"
         },
         "mode": "lines",
         "text": [
          "supply chain_chain_the supply chain_the supply_supply chain risk",
          "",
          "",
          "and privacy_security and privacy_security and_development_life cycle"
         ],
         "type": "scatter",
         "x": [
          0,
          0.798185301211069,
          0.798185301211069,
          0.7004029144408658
         ],
         "xaxis": "x",
         "y": [
          -415,
          -415,
          -432.5,
          -432.5
         ],
         "yaxis": "y"
        },
        {
         "hoverinfo": "text",
         "marker": {
          "color": "rgb(35,205,205)"
         },
         "mode": "lines",
         "text": [
          "development_and privacy_security and privacy_security and_supply chain",
          "",
          "",
          "penetration testing_assessors_impartiality_external system services_flaw remediation"
         ],
         "type": "scatter",
         "x": [
          0.798185301211069,
          0.8885835994700414,
          0.8885835994700414,
          0
         ],
         "xaxis": "x",
         "y": [
          -423.75,
          -423.75,
          -455,
          -455
         ],
         "yaxis": "y"
        },
        {
         "hoverinfo": "text",
         "marker": {
          "color": "rgb(35,205,205)"
         },
         "mode": "lines",
         "text": [
          "functions ports protocols_functions ports_ports protocols and_protocols and services_system component",
          "",
          "",
          "development_and privacy_security and privacy_security and_chain"
         ],
         "type": "scatter",
         "x": [
          0,
          0.9111407765878076,
          0.9111407765878076,
          0.8885835994700414
         ],
         "xaxis": "x",
         "y": [
          -405,
          -405,
          -439.375,
          -439.375
         ],
         "yaxis": "y"
        },
        {
         "hoverinfo": "text",
         "marker": {
          "color": "rgb(61,153,112)"
         },
         "mode": "lines",
         "text": [
          "security and privacy_security and_and privacy_assignment organization_assignment organization defined",
          "",
          "",
          "and privacy_security and privacy_contingency_organization defined_policy and procedures"
         ],
         "type": "scatter",
         "x": [
          0,
          0.22414082415299952,
          0.22414082415299952,
          0
         ],
         "xaxis": "x",
         "y": [
          -465,
          -465,
          -475,
          -475
         ],
         "yaxis": "y"
        },
        {
         "hoverinfo": "text",
         "marker": {
          "color": "rgb(0,116,217)"
         },
         "mode": "lines",
         "text": [
          "development_and privacy_security and privacy_security and_chain",
          "",
          "",
          "security and privacy_and privacy_security and_policy and procedures_organization defined"
         ],
         "type": "scatter",
         "x": [
          0.9111407765878076,
          1.1020814479354055,
          1.1020814479354055,
          0.22414082415299952
         ],
         "xaxis": "x",
         "y": [
          -422.1875,
          -422.1875,
          -470,
          -470
         ],
         "yaxis": "y"
        },
        {
         "hoverinfo": "text",
         "marker": {
          "color": "rgb(255,65,54)"
         },
         "mode": "lines",
         "text": [
          "remediation_action and milestones_plan of action_management vulnerability_vulnerability management vulnerability",
          "",
          "",
          "malware_reconfiguration_dynamic reconfiguration_tamper resistance and_tamper resistance"
         ],
         "type": "scatter",
         "x": [
          0,
          0.8872924904328693,
          0.8872924904328693,
          0
         ],
         "xaxis": "x",
         "y": [
          -485,
          -485,
          -495,
          -495
         ],
         "yaxis": "y"
        },
        {
         "hoverinfo": "text",
         "marker": {
          "color": "rgb(255,65,54)"
         },
         "mode": "lines",
         "text": [
          "business continuity_resilience_and procedures_operational resilience_policies and procedures",
          "",
          "",
          "supply chain_and procedures_policies and procedures_policies and_audit"
         ],
         "type": "scatter",
         "x": [
          0,
          0.5814420473152127,
          0.5814420473152127,
          0
         ],
         "xaxis": "x",
         "y": [
          -515,
          -515,
          -525,
          -525
         ],
         "yaxis": "y"
        },
        {
         "hoverinfo": "text",
         "marker": {
          "color": "rgb(255,65,54)"
         },
         "mode": "lines",
         "text": [
          "privileged access_access management_identity access_identity access management_processes procedures and",
          "",
          "",
          "and procedures_policies and procedures_policies and_should be_business continuity"
         ],
         "type": "scatter",
         "x": [
          0,
          0.7635609320251854,
          0.7635609320251854,
          0.5814420473152127
         ],
         "xaxis": "x",
         "y": [
          -505,
          -505,
          -520,
          -520
         ],
         "yaxis": "y"
        },
        {
         "hoverinfo": "text",
         "marker": {
          "color": "rgb(255,65,54)"
         },
         "mode": "lines",
         "text": [
          "should be_and procedures_security_risk_policies and procedures",
          "",
          "",
          "datacenter_datacenter security_policies and procedures_continual effectiveness_datacenter security secure"
         ],
         "type": "scatter",
         "x": [
          0.7635609320251854,
          0.8707024608529043,
          0.8707024608529043,
          0
         ],
         "xaxis": "x",
         "y": [
          -512.5,
          -512.5,
          -535,
          -535
         ],
         "yaxis": "y"
        },
        {
         "hoverinfo": "text",
         "marker": {
          "color": "rgb(255,65,54)"
         },
         "mode": "lines",
         "text": [
          "malware_reconfiguration_remediation_integrated tvm system_threat vulnerability",
          "",
          "",
          "should be_and procedures_security_policies and procedures_policies and"
         ],
         "type": "scatter",
         "x": [
          0.8872924904328693,
          0.9672907923980055,
          0.9672907923980055,
          0.8707024608529043
         ],
         "xaxis": "x",
         "y": [
          -490,
          -490,
          -523.75,
          -523.75
         ],
         "yaxis": "y"
        },
        {
         "hoverinfo": "text",
         "marker": {
          "color": "rgb(255,65,54)"
         },
         "mode": "lines",
         "text": [
          "data protection impact_change management_management data_impact assessment_change management baseline",
          "",
          "",
          "agreement terms_of employment_the employee_include but is_human resources"
         ],
         "type": "scatter",
         "x": [
          0,
          0.926454951810757,
          0.926454951810757,
          0
         ],
         "xaxis": "x",
         "y": [
          -545,
          -545,
          -555,
          -555
         ],
         "yaxis": "y"
        },
        {
         "hoverinfo": "text",
         "marker": {
          "color": "rgb(255,65,54)"
         },
         "mode": "lines",
         "text": [
          "should be_and procedures_risk_security_all",
          "",
          "",
          "management data_include but is_is not limited_should include but_in employment"
         ],
         "type": "scatter",
         "x": [
          0.9672907923980055,
          0.9861309118201458,
          0.9861309118201458,
          0.926454951810757
         ],
         "xaxis": "x",
         "y": [
          -506.875,
          -506.875,
          -550,
          -550
         ],
         "yaxis": "y"
        },
        {
         "hoverinfo": "text",
         "marker": {
          "color": "rgb(0,116,217)"
         },
         "mode": "lines",
         "text": [
          "security and privacy_and privacy_security and_organization_and procedures",
          "",
          "",
          "should be_and procedures_risk_all_security"
         ],
         "type": "scatter",
         "x": [
          1.1020814479354055,
          1.2420546748900425,
          1.2420546748900425,
          0.9861309118201458
         ],
         "xaxis": "x",
         "y": [
          -446.09375,
          -446.09375,
          -528.4375,
          -528.4375
         ],
         "yaxis": "y"
        },
        {
         "hoverinfo": "text",
         "marker": {
          "color": "rgb(0,116,217)"
         },
         "mode": "lines",
         "text": [
          "of_organization defined_organization_assignment organization defined_assignment organization",
          "",
          "",
          "security_and procedures_security and_security and privacy_and privacy"
         ],
         "type": "scatter",
         "x": [
          1.1859150048238278,
          1.3414084125362353,
          1.3414084125362353,
          1.2420546748900425
         ],
         "xaxis": "x",
         "y": [
          -201.07421875,
          -201.07421875,
          -487.265625,
          -487.265625
         ],
         "yaxis": "y"
        },
        {
         "hoverinfo": "text",
         "marker": {
          "color": "rgb(0,116,217)"
         },
         "mode": "lines",
         "text": [
          "of focus_points of focus_points of_criteria for_communicates",
          "",
          "",
          "organization_organization defined_systems_assignment organization defined_assignment organization"
         ],
         "type": "scatter",
         "x": [
          0.9002063886344135,
          1.4856270707777683,
          1.4856270707777683,
          1.3414084125362353
         ],
         "xaxis": "x",
         "y": [
          -32.5,
          -32.5,
          -344.169921875,
          -344.169921875
         ],
         "yaxis": "y"
        },
        {
         "hoverinfo": "text",
         "marker": {
          "color": "rgb(35,205,205)"
         },
         "mode": "lines",
         "text": [
          "cloud service provider_service provider_cloud service_service provider shall_customer personal data",
          "",
          "",
          "cloud service_cloud service provider_service provider_the customer_the cloud service"
         ],
         "type": "scatter",
         "x": [
          0,
          0.40080236265888314,
          0.40080236265888314,
          0
         ],
         "xaxis": "x",
         "y": [
          -575,
          -575,
          -585,
          -585
         ],
         "yaxis": "y"
        },
        {
         "hoverinfo": "text",
         "marker": {
          "color": "rgb(35,205,205)"
         },
         "mode": "lines",
         "text": [
          "the cloud service_cloud service provider_cloud service_provide the customer_subcontractors or",
          "",
          "",
          "cloud service provider_service provider_cloud service_the customer_the cloud service"
         ],
         "type": "scatter",
         "x": [
          0,
          0.699175135267362,
          0.699175135267362,
          0.40080236265888314
         ],
         "xaxis": "x",
         "y": [
          -565,
          -565,
          -580,
          -580
         ],
         "yaxis": "y"
        },
        {
         "hoverinfo": "text",
         "marker": {
          "color": "rgb(35,205,205)"
         },
         "mode": "lines",
         "text": [
          "cloud service provider_service provider_cloud service_the customer_the cloud service",
          "",
          "",
          "the cloud service_continuous_cloud service_provider_service provider"
         ],
         "type": "scatter",
         "x": [
          0.699175135267362,
          0.7214666336977563,
          0.7214666336977563,
          0
         ],
         "xaxis": "x",
         "y": [
          -572.5,
          -572.5,
          -595,
          -595
         ],
         "yaxis": "y"
        },
        {
         "hoverinfo": "text",
         "marker": {
          "color": "rgb(133,20,75)"
         },
         "mode": "lines",
         "text": [
          "cloud service_the cloud service_service customer_cloud service customer_cloud service provider",
          "",
          "",
          "cloud service_the cloud service_cloud service customer_cloud services_cloud service provider"
         ],
         "type": "scatter",
         "x": [
          0,
          0.2580932652446143,
          0.2580932652446143,
          0
         ],
         "xaxis": "x",
         "y": [
          -605,
          -605,
          -615,
          -615
         ],
         "yaxis": "y"
        },
        {
         "hoverinfo": "text",
         "marker": {
          "color": "rgb(133,20,75)"
         },
         "mode": "lines",
         "text": [
          "cloud service_the cloud service_service customer_cloud service customer_cloud service provider",
          "",
          "",
          "cloud service_cloud service customer_the cloud service_cloud services_secret authentication information"
         ],
         "type": "scatter",
         "x": [
          0.2580932652446143,
          0.4255522150851606,
          0.4255522150851606,
          0
         ],
         "xaxis": "x",
         "y": [
          -610,
          -610,
          -625,
          -625
         ],
         "yaxis": "y"
        },
        {
         "hoverinfo": "text",
         "marker": {
          "color": "rgb(0,116,217)"
         },
         "mode": "lines",
         "text": [
          "the cloud_cloud service_the cloud service_provider_service provider",
          "",
          "",
          "cloud service_the cloud service_cloud service customer_cloud service provider_service provider"
         ],
         "type": "scatter",
         "x": [
          0.7214666336977563,
          1.0056510771496294,
          1.0056510771496294,
          0.4255522150851606
         ],
         "xaxis": "x",
         "y": [
          -583.75,
          -583.75,
          -617.5,
          -617.5
         ],
         "yaxis": "y"
        },
        {
         "hoverinfo": "text",
         "marker": {
          "color": "rgb(255,220,0)"
         },
         "mode": "lines",
         "text": [
          "temporary files are_deterministic_procedure should identify_related information processing_processing task has",
          "",
          "",
          "hardcopy material_of hardcopy material_creation of hardcopy_the creation of_personally identifiable"
         ],
         "type": "scatter",
         "x": [
          0,
          0.8136805809192379,
          0.8136805809192379,
          0
         ],
         "xaxis": "x",
         "y": [
          -635,
          -635,
          -645,
          -645
         ],
         "yaxis": "y"
        },
        {
         "hoverinfo": "text",
         "marker": {
          "color": "rgb(40,35,35)"
         },
         "mode": "lines",
         "text": [
          "and de registration_registration and de_user registration and_iso iec 27002_iec 27002",
          "",
          "",
          "or re use_secure disposal or_re use of_use of equipment_contain personally identifiable"
         ],
         "type": "scatter",
         "x": [
          0,
          0.7641954786118441,
          0.7641954786118441,
          0
         ],
         "xaxis": "x",
         "y": [
          -675,
          -675,
          -685,
          -685
         ],
         "yaxis": "y"
        },
        {
         "hoverinfo": "text",
         "marker": {
          "color": "rgb(40,35,35)"
         },
         "mode": "lines",
         "text": [
          "public data transmission_public data_personally identifiable information_personally identifiable_identifiable information",
          "",
          "",
          "implementation guidance_and de registration_registration and de_iec 27002_iso iec 27002"
         ],
         "type": "scatter",
         "x": [
          0,
          0.8250483407138104,
          0.8250483407138104,
          0.7641954786118441
         ],
         "xaxis": "x",
         "y": [
          -665,
          -665,
          -680,
          -680
         ],
         "yaxis": "y"
        },
        {
         "hoverinfo": "text",
         "marker": {
          "color": "rgb(40,35,35)"
         },
         "mode": "lines",
         "text": [
          "controls designed to_data reaches its_to appropriate controls_designed to ensure_identifiable information transmitted",
          "",
          "",
          "implementation guidance_personally identifiable_personally identifiable information_identifiable information_identifiable"
         ],
         "type": "scatter",
         "x": [
          0,
          0.97789095879959,
          0.97789095879959,
          0.8250483407138104
         ],
         "xaxis": "x",
         "y": [
          -655,
          -655,
          -672.5,
          -672.5
         ],
         "yaxis": "y"
        },
        {
         "hoverinfo": "text",
         "marker": {
          "color": "rgb(61,153,112)"
         },
         "mode": "lines",
         "text": [
          "personally identifiable information_personally identifiable_identifiable information_cloud personally identifiable_public cloud",
          "",
          "",
          "cloud personally identifiable_public cloud_identifiable information processor_personally identifiable_personally identifiable information"
         ],
         "type": "scatter",
         "x": [
          0,
          0.43033038858809636,
          0.43033038858809636,
          0
         ],
         "xaxis": "x",
         "y": [
          -705,
          -705,
          -715,
          -715
         ],
         "yaxis": "y"
        },
        {
         "hoverinfo": "text",
         "marker": {
          "color": "rgb(61,153,112)"
         },
         "mode": "lines",
         "text": [
          "public cloud_personally identifiable information_personally identifiable_identifiable information_identifiable",
          "",
          "",
          "personally identifiable information_personally identifiable_identifiable information_cloud personally identifiable_public cloud"
         ],
         "type": "scatter",
         "x": [
          0,
          0.5932192272166905,
          0.5932192272166905,
          0
         ],
         "xaxis": "x",
         "y": [
          -725,
          -725,
          -735,
          -735
         ],
         "yaxis": "y"
        },
        {
         "hoverinfo": "text",
         "marker": {
          "color": "rgb(61,153,112)"
         },
         "mode": "lines",
         "text": [
          "personally identifiable information_personally identifiable_identifiable information_cloud personally identifiable_public cloud",
          "",
          "",
          "personally identifiable information_personally identifiable_identifiable information_identifiable_public cloud"
         ],
         "type": "scatter",
         "x": [
          0.43033038858809636,
          0.6381958887502839,
          0.6381958887502839,
          0.5932192272166905
         ],
         "xaxis": "x",
         "y": [
          -710,
          -710,
          -730,
          -730
         ],
         "yaxis": "y"
        },
        {
         "hoverinfo": "text",
         "marker": {
          "color": "rgb(61,153,112)"
         },
         "mode": "lines",
         "text": [
          "pii_public cloud_personally identifiable_personally identifiable information_identifiable information",
          "",
          "",
          "personally identifiable_personally identifiable information_identifiable information_cloud personally identifiable_public cloud"
         ],
         "type": "scatter",
         "x": [
          0,
          0.7633783058176377,
          0.7633783058176377,
          0.6381958887502839
         ],
         "xaxis": "x",
         "y": [
          -695,
          -695,
          -720,
          -720
         ],
         "yaxis": "y"
        },
        {
         "hoverinfo": "text",
         "marker": {
          "color": "rgb(61,153,112)"
         },
         "mode": "lines",
         "text": [
          "personally identifiable_personally identifiable information_identifiable information_public cloud_cloud personally identifiable",
          "",
          "",
          "id management_user id management_the information system_authorized access to_of user"
         ],
         "type": "scatter",
         "x": [
          0.7633783058176377,
          0.9221385741828791,
          0.9221385741828791,
          0
         ],
         "xaxis": "x",
         "y": [
          -707.5,
          -707.5,
          -745,
          -745
         ],
         "yaxis": "y"
        },
        {
         "hoverinfo": "text",
         "marker": {
          "color": "rgb(0,116,217)"
         },
         "mode": "lines",
         "text": [
          "personally identifiable information_personally identifiable_identifiable information_identifiable_implementation guidance",
          "",
          "",
          "public cloud_personally identifiable_personally identifiable information_identifiable information_cloud personally identifiable"
         ],
         "type": "scatter",
         "x": [
          0.97789095879959,
          1.0417615361762218,
          1.0417615361762218,
          0.9221385741828791
         ],
         "xaxis": "x",
         "y": [
          -663.75,
          -663.75,
          -726.25,
          -726.25
         ],
         "yaxis": "y"
        },
        {
         "hoverinfo": "text",
         "marker": {
          "color": "rgb(0,116,217)"
         },
         "mode": "lines",
         "text": [
          "temporary files_temporary files are_erased or_erased or destroyed_hardcopy material",
          "",
          "",
          "personally identifiable information_personally identifiable_identifiable information_public cloud_cloud personally identifiable"
         ],
         "type": "scatter",
         "x": [
          0.8136805809192379,
          1.1517831819937943,
          1.1517831819937943,
          1.0417615361762218
         ],
         "xaxis": "x",
         "y": [
          -640,
          -640,
          -695,
          -695
         ],
         "yaxis": "y"
        },
        {
         "hoverinfo": "text",
         "marker": {
          "color": "rgb(255,65,54)"
         },
         "mode": "lines",
         "text": [
          "personally identifiable_personally identifiable information_identifiable information_identifiable_iec 27002 2013",
          "",
          "",
          "iec 27002 2013_iec 27002_iso iec 27002_of iso iec_27002 2013 is"
         ],
         "type": "scatter",
         "x": [
          0,
          0.4488238650910722,
          0.4488238650910722,
          0
         ],
         "xaxis": "x",
         "y": [
          -755,
          -755,
          -765,
          -765
         ],
         "yaxis": "y"
        },
        {
         "hoverinfo": "text",
         "marker": {
          "color": "rgb(255,65,54)"
         },
         "mode": "lines",
         "text": [
          "iec 27002 2013_iec 27002_iso iec 27002_personally identifiable_personally identifiable information",
          "",
          "",
          "technical compliance review_27002 2013 18_27002 2013_iec 27002 2013_in iso iec"
         ],
         "type": "scatter",
         "x": [
          0.4488238650910722,
          0.6667559211796307,
          0.6667559211796307,
          0
         ],
         "xaxis": "x",
         "y": [
          -760,
          -760,
          -775,
          -775
         ],
         "yaxis": "y"
        },
        {
         "hoverinfo": "text",
         "marker": {
          "color": "rgb(0,116,217)"
         },
         "mode": "lines",
         "text": [
          "personally identifiable_personally identifiable information_identifiable information_public cloud_cloud personally identifiable",
          "",
          "",
          "iec 27002 2013_iec 27002_iso iec 27002_personally identifiable information_personally identifiable"
         ],
         "type": "scatter",
         "x": [
          1.1517831819937943,
          1.2387938796009998,
          1.2387938796009998,
          0.6667559211796307
         ],
         "xaxis": "x",
         "y": [
          -667.5,
          -667.5,
          -767.5,
          -767.5
         ],
         "yaxis": "y"
        },
        {
         "hoverinfo": "text",
         "marker": {
          "color": "rgb(35,205,205)"
         },
         "mode": "lines",
         "text": [
          "personally identifiable_personally identifiable information_identifiable information_identifiable_the personally identifiable",
          "",
          "",
          "personally identifiable_personally identifiable information_identifiable information_identifiable_the organization should"
         ],
         "type": "scatter",
         "x": [
          0,
          0.4380528375008552,
          0.4380528375008552,
          0
         ],
         "xaxis": "x",
         "y": [
          -805,
          -805,
          -815,
          -815
         ],
         "yaxis": "y"
        },
        {
         "hoverinfo": "text",
         "marker": {
          "color": "rgb(35,205,205)"
         },
         "mode": "lines",
         "text": [
          "personally identifiable_personally identifiable information_identifiable information_identifiable_the organization shall",
          "",
          "",
          "personally identifiable information_personally identifiable_identifiable information_identifiable_the organization should"
         ],
         "type": "scatter",
         "x": [
          0,
          0.48993469661342975,
          0.48993469661342975,
          0.4380528375008552
         ],
         "xaxis": "x",
         "y": [
          -795,
          -795,
          -810,
          -810
         ],
         "yaxis": "y"
        },
        {
         "hoverinfo": "text",
         "marker": {
          "color": "rgb(35,205,205)"
         },
         "mode": "lines",
         "text": [
          "personally identifiable_personally identifiable information_identifiable information_identifiable_of personally identifiable",
          "",
          "",
          "personally identifiable information_personally identifiable_identifiable information_identifiable_of personally identifiable"
         ],
         "type": "scatter",
         "x": [
          0,
          0.6033780404381127,
          0.6033780404381127,
          0.48993469661342975
         ],
         "xaxis": "x",
         "y": [
          -785,
          -785,
          -802.5,
          -802.5
         ],
         "yaxis": "y"
        },
        {
         "hoverinfo": "text",
         "marker": {
          "color": "rgb(35,205,205)"
         },
         "mode": "lines",
         "text": [
          "personally identifiable information_personally identifiable_identifiable information_identifiable_of personally identifiable",
          "",
          "",
          "to third parties_personally identifiable information_personally identifiable_identifiable information_identifiable"
         ],
         "type": "scatter",
         "x": [
          0.6033780404381127,
          0.9167084687640112,
          0.9167084687640112,
          0
         ],
         "xaxis": "x",
         "y": [
          -793.75,
          -793.75,
          -825,
          -825
         ],
         "yaxis": "y"
        },
        {
         "hoverinfo": "text",
         "marker": {
          "color": "rgb(0,116,217)"
         },
         "mode": "lines",
         "text": [
          "personally identifiable_personally identifiable information_identifiable information_identifiable_public cloud",
          "",
          "",
          "personally identifiable information_personally identifiable_identifiable information_identifiable_of personally identifiable"
         ],
         "type": "scatter",
         "x": [
          1.2387938796009998,
          1.279528416103515,
          1.279528416103515,
          0.9167084687640112
         ],
         "xaxis": "x",
         "y": [
          -717.5,
          -717.5,
          -809.375,
          -809.375
         ],
         "yaxis": "y"
        },
        {
         "hoverinfo": "text",
         "marker": {
          "color": "rgb(0,116,217)"
         },
         "mode": "lines",
         "text": [
          "cloud service_the cloud_the cloud service_service provider_provider",
          "",
          "",
          "personally identifiable_personally identifiable information_identifiable information_identifiable_public cloud"
         ],
         "type": "scatter",
         "x": [
          1.0056510771496294,
          1.7441553679800224,
          1.7441553679800224,
          1.279528416103515
         ],
         "xaxis": "x",
         "y": [
          -600.625,
          -600.625,
          -763.4375,
          -763.4375
         ],
         "yaxis": "y"
        },
        {
         "hoverinfo": "text",
         "marker": {
          "color": "rgb(0,116,217)"
         },
         "mode": "lines",
         "text": [
          "organization_organization defined_systems_organizations_assignment organization",
          "",
          "",
          "cloud service_the cloud_the cloud service_customer_service provider"
         ],
         "type": "scatter",
         "x": [
          1.4856270707777683,
          2.2654278292756156,
          2.2654278292756156,
          1.7441553679800224
         ],
         "xaxis": "x",
         "y": [
          -188.3349609375,
          -188.3349609375,
          -682.03125,
          -682.03125
         ],
         "yaxis": "y"
        },
        {
         "hoverinfo": "text",
         "hovertext": [
          "data subjects_criteria for privacy_of personal information_the entity objectives_objectives related to",
          "of focus_points of focus_points of_board of_the board of",
          "data subjects_criteria for privacy_entity objectives_the entity objectives_of personal information",
          "authentication_identification and authentication_and authentication_identification and_authenticators",
          "shared system resources_shared system_system resources_least privilege_users or roles",
          "assignment organization_assignment organization defined_organization defined_organizational_of behavior",
          "organization defined_assignment organization defined_assignment organization_organization_audit records",
          "system clocks_shared system resources_shared system_least privilege_synchronization",
          "wireless access_access control_wireless networking_physical access to_intrusion",
          "and environmental protection_environmental protection_physical and environmental_power supply_data centers",
          "audit_organization defined_assignment organization defined_assignment organization_organization",
          "network_boundary protection_interfaces_host based_split",
          "cryptographic_cryptography_cryptography encryption_encryption key management_cryptography encryption key",
          "software programs_firmware and information_software firmware and_information integrity_assignment organization defined",
          "cryptographic_media_key management_of_system",
          "organization defined_audit_organization_assignment organization_assignment organization defined",
          "incident response_incident response incident_response training_incident response plans_incident response testing",
          "contingency_incident response_alternate processing_contingency planning_alternate processing site",
          "of_organization defined_organization_assignment organization defined_assignment organization",
          "authentication_authenticators_identification and authentication_and authentication_identification and",
          "development_and privacy_security and privacy_security and_supply chain",
          "development_and privacy_security and privacy_security and_chain",
          "should be_and procedures_security_risk_policies and procedures",
          "malware_reconfiguration_remediation_integrated tvm system_threat vulnerability",
          "should be_and procedures_risk_security_all",
          "security and privacy_and privacy_security and_organization_and procedures",
          "of_organization defined_organization_assignment organization defined_assignment organization",
          "of focus_points of focus_points of_criteria for_communicates",
          "cloud service provider_service provider_cloud service_the customer_the cloud service",
          "cloud service_the cloud service_service customer_cloud service customer_cloud service provider",
          "the cloud_cloud service_the cloud service_provider_service provider",
          "personally identifiable information_personally identifiable_identifiable information_cloud personally identifiable_public cloud",
          "personally identifiable_personally identifiable information_identifiable information_public cloud_cloud personally identifiable",
          "personally identifiable information_personally identifiable_identifiable information_identifiable_implementation guidance",
          "temporary files_temporary files are_erased or_erased or destroyed_hardcopy material",
          "iec 27002 2013_iec 27002_iso iec 27002_personally identifiable_personally identifiable information",
          "personally identifiable_personally identifiable information_identifiable information_public cloud_cloud personally identifiable",
          "personally identifiable information_personally identifiable_identifiable information_identifiable_of personally identifiable",
          "personally identifiable_personally identifiable information_identifiable information_identifiable_public cloud",
          "cloud service_the cloud_the cloud service_service provider_provider",
          "organization_organization defined_systems_organizations_assignment organization"
         ],
         "marker": {
          "color": "black"
         },
         "mode": "markers",
         "showlegend": false,
         "type": "scatter",
         "x": [
          0.7443822152717212,
          0.6354464811081453,
          0.834394514986856,
          0.8353350115822169,
          0.9345969224419417,
          0.8733673160345992,
          0.9006398125080769,
          0.972015041277988,
          0.9017399607335006,
          0.8182916784929948,
          0.9923671210311831,
          0.913541361387689,
          0.8121788744812308,
          0.8585576834800952,
          0.9582686076146235,
          1.098498802341027,
          0.8252949324293013,
          0.9134737216133749,
          1.1089369176909551,
          0.9115915890747156,
          0.798185301211069,
          0.9111407765878076,
          0.7635609320251854,
          0.8872924904328693,
          0.9672907923980055,
          1.1020814479354055,
          1.1859150048238278,
          0.9002063886344135,
          0.699175135267362,
          0.2580932652446143,
          0.7214666336977563,
          0.43033038858809636,
          0.7633783058176377,
          0.97789095879959,
          0.8136805809192379,
          0.4488238650910722,
          1.1517831819937943,
          0.6033780404381127,
          1.2387938796009998,
          1.0056510771496294,
          1.4856270707777683
         ],
         "y": [
          -10,
          -40,
          -17.5,
          -72.5,
          -120,
          -152.5,
          -166.25,
          -116.25,
          -232.5,
          -210,
          -148.4375,
          -292.5,
          -270,
          -330,
          -286.875,
          -187.65625,
          -370,
          -377.5,
          -250.546875,
          -83.75,
          -423.75,
          -422.1875,
          -512.5,
          -490,
          -506.875,
          -446.09375,
          -201.07421875,
          -32.5,
          -572.5,
          -610,
          -583.75,
          -710,
          -707.5,
          -663.75,
          -640,
          -760,
          -667.5,
          -793.75,
          -717.5,
          -600.625,
          -188.3349609375
         ]
        },
        {
         "hoverinfo": "text",
         "hovertext": [
          "of focus_points of focus_points of_of directors_the board of",
          "authentication_identification and authentication_and authentication_authenticators_multi factor authentication",
          "shared system resources_shared system_least privilege_system resources_unauthorized",
          "rules of behavior_of behavior_rules of_assignment organization defined_assignment organization",
          "audit records_audit log_assignment organization defined_audit log storage_log storage",
          "audit_organization defined_assignment organization_assignment organization defined_organization",
          "access control_wireless networking_wireless networking capabilities_networking capabilities_intrusion alarms",
          "access control_wireless access_remote access_wireless networking_physical access to",
          "environmental_physical access_physical and environmental_physical and_and environmental",
          "boundary protection_split tunneling_managed interfaces_tunneling_networks",
          "media_boundary_network_digital media_transport",
          "mobile code_maintenance tools_automated tools_tools and_tools can",
          "firmware_maintenance tools_and information_authorized software_organization defined",
          "media_cryptographic_system_of_software",
          "contingency_incident response_alternate processing_contingency planning_alternate processing site",
          "organization defined_organization_assignment organization_assignment organization defined_organizations",
          "security and privacy_and privacy_security and_development_systems",
          "and privacy_security and privacy_security and_development_life cycle",
          "development_and privacy_security and privacy_security and_chain",
          "security and privacy_and privacy_security and_policy and procedures_organization defined",
          "and procedures_policies and procedures_policies and_should be_business continuity",
          "should be_and procedures_security_policies and procedures_policies and",
          "management data_include but is_is not limited_should include but_in employment",
          "should be_and procedures_risk_all_security",
          "security_and procedures_security and_security and privacy_and privacy",
          "organization_organization defined_systems_assignment organization defined_assignment organization",
          "cloud service provider_service provider_cloud service_the customer_the cloud service",
          "cloud service_the cloud service_cloud service customer_cloud service provider_service provider",
          "implementation guidance_and de registration_registration and de_iec 27002_iso iec 27002",
          "implementation guidance_personally identifiable_personally identifiable information_identifiable information_identifiable",
          "personally identifiable information_personally identifiable_identifiable information_identifiable_public cloud",
          "personally identifiable_personally identifiable information_identifiable information_cloud personally identifiable_public cloud",
          "public cloud_personally identifiable_personally identifiable information_identifiable information_cloud personally identifiable",
          "personally identifiable information_personally identifiable_identifiable information_public cloud_cloud personally identifiable",
          "iec 27002 2013_iec 27002_iso iec 27002_personally identifiable information_personally identifiable",
          "personally identifiable information_personally identifiable_identifiable information_identifiable_the organization should",
          "personally identifiable information_personally identifiable_identifiable information_identifiable_of personally identifiable",
          "personally identifiable information_personally identifiable_identifiable information_identifiable_of personally identifiable",
          "personally identifiable_personally identifiable information_identifiable information_identifiable_public cloud",
          "cloud service_the cloud_the cloud service_customer_service provider"
         ],
         "marker": {
          "color": "black"
         },
         "mode": "markers",
         "showlegend": false,
         "type": "scatter",
         "x": [
          0.8858490004016465,
          0.74619344791153,
          0.9646164456407671,
          0.803719379100407,
          0.8317247204088745,
          0.9193719398349846,
          0.8215045047660376,
          0.964835194473625,
          1.0221953995012403,
          0.8308169067356507,
          0.9262769534156065,
          0.8876968132696893,
          0.9538363477161362,
          1.0322177918672497,
          1.0363675252781614,
          1.1214184039523123,
          0.6082960390366231,
          0.7004029144408658,
          0.8885835994700414,
          0.22414082415299952,
          0.5814420473152127,
          0.8707024608529043,
          0.926454951810757,
          0.9861309118201458,
          1.2420546748900425,
          1.3414084125362353,
          0.40080236265888314,
          0.4255522150851606,
          0.7641954786118441,
          0.8250483407138104,
          0.5932192272166905,
          0.6381958887502839,
          0.9221385741828791,
          1.0417615361762218,
          0.6667559211796307,
          0.4380528375008552,
          0.48993469661342975,
          0.9167084687640112,
          1.279528416103515,
          1.7441553679800224
         ],
         "y": [
          -47.5,
          -80,
          -127.5,
          -160,
          -180,
          -180.625,
          -240,
          -243.75,
          -226.875,
          -300,
          -303.75,
          -350,
          -340,
          -313.4375,
          -386.25,
          -318.3984375,
          -440,
          -432.5,
          -439.375,
          -470,
          -520,
          -523.75,
          -550,
          -528.4375,
          -487.265625,
          -344.169921875,
          -580,
          -617.5,
          -680,
          -672.5,
          -730,
          -720,
          -726.25,
          -695,
          -767.5,
          -810,
          -802.5,
          -809.375,
          -763.4375,
          -682.03125
         ]
        }
       ],
       "layout": {
        "autosize": false,
        "height": 1445,
        "hoverlabel": {
         "bgcolor": "white",
         "font": {
          "family": "Rockwell",
          "size": 16
         }
        },
        "hovermode": "closest",
        "plot_bgcolor": "#ECEFF1",
        "showlegend": false,
        "template": {
         "data": {
          "bar": [
           {
            "error_x": {
             "color": "#2a3f5f"
            },
            "error_y": {
             "color": "#2a3f5f"
            },
            "marker": {
             "line": {
              "color": "white",
              "width": 0.5
             },
             "pattern": {
              "fillmode": "overlay",
              "size": 10,
              "solidity": 0.2
             }
            },
            "type": "bar"
           }
          ],
          "barpolar": [
           {
            "marker": {
             "line": {
              "color": "white",
              "width": 0.5
             },
             "pattern": {
              "fillmode": "overlay",
              "size": 10,
              "solidity": 0.2
             }
            },
            "type": "barpolar"
           }
          ],
          "carpet": [
           {
            "aaxis": {
             "endlinecolor": "#2a3f5f",
             "gridcolor": "#C8D4E3",
             "linecolor": "#C8D4E3",
             "minorgridcolor": "#C8D4E3",
             "startlinecolor": "#2a3f5f"
            },
            "baxis": {
             "endlinecolor": "#2a3f5f",
             "gridcolor": "#C8D4E3",
             "linecolor": "#C8D4E3",
             "minorgridcolor": "#C8D4E3",
             "startlinecolor": "#2a3f5f"
            },
            "type": "carpet"
           }
          ],
          "choropleth": [
           {
            "colorbar": {
             "outlinewidth": 0,
             "ticks": ""
            },
            "type": "choropleth"
           }
          ],
          "contour": [
           {
            "colorbar": {
             "outlinewidth": 0,
             "ticks": ""
            },
            "colorscale": [
             [
              0,
              "#0d0887"
             ],
             [
              0.1111111111111111,
              "#46039f"
             ],
             [
              0.2222222222222222,
              "#7201a8"
             ],
             [
              0.3333333333333333,
              "#9c179e"
             ],
             [
              0.4444444444444444,
              "#bd3786"
             ],
             [
              0.5555555555555556,
              "#d8576b"
             ],
             [
              0.6666666666666666,
              "#ed7953"
             ],
             [
              0.7777777777777778,
              "#fb9f3a"
             ],
             [
              0.8888888888888888,
              "#fdca26"
             ],
             [
              1,
              "#f0f921"
             ]
            ],
            "type": "contour"
           }
          ],
          "contourcarpet": [
           {
            "colorbar": {
             "outlinewidth": 0,
             "ticks": ""
            },
            "type": "contourcarpet"
           }
          ],
          "heatmap": [
           {
            "colorbar": {
             "outlinewidth": 0,
             "ticks": ""
            },
            "colorscale": [
             [
              0,
              "#0d0887"
             ],
             [
              0.1111111111111111,
              "#46039f"
             ],
             [
              0.2222222222222222,
              "#7201a8"
             ],
             [
              0.3333333333333333,
              "#9c179e"
             ],
             [
              0.4444444444444444,
              "#bd3786"
             ],
             [
              0.5555555555555556,
              "#d8576b"
             ],
             [
              0.6666666666666666,
              "#ed7953"
             ],
             [
              0.7777777777777778,
              "#fb9f3a"
             ],
             [
              0.8888888888888888,
              "#fdca26"
             ],
             [
              1,
              "#f0f921"
             ]
            ],
            "type": "heatmap"
           }
          ],
          "heatmapgl": [
           {
            "colorbar": {
             "outlinewidth": 0,
             "ticks": ""
            },
            "colorscale": [
             [
              0,
              "#0d0887"
             ],
             [
              0.1111111111111111,
              "#46039f"
             ],
             [
              0.2222222222222222,
              "#7201a8"
             ],
             [
              0.3333333333333333,
              "#9c179e"
             ],
             [
              0.4444444444444444,
              "#bd3786"
             ],
             [
              0.5555555555555556,
              "#d8576b"
             ],
             [
              0.6666666666666666,
              "#ed7953"
             ],
             [
              0.7777777777777778,
              "#fb9f3a"
             ],
             [
              0.8888888888888888,
              "#fdca26"
             ],
             [
              1,
              "#f0f921"
             ]
            ],
            "type": "heatmapgl"
           }
          ],
          "histogram": [
           {
            "marker": {
             "pattern": {
              "fillmode": "overlay",
              "size": 10,
              "solidity": 0.2
             }
            },
            "type": "histogram"
           }
          ],
          "histogram2d": [
           {
            "colorbar": {
             "outlinewidth": 0,
             "ticks": ""
            },
            "colorscale": [
             [
              0,
              "#0d0887"
             ],
             [
              0.1111111111111111,
              "#46039f"
             ],
             [
              0.2222222222222222,
              "#7201a8"
             ],
             [
              0.3333333333333333,
              "#9c179e"
             ],
             [
              0.4444444444444444,
              "#bd3786"
             ],
             [
              0.5555555555555556,
              "#d8576b"
             ],
             [
              0.6666666666666666,
              "#ed7953"
             ],
             [
              0.7777777777777778,
              "#fb9f3a"
             ],
             [
              0.8888888888888888,
              "#fdca26"
             ],
             [
              1,
              "#f0f921"
             ]
            ],
            "type": "histogram2d"
           }
          ],
          "histogram2dcontour": [
           {
            "colorbar": {
             "outlinewidth": 0,
             "ticks": ""
            },
            "colorscale": [
             [
              0,
              "#0d0887"
             ],
             [
              0.1111111111111111,
              "#46039f"
             ],
             [
              0.2222222222222222,
              "#7201a8"
             ],
             [
              0.3333333333333333,
              "#9c179e"
             ],
             [
              0.4444444444444444,
              "#bd3786"
             ],
             [
              0.5555555555555556,
              "#d8576b"
             ],
             [
              0.6666666666666666,
              "#ed7953"
             ],
             [
              0.7777777777777778,
              "#fb9f3a"
             ],
             [
              0.8888888888888888,
              "#fdca26"
             ],
             [
              1,
              "#f0f921"
             ]
            ],
            "type": "histogram2dcontour"
           }
          ],
          "mesh3d": [
           {
            "colorbar": {
             "outlinewidth": 0,
             "ticks": ""
            },
            "type": "mesh3d"
           }
          ],
          "parcoords": [
           {
            "line": {
             "colorbar": {
              "outlinewidth": 0,
              "ticks": ""
             }
            },
            "type": "parcoords"
           }
          ],
          "pie": [
           {
            "automargin": true,
            "type": "pie"
           }
          ],
          "scatter": [
           {
            "fillpattern": {
             "fillmode": "overlay",
             "size": 10,
             "solidity": 0.2
            },
            "type": "scatter"
           }
          ],
          "scatter3d": [
           {
            "line": {
             "colorbar": {
              "outlinewidth": 0,
              "ticks": ""
             }
            },
            "marker": {
             "colorbar": {
              "outlinewidth": 0,
              "ticks": ""
             }
            },
            "type": "scatter3d"
           }
          ],
          "scattercarpet": [
           {
            "marker": {
             "colorbar": {
              "outlinewidth": 0,
              "ticks": ""
             }
            },
            "type": "scattercarpet"
           }
          ],
          "scattergeo": [
           {
            "marker": {
             "colorbar": {
              "outlinewidth": 0,
              "ticks": ""
             }
            },
            "type": "scattergeo"
           }
          ],
          "scattergl": [
           {
            "marker": {
             "colorbar": {
              "outlinewidth": 0,
              "ticks": ""
             }
            },
            "type": "scattergl"
           }
          ],
          "scattermapbox": [
           {
            "marker": {
             "colorbar": {
              "outlinewidth": 0,
              "ticks": ""
             }
            },
            "type": "scattermapbox"
           }
          ],
          "scatterpolar": [
           {
            "marker": {
             "colorbar": {
              "outlinewidth": 0,
              "ticks": ""
             }
            },
            "type": "scatterpolar"
           }
          ],
          "scatterpolargl": [
           {
            "marker": {
             "colorbar": {
              "outlinewidth": 0,
              "ticks": ""
             }
            },
            "type": "scatterpolargl"
           }
          ],
          "scatterternary": [
           {
            "marker": {
             "colorbar": {
              "outlinewidth": 0,
              "ticks": ""
             }
            },
            "type": "scatterternary"
           }
          ],
          "surface": [
           {
            "colorbar": {
             "outlinewidth": 0,
             "ticks": ""
            },
            "colorscale": [
             [
              0,
              "#0d0887"
             ],
             [
              0.1111111111111111,
              "#46039f"
             ],
             [
              0.2222222222222222,
              "#7201a8"
             ],
             [
              0.3333333333333333,
              "#9c179e"
             ],
             [
              0.4444444444444444,
              "#bd3786"
             ],
             [
              0.5555555555555556,
              "#d8576b"
             ],
             [
              0.6666666666666666,
              "#ed7953"
             ],
             [
              0.7777777777777778,
              "#fb9f3a"
             ],
             [
              0.8888888888888888,
              "#fdca26"
             ],
             [
              1,
              "#f0f921"
             ]
            ],
            "type": "surface"
           }
          ],
          "table": [
           {
            "cells": {
             "fill": {
              "color": "#EBF0F8"
             },
             "line": {
              "color": "white"
             }
            },
            "header": {
             "fill": {
              "color": "#C8D4E3"
             },
             "line": {
              "color": "white"
             }
            },
            "type": "table"
           }
          ]
         },
         "layout": {
          "annotationdefaults": {
           "arrowcolor": "#2a3f5f",
           "arrowhead": 0,
           "arrowwidth": 1
          },
          "autotypenumbers": "strict",
          "coloraxis": {
           "colorbar": {
            "outlinewidth": 0,
            "ticks": ""
           }
          },
          "colorscale": {
           "diverging": [
            [
             0,
             "#8e0152"
            ],
            [
             0.1,
             "#c51b7d"
            ],
            [
             0.2,
             "#de77ae"
            ],
            [
             0.3,
             "#f1b6da"
            ],
            [
             0.4,
             "#fde0ef"
            ],
            [
             0.5,
             "#f7f7f7"
            ],
            [
             0.6,
             "#e6f5d0"
            ],
            [
             0.7,
             "#b8e186"
            ],
            [
             0.8,
             "#7fbc41"
            ],
            [
             0.9,
             "#4d9221"
            ],
            [
             1,
             "#276419"
            ]
           ],
           "sequential": [
            [
             0,
             "#0d0887"
            ],
            [
             0.1111111111111111,
             "#46039f"
            ],
            [
             0.2222222222222222,
             "#7201a8"
            ],
            [
             0.3333333333333333,
             "#9c179e"
            ],
            [
             0.4444444444444444,
             "#bd3786"
            ],
            [
             0.5555555555555556,
             "#d8576b"
            ],
            [
             0.6666666666666666,
             "#ed7953"
            ],
            [
             0.7777777777777778,
             "#fb9f3a"
            ],
            [
             0.8888888888888888,
             "#fdca26"
            ],
            [
             1,
             "#f0f921"
            ]
           ],
           "sequentialminus": [
            [
             0,
             "#0d0887"
            ],
            [
             0.1111111111111111,
             "#46039f"
            ],
            [
             0.2222222222222222,
             "#7201a8"
            ],
            [
             0.3333333333333333,
             "#9c179e"
            ],
            [
             0.4444444444444444,
             "#bd3786"
            ],
            [
             0.5555555555555556,
             "#d8576b"
            ],
            [
             0.6666666666666666,
             "#ed7953"
            ],
            [
             0.7777777777777778,
             "#fb9f3a"
            ],
            [
             0.8888888888888888,
             "#fdca26"
            ],
            [
             1,
             "#f0f921"
            ]
           ]
          },
          "colorway": [
           "#636efa",
           "#EF553B",
           "#00cc96",
           "#ab63fa",
           "#FFA15A",
           "#19d3f3",
           "#FF6692",
           "#B6E880",
           "#FF97FF",
           "#FECB52"
          ],
          "font": {
           "color": "#2a3f5f"
          },
          "geo": {
           "bgcolor": "white",
           "lakecolor": "white",
           "landcolor": "white",
           "showlakes": true,
           "showland": true,
           "subunitcolor": "#C8D4E3"
          },
          "hoverlabel": {
           "align": "left"
          },
          "hovermode": "closest",
          "mapbox": {
           "style": "light"
          },
          "paper_bgcolor": "white",
          "plot_bgcolor": "white",
          "polar": {
           "angularaxis": {
            "gridcolor": "#EBF0F8",
            "linecolor": "#EBF0F8",
            "ticks": ""
           },
           "bgcolor": "white",
           "radialaxis": {
            "gridcolor": "#EBF0F8",
            "linecolor": "#EBF0F8",
            "ticks": ""
           }
          },
          "scene": {
           "xaxis": {
            "backgroundcolor": "white",
            "gridcolor": "#DFE8F3",
            "gridwidth": 2,
            "linecolor": "#EBF0F8",
            "showbackground": true,
            "ticks": "",
            "zerolinecolor": "#EBF0F8"
           },
           "yaxis": {
            "backgroundcolor": "white",
            "gridcolor": "#DFE8F3",
            "gridwidth": 2,
            "linecolor": "#EBF0F8",
            "showbackground": true,
            "ticks": "",
            "zerolinecolor": "#EBF0F8"
           },
           "zaxis": {
            "backgroundcolor": "white",
            "gridcolor": "#DFE8F3",
            "gridwidth": 2,
            "linecolor": "#EBF0F8",
            "showbackground": true,
            "ticks": "",
            "zerolinecolor": "#EBF0F8"
           }
          },
          "shapedefaults": {
           "line": {
            "color": "#2a3f5f"
           }
          },
          "ternary": {
           "aaxis": {
            "gridcolor": "#DFE8F3",
            "linecolor": "#A2B1C6",
            "ticks": ""
           },
           "baxis": {
            "gridcolor": "#DFE8F3",
            "linecolor": "#A2B1C6",
            "ticks": ""
           },
           "bgcolor": "white",
           "caxis": {
            "gridcolor": "#DFE8F3",
            "linecolor": "#A2B1C6",
            "ticks": ""
           }
          },
          "title": {
           "x": 0.05
          },
          "xaxis": {
           "automargin": true,
           "gridcolor": "#EBF0F8",
           "linecolor": "#EBF0F8",
           "ticks": "",
           "title": {
            "standoff": 15
           },
           "zerolinecolor": "#EBF0F8",
           "zerolinewidth": 2
          },
          "yaxis": {
           "automargin": true,
           "gridcolor": "#EBF0F8",
           "linecolor": "#EBF0F8",
           "ticks": "",
           "title": {
            "standoff": 15
           },
           "zerolinecolor": "#EBF0F8",
           "zerolinewidth": 2
          }
         }
        },
        "title": {
         "font": {
          "color": "Black",
          "size": 22
         },
         "text": "<b>Hierarchical Clustering</b>",
         "x": 0.5,
         "xanchor": "center",
         "yanchor": "top"
        },
        "width": 1000,
        "xaxis": {
         "mirror": "allticks",
         "rangemode": "tozero",
         "showgrid": false,
         "showline": true,
         "showticklabels": true,
         "ticks": "outside",
         "type": "linear",
         "zeroline": false
        },
        "yaxis": {
         "mirror": "allticks",
         "range": [
          -830,
          0
         ],
         "rangemode": "tozero",
         "showgrid": false,
         "showline": true,
         "showticklabels": true,
         "tickmode": "array",
         "ticks": "outside",
         "ticktext": [
          "76_criteria for processing_...",
          "7_data subjects_criteria fo...",
          "60_criteria for availabilit...",
          "19_the board of_of director...",
          "48_communicates_business pa...",
          "59_protected information as...",
          "27_identification and authe...",
          "21_authentication_identific...",
          "40_authentication_identific...",
          "65_malicious code_authentic...",
          "73_synchronization_of milli...",
          "64_shared system resources_...",
          "69_least privilege_based ac...",
          "53_unauthorized_audit logs_...",
          "42_account monitoring_syste...",
          "39_assignment organization ...",
          "38_of behavior_rules of beh...",
          "32_assignment organization ...",
          "18_audit records_audit log_...",
          "81_and privacy representati...",
          "35_power supply_data center...",
          "47_personnel or roles_emerg...",
          "80_onsite personnel_the org...",
          "28_wireless networking_wire...",
          "67_network access_access co...",
          "77_account management_autom...",
          "9_key management_cryptograp...",
          "14_cryptographic_cryptograp...",
          "45_host based_security func...",
          "30_at rest_exfiltration_inf...",
          "46_split tunneling_remote a...",
          "24_digital media_non digita...",
          "33_firmware_software progra...",
          "55_system components_securi...",
          "37_automated tools_tools an...",
          "70_maintenance tools_mobile...",
          "10_incident response_incide...",
          "71_contingency plan_organiz...",
          "6_contingency_alternate pro...",
          "54_controls are relevant_th...",
          "68_functions ports protocol...",
          "25_supply chain_chain_the s...",
          "36_system component or_syst...",
          "8_monitoring_security and p...",
          "57_and privacy_security and...",
          "49_penetration testing_asse...",
          "12_security and privacy_sec...",
          "20_and privacy_security and...",
          "50_remediation_action and m...",
          "29_malware_reconfiguration_...",
          "2_privileged access_access ...",
          "5_business continuity_resil...",
          "1_supply chain_and procedur...",
          "58_datacenter_datacenter se...",
          "62_data protection impact_c...",
          "52_agreement terms_of emplo...",
          "61_the cloud service_cloud ...",
          "4_cloud service provider_se...",
          "13_cloud service_cloud serv...",
          "0_the cloud service_continu...",
          "15_cloud service_the cloud ...",
          "11_cloud service_the cloud ...",
          "79_cloud service_cloud serv...",
          "56_temporary files are_dete...",
          "41_hardcopy material_of har...",
          "75_controls designed to_dat...",
          "34_public data transmission...",
          "44_and de registration_regi...",
          "82_or re use_secure disposa...",
          "51_pii_public cloud_persona...",
          "26_personally identifiable ...",
          "72_cloud personally identif...",
          "23_public cloud_personally ...",
          "63_personally identifiable ...",
          "74_id management_user id ma...",
          "16_personally identifiable_...",
          "31_iec 27002 2013_iec 27002...",
          "78_technical compliance rev...",
          "43_personally identifiable_...",
          "3_personally identifiable_p...",
          "22_personally identifiable_...",
          "17_personally identifiable_...",
          "66_to third parties_persona..."
         ],
         "tickvals": [
          -5,
          -15,
          -25,
          -35,
          -45,
          -55,
          -65,
          -75,
          -85,
          -95,
          -105,
          -115,
          -125,
          -135,
          -145,
          -155,
          -165,
          -175,
          -185,
          -195,
          -205,
          -215,
          -225,
          -235,
          -245,
          -255,
          -265,
          -275,
          -285,
          -295,
          -305,
          -315,
          -325,
          -335,
          -345,
          -355,
          -365,
          -375,
          -385,
          -395,
          -405,
          -415,
          -425,
          -435,
          -445,
          -455,
          -465,
          -475,
          -485,
          -495,
          -505,
          -515,
          -525,
          -535,
          -545,
          -555,
          -565,
          -575,
          -585,
          -595,
          -605,
          -615,
          -625,
          -635,
          -645,
          -655,
          -665,
          -675,
          -685,
          -695,
          -705,
          -715,
          -725,
          -735,
          -745,
          -755,
          -765,
          -775,
          -785,
          -795,
          -805,
          -815,
          -825
         ],
         "type": "linear",
         "zeroline": false
        }
       }
      },
      "text/html": [
       "<div>                        <script type=\"text/javascript\">window.PlotlyConfig = {MathJaxConfig: 'local'};</script>\n",
       "        <script charset=\"utf-8\" src=\"https://cdn.plot.ly/plotly-2.29.1.min.js\"></script>                <div id=\"dd63049f-97ef-46fe-ba8b-2413783a03a2\" class=\"plotly-graph-div\" style=\"height:1445px; width:1000px;\"></div>            <script type=\"text/javascript\">                                    window.PLOTLYENV=window.PLOTLYENV || {};                                    if (document.getElementById(\"dd63049f-97ef-46fe-ba8b-2413783a03a2\")) {                    Plotly.newPlot(                        \"dd63049f-97ef-46fe-ba8b-2413783a03a2\",                        [{\"hoverinfo\":\"text\",\"marker\":{\"color\":\"rgb(61,153,112)\"},\"mode\":\"lines\",\"text\":[\"criteria for processing_for processing integrity_processing integrity_for processing_completely and accurately\",\"\",\"\",\"data subjects_criteria for privacy_of personal information_objectives related to_to privacy\"],\"x\":[0.0,0.7443822152717212,0.7443822152717212,0.0],\"xaxis\":\"x\",\"y\":[-5.0,-5.0,-15.0,-15.0],\"yaxis\":\"y\",\"type\":\"scatter\"},{\"hoverinfo\":\"text\",\"marker\":{\"color\":\"rgb(61,153,112)\"},\"mode\":\"lines\",\"text\":[\"data subjects_criteria for privacy_of personal information_the entity objectives_objectives related to\",\"\",\"\",\"criteria for availability_mitigation_plan testing_recovery plan_incident recovery\"],\"x\":[0.7443822152717212,0.834394514986856,0.834394514986856,0.0],\"xaxis\":\"x\",\"y\":[-10.0,-10.0,-25.0,-25.0],\"yaxis\":\"y\",\"type\":\"scatter\"},{\"hoverinfo\":\"text\",\"marker\":{\"color\":\"rgb(61,153,112)\"},\"mode\":\"lines\",\"text\":[\"the board of_of directors_board of directors_board of_of focus\",\"\",\"\",\"communicates_business partners_and business_and business partners_vendors and business\"],\"x\":[0.0,0.6354464811081453,0.6354464811081453,0.0],\"xaxis\":\"x\",\"y\":[-35.0,-35.0,-45.0,-45.0],\"yaxis\":\"y\",\"type\":\"scatter\"},{\"hoverinfo\":\"text\",\"marker\":{\"color\":\"rgb(61,153,112)\"},\"mode\":\"lines\",\"text\":[\"of focus_points of focus_points of_board of_the board of\",\"\",\"\",\"protected information assets_protected information_information assets_processes are in_to protected information\"],\"x\":[0.6354464811081453,0.8858490004016465,0.8858490004016465,0.0],\"xaxis\":\"x\",\"y\":[-40.0,-40.0,-55.0,-55.0],\"yaxis\":\"y\",\"type\":\"scatter\"},{\"hoverinfo\":\"text\",\"marker\":{\"color\":\"rgb(61,153,112)\"},\"mode\":\"lines\",\"text\":[\"data subjects_criteria for privacy_entity objectives_the entity objectives_of personal information\",\"\",\"\",\"of focus_points of focus_points of_of directors_the board of\"],\"x\":[0.834394514986856,0.9002063886344135,0.9002063886344135,0.8858490004016465],\"xaxis\":\"x\",\"y\":[-17.5,-17.5,-47.5,-47.5],\"yaxis\":\"y\",\"type\":\"scatter\"},{\"hoverinfo\":\"text\",\"marker\":{\"color\":\"rgb(255,65,54)\"},\"mode\":\"lines\",\"text\":[\"authentication_identification and authentication_and authentication_multi factor authentication_factor authentication\",\"\",\"\",\"authentication_identification and authentication_cached authenticators_authenticators identification and_cryptographic module\"],\"x\":[0.0,0.74619344791153,0.74619344791153,0.0],\"xaxis\":\"x\",\"y\":[-75.0,-75.0,-85.0,-85.0],\"yaxis\":\"y\",\"type\":\"scatter\"},{\"hoverinfo\":\"text\",\"marker\":{\"color\":\"rgb(255,65,54)\"},\"mode\":\"lines\",\"text\":[\"identification and authentication_and authentication_verification_non organizational users_authentication\",\"\",\"\",\"authentication_identification and authentication_and authentication_authenticators_multi factor authentication\"],\"x\":[0.0,0.8353350115822169,0.8353350115822169,0.74619344791153],\"xaxis\":\"x\",\"y\":[-65.0,-65.0,-80.0,-80.0],\"yaxis\":\"y\",\"type\":\"scatter\"},{\"hoverinfo\":\"text\",\"marker\":{\"color\":\"rgb(255,65,54)\"},\"mode\":\"lines\",\"text\":[\"authentication_identification and authentication_and authentication_identification and_authenticators\",\"\",\"\",\"malicious code_authenticator_authentication_authentication credentials_malicious code protection\"],\"x\":[0.8353350115822169,0.9115915890747156,0.9115915890747156,0.0],\"xaxis\":\"x\",\"y\":[-72.5,-72.5,-95.0,-95.0],\"yaxis\":\"y\",\"type\":\"scatter\"},{\"hoverinfo\":\"text\",\"marker\":{\"color\":\"rgb(35,205,205)\"},\"mode\":\"lines\",\"text\":[\"shared system resources_shared system_system resources_users or roles_concurrent sessions for\",\"\",\"\",\"least privilege_based access scheme_access scheme_privileged accounts_privilege levels\"],\"x\":[0.0,0.9345969224419417,0.9345969224419417,0.0],\"xaxis\":\"x\",\"y\":[-115.0,-115.0,-125.0,-125.0],\"yaxis\":\"y\",\"type\":\"scatter\"},{\"hoverinfo\":\"text\",\"marker\":{\"color\":\"rgb(35,205,205)\"},\"mode\":\"lines\",\"text\":[\"shared system resources_shared system_system resources_least privilege_users or roles\",\"\",\"\",\"unauthorized_audit logs_to unauthorized_unauthorized changes_audit logs access\"],\"x\":[0.9345969224419417,0.9646164456407671,0.9646164456407671,0.0],\"xaxis\":\"x\",\"y\":[-120.0,-120.0,-135.0,-135.0],\"yaxis\":\"y\",\"type\":\"scatter\"},{\"hoverinfo\":\"text\",\"marker\":{\"color\":\"rgb(35,205,205)\"},\"mode\":\"lines\",\"text\":[\"synchronization_of milliseconds_coordinated universal time_system components time_internal system clocks\",\"\",\"\",\"shared system resources_shared system_least privilege_system resources_unauthorized\"],\"x\":[0.0,0.972015041277988,0.972015041277988,0.9646164456407671],\"xaxis\":\"x\",\"y\":[-105.0,-105.0,-127.5,-127.5],\"yaxis\":\"y\",\"type\":\"scatter\"},{\"hoverinfo\":\"text\",\"marker\":{\"color\":\"rgb(35,205,205)\"},\"mode\":\"lines\",\"text\":[\"assignment organization defined_assignment organization_access agreements_organization defined_defined time period\",\"\",\"\",\"of behavior_rules of behavior_rules of_publicly accessible_organizational\"],\"x\":[0.0,0.803719379100407,0.803719379100407,0.0],\"xaxis\":\"x\",\"y\":[-155.0,-155.0,-165.0,-165.0],\"yaxis\":\"y\",\"type\":\"scatter\"},{\"hoverinfo\":\"text\",\"marker\":{\"color\":\"rgb(35,205,205)\"},\"mode\":\"lines\",\"text\":[\"account monitoring_system accounts_control account management_access control account_assignment organization defined\",\"\",\"\",\"rules of behavior_of behavior_rules of_assignment organization defined_assignment organization\"],\"x\":[0.0,0.8733673160345992,0.8733673160345992,0.803719379100407],\"xaxis\":\"x\",\"y\":[-145.0,-145.0,-160.0,-160.0],\"yaxis\":\"y\",\"type\":\"scatter\"},{\"hoverinfo\":\"text\",\"marker\":{\"color\":\"rgb(35,205,205)\"},\"mode\":\"lines\",\"text\":[\"assignment organization defined_regulations policies standards_directives regulations policies_regulations policies_orders directives regulations\",\"\",\"\",\"audit records_audit log_audit record_log storage_audit log storage\"],\"x\":[0.0,0.8317247204088745,0.8317247204088745,0.0],\"xaxis\":\"x\",\"y\":[-175.0,-175.0,-185.0,-185.0],\"yaxis\":\"y\",\"type\":\"scatter\"},{\"hoverinfo\":\"text\",\"marker\":{\"color\":\"rgb(35,205,205)\"},\"mode\":\"lines\",\"text\":[\"assignment organization_assignment organization defined_organization defined_organizational_of behavior\",\"\",\"\",\"audit records_audit log_assignment organization defined_audit log storage_log storage\"],\"x\":[0.8733673160345992,0.9006398125080769,0.9006398125080769,0.8317247204088745],\"xaxis\":\"x\",\"y\":[-152.5,-152.5,-180.0,-180.0],\"yaxis\":\"y\",\"type\":\"scatter\"},{\"hoverinfo\":\"text\",\"marker\":{\"color\":\"rgb(35,205,205)\"},\"mode\":\"lines\",\"text\":[\"organization defined_assignment organization defined_assignment organization_organization_audit records\",\"\",\"\",\"and privacy representatives_organization generated_organization generated alerts_generated alerts_organization defined\"],\"x\":[0.9006398125080769,0.9193719398349846,0.9193719398349846,0.0],\"xaxis\":\"x\",\"y\":[-166.25,-166.25,-195.0,-195.0],\"yaxis\":\"y\",\"type\":\"scatter\"},{\"hoverinfo\":\"text\",\"marker\":{\"color\":\"rgb(35,205,205)\"},\"mode\":\"lines\",\"text\":[\"system clocks_shared system resources_shared system_least privilege_synchronization\",\"\",\"\",\"audit_organization defined_assignment organization_assignment organization defined_organization\"],\"x\":[0.972015041277988,0.9923671210311831,0.9923671210311831,0.9193719398349846],\"xaxis\":\"x\",\"y\":[-116.25,-116.25,-180.625,-180.625],\"yaxis\":\"y\",\"type\":\"scatter\"},{\"hoverinfo\":\"text\",\"marker\":{\"color\":\"rgb(133,20,75)\"},\"mode\":\"lines\",\"text\":[\"power supply_data centers_and environmental protection_emergency lighting_physical and environmental\",\"\",\"\",\"personnel or roles_emergency responders_environmental controls_organization defined_and environmental protection\"],\"x\":[0.0,0.8182916784929948,0.8182916784929948,0.0],\"xaxis\":\"x\",\"y\":[-205.0,-205.0,-215.0,-215.0],\"yaxis\":\"y\",\"type\":\"scatter\"},{\"hoverinfo\":\"text\",\"marker\":{\"color\":\"rgb(255,220,0)\"},\"mode\":\"lines\",\"text\":[\"wireless networking_wireless networking capabilities_intrusion alarms_unauthorized_access control wireless\",\"\",\"\",\"network access_access control_access control points_control points_network access to\"],\"x\":[0.0,0.8215045047660376,0.8215045047660376,0.0],\"xaxis\":\"x\",\"y\":[-235.0,-235.0,-245.0,-245.0],\"yaxis\":\"y\",\"type\":\"scatter\"},{\"hoverinfo\":\"text\",\"marker\":{\"color\":\"rgb(255,220,0)\"},\"mode\":\"lines\",\"text\":[\"onsite personnel_the organization should_onsite personnel and_remote working_the return of\",\"\",\"\",\"access control_wireless networking_wireless networking capabilities_networking capabilities_intrusion alarms\"],\"x\":[0.0,0.9017399607335006,0.9017399607335006,0.8215045047660376],\"xaxis\":\"x\",\"y\":[-225.0,-225.0,-240.0,-240.0],\"yaxis\":\"y\",\"type\":\"scatter\"},{\"hoverinfo\":\"text\",\"marker\":{\"color\":\"rgb(255,220,0)\"},\"mode\":\"lines\",\"text\":[\"wireless access_access control_wireless networking_physical access to_intrusion\",\"\",\"\",\"account management_automated system account_system account usage_remote access methods_system account management\"],\"x\":[0.9017399607335006,0.964835194473625,0.964835194473625,0.0],\"xaxis\":\"x\",\"y\":[-232.5,-232.5,-255.0,-255.0],\"yaxis\":\"y\",\"type\":\"scatter\"},{\"hoverinfo\":\"text\",\"marker\":{\"color\":\"rgb(0,116,217)\"},\"mode\":\"lines\",\"text\":[\"and environmental protection_environmental protection_physical and environmental_power supply_data centers\",\"\",\"\",\"access control_wireless access_remote access_wireless networking_physical access to\"],\"x\":[0.8182916784929948,1.0221953995012403,1.0221953995012403,0.964835194473625],\"xaxis\":\"x\",\"y\":[-210.0,-210.0,-243.75,-243.75],\"yaxis\":\"y\",\"type\":\"scatter\"},{\"hoverinfo\":\"text\",\"marker\":{\"color\":\"rgb(0,116,217)\"},\"mode\":\"lines\",\"text\":[\"audit_organization defined_assignment organization defined_assignment organization_organization\",\"\",\"\",\"environmental_physical access_physical and environmental_physical and_and environmental\"],\"x\":[0.9923671210311831,1.098498802341027,1.098498802341027,1.0221953995012403],\"xaxis\":\"x\",\"y\":[-148.4375,-148.4375,-226.875,-226.875],\"yaxis\":\"y\",\"type\":\"scatter\"},{\"hoverinfo\":\"text\",\"marker\":{\"color\":\"rgb(40,35,35)\"},\"mode\":\"lines\",\"text\":[\"key management_cryptography encryption_encryption key management_cryptography encryption key_management system\",\"\",\"\",\"cryptographic_cryptographic mechanisms_cryptography_implement cryptographic mechanisms_cryptographic mechanisms to\"],\"x\":[0.0,0.8121788744812308,0.8121788744812308,0.0],\"xaxis\":\"x\",\"y\":[-265.0,-265.0,-275.0,-275.0],\"yaxis\":\"y\",\"type\":\"scatter\"},{\"hoverinfo\":\"text\",\"marker\":{\"color\":\"rgb(40,35,35)\"},\"mode\":\"lines\",\"text\":[\"at rest_exfiltration_information at rest_of information_non privileged users\",\"\",\"\",\"split tunneling_remote access_managed interfaces_proxy servers_external network\"],\"x\":[0.0,0.8308169067356507,0.8308169067356507,0.0],\"xaxis\":\"x\",\"y\":[-295.0,-295.0,-305.0,-305.0],\"yaxis\":\"y\",\"type\":\"scatter\"},{\"hoverinfo\":\"text\",\"marker\":{\"color\":\"rgb(40,35,35)\"},\"mode\":\"lines\",\"text\":[\"host based_security functions_host based monitoring_based monitoring_system management\",\"\",\"\",\"boundary protection_split tunneling_managed interfaces_tunneling_networks\"],\"x\":[0.0,0.913541361387689,0.913541361387689,0.8308169067356507],\"xaxis\":\"x\",\"y\":[-285.0,-285.0,-300.0,-300.0],\"yaxis\":\"y\",\"type\":\"scatter\"},{\"hoverinfo\":\"text\",\"marker\":{\"color\":\"rgb(40,35,35)\"},\"mode\":\"lines\",\"text\":[\"network_boundary protection_interfaces_host based_split\",\"\",\"\",\"digital media_non digital media_storage devices_digital media includes_portable storage devices\"],\"x\":[0.913541361387689,0.9262769534156065,0.9262769534156065,0.0],\"xaxis\":\"x\",\"y\":[-292.5,-292.5,-315.0,-315.0],\"yaxis\":\"y\",\"type\":\"scatter\"},{\"hoverinfo\":\"text\",\"marker\":{\"color\":\"rgb(40,35,35)\"},\"mode\":\"lines\",\"text\":[\"cryptographic_cryptography_cryptography encryption_encryption key management_cryptography encryption key\",\"\",\"\",\"media_boundary_network_digital media_transport\"],\"x\":[0.8121788744812308,0.9582686076146235,0.9582686076146235,0.9262769534156065],\"xaxis\":\"x\",\"y\":[-270.0,-270.0,-303.75,-303.75],\"yaxis\":\"y\",\"type\":\"scatter\"},{\"hoverinfo\":\"text\",\"marker\":{\"color\":\"rgb(61,153,112)\"},\"mode\":\"lines\",\"text\":[\"firmware_software programs_firmware and information_software firmware and_software firmware\",\"\",\"\",\"system components_security relevant changes_component authenticity_detection and response_management family component\"],\"x\":[0.0,0.8585576834800952,0.8585576834800952,0.0],\"xaxis\":\"x\",\"y\":[-325.0,-325.0,-335.0,-335.0],\"yaxis\":\"y\",\"type\":\"scatter\"},{\"hoverinfo\":\"text\",\"marker\":{\"color\":\"rgb(61,153,112)\"},\"mode\":\"lines\",\"text\":[\"automated tools_tools and mechanisms_information location_baseline configuration_transaction recovery\",\"\",\"\",\"maintenance tools_mobile code within_system updates_of mobile code_use of mobile\"],\"x\":[0.0,0.8876968132696893,0.8876968132696893,0.0],\"xaxis\":\"x\",\"y\":[-345.0,-345.0,-355.0,-355.0],\"yaxis\":\"y\",\"type\":\"scatter\"},{\"hoverinfo\":\"text\",\"marker\":{\"color\":\"rgb(61,153,112)\"},\"mode\":\"lines\",\"text\":[\"software programs_firmware and information_software firmware and_information integrity_assignment organization defined\",\"\",\"\",\"mobile code_maintenance tools_automated tools_tools and_tools can\"],\"x\":[0.8585576834800952,0.9538363477161362,0.9538363477161362,0.8876968132696893],\"xaxis\":\"x\",\"y\":[-330.0,-330.0,-350.0,-350.0],\"yaxis\":\"y\",\"type\":\"scatter\"},{\"hoverinfo\":\"text\",\"marker\":{\"color\":\"rgb(0,116,217)\"},\"mode\":\"lines\",\"text\":[\"cryptographic_media_key management_of_system\",\"\",\"\",\"firmware_maintenance tools_and information_authorized software_organization defined\"],\"x\":[0.9582686076146235,1.0322177918672497,1.0322177918672497,0.9538363477161362],\"xaxis\":\"x\",\"y\":[-286.875,-286.875,-340.0,-340.0],\"yaxis\":\"y\",\"type\":\"scatter\"},{\"hoverinfo\":\"text\",\"marker\":{\"color\":\"rgb(0,116,217)\"},\"mode\":\"lines\",\"text\":[\"organization defined_audit_organization_assignment organization_assignment organization defined\",\"\",\"\",\"media_cryptographic_system_of_software\"],\"x\":[1.098498802341027,1.1089369176909551,1.1089369176909551,1.0322177918672497],\"xaxis\":\"x\",\"y\":[-187.65625,-187.65625,-313.4375,-313.4375],\"yaxis\":\"y\",\"type\":\"scatter\"},{\"hoverinfo\":\"text\",\"marker\":{\"color\":\"rgb(255,65,54)\"},\"mode\":\"lines\",\"text\":[\"incident response_incident response incident_response training_incident handling_incident response training\",\"\",\"\",\"contingency plan_organizational elements_contingency plan testing_response plans_contingency plans\"],\"x\":[0.0,0.8252949324293013,0.8252949324293013,0.0],\"xaxis\":\"x\",\"y\":[-365.0,-365.0,-375.0,-375.0],\"yaxis\":\"y\",\"type\":\"scatter\"},{\"hoverinfo\":\"text\",\"marker\":{\"color\":\"rgb(255,65,54)\"},\"mode\":\"lines\",\"text\":[\"incident response_incident response incident_response training_incident response plans_incident response testing\",\"\",\"\",\"contingency_alternate processing_contingency planning_alternate processing site_telecommunications services\"],\"x\":[0.8252949324293013,0.9134737216133749,0.9134737216133749,0.0],\"xaxis\":\"x\",\"y\":[-370.0,-370.0,-385.0,-385.0],\"yaxis\":\"y\",\"type\":\"scatter\"},{\"hoverinfo\":\"text\",\"marker\":{\"color\":\"rgb(0,116,217)\"},\"mode\":\"lines\",\"text\":[\"contingency_incident response_alternate processing_contingency planning_alternate processing site\",\"\",\"\",\"controls are relevant_this privacy principle_with legal basis_applicable jurisdictions and_conditions for collection\"],\"x\":[0.9134737216133749,1.0363675252781614,1.0363675252781614,0.0],\"xaxis\":\"x\",\"y\":[-377.5,-377.5,-395.0,-395.0],\"yaxis\":\"y\",\"type\":\"scatter\"},{\"hoverinfo\":\"text\",\"marker\":{\"color\":\"rgb(0,116,217)\"},\"mode\":\"lines\",\"text\":[\"of_organization defined_organization_assignment organization defined_assignment organization\",\"\",\"\",\"contingency_incident response_alternate processing_contingency planning_alternate processing site\"],\"x\":[1.1089369176909551,1.1214184039523123,1.1214184039523123,1.0363675252781614],\"xaxis\":\"x\",\"y\":[-250.546875,-250.546875,-386.25,-386.25],\"yaxis\":\"y\",\"type\":\"scatter\"},{\"hoverinfo\":\"text\",\"marker\":{\"color\":\"rgb(0,116,217)\"},\"mode\":\"lines\",\"text\":[\"authentication_authenticators_identification and authentication_and authentication_identification and\",\"\",\"\",\"organization defined_organization_assignment organization_assignment organization defined_organizations\"],\"x\":[0.9115915890747156,1.1859150048238278,1.1859150048238278,1.1214184039523123],\"xaxis\":\"x\",\"y\":[-83.75,-83.75,-318.3984375,-318.3984375],\"yaxis\":\"y\",\"type\":\"scatter\"},{\"hoverinfo\":\"text\",\"marker\":{\"color\":\"rgb(35,205,205)\"},\"mode\":\"lines\",\"text\":[\"monitoring_security and privacy_and privacy_security and_the system\",\"\",\"\",\"and privacy_security and privacy_system development life_development life cycle_system development\"],\"x\":[0.0,0.6082960390366231,0.6082960390366231,0.0],\"xaxis\":\"x\",\"y\":[-435.0,-435.0,-445.0,-445.0],\"yaxis\":\"y\",\"type\":\"scatter\"},{\"hoverinfo\":\"text\",\"marker\":{\"color\":\"rgb(35,205,205)\"},\"mode\":\"lines\",\"text\":[\"system component or_system component_supply chain_system system_system system component\",\"\",\"\",\"security and privacy_and privacy_security and_development_systems\"],\"x\":[0.0,0.7004029144408658,0.7004029144408658,0.6082960390366231],\"xaxis\":\"x\",\"y\":[-425.0,-425.0,-440.0,-440.0],\"yaxis\":\"y\",\"type\":\"scatter\"},{\"hoverinfo\":\"text\",\"marker\":{\"color\":\"rgb(35,205,205)\"},\"mode\":\"lines\",\"text\":[\"supply chain_chain_the supply chain_the supply_supply chain risk\",\"\",\"\",\"and privacy_security and privacy_security and_development_life cycle\"],\"x\":[0.0,0.798185301211069,0.798185301211069,0.7004029144408658],\"xaxis\":\"x\",\"y\":[-415.0,-415.0,-432.5,-432.5],\"yaxis\":\"y\",\"type\":\"scatter\"},{\"hoverinfo\":\"text\",\"marker\":{\"color\":\"rgb(35,205,205)\"},\"mode\":\"lines\",\"text\":[\"development_and privacy_security and privacy_security and_supply chain\",\"\",\"\",\"penetration testing_assessors_impartiality_external system services_flaw remediation\"],\"x\":[0.798185301211069,0.8885835994700414,0.8885835994700414,0.0],\"xaxis\":\"x\",\"y\":[-423.75,-423.75,-455.0,-455.0],\"yaxis\":\"y\",\"type\":\"scatter\"},{\"hoverinfo\":\"text\",\"marker\":{\"color\":\"rgb(35,205,205)\"},\"mode\":\"lines\",\"text\":[\"functions ports protocols_functions ports_ports protocols and_protocols and services_system component\",\"\",\"\",\"development_and privacy_security and privacy_security and_chain\"],\"x\":[0.0,0.9111407765878076,0.9111407765878076,0.8885835994700414],\"xaxis\":\"x\",\"y\":[-405.0,-405.0,-439.375,-439.375],\"yaxis\":\"y\",\"type\":\"scatter\"},{\"hoverinfo\":\"text\",\"marker\":{\"color\":\"rgb(61,153,112)\"},\"mode\":\"lines\",\"text\":[\"security and privacy_security and_and privacy_assignment organization_assignment organization defined\",\"\",\"\",\"and privacy_security and privacy_contingency_organization defined_policy and procedures\"],\"x\":[0.0,0.22414082415299952,0.22414082415299952,0.0],\"xaxis\":\"x\",\"y\":[-465.0,-465.0,-475.0,-475.0],\"yaxis\":\"y\",\"type\":\"scatter\"},{\"hoverinfo\":\"text\",\"marker\":{\"color\":\"rgb(0,116,217)\"},\"mode\":\"lines\",\"text\":[\"development_and privacy_security and privacy_security and_chain\",\"\",\"\",\"security and privacy_and privacy_security and_policy and procedures_organization defined\"],\"x\":[0.9111407765878076,1.1020814479354055,1.1020814479354055,0.22414082415299952],\"xaxis\":\"x\",\"y\":[-422.1875,-422.1875,-470.0,-470.0],\"yaxis\":\"y\",\"type\":\"scatter\"},{\"hoverinfo\":\"text\",\"marker\":{\"color\":\"rgb(255,65,54)\"},\"mode\":\"lines\",\"text\":[\"remediation_action and milestones_plan of action_management vulnerability_vulnerability management vulnerability\",\"\",\"\",\"malware_reconfiguration_dynamic reconfiguration_tamper resistance and_tamper resistance\"],\"x\":[0.0,0.8872924904328693,0.8872924904328693,0.0],\"xaxis\":\"x\",\"y\":[-485.0,-485.0,-495.0,-495.0],\"yaxis\":\"y\",\"type\":\"scatter\"},{\"hoverinfo\":\"text\",\"marker\":{\"color\":\"rgb(255,65,54)\"},\"mode\":\"lines\",\"text\":[\"business continuity_resilience_and procedures_operational resilience_policies and procedures\",\"\",\"\",\"supply chain_and procedures_policies and procedures_policies and_audit\"],\"x\":[0.0,0.5814420473152127,0.5814420473152127,0.0],\"xaxis\":\"x\",\"y\":[-515.0,-515.0,-525.0,-525.0],\"yaxis\":\"y\",\"type\":\"scatter\"},{\"hoverinfo\":\"text\",\"marker\":{\"color\":\"rgb(255,65,54)\"},\"mode\":\"lines\",\"text\":[\"privileged access_access management_identity access_identity access management_processes procedures and\",\"\",\"\",\"and procedures_policies and procedures_policies and_should be_business continuity\"],\"x\":[0.0,0.7635609320251854,0.7635609320251854,0.5814420473152127],\"xaxis\":\"x\",\"y\":[-505.0,-505.0,-520.0,-520.0],\"yaxis\":\"y\",\"type\":\"scatter\"},{\"hoverinfo\":\"text\",\"marker\":{\"color\":\"rgb(255,65,54)\"},\"mode\":\"lines\",\"text\":[\"should be_and procedures_security_risk_policies and procedures\",\"\",\"\",\"datacenter_datacenter security_policies and procedures_continual effectiveness_datacenter security secure\"],\"x\":[0.7635609320251854,0.8707024608529043,0.8707024608529043,0.0],\"xaxis\":\"x\",\"y\":[-512.5,-512.5,-535.0,-535.0],\"yaxis\":\"y\",\"type\":\"scatter\"},{\"hoverinfo\":\"text\",\"marker\":{\"color\":\"rgb(255,65,54)\"},\"mode\":\"lines\",\"text\":[\"malware_reconfiguration_remediation_integrated tvm system_threat vulnerability\",\"\",\"\",\"should be_and procedures_security_policies and procedures_policies and\"],\"x\":[0.8872924904328693,0.9672907923980055,0.9672907923980055,0.8707024608529043],\"xaxis\":\"x\",\"y\":[-490.0,-490.0,-523.75,-523.75],\"yaxis\":\"y\",\"type\":\"scatter\"},{\"hoverinfo\":\"text\",\"marker\":{\"color\":\"rgb(255,65,54)\"},\"mode\":\"lines\",\"text\":[\"data protection impact_change management_management data_impact assessment_change management baseline\",\"\",\"\",\"agreement terms_of employment_the employee_include but is_human resources\"],\"x\":[0.0,0.926454951810757,0.926454951810757,0.0],\"xaxis\":\"x\",\"y\":[-545.0,-545.0,-555.0,-555.0],\"yaxis\":\"y\",\"type\":\"scatter\"},{\"hoverinfo\":\"text\",\"marker\":{\"color\":\"rgb(255,65,54)\"},\"mode\":\"lines\",\"text\":[\"should be_and procedures_risk_security_all\",\"\",\"\",\"management data_include but is_is not limited_should include but_in employment\"],\"x\":[0.9672907923980055,0.9861309118201458,0.9861309118201458,0.926454951810757],\"xaxis\":\"x\",\"y\":[-506.875,-506.875,-550.0,-550.0],\"yaxis\":\"y\",\"type\":\"scatter\"},{\"hoverinfo\":\"text\",\"marker\":{\"color\":\"rgb(0,116,217)\"},\"mode\":\"lines\",\"text\":[\"security and privacy_and privacy_security and_organization_and procedures\",\"\",\"\",\"should be_and procedures_risk_all_security\"],\"x\":[1.1020814479354055,1.2420546748900425,1.2420546748900425,0.9861309118201458],\"xaxis\":\"x\",\"y\":[-446.09375,-446.09375,-528.4375,-528.4375],\"yaxis\":\"y\",\"type\":\"scatter\"},{\"hoverinfo\":\"text\",\"marker\":{\"color\":\"rgb(0,116,217)\"},\"mode\":\"lines\",\"text\":[\"of_organization defined_organization_assignment organization defined_assignment organization\",\"\",\"\",\"security_and procedures_security and_security and privacy_and privacy\"],\"x\":[1.1859150048238278,1.3414084125362353,1.3414084125362353,1.2420546748900425],\"xaxis\":\"x\",\"y\":[-201.07421875,-201.07421875,-487.265625,-487.265625],\"yaxis\":\"y\",\"type\":\"scatter\"},{\"hoverinfo\":\"text\",\"marker\":{\"color\":\"rgb(0,116,217)\"},\"mode\":\"lines\",\"text\":[\"of focus_points of focus_points of_criteria for_communicates\",\"\",\"\",\"organization_organization defined_systems_assignment organization defined_assignment organization\"],\"x\":[0.9002063886344135,1.4856270707777683,1.4856270707777683,1.3414084125362353],\"xaxis\":\"x\",\"y\":[-32.5,-32.5,-344.169921875,-344.169921875],\"yaxis\":\"y\",\"type\":\"scatter\"},{\"hoverinfo\":\"text\",\"marker\":{\"color\":\"rgb(35,205,205)\"},\"mode\":\"lines\",\"text\":[\"cloud service provider_service provider_cloud service_service provider shall_customer personal data\",\"\",\"\",\"cloud service_cloud service provider_service provider_the customer_the cloud service\"],\"x\":[0.0,0.40080236265888314,0.40080236265888314,0.0],\"xaxis\":\"x\",\"y\":[-575.0,-575.0,-585.0,-585.0],\"yaxis\":\"y\",\"type\":\"scatter\"},{\"hoverinfo\":\"text\",\"marker\":{\"color\":\"rgb(35,205,205)\"},\"mode\":\"lines\",\"text\":[\"the cloud service_cloud service provider_cloud service_provide the customer_subcontractors or\",\"\",\"\",\"cloud service provider_service provider_cloud service_the customer_the cloud service\"],\"x\":[0.0,0.699175135267362,0.699175135267362,0.40080236265888314],\"xaxis\":\"x\",\"y\":[-565.0,-565.0,-580.0,-580.0],\"yaxis\":\"y\",\"type\":\"scatter\"},{\"hoverinfo\":\"text\",\"marker\":{\"color\":\"rgb(35,205,205)\"},\"mode\":\"lines\",\"text\":[\"cloud service provider_service provider_cloud service_the customer_the cloud service\",\"\",\"\",\"the cloud service_continuous_cloud service_provider_service provider\"],\"x\":[0.699175135267362,0.7214666336977563,0.7214666336977563,0.0],\"xaxis\":\"x\",\"y\":[-572.5,-572.5,-595.0,-595.0],\"yaxis\":\"y\",\"type\":\"scatter\"},{\"hoverinfo\":\"text\",\"marker\":{\"color\":\"rgb(133,20,75)\"},\"mode\":\"lines\",\"text\":[\"cloud service_the cloud service_service customer_cloud service customer_cloud service provider\",\"\",\"\",\"cloud service_the cloud service_cloud service customer_cloud services_cloud service provider\"],\"x\":[0.0,0.2580932652446143,0.2580932652446143,0.0],\"xaxis\":\"x\",\"y\":[-605.0,-605.0,-615.0,-615.0],\"yaxis\":\"y\",\"type\":\"scatter\"},{\"hoverinfo\":\"text\",\"marker\":{\"color\":\"rgb(133,20,75)\"},\"mode\":\"lines\",\"text\":[\"cloud service_the cloud service_service customer_cloud service customer_cloud service provider\",\"\",\"\",\"cloud service_cloud service customer_the cloud service_cloud services_secret authentication information\"],\"x\":[0.2580932652446143,0.4255522150851606,0.4255522150851606,0.0],\"xaxis\":\"x\",\"y\":[-610.0,-610.0,-625.0,-625.0],\"yaxis\":\"y\",\"type\":\"scatter\"},{\"hoverinfo\":\"text\",\"marker\":{\"color\":\"rgb(0,116,217)\"},\"mode\":\"lines\",\"text\":[\"the cloud_cloud service_the cloud service_provider_service provider\",\"\",\"\",\"cloud service_the cloud service_cloud service customer_cloud service provider_service provider\"],\"x\":[0.7214666336977563,1.0056510771496294,1.0056510771496294,0.4255522150851606],\"xaxis\":\"x\",\"y\":[-583.75,-583.75,-617.5,-617.5],\"yaxis\":\"y\",\"type\":\"scatter\"},{\"hoverinfo\":\"text\",\"marker\":{\"color\":\"rgb(255,220,0)\"},\"mode\":\"lines\",\"text\":[\"temporary files are_deterministic_procedure should identify_related information processing_processing task has\",\"\",\"\",\"hardcopy material_of hardcopy material_creation of hardcopy_the creation of_personally identifiable\"],\"x\":[0.0,0.8136805809192379,0.8136805809192379,0.0],\"xaxis\":\"x\",\"y\":[-635.0,-635.0,-645.0,-645.0],\"yaxis\":\"y\",\"type\":\"scatter\"},{\"hoverinfo\":\"text\",\"marker\":{\"color\":\"rgb(40,35,35)\"},\"mode\":\"lines\",\"text\":[\"and de registration_registration and de_user registration and_iso iec 27002_iec 27002\",\"\",\"\",\"or re use_secure disposal or_re use of_use of equipment_contain personally identifiable\"],\"x\":[0.0,0.7641954786118441,0.7641954786118441,0.0],\"xaxis\":\"x\",\"y\":[-675.0,-675.0,-685.0,-685.0],\"yaxis\":\"y\",\"type\":\"scatter\"},{\"hoverinfo\":\"text\",\"marker\":{\"color\":\"rgb(40,35,35)\"},\"mode\":\"lines\",\"text\":[\"public data transmission_public data_personally identifiable information_personally identifiable_identifiable information\",\"\",\"\",\"implementation guidance_and de registration_registration and de_iec 27002_iso iec 27002\"],\"x\":[0.0,0.8250483407138104,0.8250483407138104,0.7641954786118441],\"xaxis\":\"x\",\"y\":[-665.0,-665.0,-680.0,-680.0],\"yaxis\":\"y\",\"type\":\"scatter\"},{\"hoverinfo\":\"text\",\"marker\":{\"color\":\"rgb(40,35,35)\"},\"mode\":\"lines\",\"text\":[\"controls designed to_data reaches its_to appropriate controls_designed to ensure_identifiable information transmitted\",\"\",\"\",\"implementation guidance_personally identifiable_personally identifiable information_identifiable information_identifiable\"],\"x\":[0.0,0.97789095879959,0.97789095879959,0.8250483407138104],\"xaxis\":\"x\",\"y\":[-655.0,-655.0,-672.5,-672.5],\"yaxis\":\"y\",\"type\":\"scatter\"},{\"hoverinfo\":\"text\",\"marker\":{\"color\":\"rgb(61,153,112)\"},\"mode\":\"lines\",\"text\":[\"personally identifiable information_personally identifiable_identifiable information_cloud personally identifiable_public cloud\",\"\",\"\",\"cloud personally identifiable_public cloud_identifiable information processor_personally identifiable_personally identifiable information\"],\"x\":[0.0,0.43033038858809636,0.43033038858809636,0.0],\"xaxis\":\"x\",\"y\":[-705.0,-705.0,-715.0,-715.0],\"yaxis\":\"y\",\"type\":\"scatter\"},{\"hoverinfo\":\"text\",\"marker\":{\"color\":\"rgb(61,153,112)\"},\"mode\":\"lines\",\"text\":[\"public cloud_personally identifiable information_personally identifiable_identifiable information_identifiable\",\"\",\"\",\"personally identifiable information_personally identifiable_identifiable information_cloud personally identifiable_public cloud\"],\"x\":[0.0,0.5932192272166905,0.5932192272166905,0.0],\"xaxis\":\"x\",\"y\":[-725.0,-725.0,-735.0,-735.0],\"yaxis\":\"y\",\"type\":\"scatter\"},{\"hoverinfo\":\"text\",\"marker\":{\"color\":\"rgb(61,153,112)\"},\"mode\":\"lines\",\"text\":[\"personally identifiable information_personally identifiable_identifiable information_cloud personally identifiable_public cloud\",\"\",\"\",\"personally identifiable information_personally identifiable_identifiable information_identifiable_public cloud\"],\"x\":[0.43033038858809636,0.6381958887502839,0.6381958887502839,0.5932192272166905],\"xaxis\":\"x\",\"y\":[-710.0,-710.0,-730.0,-730.0],\"yaxis\":\"y\",\"type\":\"scatter\"},{\"hoverinfo\":\"text\",\"marker\":{\"color\":\"rgb(61,153,112)\"},\"mode\":\"lines\",\"text\":[\"pii_public cloud_personally identifiable_personally identifiable information_identifiable information\",\"\",\"\",\"personally identifiable_personally identifiable information_identifiable information_cloud personally identifiable_public cloud\"],\"x\":[0.0,0.7633783058176377,0.7633783058176377,0.6381958887502839],\"xaxis\":\"x\",\"y\":[-695.0,-695.0,-720.0,-720.0],\"yaxis\":\"y\",\"type\":\"scatter\"},{\"hoverinfo\":\"text\",\"marker\":{\"color\":\"rgb(61,153,112)\"},\"mode\":\"lines\",\"text\":[\"personally identifiable_personally identifiable information_identifiable information_public cloud_cloud personally identifiable\",\"\",\"\",\"id management_user id management_the information system_authorized access to_of user\"],\"x\":[0.7633783058176377,0.9221385741828791,0.9221385741828791,0.0],\"xaxis\":\"x\",\"y\":[-707.5,-707.5,-745.0,-745.0],\"yaxis\":\"y\",\"type\":\"scatter\"},{\"hoverinfo\":\"text\",\"marker\":{\"color\":\"rgb(0,116,217)\"},\"mode\":\"lines\",\"text\":[\"personally identifiable information_personally identifiable_identifiable information_identifiable_implementation guidance\",\"\",\"\",\"public cloud_personally identifiable_personally identifiable information_identifiable information_cloud personally identifiable\"],\"x\":[0.97789095879959,1.0417615361762218,1.0417615361762218,0.9221385741828791],\"xaxis\":\"x\",\"y\":[-663.75,-663.75,-726.25,-726.25],\"yaxis\":\"y\",\"type\":\"scatter\"},{\"hoverinfo\":\"text\",\"marker\":{\"color\":\"rgb(0,116,217)\"},\"mode\":\"lines\",\"text\":[\"temporary files_temporary files are_erased or_erased or destroyed_hardcopy material\",\"\",\"\",\"personally identifiable information_personally identifiable_identifiable information_public cloud_cloud personally identifiable\"],\"x\":[0.8136805809192379,1.1517831819937943,1.1517831819937943,1.0417615361762218],\"xaxis\":\"x\",\"y\":[-640.0,-640.0,-695.0,-695.0],\"yaxis\":\"y\",\"type\":\"scatter\"},{\"hoverinfo\":\"text\",\"marker\":{\"color\":\"rgb(255,65,54)\"},\"mode\":\"lines\",\"text\":[\"personally identifiable_personally identifiable information_identifiable information_identifiable_iec 27002 2013\",\"\",\"\",\"iec 27002 2013_iec 27002_iso iec 27002_of iso iec_27002 2013 is\"],\"x\":[0.0,0.4488238650910722,0.4488238650910722,0.0],\"xaxis\":\"x\",\"y\":[-755.0,-755.0,-765.0,-765.0],\"yaxis\":\"y\",\"type\":\"scatter\"},{\"hoverinfo\":\"text\",\"marker\":{\"color\":\"rgb(255,65,54)\"},\"mode\":\"lines\",\"text\":[\"iec 27002 2013_iec 27002_iso iec 27002_personally identifiable_personally identifiable information\",\"\",\"\",\"technical compliance review_27002 2013 18_27002 2013_iec 27002 2013_in iso iec\"],\"x\":[0.4488238650910722,0.6667559211796307,0.6667559211796307,0.0],\"xaxis\":\"x\",\"y\":[-760.0,-760.0,-775.0,-775.0],\"yaxis\":\"y\",\"type\":\"scatter\"},{\"hoverinfo\":\"text\",\"marker\":{\"color\":\"rgb(0,116,217)\"},\"mode\":\"lines\",\"text\":[\"personally identifiable_personally identifiable information_identifiable information_public cloud_cloud personally identifiable\",\"\",\"\",\"iec 27002 2013_iec 27002_iso iec 27002_personally identifiable information_personally identifiable\"],\"x\":[1.1517831819937943,1.2387938796009998,1.2387938796009998,0.6667559211796307],\"xaxis\":\"x\",\"y\":[-667.5,-667.5,-767.5,-767.5],\"yaxis\":\"y\",\"type\":\"scatter\"},{\"hoverinfo\":\"text\",\"marker\":{\"color\":\"rgb(35,205,205)\"},\"mode\":\"lines\",\"text\":[\"personally identifiable_personally identifiable information_identifiable information_identifiable_the personally identifiable\",\"\",\"\",\"personally identifiable_personally identifiable information_identifiable information_identifiable_the organization should\"],\"x\":[0.0,0.4380528375008552,0.4380528375008552,0.0],\"xaxis\":\"x\",\"y\":[-805.0,-805.0,-815.0,-815.0],\"yaxis\":\"y\",\"type\":\"scatter\"},{\"hoverinfo\":\"text\",\"marker\":{\"color\":\"rgb(35,205,205)\"},\"mode\":\"lines\",\"text\":[\"personally identifiable_personally identifiable information_identifiable information_identifiable_the organization shall\",\"\",\"\",\"personally identifiable information_personally identifiable_identifiable information_identifiable_the organization should\"],\"x\":[0.0,0.48993469661342975,0.48993469661342975,0.4380528375008552],\"xaxis\":\"x\",\"y\":[-795.0,-795.0,-810.0,-810.0],\"yaxis\":\"y\",\"type\":\"scatter\"},{\"hoverinfo\":\"text\",\"marker\":{\"color\":\"rgb(35,205,205)\"},\"mode\":\"lines\",\"text\":[\"personally identifiable_personally identifiable information_identifiable information_identifiable_of personally identifiable\",\"\",\"\",\"personally identifiable information_personally identifiable_identifiable information_identifiable_of personally identifiable\"],\"x\":[0.0,0.6033780404381127,0.6033780404381127,0.48993469661342975],\"xaxis\":\"x\",\"y\":[-785.0,-785.0,-802.5,-802.5],\"yaxis\":\"y\",\"type\":\"scatter\"},{\"hoverinfo\":\"text\",\"marker\":{\"color\":\"rgb(35,205,205)\"},\"mode\":\"lines\",\"text\":[\"personally identifiable information_personally identifiable_identifiable information_identifiable_of personally identifiable\",\"\",\"\",\"to third parties_personally identifiable information_personally identifiable_identifiable information_identifiable\"],\"x\":[0.6033780404381127,0.9167084687640112,0.9167084687640112,0.0],\"xaxis\":\"x\",\"y\":[-793.75,-793.75,-825.0,-825.0],\"yaxis\":\"y\",\"type\":\"scatter\"},{\"hoverinfo\":\"text\",\"marker\":{\"color\":\"rgb(0,116,217)\"},\"mode\":\"lines\",\"text\":[\"personally identifiable_personally identifiable information_identifiable information_identifiable_public cloud\",\"\",\"\",\"personally identifiable information_personally identifiable_identifiable information_identifiable_of personally identifiable\"],\"x\":[1.2387938796009998,1.279528416103515,1.279528416103515,0.9167084687640112],\"xaxis\":\"x\",\"y\":[-717.5,-717.5,-809.375,-809.375],\"yaxis\":\"y\",\"type\":\"scatter\"},{\"hoverinfo\":\"text\",\"marker\":{\"color\":\"rgb(0,116,217)\"},\"mode\":\"lines\",\"text\":[\"cloud service_the cloud_the cloud service_service provider_provider\",\"\",\"\",\"personally identifiable_personally identifiable information_identifiable information_identifiable_public cloud\"],\"x\":[1.0056510771496294,1.7441553679800224,1.7441553679800224,1.279528416103515],\"xaxis\":\"x\",\"y\":[-600.625,-600.625,-763.4375,-763.4375],\"yaxis\":\"y\",\"type\":\"scatter\"},{\"hoverinfo\":\"text\",\"marker\":{\"color\":\"rgb(0,116,217)\"},\"mode\":\"lines\",\"text\":[\"organization_organization defined_systems_organizations_assignment organization\",\"\",\"\",\"cloud service_the cloud_the cloud service_customer_service provider\"],\"x\":[1.4856270707777683,2.2654278292756156,2.2654278292756156,1.7441553679800224],\"xaxis\":\"x\",\"y\":[-188.3349609375,-188.3349609375,-682.03125,-682.03125],\"yaxis\":\"y\",\"type\":\"scatter\"},{\"hoverinfo\":\"text\",\"hovertext\":[\"data subjects_criteria for privacy_of personal information_the entity objectives_objectives related to\",\"of focus_points of focus_points of_board of_the board of\",\"data subjects_criteria for privacy_entity objectives_the entity objectives_of personal information\",\"authentication_identification and authentication_and authentication_identification and_authenticators\",\"shared system resources_shared system_system resources_least privilege_users or roles\",\"assignment organization_assignment organization defined_organization defined_organizational_of behavior\",\"organization defined_assignment organization defined_assignment organization_organization_audit records\",\"system clocks_shared system resources_shared system_least privilege_synchronization\",\"wireless access_access control_wireless networking_physical access to_intrusion\",\"and environmental protection_environmental protection_physical and environmental_power supply_data centers\",\"audit_organization defined_assignment organization defined_assignment organization_organization\",\"network_boundary protection_interfaces_host based_split\",\"cryptographic_cryptography_cryptography encryption_encryption key management_cryptography encryption key\",\"software programs_firmware and information_software firmware and_information integrity_assignment organization defined\",\"cryptographic_media_key management_of_system\",\"organization defined_audit_organization_assignment organization_assignment organization defined\",\"incident response_incident response incident_response training_incident response plans_incident response testing\",\"contingency_incident response_alternate processing_contingency planning_alternate processing site\",\"of_organization defined_organization_assignment organization defined_assignment organization\",\"authentication_authenticators_identification and authentication_and authentication_identification and\",\"development_and privacy_security and privacy_security and_supply chain\",\"development_and privacy_security and privacy_security and_chain\",\"should be_and procedures_security_risk_policies and procedures\",\"malware_reconfiguration_remediation_integrated tvm system_threat vulnerability\",\"should be_and procedures_risk_security_all\",\"security and privacy_and privacy_security and_organization_and procedures\",\"of_organization defined_organization_assignment organization defined_assignment organization\",\"of focus_points of focus_points of_criteria for_communicates\",\"cloud service provider_service provider_cloud service_the customer_the cloud service\",\"cloud service_the cloud service_service customer_cloud service customer_cloud service provider\",\"the cloud_cloud service_the cloud service_provider_service provider\",\"personally identifiable information_personally identifiable_identifiable information_cloud personally identifiable_public cloud\",\"personally identifiable_personally identifiable information_identifiable information_public cloud_cloud personally identifiable\",\"personally identifiable information_personally identifiable_identifiable information_identifiable_implementation guidance\",\"temporary files_temporary files are_erased or_erased or destroyed_hardcopy material\",\"iec 27002 2013_iec 27002_iso iec 27002_personally identifiable_personally identifiable information\",\"personally identifiable_personally identifiable information_identifiable information_public cloud_cloud personally identifiable\",\"personally identifiable information_personally identifiable_identifiable information_identifiable_of personally identifiable\",\"personally identifiable_personally identifiable information_identifiable information_identifiable_public cloud\",\"cloud service_the cloud_the cloud service_service provider_provider\",\"organization_organization defined_systems_organizations_assignment organization\"],\"marker\":{\"color\":\"black\"},\"mode\":\"markers\",\"showlegend\":false,\"x\":[0.7443822152717212,0.6354464811081453,0.834394514986856,0.8353350115822169,0.9345969224419417,0.8733673160345992,0.9006398125080769,0.972015041277988,0.9017399607335006,0.8182916784929948,0.9923671210311831,0.913541361387689,0.8121788744812308,0.8585576834800952,0.9582686076146235,1.098498802341027,0.8252949324293013,0.9134737216133749,1.1089369176909551,0.9115915890747156,0.798185301211069,0.9111407765878076,0.7635609320251854,0.8872924904328693,0.9672907923980055,1.1020814479354055,1.1859150048238278,0.9002063886344135,0.699175135267362,0.2580932652446143,0.7214666336977563,0.43033038858809636,0.7633783058176377,0.97789095879959,0.8136805809192379,0.4488238650910722,1.1517831819937943,0.6033780404381127,1.2387938796009998,1.0056510771496294,1.4856270707777683],\"y\":[-10.0,-40.0,-17.5,-72.5,-120.0,-152.5,-166.25,-116.25,-232.5,-210.0,-148.4375,-292.5,-270.0,-330.0,-286.875,-187.65625,-370.0,-377.5,-250.546875,-83.75,-423.75,-422.1875,-512.5,-490.0,-506.875,-446.09375,-201.07421875,-32.5,-572.5,-610.0,-583.75,-710.0,-707.5,-663.75,-640.0,-760.0,-667.5,-793.75,-717.5,-600.625,-188.3349609375],\"type\":\"scatter\"},{\"hoverinfo\":\"text\",\"hovertext\":[\"of focus_points of focus_points of_of directors_the board of\",\"authentication_identification and authentication_and authentication_authenticators_multi factor authentication\",\"shared system resources_shared system_least privilege_system resources_unauthorized\",\"rules of behavior_of behavior_rules of_assignment organization defined_assignment organization\",\"audit records_audit log_assignment organization defined_audit log storage_log storage\",\"audit_organization defined_assignment organization_assignment organization defined_organization\",\"access control_wireless networking_wireless networking capabilities_networking capabilities_intrusion alarms\",\"access control_wireless access_remote access_wireless networking_physical access to\",\"environmental_physical access_physical and environmental_physical and_and environmental\",\"boundary protection_split tunneling_managed interfaces_tunneling_networks\",\"media_boundary_network_digital media_transport\",\"mobile code_maintenance tools_automated tools_tools and_tools can\",\"firmware_maintenance tools_and information_authorized software_organization defined\",\"media_cryptographic_system_of_software\",\"contingency_incident response_alternate processing_contingency planning_alternate processing site\",\"organization defined_organization_assignment organization_assignment organization defined_organizations\",\"security and privacy_and privacy_security and_development_systems\",\"and privacy_security and privacy_security and_development_life cycle\",\"development_and privacy_security and privacy_security and_chain\",\"security and privacy_and privacy_security and_policy and procedures_organization defined\",\"and procedures_policies and procedures_policies and_should be_business continuity\",\"should be_and procedures_security_policies and procedures_policies and\",\"management data_include but is_is not limited_should include but_in employment\",\"should be_and procedures_risk_all_security\",\"security_and procedures_security and_security and privacy_and privacy\",\"organization_organization defined_systems_assignment organization defined_assignment organization\",\"cloud service provider_service provider_cloud service_the customer_the cloud service\",\"cloud service_the cloud service_cloud service customer_cloud service provider_service provider\",\"implementation guidance_and de registration_registration and de_iec 27002_iso iec 27002\",\"implementation guidance_personally identifiable_personally identifiable information_identifiable information_identifiable\",\"personally identifiable information_personally identifiable_identifiable information_identifiable_public cloud\",\"personally identifiable_personally identifiable information_identifiable information_cloud personally identifiable_public cloud\",\"public cloud_personally identifiable_personally identifiable information_identifiable information_cloud personally identifiable\",\"personally identifiable information_personally identifiable_identifiable information_public cloud_cloud personally identifiable\",\"iec 27002 2013_iec 27002_iso iec 27002_personally identifiable information_personally identifiable\",\"personally identifiable information_personally identifiable_identifiable information_identifiable_the organization should\",\"personally identifiable information_personally identifiable_identifiable information_identifiable_of personally identifiable\",\"personally identifiable information_personally identifiable_identifiable information_identifiable_of personally identifiable\",\"personally identifiable_personally identifiable information_identifiable information_identifiable_public cloud\",\"cloud service_the cloud_the cloud service_customer_service provider\"],\"marker\":{\"color\":\"black\"},\"mode\":\"markers\",\"showlegend\":false,\"x\":[0.8858490004016465,0.74619344791153,0.9646164456407671,0.803719379100407,0.8317247204088745,0.9193719398349846,0.8215045047660376,0.964835194473625,1.0221953995012403,0.8308169067356507,0.9262769534156065,0.8876968132696893,0.9538363477161362,1.0322177918672497,1.0363675252781614,1.1214184039523123,0.6082960390366231,0.7004029144408658,0.8885835994700414,0.22414082415299952,0.5814420473152127,0.8707024608529043,0.926454951810757,0.9861309118201458,1.2420546748900425,1.3414084125362353,0.40080236265888314,0.4255522150851606,0.7641954786118441,0.8250483407138104,0.5932192272166905,0.6381958887502839,0.9221385741828791,1.0417615361762218,0.6667559211796307,0.4380528375008552,0.48993469661342975,0.9167084687640112,1.279528416103515,1.7441553679800224],\"y\":[-47.5,-80.0,-127.5,-160.0,-180.0,-180.625,-240.0,-243.75,-226.875,-300.0,-303.75,-350.0,-340.0,-313.4375,-386.25,-318.3984375,-440.0,-432.5,-439.375,-470.0,-520.0,-523.75,-550.0,-528.4375,-487.265625,-344.169921875,-580.0,-617.5,-680.0,-672.5,-730.0,-720.0,-726.25,-695.0,-767.5,-810.0,-802.5,-809.375,-763.4375,-682.03125],\"type\":\"scatter\"}],                        {\"autosize\":false,\"height\":1445,\"hovermode\":\"closest\",\"showlegend\":false,\"width\":1000,\"xaxis\":{\"mirror\":\"allticks\",\"rangemode\":\"tozero\",\"showgrid\":false,\"showline\":true,\"showticklabels\":true,\"ticks\":\"outside\",\"type\":\"linear\",\"zeroline\":false},\"yaxis\":{\"mirror\":\"allticks\",\"rangemode\":\"tozero\",\"showgrid\":false,\"showline\":true,\"showticklabels\":true,\"tickmode\":\"array\",\"ticks\":\"outside\",\"ticktext\":[\"76_criteria for processing_...\",\"7_data subjects_criteria fo...\",\"60_criteria for availabilit...\",\"19_the board of_of director...\",\"48_communicates_business pa...\",\"59_protected information as...\",\"27_identification and authe...\",\"21_authentication_identific...\",\"40_authentication_identific...\",\"65_malicious code_authentic...\",\"73_synchronization_of milli...\",\"64_shared system resources_...\",\"69_least privilege_based ac...\",\"53_unauthorized_audit logs_...\",\"42_account monitoring_syste...\",\"39_assignment organization ...\",\"38_of behavior_rules of beh...\",\"32_assignment organization ...\",\"18_audit records_audit log_...\",\"81_and privacy representati...\",\"35_power supply_data center...\",\"47_personnel or roles_emerg...\",\"80_onsite personnel_the org...\",\"28_wireless networking_wire...\",\"67_network access_access co...\",\"77_account management_autom...\",\"9_key management_cryptograp...\",\"14_cryptographic_cryptograp...\",\"45_host based_security func...\",\"30_at rest_exfiltration_inf...\",\"46_split tunneling_remote a...\",\"24_digital media_non digita...\",\"33_firmware_software progra...\",\"55_system components_securi...\",\"37_automated tools_tools an...\",\"70_maintenance tools_mobile...\",\"10_incident response_incide...\",\"71_contingency plan_organiz...\",\"6_contingency_alternate pro...\",\"54_controls are relevant_th...\",\"68_functions ports protocol...\",\"25_supply chain_chain_the s...\",\"36_system component or_syst...\",\"8_monitoring_security and p...\",\"57_and privacy_security and...\",\"49_penetration testing_asse...\",\"12_security and privacy_sec...\",\"20_and privacy_security and...\",\"50_remediation_action and m...\",\"29_malware_reconfiguration_...\",\"2_privileged access_access ...\",\"5_business continuity_resil...\",\"1_supply chain_and procedur...\",\"58_datacenter_datacenter se...\",\"62_data protection impact_c...\",\"52_agreement terms_of emplo...\",\"61_the cloud service_cloud ...\",\"4_cloud service provider_se...\",\"13_cloud service_cloud serv...\",\"0_the cloud service_continu...\",\"15_cloud service_the cloud ...\",\"11_cloud service_the cloud ...\",\"79_cloud service_cloud serv...\",\"56_temporary files are_dete...\",\"41_hardcopy material_of har...\",\"75_controls designed to_dat...\",\"34_public data transmission...\",\"44_and de registration_regi...\",\"82_or re use_secure disposa...\",\"51_pii_public cloud_persona...\",\"26_personally identifiable ...\",\"72_cloud personally identif...\",\"23_public cloud_personally ...\",\"63_personally identifiable ...\",\"74_id management_user id ma...\",\"16_personally identifiable_...\",\"31_iec 27002 2013_iec 27002...\",\"78_technical compliance rev...\",\"43_personally identifiable_...\",\"3_personally identifiable_p...\",\"22_personally identifiable_...\",\"17_personally identifiable_...\",\"66_to third parties_persona...\"],\"tickvals\":[-5.0,-15.0,-25.0,-35.0,-45.0,-55.0,-65.0,-75.0,-85.0,-95.0,-105.0,-115.0,-125.0,-135.0,-145.0,-155.0,-165.0,-175.0,-185.0,-195.0,-205.0,-215.0,-225.0,-235.0,-245.0,-255.0,-265.0,-275.0,-285.0,-295.0,-305.0,-315.0,-325.0,-335.0,-345.0,-355.0,-365.0,-375.0,-385.0,-395.0,-405.0,-415.0,-425.0,-435.0,-445.0,-455.0,-465.0,-475.0,-485.0,-495.0,-505.0,-515.0,-525.0,-535.0,-545.0,-555.0,-565.0,-575.0,-585.0,-595.0,-605.0,-615.0,-625.0,-635.0,-645.0,-655.0,-665.0,-675.0,-685.0,-695.0,-705.0,-715.0,-725.0,-735.0,-745.0,-755.0,-765.0,-775.0,-785.0,-795.0,-805.0,-815.0,-825.0],\"type\":\"linear\",\"zeroline\":false,\"range\":[-830.0,0.0]},\"template\":{\"data\":{\"barpolar\":[{\"marker\":{\"line\":{\"color\":\"white\",\"width\":0.5},\"pattern\":{\"fillmode\":\"overlay\",\"size\":10,\"solidity\":0.2}},\"type\":\"barpolar\"}],\"bar\":[{\"error_x\":{\"color\":\"#2a3f5f\"},\"error_y\":{\"color\":\"#2a3f5f\"},\"marker\":{\"line\":{\"color\":\"white\",\"width\":0.5},\"pattern\":{\"fillmode\":\"overlay\",\"size\":10,\"solidity\":0.2}},\"type\":\"bar\"}],\"carpet\":[{\"aaxis\":{\"endlinecolor\":\"#2a3f5f\",\"gridcolor\":\"#C8D4E3\",\"linecolor\":\"#C8D4E3\",\"minorgridcolor\":\"#C8D4E3\",\"startlinecolor\":\"#2a3f5f\"},\"baxis\":{\"endlinecolor\":\"#2a3f5f\",\"gridcolor\":\"#C8D4E3\",\"linecolor\":\"#C8D4E3\",\"minorgridcolor\":\"#C8D4E3\",\"startlinecolor\":\"#2a3f5f\"},\"type\":\"carpet\"}],\"choropleth\":[{\"colorbar\":{\"outlinewidth\":0,\"ticks\":\"\"},\"type\":\"choropleth\"}],\"contourcarpet\":[{\"colorbar\":{\"outlinewidth\":0,\"ticks\":\"\"},\"type\":\"contourcarpet\"}],\"contour\":[{\"colorbar\":{\"outlinewidth\":0,\"ticks\":\"\"},\"colorscale\":[[0.0,\"#0d0887\"],[0.1111111111111111,\"#46039f\"],[0.2222222222222222,\"#7201a8\"],[0.3333333333333333,\"#9c179e\"],[0.4444444444444444,\"#bd3786\"],[0.5555555555555556,\"#d8576b\"],[0.6666666666666666,\"#ed7953\"],[0.7777777777777778,\"#fb9f3a\"],[0.8888888888888888,\"#fdca26\"],[1.0,\"#f0f921\"]],\"type\":\"contour\"}],\"heatmapgl\":[{\"colorbar\":{\"outlinewidth\":0,\"ticks\":\"\"},\"colorscale\":[[0.0,\"#0d0887\"],[0.1111111111111111,\"#46039f\"],[0.2222222222222222,\"#7201a8\"],[0.3333333333333333,\"#9c179e\"],[0.4444444444444444,\"#bd3786\"],[0.5555555555555556,\"#d8576b\"],[0.6666666666666666,\"#ed7953\"],[0.7777777777777778,\"#fb9f3a\"],[0.8888888888888888,\"#fdca26\"],[1.0,\"#f0f921\"]],\"type\":\"heatmapgl\"}],\"heatmap\":[{\"colorbar\":{\"outlinewidth\":0,\"ticks\":\"\"},\"colorscale\":[[0.0,\"#0d0887\"],[0.1111111111111111,\"#46039f\"],[0.2222222222222222,\"#7201a8\"],[0.3333333333333333,\"#9c179e\"],[0.4444444444444444,\"#bd3786\"],[0.5555555555555556,\"#d8576b\"],[0.6666666666666666,\"#ed7953\"],[0.7777777777777778,\"#fb9f3a\"],[0.8888888888888888,\"#fdca26\"],[1.0,\"#f0f921\"]],\"type\":\"heatmap\"}],\"histogram2dcontour\":[{\"colorbar\":{\"outlinewidth\":0,\"ticks\":\"\"},\"colorscale\":[[0.0,\"#0d0887\"],[0.1111111111111111,\"#46039f\"],[0.2222222222222222,\"#7201a8\"],[0.3333333333333333,\"#9c179e\"],[0.4444444444444444,\"#bd3786\"],[0.5555555555555556,\"#d8576b\"],[0.6666666666666666,\"#ed7953\"],[0.7777777777777778,\"#fb9f3a\"],[0.8888888888888888,\"#fdca26\"],[1.0,\"#f0f921\"]],\"type\":\"histogram2dcontour\"}],\"histogram2d\":[{\"colorbar\":{\"outlinewidth\":0,\"ticks\":\"\"},\"colorscale\":[[0.0,\"#0d0887\"],[0.1111111111111111,\"#46039f\"],[0.2222222222222222,\"#7201a8\"],[0.3333333333333333,\"#9c179e\"],[0.4444444444444444,\"#bd3786\"],[0.5555555555555556,\"#d8576b\"],[0.6666666666666666,\"#ed7953\"],[0.7777777777777778,\"#fb9f3a\"],[0.8888888888888888,\"#fdca26\"],[1.0,\"#f0f921\"]],\"type\":\"histogram2d\"}],\"histogram\":[{\"marker\":{\"pattern\":{\"fillmode\":\"overlay\",\"size\":10,\"solidity\":0.2}},\"type\":\"histogram\"}],\"mesh3d\":[{\"colorbar\":{\"outlinewidth\":0,\"ticks\":\"\"},\"type\":\"mesh3d\"}],\"parcoords\":[{\"line\":{\"colorbar\":{\"outlinewidth\":0,\"ticks\":\"\"}},\"type\":\"parcoords\"}],\"pie\":[{\"automargin\":true,\"type\":\"pie\"}],\"scatter3d\":[{\"line\":{\"colorbar\":{\"outlinewidth\":0,\"ticks\":\"\"}},\"marker\":{\"colorbar\":{\"outlinewidth\":0,\"ticks\":\"\"}},\"type\":\"scatter3d\"}],\"scattercarpet\":[{\"marker\":{\"colorbar\":{\"outlinewidth\":0,\"ticks\":\"\"}},\"type\":\"scattercarpet\"}],\"scattergeo\":[{\"marker\":{\"colorbar\":{\"outlinewidth\":0,\"ticks\":\"\"}},\"type\":\"scattergeo\"}],\"scattergl\":[{\"marker\":{\"colorbar\":{\"outlinewidth\":0,\"ticks\":\"\"}},\"type\":\"scattergl\"}],\"scattermapbox\":[{\"marker\":{\"colorbar\":{\"outlinewidth\":0,\"ticks\":\"\"}},\"type\":\"scattermapbox\"}],\"scatterpolargl\":[{\"marker\":{\"colorbar\":{\"outlinewidth\":0,\"ticks\":\"\"}},\"type\":\"scatterpolargl\"}],\"scatterpolar\":[{\"marker\":{\"colorbar\":{\"outlinewidth\":0,\"ticks\":\"\"}},\"type\":\"scatterpolar\"}],\"scatter\":[{\"fillpattern\":{\"fillmode\":\"overlay\",\"size\":10,\"solidity\":0.2},\"type\":\"scatter\"}],\"scatterternary\":[{\"marker\":{\"colorbar\":{\"outlinewidth\":0,\"ticks\":\"\"}},\"type\":\"scatterternary\"}],\"surface\":[{\"colorbar\":{\"outlinewidth\":0,\"ticks\":\"\"},\"colorscale\":[[0.0,\"#0d0887\"],[0.1111111111111111,\"#46039f\"],[0.2222222222222222,\"#7201a8\"],[0.3333333333333333,\"#9c179e\"],[0.4444444444444444,\"#bd3786\"],[0.5555555555555556,\"#d8576b\"],[0.6666666666666666,\"#ed7953\"],[0.7777777777777778,\"#fb9f3a\"],[0.8888888888888888,\"#fdca26\"],[1.0,\"#f0f921\"]],\"type\":\"surface\"}],\"table\":[{\"cells\":{\"fill\":{\"color\":\"#EBF0F8\"},\"line\":{\"color\":\"white\"}},\"header\":{\"fill\":{\"color\":\"#C8D4E3\"},\"line\":{\"color\":\"white\"}},\"type\":\"table\"}]},\"layout\":{\"annotationdefaults\":{\"arrowcolor\":\"#2a3f5f\",\"arrowhead\":0,\"arrowwidth\":1},\"autotypenumbers\":\"strict\",\"coloraxis\":{\"colorbar\":{\"outlinewidth\":0,\"ticks\":\"\"}},\"colorscale\":{\"diverging\":[[0,\"#8e0152\"],[0.1,\"#c51b7d\"],[0.2,\"#de77ae\"],[0.3,\"#f1b6da\"],[0.4,\"#fde0ef\"],[0.5,\"#f7f7f7\"],[0.6,\"#e6f5d0\"],[0.7,\"#b8e186\"],[0.8,\"#7fbc41\"],[0.9,\"#4d9221\"],[1,\"#276419\"]],\"sequential\":[[0.0,\"#0d0887\"],[0.1111111111111111,\"#46039f\"],[0.2222222222222222,\"#7201a8\"],[0.3333333333333333,\"#9c179e\"],[0.4444444444444444,\"#bd3786\"],[0.5555555555555556,\"#d8576b\"],[0.6666666666666666,\"#ed7953\"],[0.7777777777777778,\"#fb9f3a\"],[0.8888888888888888,\"#fdca26\"],[1.0,\"#f0f921\"]],\"sequentialminus\":[[0.0,\"#0d0887\"],[0.1111111111111111,\"#46039f\"],[0.2222222222222222,\"#7201a8\"],[0.3333333333333333,\"#9c179e\"],[0.4444444444444444,\"#bd3786\"],[0.5555555555555556,\"#d8576b\"],[0.6666666666666666,\"#ed7953\"],[0.7777777777777778,\"#fb9f3a\"],[0.8888888888888888,\"#fdca26\"],[1.0,\"#f0f921\"]]},\"colorway\":[\"#636efa\",\"#EF553B\",\"#00cc96\",\"#ab63fa\",\"#FFA15A\",\"#19d3f3\",\"#FF6692\",\"#B6E880\",\"#FF97FF\",\"#FECB52\"],\"font\":{\"color\":\"#2a3f5f\"},\"geo\":{\"bgcolor\":\"white\",\"lakecolor\":\"white\",\"landcolor\":\"white\",\"showlakes\":true,\"showland\":true,\"subunitcolor\":\"#C8D4E3\"},\"hoverlabel\":{\"align\":\"left\"},\"hovermode\":\"closest\",\"mapbox\":{\"style\":\"light\"},\"paper_bgcolor\":\"white\",\"plot_bgcolor\":\"white\",\"polar\":{\"angularaxis\":{\"gridcolor\":\"#EBF0F8\",\"linecolor\":\"#EBF0F8\",\"ticks\":\"\"},\"bgcolor\":\"white\",\"radialaxis\":{\"gridcolor\":\"#EBF0F8\",\"linecolor\":\"#EBF0F8\",\"ticks\":\"\"}},\"scene\":{\"xaxis\":{\"backgroundcolor\":\"white\",\"gridcolor\":\"#DFE8F3\",\"gridwidth\":2,\"linecolor\":\"#EBF0F8\",\"showbackground\":true,\"ticks\":\"\",\"zerolinecolor\":\"#EBF0F8\"},\"yaxis\":{\"backgroundcolor\":\"white\",\"gridcolor\":\"#DFE8F3\",\"gridwidth\":2,\"linecolor\":\"#EBF0F8\",\"showbackground\":true,\"ticks\":\"\",\"zerolinecolor\":\"#EBF0F8\"},\"zaxis\":{\"backgroundcolor\":\"white\",\"gridcolor\":\"#DFE8F3\",\"gridwidth\":2,\"linecolor\":\"#EBF0F8\",\"showbackground\":true,\"ticks\":\"\",\"zerolinecolor\":\"#EBF0F8\"}},\"shapedefaults\":{\"line\":{\"color\":\"#2a3f5f\"}},\"ternary\":{\"aaxis\":{\"gridcolor\":\"#DFE8F3\",\"linecolor\":\"#A2B1C6\",\"ticks\":\"\"},\"baxis\":{\"gridcolor\":\"#DFE8F3\",\"linecolor\":\"#A2B1C6\",\"ticks\":\"\"},\"bgcolor\":\"white\",\"caxis\":{\"gridcolor\":\"#DFE8F3\",\"linecolor\":\"#A2B1C6\",\"ticks\":\"\"}},\"title\":{\"x\":0.05},\"xaxis\":{\"automargin\":true,\"gridcolor\":\"#EBF0F8\",\"linecolor\":\"#EBF0F8\",\"ticks\":\"\",\"title\":{\"standoff\":15},\"zerolinecolor\":\"#EBF0F8\",\"zerolinewidth\":2},\"yaxis\":{\"automargin\":true,\"gridcolor\":\"#EBF0F8\",\"linecolor\":\"#EBF0F8\",\"ticks\":\"\",\"title\":{\"standoff\":15},\"zerolinecolor\":\"#EBF0F8\",\"zerolinewidth\":2}}},\"title\":{\"font\":{\"size\":22,\"color\":\"Black\"},\"text\":\"\\u003cb\\u003eHierarchical Clustering\\u003c\\u002fb\\u003e\",\"x\":0.5,\"xanchor\":\"center\",\"yanchor\":\"top\"},\"hoverlabel\":{\"font\":{\"size\":16,\"family\":\"Rockwell\"},\"bgcolor\":\"white\"},\"plot_bgcolor\":\"#ECEFF1\"},                        {\"responsive\": true}                    )                };                            </script>        </div>"
      ],
      "text/plain": [
       "Figure({\n",
       "    'data': [{'hoverinfo': 'text',\n",
       "              'marker': {'color': 'rgb(61,153,112)'},\n",
       "              'mode': 'lines',\n",
       "              'text': [criteria for processing_for processing integrity_processing\n",
       "                       integrity_for processing_completely and accurately, , , data\n",
       "                       subjects_criteria for privacy_of personal\n",
       "                       information_objectives related to_to privacy],\n",
       "              'type': 'scatter',\n",
       "              'x': array([0.        , 0.74438222, 0.74438222, 0.        ]),\n",
       "              'xaxis': 'x',\n",
       "              'y': array([ -5.,  -5., -15., -15.]),\n",
       "              'yaxis': 'y'},\n",
       "             {'hoverinfo': 'text',\n",
       "              'marker': {'color': 'rgb(61,153,112)'},\n",
       "              'mode': 'lines',\n",
       "              'text': [data subjects_criteria for privacy_of personal\n",
       "                       information_the entity objectives_objectives related to, , ,\n",
       "                       criteria for availability_mitigation_plan testing_recovery\n",
       "                       plan_incident recovery],\n",
       "              'type': 'scatter',\n",
       "              'x': array([0.74438222, 0.83439451, 0.83439451, 0.        ]),\n",
       "              'xaxis': 'x',\n",
       "              'y': array([-10., -10., -25., -25.]),\n",
       "              'yaxis': 'y'},\n",
       "             {'hoverinfo': 'text',\n",
       "              'marker': {'color': 'rgb(61,153,112)'},\n",
       "              'mode': 'lines',\n",
       "              'text': [the board of_of directors_board of directors_board of_of\n",
       "                       focus, , , communicates_business partners_and business_and\n",
       "                       business partners_vendors and business],\n",
       "              'type': 'scatter',\n",
       "              'x': array([0.        , 0.63544648, 0.63544648, 0.        ]),\n",
       "              'xaxis': 'x',\n",
       "              'y': array([-35., -35., -45., -45.]),\n",
       "              'yaxis': 'y'},\n",
       "             {'hoverinfo': 'text',\n",
       "              'marker': {'color': 'rgb(61,153,112)'},\n",
       "              'mode': 'lines',\n",
       "              'text': [of focus_points of focus_points of_board of_the board of, ,\n",
       "                       , protected information assets_protected\n",
       "                       information_information assets_processes are in_to protected\n",
       "                       information],\n",
       "              'type': 'scatter',\n",
       "              'x': array([0.63544648, 0.885849  , 0.885849  , 0.        ]),\n",
       "              'xaxis': 'x',\n",
       "              'y': array([-40., -40., -55., -55.]),\n",
       "              'yaxis': 'y'},\n",
       "             {'hoverinfo': 'text',\n",
       "              'marker': {'color': 'rgb(61,153,112)'},\n",
       "              'mode': 'lines',\n",
       "              'text': [data subjects_criteria for privacy_entity objectives_the\n",
       "                       entity objectives_of personal information, , , of\n",
       "                       focus_points of focus_points of_of directors_the board of],\n",
       "              'type': 'scatter',\n",
       "              'x': array([0.83439451, 0.90020639, 0.90020639, 0.885849  ]),\n",
       "              'xaxis': 'x',\n",
       "              'y': array([-17.5, -17.5, -47.5, -47.5]),\n",
       "              'yaxis': 'y'},\n",
       "             {'hoverinfo': 'text',\n",
       "              'marker': {'color': 'rgb(255,65,54)'},\n",
       "              'mode': 'lines',\n",
       "              'text': [authentication_identification and authentication_and\n",
       "                       authentication_multi factor authentication_factor\n",
       "                       authentication, , , authentication_identification and\n",
       "                       authentication_cached authenticators_authenticators\n",
       "                       identification and_cryptographic module],\n",
       "              'type': 'scatter',\n",
       "              'x': array([0.        , 0.74619345, 0.74619345, 0.        ]),\n",
       "              'xaxis': 'x',\n",
       "              'y': array([-75., -75., -85., -85.]),\n",
       "              'yaxis': 'y'},\n",
       "             {'hoverinfo': 'text',\n",
       "              'marker': {'color': 'rgb(255,65,54)'},\n",
       "              'mode': 'lines',\n",
       "              'text': [identification and authentication_and\n",
       "                       authentication_verification_non organizational\n",
       "                       users_authentication, , , authentication_identification and\n",
       "                       authentication_and authentication_authenticators_multi\n",
       "                       factor authentication],\n",
       "              'type': 'scatter',\n",
       "              'x': array([0.        , 0.83533501, 0.83533501, 0.74619345]),\n",
       "              'xaxis': 'x',\n",
       "              'y': array([-65., -65., -80., -80.]),\n",
       "              'yaxis': 'y'},\n",
       "             {'hoverinfo': 'text',\n",
       "              'marker': {'color': 'rgb(255,65,54)'},\n",
       "              'mode': 'lines',\n",
       "              'text': [authentication_identification and authentication_and\n",
       "                       authentication_identification and_authenticators, , ,\n",
       "                       malicious code_authenticator_authentication_authentication\n",
       "                       credentials_malicious code protection],\n",
       "              'type': 'scatter',\n",
       "              'x': array([0.83533501, 0.91159159, 0.91159159, 0.        ]),\n",
       "              'xaxis': 'x',\n",
       "              'y': array([-72.5, -72.5, -95. , -95. ]),\n",
       "              'yaxis': 'y'},\n",
       "             {'hoverinfo': 'text',\n",
       "              'marker': {'color': 'rgb(35,205,205)'},\n",
       "              'mode': 'lines',\n",
       "              'text': [shared system resources_shared system_system\n",
       "                       resources_users or roles_concurrent sessions for, , , least\n",
       "                       privilege_based access scheme_access scheme_privileged\n",
       "                       accounts_privilege levels],\n",
       "              'type': 'scatter',\n",
       "              'x': array([0.        , 0.93459692, 0.93459692, 0.        ]),\n",
       "              'xaxis': 'x',\n",
       "              'y': array([-115., -115., -125., -125.]),\n",
       "              'yaxis': 'y'},\n",
       "             {'hoverinfo': 'text',\n",
       "              'marker': {'color': 'rgb(35,205,205)'},\n",
       "              'mode': 'lines',\n",
       "              'text': [shared system resources_shared system_system\n",
       "                       resources_least privilege_users or roles, , ,\n",
       "                       unauthorized_audit logs_to unauthorized_unauthorized\n",
       "                       changes_audit logs access],\n",
       "              'type': 'scatter',\n",
       "              'x': array([0.93459692, 0.96461645, 0.96461645, 0.        ]),\n",
       "              'xaxis': 'x',\n",
       "              'y': array([-120., -120., -135., -135.]),\n",
       "              'yaxis': 'y'},\n",
       "             {'hoverinfo': 'text',\n",
       "              'marker': {'color': 'rgb(35,205,205)'},\n",
       "              'mode': 'lines',\n",
       "              'text': [synchronization_of milliseconds_coordinated universal\n",
       "                       time_system components time_internal system clocks, , ,\n",
       "                       shared system resources_shared system_least privilege_system\n",
       "                       resources_unauthorized],\n",
       "              'type': 'scatter',\n",
       "              'x': array([0.        , 0.97201504, 0.97201504, 0.96461645]),\n",
       "              'xaxis': 'x',\n",
       "              'y': array([-105. , -105. , -127.5, -127.5]),\n",
       "              'yaxis': 'y'},\n",
       "             {'hoverinfo': 'text',\n",
       "              'marker': {'color': 'rgb(35,205,205)'},\n",
       "              'mode': 'lines',\n",
       "              'text': [assignment organization defined_assignment\n",
       "                       organization_access agreements_organization defined_defined\n",
       "                       time period, , , of behavior_rules of behavior_rules\n",
       "                       of_publicly accessible_organizational],\n",
       "              'type': 'scatter',\n",
       "              'x': array([0.        , 0.80371938, 0.80371938, 0.        ]),\n",
       "              'xaxis': 'x',\n",
       "              'y': array([-155., -155., -165., -165.]),\n",
       "              'yaxis': 'y'},\n",
       "             {'hoverinfo': 'text',\n",
       "              'marker': {'color': 'rgb(35,205,205)'},\n",
       "              'mode': 'lines',\n",
       "              'text': [account monitoring_system accounts_control account\n",
       "                       management_access control account_assignment organization\n",
       "                       defined, , , rules of behavior_of behavior_rules\n",
       "                       of_assignment organization defined_assignment organization],\n",
       "              'type': 'scatter',\n",
       "              'x': array([0.        , 0.87336732, 0.87336732, 0.80371938]),\n",
       "              'xaxis': 'x',\n",
       "              'y': array([-145., -145., -160., -160.]),\n",
       "              'yaxis': 'y'},\n",
       "             {'hoverinfo': 'text',\n",
       "              'marker': {'color': 'rgb(35,205,205)'},\n",
       "              'mode': 'lines',\n",
       "              'text': [assignment organization defined_regulations policies\n",
       "                       standards_directives regulations policies_regulations\n",
       "                       policies_orders directives regulations, , , audit\n",
       "                       records_audit log_audit record_log storage_audit log\n",
       "                       storage],\n",
       "              'type': 'scatter',\n",
       "              'x': array([0.        , 0.83172472, 0.83172472, 0.        ]),\n",
       "              'xaxis': 'x',\n",
       "              'y': array([-175., -175., -185., -185.]),\n",
       "              'yaxis': 'y'},\n",
       "             {'hoverinfo': 'text',\n",
       "              'marker': {'color': 'rgb(35,205,205)'},\n",
       "              'mode': 'lines',\n",
       "              'text': [assignment organization_assignment organization\n",
       "                       defined_organization defined_organizational_of behavior, , ,\n",
       "                       audit records_audit log_assignment organization\n",
       "                       defined_audit log storage_log storage],\n",
       "              'type': 'scatter',\n",
       "              'x': array([0.87336732, 0.90063981, 0.90063981, 0.83172472]),\n",
       "              'xaxis': 'x',\n",
       "              'y': array([-152.5, -152.5, -180. , -180. ]),\n",
       "              'yaxis': 'y'},\n",
       "             {'hoverinfo': 'text',\n",
       "              'marker': {'color': 'rgb(35,205,205)'},\n",
       "              'mode': 'lines',\n",
       "              'text': [organization defined_assignment organization\n",
       "                       defined_assignment organization_organization_audit records,\n",
       "                       , , and privacy representatives_organization\n",
       "                       generated_organization generated alerts_generated\n",
       "                       alerts_organization defined],\n",
       "              'type': 'scatter',\n",
       "              'x': array([0.90063981, 0.91937194, 0.91937194, 0.        ]),\n",
       "              'xaxis': 'x',\n",
       "              'y': array([-166.25, -166.25, -195.  , -195.  ]),\n",
       "              'yaxis': 'y'},\n",
       "             {'hoverinfo': 'text',\n",
       "              'marker': {'color': 'rgb(35,205,205)'},\n",
       "              'mode': 'lines',\n",
       "              'text': [system clocks_shared system resources_shared system_least\n",
       "                       privilege_synchronization, , , audit_organization\n",
       "                       defined_assignment organization_assignment organization\n",
       "                       defined_organization],\n",
       "              'type': 'scatter',\n",
       "              'x': array([0.97201504, 0.99236712, 0.99236712, 0.91937194]),\n",
       "              'xaxis': 'x',\n",
       "              'y': array([-116.25 , -116.25 , -180.625, -180.625]),\n",
       "              'yaxis': 'y'},\n",
       "             {'hoverinfo': 'text',\n",
       "              'marker': {'color': 'rgb(133,20,75)'},\n",
       "              'mode': 'lines',\n",
       "              'text': [power supply_data centers_and environmental\n",
       "                       protection_emergency lighting_physical and environmental, ,\n",
       "                       , personnel or roles_emergency responders_environmental\n",
       "                       controls_organization defined_and environmental protection],\n",
       "              'type': 'scatter',\n",
       "              'x': array([0.        , 0.81829168, 0.81829168, 0.        ]),\n",
       "              'xaxis': 'x',\n",
       "              'y': array([-205., -205., -215., -215.]),\n",
       "              'yaxis': 'y'},\n",
       "             {'hoverinfo': 'text',\n",
       "              'marker': {'color': 'rgb(255,220,0)'},\n",
       "              'mode': 'lines',\n",
       "              'text': [wireless networking_wireless networking\n",
       "                       capabilities_intrusion alarms_unauthorized_access control\n",
       "                       wireless, , , network access_access control_access control\n",
       "                       points_control points_network access to],\n",
       "              'type': 'scatter',\n",
       "              'x': array([0.       , 0.8215045, 0.8215045, 0.       ]),\n",
       "              'xaxis': 'x',\n",
       "              'y': array([-235., -235., -245., -245.]),\n",
       "              'yaxis': 'y'},\n",
       "             {'hoverinfo': 'text',\n",
       "              'marker': {'color': 'rgb(255,220,0)'},\n",
       "              'mode': 'lines',\n",
       "              'text': [onsite personnel_the organization should_onsite personnel\n",
       "                       and_remote working_the return of, , , access\n",
       "                       control_wireless networking_wireless networking\n",
       "                       capabilities_networking capabilities_intrusion alarms],\n",
       "              'type': 'scatter',\n",
       "              'x': array([0.        , 0.90173996, 0.90173996, 0.8215045 ]),\n",
       "              'xaxis': 'x',\n",
       "              'y': array([-225., -225., -240., -240.]),\n",
       "              'yaxis': 'y'},\n",
       "             {'hoverinfo': 'text',\n",
       "              'marker': {'color': 'rgb(255,220,0)'},\n",
       "              'mode': 'lines',\n",
       "              'text': [wireless access_access control_wireless networking_physical\n",
       "                       access to_intrusion, , , account management_automated system\n",
       "                       account_system account usage_remote access methods_system\n",
       "                       account management],\n",
       "              'type': 'scatter',\n",
       "              'x': array([0.90173996, 0.96483519, 0.96483519, 0.        ]),\n",
       "              'xaxis': 'x',\n",
       "              'y': array([-232.5, -232.5, -255. , -255. ]),\n",
       "              'yaxis': 'y'},\n",
       "             {'hoverinfo': 'text',\n",
       "              'marker': {'color': 'rgb(0,116,217)'},\n",
       "              'mode': 'lines',\n",
       "              'text': [and environmental protection_environmental\n",
       "                       protection_physical and environmental_power supply_data\n",
       "                       centers, , , access control_wireless access_remote\n",
       "                       access_wireless networking_physical access to],\n",
       "              'type': 'scatter',\n",
       "              'x': array([0.81829168, 1.0221954 , 1.0221954 , 0.96483519]),\n",
       "              'xaxis': 'x',\n",
       "              'y': array([-210.  , -210.  , -243.75, -243.75]),\n",
       "              'yaxis': 'y'},\n",
       "             {'hoverinfo': 'text',\n",
       "              'marker': {'color': 'rgb(0,116,217)'},\n",
       "              'mode': 'lines',\n",
       "              'text': [audit_organization defined_assignment organization\n",
       "                       defined_assignment organization_organization, , ,\n",
       "                       environmental_physical access_physical and\n",
       "                       environmental_physical and_and environmental],\n",
       "              'type': 'scatter',\n",
       "              'x': array([0.99236712, 1.0984988 , 1.0984988 , 1.0221954 ]),\n",
       "              'xaxis': 'x',\n",
       "              'y': array([-148.4375, -148.4375, -226.875 , -226.875 ]),\n",
       "              'yaxis': 'y'},\n",
       "             {'hoverinfo': 'text',\n",
       "              'marker': {'color': 'rgb(40,35,35)'},\n",
       "              'mode': 'lines',\n",
       "              'text': [key management_cryptography encryption_encryption key\n",
       "                       management_cryptography encryption key_management system, ,\n",
       "                       , cryptographic_cryptographic\n",
       "                       mechanisms_cryptography_implement cryptographic\n",
       "                       mechanisms_cryptographic mechanisms to],\n",
       "              'type': 'scatter',\n",
       "              'x': array([0.        , 0.81217887, 0.81217887, 0.        ]),\n",
       "              'xaxis': 'x',\n",
       "              'y': array([-265., -265., -275., -275.]),\n",
       "              'yaxis': 'y'},\n",
       "             {'hoverinfo': 'text',\n",
       "              'marker': {'color': 'rgb(40,35,35)'},\n",
       "              'mode': 'lines',\n",
       "              'text': [at rest_exfiltration_information at rest_of information_non\n",
       "                       privileged users, , , split tunneling_remote access_managed\n",
       "                       interfaces_proxy servers_external network],\n",
       "              'type': 'scatter',\n",
       "              'x': array([0.        , 0.83081691, 0.83081691, 0.        ]),\n",
       "              'xaxis': 'x',\n",
       "              'y': array([-295., -295., -305., -305.]),\n",
       "              'yaxis': 'y'},\n",
       "             {'hoverinfo': 'text',\n",
       "              'marker': {'color': 'rgb(40,35,35)'},\n",
       "              'mode': 'lines',\n",
       "              'text': [host based_security functions_host based monitoring_based\n",
       "                       monitoring_system management, , , boundary protection_split\n",
       "                       tunneling_managed interfaces_tunneling_networks],\n",
       "              'type': 'scatter',\n",
       "              'x': array([0.        , 0.91354136, 0.91354136, 0.83081691]),\n",
       "              'xaxis': 'x',\n",
       "              'y': array([-285., -285., -300., -300.]),\n",
       "              'yaxis': 'y'},\n",
       "             {'hoverinfo': 'text',\n",
       "              'marker': {'color': 'rgb(40,35,35)'},\n",
       "              'mode': 'lines',\n",
       "              'text': [network_boundary protection_interfaces_host based_split, ,\n",
       "                       , digital media_non digital media_storage devices_digital\n",
       "                       media includes_portable storage devices],\n",
       "              'type': 'scatter',\n",
       "              'x': array([0.91354136, 0.92627695, 0.92627695, 0.        ]),\n",
       "              'xaxis': 'x',\n",
       "              'y': array([-292.5, -292.5, -315. , -315. ]),\n",
       "              'yaxis': 'y'},\n",
       "             {'hoverinfo': 'text',\n",
       "              'marker': {'color': 'rgb(40,35,35)'},\n",
       "              'mode': 'lines',\n",
       "              'text': [cryptographic_cryptography_cryptography\n",
       "                       encryption_encryption key management_cryptography encryption\n",
       "                       key, , , media_boundary_network_digital media_transport],\n",
       "              'type': 'scatter',\n",
       "              'x': array([0.81217887, 0.95826861, 0.95826861, 0.92627695]),\n",
       "              'xaxis': 'x',\n",
       "              'y': array([-270.  , -270.  , -303.75, -303.75]),\n",
       "              'yaxis': 'y'},\n",
       "             {'hoverinfo': 'text',\n",
       "              'marker': {'color': 'rgb(61,153,112)'},\n",
       "              'mode': 'lines',\n",
       "              'text': [firmware_software programs_firmware and\n",
       "                       information_software firmware and_software firmware, , ,\n",
       "                       system components_security relevant changes_component\n",
       "                       authenticity_detection and response_management family\n",
       "                       component],\n",
       "              'type': 'scatter',\n",
       "              'x': array([0.        , 0.85855768, 0.85855768, 0.        ]),\n",
       "              'xaxis': 'x',\n",
       "              'y': array([-325., -325., -335., -335.]),\n",
       "              'yaxis': 'y'},\n",
       "             {'hoverinfo': 'text',\n",
       "              'marker': {'color': 'rgb(61,153,112)'},\n",
       "              'mode': 'lines',\n",
       "              'text': [automated tools_tools and mechanisms_information\n",
       "                       location_baseline configuration_transaction recovery, , ,\n",
       "                       maintenance tools_mobile code within_system updates_of\n",
       "                       mobile code_use of mobile],\n",
       "              'type': 'scatter',\n",
       "              'x': array([0.        , 0.88769681, 0.88769681, 0.        ]),\n",
       "              'xaxis': 'x',\n",
       "              'y': array([-345., -345., -355., -355.]),\n",
       "              'yaxis': 'y'},\n",
       "             {'hoverinfo': 'text',\n",
       "              'marker': {'color': 'rgb(61,153,112)'},\n",
       "              'mode': 'lines',\n",
       "              'text': [software programs_firmware and information_software\n",
       "                       firmware and_information integrity_assignment organization\n",
       "                       defined, , , mobile code_maintenance tools_automated\n",
       "                       tools_tools and_tools can],\n",
       "              'type': 'scatter',\n",
       "              'x': array([0.85855768, 0.95383635, 0.95383635, 0.88769681]),\n",
       "              'xaxis': 'x',\n",
       "              'y': array([-330., -330., -350., -350.]),\n",
       "              'yaxis': 'y'},\n",
       "             {'hoverinfo': 'text',\n",
       "              'marker': {'color': 'rgb(0,116,217)'},\n",
       "              'mode': 'lines',\n",
       "              'text': [cryptographic_media_key management_of_system, , ,\n",
       "                       firmware_maintenance tools_and information_authorized\n",
       "                       software_organization defined],\n",
       "              'type': 'scatter',\n",
       "              'x': array([0.95826861, 1.03221779, 1.03221779, 0.95383635]),\n",
       "              'xaxis': 'x',\n",
       "              'y': array([-286.875, -286.875, -340.   , -340.   ]),\n",
       "              'yaxis': 'y'},\n",
       "             {'hoverinfo': 'text',\n",
       "              'marker': {'color': 'rgb(0,116,217)'},\n",
       "              'mode': 'lines',\n",
       "              'text': [organization defined_audit_organization_assignment\n",
       "                       organization_assignment organization defined, , ,\n",
       "                       media_cryptographic_system_of_software],\n",
       "              'type': 'scatter',\n",
       "              'x': array([1.0984988 , 1.10893692, 1.10893692, 1.03221779]),\n",
       "              'xaxis': 'x',\n",
       "              'y': array([-187.65625, -187.65625, -313.4375 , -313.4375 ]),\n",
       "              'yaxis': 'y'},\n",
       "             {'hoverinfo': 'text',\n",
       "              'marker': {'color': 'rgb(255,65,54)'},\n",
       "              'mode': 'lines',\n",
       "              'text': [incident response_incident response incident_response\n",
       "                       training_incident handling_incident response training, , ,\n",
       "                       contingency plan_organizational elements_contingency plan\n",
       "                       testing_response plans_contingency plans],\n",
       "              'type': 'scatter',\n",
       "              'x': array([0.        , 0.82529493, 0.82529493, 0.        ]),\n",
       "              'xaxis': 'x',\n",
       "              'y': array([-365., -365., -375., -375.]),\n",
       "              'yaxis': 'y'},\n",
       "             {'hoverinfo': 'text',\n",
       "              'marker': {'color': 'rgb(255,65,54)'},\n",
       "              'mode': 'lines',\n",
       "              'text': [incident response_incident response incident_response\n",
       "                       training_incident response plans_incident response testing,\n",
       "                       , , contingency_alternate processing_contingency\n",
       "                       planning_alternate processing site_telecommunications\n",
       "                       services],\n",
       "              'type': 'scatter',\n",
       "              'x': array([0.82529493, 0.91347372, 0.91347372, 0.        ]),\n",
       "              'xaxis': 'x',\n",
       "              'y': array([-370., -370., -385., -385.]),\n",
       "              'yaxis': 'y'},\n",
       "             {'hoverinfo': 'text',\n",
       "              'marker': {'color': 'rgb(0,116,217)'},\n",
       "              'mode': 'lines',\n",
       "              'text': [contingency_incident response_alternate\n",
       "                       processing_contingency planning_alternate processing site, ,\n",
       "                       , controls are relevant_this privacy principle_with legal\n",
       "                       basis_applicable jurisdictions and_conditions for\n",
       "                       collection],\n",
       "              'type': 'scatter',\n",
       "              'x': array([0.91347372, 1.03636753, 1.03636753, 0.        ]),\n",
       "              'xaxis': 'x',\n",
       "              'y': array([-377.5, -377.5, -395. , -395. ]),\n",
       "              'yaxis': 'y'},\n",
       "             {'hoverinfo': 'text',\n",
       "              'marker': {'color': 'rgb(0,116,217)'},\n",
       "              'mode': 'lines',\n",
       "              'text': [of_organization defined_organization_assignment\n",
       "                       organization defined_assignment organization, , ,\n",
       "                       contingency_incident response_alternate\n",
       "                       processing_contingency planning_alternate processing site],\n",
       "              'type': 'scatter',\n",
       "              'x': array([1.10893692, 1.1214184 , 1.1214184 , 1.03636753]),\n",
       "              'xaxis': 'x',\n",
       "              'y': array([-250.546875, -250.546875, -386.25    , -386.25    ]),\n",
       "              'yaxis': 'y'},\n",
       "             {'hoverinfo': 'text',\n",
       "              'marker': {'color': 'rgb(0,116,217)'},\n",
       "              'mode': 'lines',\n",
       "              'text': [authentication_authenticators_identification and\n",
       "                       authentication_and authentication_identification and, , ,\n",
       "                       organization defined_organization_assignment\n",
       "                       organization_assignment organization defined_organizations],\n",
       "              'type': 'scatter',\n",
       "              'x': array([0.91159159, 1.185915  , 1.185915  , 1.1214184 ]),\n",
       "              'xaxis': 'x',\n",
       "              'y': array([ -83.75     ,  -83.75     , -318.3984375, -318.3984375]),\n",
       "              'yaxis': 'y'},\n",
       "             {'hoverinfo': 'text',\n",
       "              'marker': {'color': 'rgb(35,205,205)'},\n",
       "              'mode': 'lines',\n",
       "              'text': [monitoring_security and privacy_and privacy_security\n",
       "                       and_the system, , , and privacy_security and privacy_system\n",
       "                       development life_development life cycle_system development],\n",
       "              'type': 'scatter',\n",
       "              'x': array([0.        , 0.60829604, 0.60829604, 0.        ]),\n",
       "              'xaxis': 'x',\n",
       "              'y': array([-435., -435., -445., -445.]),\n",
       "              'yaxis': 'y'},\n",
       "             {'hoverinfo': 'text',\n",
       "              'marker': {'color': 'rgb(35,205,205)'},\n",
       "              'mode': 'lines',\n",
       "              'text': [system component or_system component_supply chain_system\n",
       "                       system_system system component, , , security and privacy_and\n",
       "                       privacy_security and_development_systems],\n",
       "              'type': 'scatter',\n",
       "              'x': array([0.        , 0.70040291, 0.70040291, 0.60829604]),\n",
       "              'xaxis': 'x',\n",
       "              'y': array([-425., -425., -440., -440.]),\n",
       "              'yaxis': 'y'},\n",
       "             {'hoverinfo': 'text',\n",
       "              'marker': {'color': 'rgb(35,205,205)'},\n",
       "              'mode': 'lines',\n",
       "              'text': [supply chain_chain_the supply chain_the supply_supply chain\n",
       "                       risk, , , and privacy_security and privacy_security\n",
       "                       and_development_life cycle],\n",
       "              'type': 'scatter',\n",
       "              'x': array([0.        , 0.7981853 , 0.7981853 , 0.70040291]),\n",
       "              'xaxis': 'x',\n",
       "              'y': array([-415. , -415. , -432.5, -432.5]),\n",
       "              'yaxis': 'y'},\n",
       "             {'hoverinfo': 'text',\n",
       "              'marker': {'color': 'rgb(35,205,205)'},\n",
       "              'mode': 'lines',\n",
       "              'text': [development_and privacy_security and privacy_security\n",
       "                       and_supply chain, , , penetration\n",
       "                       testing_assessors_impartiality_external system services_flaw\n",
       "                       remediation],\n",
       "              'type': 'scatter',\n",
       "              'x': array([0.7981853, 0.8885836, 0.8885836, 0.       ]),\n",
       "              'xaxis': 'x',\n",
       "              'y': array([-423.75, -423.75, -455.  , -455.  ]),\n",
       "              'yaxis': 'y'},\n",
       "             {'hoverinfo': 'text',\n",
       "              'marker': {'color': 'rgb(35,205,205)'},\n",
       "              'mode': 'lines',\n",
       "              'text': [functions ports protocols_functions ports_ports protocols\n",
       "                       and_protocols and services_system component, , ,\n",
       "                       development_and privacy_security and privacy_security\n",
       "                       and_chain],\n",
       "              'type': 'scatter',\n",
       "              'x': array([0.        , 0.91114078, 0.91114078, 0.8885836 ]),\n",
       "              'xaxis': 'x',\n",
       "              'y': array([-405.   , -405.   , -439.375, -439.375]),\n",
       "              'yaxis': 'y'},\n",
       "             {'hoverinfo': 'text',\n",
       "              'marker': {'color': 'rgb(61,153,112)'},\n",
       "              'mode': 'lines',\n",
       "              'text': [security and privacy_security and_and privacy_assignment\n",
       "                       organization_assignment organization defined, , , and\n",
       "                       privacy_security and privacy_contingency_organization\n",
       "                       defined_policy and procedures],\n",
       "              'type': 'scatter',\n",
       "              'x': array([0.        , 0.22414082, 0.22414082, 0.        ]),\n",
       "              'xaxis': 'x',\n",
       "              'y': array([-465., -465., -475., -475.]),\n",
       "              'yaxis': 'y'},\n",
       "             {'hoverinfo': 'text',\n",
       "              'marker': {'color': 'rgb(0,116,217)'},\n",
       "              'mode': 'lines',\n",
       "              'text': [development_and privacy_security and privacy_security\n",
       "                       and_chain, , , security and privacy_and privacy_security\n",
       "                       and_policy and procedures_organization defined],\n",
       "              'type': 'scatter',\n",
       "              'x': array([0.91114078, 1.10208145, 1.10208145, 0.22414082]),\n",
       "              'xaxis': 'x',\n",
       "              'y': array([-422.1875, -422.1875, -470.    , -470.    ]),\n",
       "              'yaxis': 'y'},\n",
       "             {'hoverinfo': 'text',\n",
       "              'marker': {'color': 'rgb(255,65,54)'},\n",
       "              'mode': 'lines',\n",
       "              'text': [remediation_action and milestones_plan of action_management\n",
       "                       vulnerability_vulnerability management vulnerability, , ,\n",
       "                       malware_reconfiguration_dynamic reconfiguration_tamper\n",
       "                       resistance and_tamper resistance],\n",
       "              'type': 'scatter',\n",
       "              'x': array([0.        , 0.88729249, 0.88729249, 0.        ]),\n",
       "              'xaxis': 'x',\n",
       "              'y': array([-485., -485., -495., -495.]),\n",
       "              'yaxis': 'y'},\n",
       "             {'hoverinfo': 'text',\n",
       "              'marker': {'color': 'rgb(255,65,54)'},\n",
       "              'mode': 'lines',\n",
       "              'text': [business continuity_resilience_and procedures_operational\n",
       "                       resilience_policies and procedures, , , supply chain_and\n",
       "                       procedures_policies and procedures_policies and_audit],\n",
       "              'type': 'scatter',\n",
       "              'x': array([0.        , 0.58144205, 0.58144205, 0.        ]),\n",
       "              'xaxis': 'x',\n",
       "              'y': array([-515., -515., -525., -525.]),\n",
       "              'yaxis': 'y'},\n",
       "             {'hoverinfo': 'text',\n",
       "              'marker': {'color': 'rgb(255,65,54)'},\n",
       "              'mode': 'lines',\n",
       "              'text': [privileged access_access management_identity\n",
       "                       access_identity access management_processes procedures and,\n",
       "                       , , and procedures_policies and procedures_policies\n",
       "                       and_should be_business continuity],\n",
       "              'type': 'scatter',\n",
       "              'x': array([0.        , 0.76356093, 0.76356093, 0.58144205]),\n",
       "              'xaxis': 'x',\n",
       "              'y': array([-505., -505., -520., -520.]),\n",
       "              'yaxis': 'y'},\n",
       "             {'hoverinfo': 'text',\n",
       "              'marker': {'color': 'rgb(255,65,54)'},\n",
       "              'mode': 'lines',\n",
       "              'text': [should be_and procedures_security_risk_policies and\n",
       "                       procedures, , , datacenter_datacenter security_policies and\n",
       "                       procedures_continual effectiveness_datacenter security\n",
       "                       secure],\n",
       "              'type': 'scatter',\n",
       "              'x': array([0.76356093, 0.87070246, 0.87070246, 0.        ]),\n",
       "              'xaxis': 'x',\n",
       "              'y': array([-512.5, -512.5, -535. , -535. ]),\n",
       "              'yaxis': 'y'},\n",
       "             {'hoverinfo': 'text',\n",
       "              'marker': {'color': 'rgb(255,65,54)'},\n",
       "              'mode': 'lines',\n",
       "              'text': [malware_reconfiguration_remediation_integrated tvm\n",
       "                       system_threat vulnerability, , , should be_and\n",
       "                       procedures_security_policies and procedures_policies and],\n",
       "              'type': 'scatter',\n",
       "              'x': array([0.88729249, 0.96729079, 0.96729079, 0.87070246]),\n",
       "              'xaxis': 'x',\n",
       "              'y': array([-490.  , -490.  , -523.75, -523.75]),\n",
       "              'yaxis': 'y'},\n",
       "             {'hoverinfo': 'text',\n",
       "              'marker': {'color': 'rgb(255,65,54)'},\n",
       "              'mode': 'lines',\n",
       "              'text': [data protection impact_change management_management\n",
       "                       data_impact assessment_change management baseline, , ,\n",
       "                       agreement terms_of employment_the employee_include but\n",
       "                       is_human resources],\n",
       "              'type': 'scatter',\n",
       "              'x': array([0.        , 0.92645495, 0.92645495, 0.        ]),\n",
       "              'xaxis': 'x',\n",
       "              'y': array([-545., -545., -555., -555.]),\n",
       "              'yaxis': 'y'},\n",
       "             {'hoverinfo': 'text',\n",
       "              'marker': {'color': 'rgb(255,65,54)'},\n",
       "              'mode': 'lines',\n",
       "              'text': [should be_and procedures_risk_security_all, , , management\n",
       "                       data_include but is_is not limited_should include but_in\n",
       "                       employment],\n",
       "              'type': 'scatter',\n",
       "              'x': array([0.96729079, 0.98613091, 0.98613091, 0.92645495]),\n",
       "              'xaxis': 'x',\n",
       "              'y': array([-506.875, -506.875, -550.   , -550.   ]),\n",
       "              'yaxis': 'y'},\n",
       "             {'hoverinfo': 'text',\n",
       "              'marker': {'color': 'rgb(0,116,217)'},\n",
       "              'mode': 'lines',\n",
       "              'text': [security and privacy_and privacy_security\n",
       "                       and_organization_and procedures, , , should be_and\n",
       "                       procedures_risk_all_security],\n",
       "              'type': 'scatter',\n",
       "              'x': array([1.10208145, 1.24205467, 1.24205467, 0.98613091]),\n",
       "              'xaxis': 'x',\n",
       "              'y': array([-446.09375, -446.09375, -528.4375 , -528.4375 ]),\n",
       "              'yaxis': 'y'},\n",
       "             {'hoverinfo': 'text',\n",
       "              'marker': {'color': 'rgb(0,116,217)'},\n",
       "              'mode': 'lines',\n",
       "              'text': [of_organization defined_organization_assignment\n",
       "                       organization defined_assignment organization, , ,\n",
       "                       security_and procedures_security and_security and\n",
       "                       privacy_and privacy],\n",
       "              'type': 'scatter',\n",
       "              'x': array([1.185915  , 1.34140841, 1.34140841, 1.24205467]),\n",
       "              'xaxis': 'x',\n",
       "              'y': array([-201.07421875, -201.07421875, -487.265625  , -487.265625  ]),\n",
       "              'yaxis': 'y'},\n",
       "             {'hoverinfo': 'text',\n",
       "              'marker': {'color': 'rgb(0,116,217)'},\n",
       "              'mode': 'lines',\n",
       "              'text': [of focus_points of focus_points of_criteria\n",
       "                       for_communicates, , , organization_organization\n",
       "                       defined_systems_assignment organization defined_assignment\n",
       "                       organization],\n",
       "              'type': 'scatter',\n",
       "              'x': array([0.90020639, 1.48562707, 1.48562707, 1.34140841]),\n",
       "              'xaxis': 'x',\n",
       "              'y': array([ -32.5       ,  -32.5       , -344.16992188, -344.16992188]),\n",
       "              'yaxis': 'y'},\n",
       "             {'hoverinfo': 'text',\n",
       "              'marker': {'color': 'rgb(35,205,205)'},\n",
       "              'mode': 'lines',\n",
       "              'text': [cloud service provider_service provider_cloud\n",
       "                       service_service provider shall_customer personal data, , ,\n",
       "                       cloud service_cloud service provider_service provider_the\n",
       "                       customer_the cloud service],\n",
       "              'type': 'scatter',\n",
       "              'x': array([0.        , 0.40080236, 0.40080236, 0.        ]),\n",
       "              'xaxis': 'x',\n",
       "              'y': array([-575., -575., -585., -585.]),\n",
       "              'yaxis': 'y'},\n",
       "             {'hoverinfo': 'text',\n",
       "              'marker': {'color': 'rgb(35,205,205)'},\n",
       "              'mode': 'lines',\n",
       "              'text': [the cloud service_cloud service provider_cloud\n",
       "                       service_provide the customer_subcontractors or, , , cloud\n",
       "                       service provider_service provider_cloud service_the\n",
       "                       customer_the cloud service],\n",
       "              'type': 'scatter',\n",
       "              'x': array([0.        , 0.69917514, 0.69917514, 0.40080236]),\n",
       "              'xaxis': 'x',\n",
       "              'y': array([-565., -565., -580., -580.]),\n",
       "              'yaxis': 'y'},\n",
       "             {'hoverinfo': 'text',\n",
       "              'marker': {'color': 'rgb(35,205,205)'},\n",
       "              'mode': 'lines',\n",
       "              'text': [cloud service provider_service provider_cloud service_the\n",
       "                       customer_the cloud service, , , the cloud\n",
       "                       service_continuous_cloud service_provider_service provider],\n",
       "              'type': 'scatter',\n",
       "              'x': array([0.69917514, 0.72146663, 0.72146663, 0.        ]),\n",
       "              'xaxis': 'x',\n",
       "              'y': array([-572.5, -572.5, -595. , -595. ]),\n",
       "              'yaxis': 'y'},\n",
       "             {'hoverinfo': 'text',\n",
       "              'marker': {'color': 'rgb(133,20,75)'},\n",
       "              'mode': 'lines',\n",
       "              'text': [cloud service_the cloud service_service customer_cloud\n",
       "                       service customer_cloud service provider, , , cloud\n",
       "                       service_the cloud service_cloud service customer_cloud\n",
       "                       services_cloud service provider],\n",
       "              'type': 'scatter',\n",
       "              'x': array([0.        , 0.25809327, 0.25809327, 0.        ]),\n",
       "              'xaxis': 'x',\n",
       "              'y': array([-605., -605., -615., -615.]),\n",
       "              'yaxis': 'y'},\n",
       "             {'hoverinfo': 'text',\n",
       "              'marker': {'color': 'rgb(133,20,75)'},\n",
       "              'mode': 'lines',\n",
       "              'text': [cloud service_the cloud service_service customer_cloud\n",
       "                       service customer_cloud service provider, , , cloud\n",
       "                       service_cloud service customer_the cloud service_cloud\n",
       "                       services_secret authentication information],\n",
       "              'type': 'scatter',\n",
       "              'x': array([0.25809327, 0.42555222, 0.42555222, 0.        ]),\n",
       "              'xaxis': 'x',\n",
       "              'y': array([-610., -610., -625., -625.]),\n",
       "              'yaxis': 'y'},\n",
       "             {'hoverinfo': 'text',\n",
       "              'marker': {'color': 'rgb(0,116,217)'},\n",
       "              'mode': 'lines',\n",
       "              'text': [the cloud_cloud service_the cloud service_provider_service\n",
       "                       provider, , , cloud service_the cloud service_cloud service\n",
       "                       customer_cloud service provider_service provider],\n",
       "              'type': 'scatter',\n",
       "              'x': array([0.72146663, 1.00565108, 1.00565108, 0.42555222]),\n",
       "              'xaxis': 'x',\n",
       "              'y': array([-583.75, -583.75, -617.5 , -617.5 ]),\n",
       "              'yaxis': 'y'},\n",
       "             {'hoverinfo': 'text',\n",
       "              'marker': {'color': 'rgb(255,220,0)'},\n",
       "              'mode': 'lines',\n",
       "              'text': [temporary files are_deterministic_procedure should\n",
       "                       identify_related information processing_processing task has,\n",
       "                       , , hardcopy material_of hardcopy material_creation of\n",
       "                       hardcopy_the creation of_personally identifiable],\n",
       "              'type': 'scatter',\n",
       "              'x': array([0.        , 0.81368058, 0.81368058, 0.        ]),\n",
       "              'xaxis': 'x',\n",
       "              'y': array([-635., -635., -645., -645.]),\n",
       "              'yaxis': 'y'},\n",
       "             {'hoverinfo': 'text',\n",
       "              'marker': {'color': 'rgb(40,35,35)'},\n",
       "              'mode': 'lines',\n",
       "              'text': [and de registration_registration and de_user registration\n",
       "                       and_iso iec 27002_iec 27002, , , or re use_secure disposal\n",
       "                       or_re use of_use of equipment_contain personally\n",
       "                       identifiable],\n",
       "              'type': 'scatter',\n",
       "              'x': array([0.        , 0.76419548, 0.76419548, 0.        ]),\n",
       "              'xaxis': 'x',\n",
       "              'y': array([-675., -675., -685., -685.]),\n",
       "              'yaxis': 'y'},\n",
       "             {'hoverinfo': 'text',\n",
       "              'marker': {'color': 'rgb(40,35,35)'},\n",
       "              'mode': 'lines',\n",
       "              'text': [public data transmission_public data_personally\n",
       "                       identifiable information_personally\n",
       "                       identifiable_identifiable information, , , implementation\n",
       "                       guidance_and de registration_registration and de_iec\n",
       "                       27002_iso iec 27002],\n",
       "              'type': 'scatter',\n",
       "              'x': array([0.        , 0.82504834, 0.82504834, 0.76419548]),\n",
       "              'xaxis': 'x',\n",
       "              'y': array([-665., -665., -680., -680.]),\n",
       "              'yaxis': 'y'},\n",
       "             {'hoverinfo': 'text',\n",
       "              'marker': {'color': 'rgb(40,35,35)'},\n",
       "              'mode': 'lines',\n",
       "              'text': [controls designed to_data reaches its_to appropriate\n",
       "                       controls_designed to ensure_identifiable information\n",
       "                       transmitted, , , implementation guidance_personally\n",
       "                       identifiable_personally identifiable\n",
       "                       information_identifiable information_identifiable],\n",
       "              'type': 'scatter',\n",
       "              'x': array([0.        , 0.97789096, 0.97789096, 0.82504834]),\n",
       "              'xaxis': 'x',\n",
       "              'y': array([-655. , -655. , -672.5, -672.5]),\n",
       "              'yaxis': 'y'},\n",
       "             {'hoverinfo': 'text',\n",
       "              'marker': {'color': 'rgb(61,153,112)'},\n",
       "              'mode': 'lines',\n",
       "              'text': [personally identifiable information_personally\n",
       "                       identifiable_identifiable information_cloud personally\n",
       "                       identifiable_public cloud, , , cloud personally\n",
       "                       identifiable_public cloud_identifiable information\n",
       "                       processor_personally identifiable_personally identifiable\n",
       "                       information],\n",
       "              'type': 'scatter',\n",
       "              'x': array([0.        , 0.43033039, 0.43033039, 0.        ]),\n",
       "              'xaxis': 'x',\n",
       "              'y': array([-705., -705., -715., -715.]),\n",
       "              'yaxis': 'y'},\n",
       "             {'hoverinfo': 'text',\n",
       "              'marker': {'color': 'rgb(61,153,112)'},\n",
       "              'mode': 'lines',\n",
       "              'text': [public cloud_personally identifiable information_personally\n",
       "                       identifiable_identifiable information_identifiable, , ,\n",
       "                       personally identifiable information_personally\n",
       "                       identifiable_identifiable information_cloud personally\n",
       "                       identifiable_public cloud],\n",
       "              'type': 'scatter',\n",
       "              'x': array([0.        , 0.59321923, 0.59321923, 0.        ]),\n",
       "              'xaxis': 'x',\n",
       "              'y': array([-725., -725., -735., -735.]),\n",
       "              'yaxis': 'y'},\n",
       "             {'hoverinfo': 'text',\n",
       "              'marker': {'color': 'rgb(61,153,112)'},\n",
       "              'mode': 'lines',\n",
       "              'text': [personally identifiable information_personally\n",
       "                       identifiable_identifiable information_cloud personally\n",
       "                       identifiable_public cloud, , , personally identifiable\n",
       "                       information_personally identifiable_identifiable\n",
       "                       information_identifiable_public cloud],\n",
       "              'type': 'scatter',\n",
       "              'x': array([0.43033039, 0.63819589, 0.63819589, 0.59321923]),\n",
       "              'xaxis': 'x',\n",
       "              'y': array([-710., -710., -730., -730.]),\n",
       "              'yaxis': 'y'},\n",
       "             {'hoverinfo': 'text',\n",
       "              'marker': {'color': 'rgb(61,153,112)'},\n",
       "              'mode': 'lines',\n",
       "              'text': [pii_public cloud_personally identifiable_personally\n",
       "                       identifiable information_identifiable information, , ,\n",
       "                       personally identifiable_personally identifiable\n",
       "                       information_identifiable information_cloud personally\n",
       "                       identifiable_public cloud],\n",
       "              'type': 'scatter',\n",
       "              'x': array([0.        , 0.76337831, 0.76337831, 0.63819589]),\n",
       "              'xaxis': 'x',\n",
       "              'y': array([-695., -695., -720., -720.]),\n",
       "              'yaxis': 'y'},\n",
       "             {'hoverinfo': 'text',\n",
       "              'marker': {'color': 'rgb(61,153,112)'},\n",
       "              'mode': 'lines',\n",
       "              'text': [personally identifiable_personally identifiable\n",
       "                       information_identifiable information_public cloud_cloud\n",
       "                       personally identifiable, , , id management_user id\n",
       "                       management_the information system_authorized access to_of\n",
       "                       user],\n",
       "              'type': 'scatter',\n",
       "              'x': array([0.76337831, 0.92213857, 0.92213857, 0.        ]),\n",
       "              'xaxis': 'x',\n",
       "              'y': array([-707.5, -707.5, -745. , -745. ]),\n",
       "              'yaxis': 'y'},\n",
       "             {'hoverinfo': 'text',\n",
       "              'marker': {'color': 'rgb(0,116,217)'},\n",
       "              'mode': 'lines',\n",
       "              'text': [personally identifiable information_personally\n",
       "                       identifiable_identifiable\n",
       "                       information_identifiable_implementation guidance, , , public\n",
       "                       cloud_personally identifiable_personally identifiable\n",
       "                       information_identifiable information_cloud personally\n",
       "                       identifiable],\n",
       "              'type': 'scatter',\n",
       "              'x': array([0.97789096, 1.04176154, 1.04176154, 0.92213857]),\n",
       "              'xaxis': 'x',\n",
       "              'y': array([-663.75, -663.75, -726.25, -726.25]),\n",
       "              'yaxis': 'y'},\n",
       "             {'hoverinfo': 'text',\n",
       "              'marker': {'color': 'rgb(0,116,217)'},\n",
       "              'mode': 'lines',\n",
       "              'text': [temporary files_temporary files are_erased or_erased or\n",
       "                       destroyed_hardcopy material, , , personally identifiable\n",
       "                       information_personally identifiable_identifiable\n",
       "                       information_public cloud_cloud personally identifiable],\n",
       "              'type': 'scatter',\n",
       "              'x': array([0.81368058, 1.15178318, 1.15178318, 1.04176154]),\n",
       "              'xaxis': 'x',\n",
       "              'y': array([-640., -640., -695., -695.]),\n",
       "              'yaxis': 'y'},\n",
       "             {'hoverinfo': 'text',\n",
       "              'marker': {'color': 'rgb(255,65,54)'},\n",
       "              'mode': 'lines',\n",
       "              'text': [personally identifiable_personally identifiable\n",
       "                       information_identifiable information_identifiable_iec 27002\n",
       "                       2013, , , iec 27002 2013_iec 27002_iso iec 27002_of iso\n",
       "                       iec_27002 2013 is],\n",
       "              'type': 'scatter',\n",
       "              'x': array([0.        , 0.44882387, 0.44882387, 0.        ]),\n",
       "              'xaxis': 'x',\n",
       "              'y': array([-755., -755., -765., -765.]),\n",
       "              'yaxis': 'y'},\n",
       "             {'hoverinfo': 'text',\n",
       "              'marker': {'color': 'rgb(255,65,54)'},\n",
       "              'mode': 'lines',\n",
       "              'text': [iec 27002 2013_iec 27002_iso iec 27002_personally\n",
       "                       identifiable_personally identifiable information, , ,\n",
       "                       technical compliance review_27002 2013 18_27002 2013_iec\n",
       "                       27002 2013_in iso iec],\n",
       "              'type': 'scatter',\n",
       "              'x': array([0.44882387, 0.66675592, 0.66675592, 0.        ]),\n",
       "              'xaxis': 'x',\n",
       "              'y': array([-760., -760., -775., -775.]),\n",
       "              'yaxis': 'y'},\n",
       "             {'hoverinfo': 'text',\n",
       "              'marker': {'color': 'rgb(0,116,217)'},\n",
       "              'mode': 'lines',\n",
       "              'text': [personally identifiable_personally identifiable\n",
       "                       information_identifiable information_public cloud_cloud\n",
       "                       personally identifiable, , , iec 27002 2013_iec 27002_iso\n",
       "                       iec 27002_personally identifiable information_personally\n",
       "                       identifiable],\n",
       "              'type': 'scatter',\n",
       "              'x': array([1.15178318, 1.23879388, 1.23879388, 0.66675592]),\n",
       "              'xaxis': 'x',\n",
       "              'y': array([-667.5, -667.5, -767.5, -767.5]),\n",
       "              'yaxis': 'y'},\n",
       "             {'hoverinfo': 'text',\n",
       "              'marker': {'color': 'rgb(35,205,205)'},\n",
       "              'mode': 'lines',\n",
       "              'text': [personally identifiable_personally identifiable\n",
       "                       information_identifiable information_identifiable_the\n",
       "                       personally identifiable, , , personally\n",
       "                       identifiable_personally identifiable\n",
       "                       information_identifiable information_identifiable_the\n",
       "                       organization should],\n",
       "              'type': 'scatter',\n",
       "              'x': array([0.        , 0.43805284, 0.43805284, 0.        ]),\n",
       "              'xaxis': 'x',\n",
       "              'y': array([-805., -805., -815., -815.]),\n",
       "              'yaxis': 'y'},\n",
       "             {'hoverinfo': 'text',\n",
       "              'marker': {'color': 'rgb(35,205,205)'},\n",
       "              'mode': 'lines',\n",
       "              'text': [personally identifiable_personally identifiable\n",
       "                       information_identifiable information_identifiable_the\n",
       "                       organization shall, , , personally identifiable\n",
       "                       information_personally identifiable_identifiable\n",
       "                       information_identifiable_the organization should],\n",
       "              'type': 'scatter',\n",
       "              'x': array([0.        , 0.4899347 , 0.4899347 , 0.43805284]),\n",
       "              'xaxis': 'x',\n",
       "              'y': array([-795., -795., -810., -810.]),\n",
       "              'yaxis': 'y'},\n",
       "             {'hoverinfo': 'text',\n",
       "              'marker': {'color': 'rgb(35,205,205)'},\n",
       "              'mode': 'lines',\n",
       "              'text': [personally identifiable_personally identifiable\n",
       "                       information_identifiable information_identifiable_of\n",
       "                       personally identifiable, , , personally identifiable\n",
       "                       information_personally identifiable_identifiable\n",
       "                       information_identifiable_of personally identifiable],\n",
       "              'type': 'scatter',\n",
       "              'x': array([0.        , 0.60337804, 0.60337804, 0.4899347 ]),\n",
       "              'xaxis': 'x',\n",
       "              'y': array([-785. , -785. , -802.5, -802.5]),\n",
       "              'yaxis': 'y'},\n",
       "             {'hoverinfo': 'text',\n",
       "              'marker': {'color': 'rgb(35,205,205)'},\n",
       "              'mode': 'lines',\n",
       "              'text': [personally identifiable information_personally\n",
       "                       identifiable_identifiable information_identifiable_of\n",
       "                       personally identifiable, , , to third parties_personally\n",
       "                       identifiable information_personally\n",
       "                       identifiable_identifiable information_identifiable],\n",
       "              'type': 'scatter',\n",
       "              'x': array([0.60337804, 0.91670847, 0.91670847, 0.        ]),\n",
       "              'xaxis': 'x',\n",
       "              'y': array([-793.75, -793.75, -825.  , -825.  ]),\n",
       "              'yaxis': 'y'},\n",
       "             {'hoverinfo': 'text',\n",
       "              'marker': {'color': 'rgb(0,116,217)'},\n",
       "              'mode': 'lines',\n",
       "              'text': [personally identifiable_personally identifiable\n",
       "                       information_identifiable information_identifiable_public\n",
       "                       cloud, , , personally identifiable information_personally\n",
       "                       identifiable_identifiable information_identifiable_of\n",
       "                       personally identifiable],\n",
       "              'type': 'scatter',\n",
       "              'x': array([1.23879388, 1.27952842, 1.27952842, 0.91670847]),\n",
       "              'xaxis': 'x',\n",
       "              'y': array([-717.5  , -717.5  , -809.375, -809.375]),\n",
       "              'yaxis': 'y'},\n",
       "             {'hoverinfo': 'text',\n",
       "              'marker': {'color': 'rgb(0,116,217)'},\n",
       "              'mode': 'lines',\n",
       "              'text': [cloud service_the cloud_the cloud service_service\n",
       "                       provider_provider, , , personally identifiable_personally\n",
       "                       identifiable information_identifiable\n",
       "                       information_identifiable_public cloud],\n",
       "              'type': 'scatter',\n",
       "              'x': array([1.00565108, 1.74415537, 1.74415537, 1.27952842]),\n",
       "              'xaxis': 'x',\n",
       "              'y': array([-600.625 , -600.625 , -763.4375, -763.4375]),\n",
       "              'yaxis': 'y'},\n",
       "             {'hoverinfo': 'text',\n",
       "              'marker': {'color': 'rgb(0,116,217)'},\n",
       "              'mode': 'lines',\n",
       "              'text': [organization_organization\n",
       "                       defined_systems_organizations_assignment organization, , ,\n",
       "                       cloud service_the cloud_the cloud service_customer_service\n",
       "                       provider],\n",
       "              'type': 'scatter',\n",
       "              'x': array([1.48562707, 2.26542783, 2.26542783, 1.74415537]),\n",
       "              'xaxis': 'x',\n",
       "              'y': array([-188.33496094, -188.33496094, -682.03125   , -682.03125   ]),\n",
       "              'yaxis': 'y'},\n",
       "             {'hoverinfo': 'text',\n",
       "              'hovertext': [data subjects_criteria for privacy_of personal\n",
       "                            information_the entity objectives_objectives related\n",
       "                            to, of focus_points of focus_points of_board of_the\n",
       "                            board of, data subjects_criteria for privacy_entity\n",
       "                            objectives_the entity objectives_of personal\n",
       "                            information, authentication_identification and\n",
       "                            authentication_and authentication_identification\n",
       "                            and_authenticators, shared system resources_shared\n",
       "                            system_system resources_least privilege_users or roles,\n",
       "                            assignment organization_assignment organization\n",
       "                            defined_organization defined_organizational_of\n",
       "                            behavior, organization defined_assignment organization\n",
       "                            defined_assignment organization_organization_audit\n",
       "                            records, system clocks_shared system resources_shared\n",
       "                            system_least privilege_synchronization, wireless\n",
       "                            access_access control_wireless networking_physical\n",
       "                            access to_intrusion, and environmental\n",
       "                            protection_environmental protection_physical and\n",
       "                            environmental_power supply_data centers,\n",
       "                            audit_organization defined_assignment organization\n",
       "                            defined_assignment organization_organization,\n",
       "                            network_boundary protection_interfaces_host\n",
       "                            based_split, cryptographic_cryptography_cryptography\n",
       "                            encryption_encryption key management_cryptography\n",
       "                            encryption key, software programs_firmware and\n",
       "                            information_software firmware and_information\n",
       "                            integrity_assignment organization defined,\n",
       "                            cryptographic_media_key management_of_system,\n",
       "                            organization defined_audit_organization_assignment\n",
       "                            organization_assignment organization defined, incident\n",
       "                            response_incident response incident_response\n",
       "                            training_incident response plans_incident response\n",
       "                            testing, contingency_incident response_alternate\n",
       "                            processing_contingency planning_alternate processing\n",
       "                            site, of_organization defined_organization_assignment\n",
       "                            organization defined_assignment organization,\n",
       "                            authentication_authenticators_identification and\n",
       "                            authentication_and authentication_identification and,\n",
       "                            development_and privacy_security and privacy_security\n",
       "                            and_supply chain, development_and privacy_security and\n",
       "                            privacy_security and_chain, should be_and\n",
       "                            procedures_security_risk_policies and procedures,\n",
       "                            malware_reconfiguration_remediation_integrated tvm\n",
       "                            system_threat vulnerability, should be_and\n",
       "                            procedures_risk_security_all, security and privacy_and\n",
       "                            privacy_security and_organization_and procedures,\n",
       "                            of_organization defined_organization_assignment\n",
       "                            organization defined_assignment organization, of\n",
       "                            focus_points of focus_points of_criteria\n",
       "                            for_communicates, cloud service provider_service\n",
       "                            provider_cloud service_the customer_the cloud service,\n",
       "                            cloud service_the cloud service_service customer_cloud\n",
       "                            service customer_cloud service provider, the\n",
       "                            cloud_cloud service_the cloud service_provider_service\n",
       "                            provider, personally identifiable\n",
       "                            information_personally identifiable_identifiable\n",
       "                            information_cloud personally identifiable_public cloud,\n",
       "                            personally identifiable_personally identifiable\n",
       "                            information_identifiable information_public cloud_cloud\n",
       "                            personally identifiable, personally identifiable\n",
       "                            information_personally identifiable_identifiable\n",
       "                            information_identifiable_implementation guidance,\n",
       "                            temporary files_temporary files are_erased or_erased or\n",
       "                            destroyed_hardcopy material, iec 27002 2013_iec\n",
       "                            27002_iso iec 27002_personally identifiable_personally\n",
       "                            identifiable information, personally\n",
       "                            identifiable_personally identifiable\n",
       "                            information_identifiable information_public cloud_cloud\n",
       "                            personally identifiable, personally identifiable\n",
       "                            information_personally identifiable_identifiable\n",
       "                            information_identifiable_of personally identifiable,\n",
       "                            personally identifiable_personally identifiable\n",
       "                            information_identifiable\n",
       "                            information_identifiable_public cloud, cloud\n",
       "                            service_the cloud_the cloud service_service\n",
       "                            provider_provider, organization_organization\n",
       "                            defined_systems_organizations_assignment organization],\n",
       "              'marker': {'color': 'black'},\n",
       "              'mode': 'markers',\n",
       "              'showlegend': False,\n",
       "              'type': 'scatter',\n",
       "              'x': [0.7443822152717212, 0.6354464811081453, 0.834394514986856,\n",
       "                    0.8353350115822169, 0.9345969224419417, 0.8733673160345992,\n",
       "                    0.9006398125080769, 0.972015041277988, 0.9017399607335006,\n",
       "                    0.8182916784929948, 0.9923671210311831, 0.913541361387689,\n",
       "                    0.8121788744812308, 0.8585576834800952, 0.9582686076146235,\n",
       "                    1.098498802341027, 0.8252949324293013, 0.9134737216133749,\n",
       "                    1.1089369176909551, 0.9115915890747156, 0.798185301211069,\n",
       "                    0.9111407765878076, 0.7635609320251854, 0.8872924904328693,\n",
       "                    0.9672907923980055, 1.1020814479354055, 1.1859150048238278,\n",
       "                    0.9002063886344135, 0.699175135267362, 0.2580932652446143,\n",
       "                    0.7214666336977563, 0.43033038858809636, 0.7633783058176377,\n",
       "                    0.97789095879959, 0.8136805809192379, 0.4488238650910722,\n",
       "                    1.1517831819937943, 0.6033780404381127, 1.2387938796009998,\n",
       "                    1.0056510771496294, 1.4856270707777683],\n",
       "              'y': [-10.0, -40.0, -17.5, -72.5, -120.0, -152.5, -166.25, -116.25,\n",
       "                    -232.5, -210.0, -148.4375, -292.5, -270.0, -330.0, -286.875,\n",
       "                    -187.65625, -370.0, -377.5, -250.546875, -83.75, -423.75,\n",
       "                    -422.1875, -512.5, -490.0, -506.875, -446.09375, -201.07421875,\n",
       "                    -32.5, -572.5, -610.0, -583.75, -710.0, -707.5, -663.75,\n",
       "                    -640.0, -760.0, -667.5, -793.75, -717.5, -600.625,\n",
       "                    -188.3349609375]},\n",
       "             {'hoverinfo': 'text',\n",
       "              'hovertext': [of focus_points of focus_points of_of directors_the\n",
       "                            board of, authentication_identification and\n",
       "                            authentication_and authentication_authenticators_multi\n",
       "                            factor authentication, shared system resources_shared\n",
       "                            system_least privilege_system resources_unauthorized,\n",
       "                            rules of behavior_of behavior_rules of_assignment\n",
       "                            organization defined_assignment organization, audit\n",
       "                            records_audit log_assignment organization defined_audit\n",
       "                            log storage_log storage, audit_organization\n",
       "                            defined_assignment organization_assignment organization\n",
       "                            defined_organization, access control_wireless\n",
       "                            networking_wireless networking capabilities_networking\n",
       "                            capabilities_intrusion alarms, access control_wireless\n",
       "                            access_remote access_wireless networking_physical\n",
       "                            access to, environmental_physical access_physical and\n",
       "                            environmental_physical and_and environmental, boundary\n",
       "                            protection_split tunneling_managed\n",
       "                            interfaces_tunneling_networks,\n",
       "                            media_boundary_network_digital media_transport, mobile\n",
       "                            code_maintenance tools_automated tools_tools and_tools\n",
       "                            can, firmware_maintenance tools_and\n",
       "                            information_authorized software_organization defined,\n",
       "                            media_cryptographic_system_of_software,\n",
       "                            contingency_incident response_alternate\n",
       "                            processing_contingency planning_alternate processing\n",
       "                            site, organization defined_organization_assignment\n",
       "                            organization_assignment organization\n",
       "                            defined_organizations, security and privacy_and\n",
       "                            privacy_security and_development_systems, and\n",
       "                            privacy_security and privacy_security\n",
       "                            and_development_life cycle, development_and\n",
       "                            privacy_security and privacy_security and_chain,\n",
       "                            security and privacy_and privacy_security and_policy\n",
       "                            and procedures_organization defined, and\n",
       "                            procedures_policies and procedures_policies and_should\n",
       "                            be_business continuity, should be_and\n",
       "                            procedures_security_policies and procedures_policies\n",
       "                            and, management data_include but is_is not\n",
       "                            limited_should include but_in employment, should be_and\n",
       "                            procedures_risk_all_security, security_and\n",
       "                            procedures_security and_security and privacy_and\n",
       "                            privacy, organization_organization\n",
       "                            defined_systems_assignment organization\n",
       "                            defined_assignment organization, cloud service\n",
       "                            provider_service provider_cloud service_the\n",
       "                            customer_the cloud service, cloud service_the cloud\n",
       "                            service_cloud service customer_cloud service\n",
       "                            provider_service provider, implementation guidance_and\n",
       "                            de registration_registration and de_iec 27002_iso iec\n",
       "                            27002, implementation guidance_personally\n",
       "                            identifiable_personally identifiable\n",
       "                            information_identifiable information_identifiable,\n",
       "                            personally identifiable information_personally\n",
       "                            identifiable_identifiable\n",
       "                            information_identifiable_public cloud, personally\n",
       "                            identifiable_personally identifiable\n",
       "                            information_identifiable information_cloud personally\n",
       "                            identifiable_public cloud, public cloud_personally\n",
       "                            identifiable_personally identifiable\n",
       "                            information_identifiable information_cloud personally\n",
       "                            identifiable, personally identifiable\n",
       "                            information_personally identifiable_identifiable\n",
       "                            information_public cloud_cloud personally identifiable,\n",
       "                            iec 27002 2013_iec 27002_iso iec 27002_personally\n",
       "                            identifiable information_personally identifiable,\n",
       "                            personally identifiable information_personally\n",
       "                            identifiable_identifiable information_identifiable_the\n",
       "                            organization should, personally identifiable\n",
       "                            information_personally identifiable_identifiable\n",
       "                            information_identifiable_of personally identifiable,\n",
       "                            personally identifiable information_personally\n",
       "                            identifiable_identifiable information_identifiable_of\n",
       "                            personally identifiable, personally\n",
       "                            identifiable_personally identifiable\n",
       "                            information_identifiable\n",
       "                            information_identifiable_public cloud, cloud\n",
       "                            service_the cloud_the cloud service_customer_service\n",
       "                            provider],\n",
       "              'marker': {'color': 'black'},\n",
       "              'mode': 'markers',\n",
       "              'showlegend': False,\n",
       "              'type': 'scatter',\n",
       "              'x': [0.8858490004016465, 0.74619344791153, 0.9646164456407671,\n",
       "                    0.803719379100407, 0.8317247204088745, 0.9193719398349846,\n",
       "                    0.8215045047660376, 0.964835194473625, 1.0221953995012403,\n",
       "                    0.8308169067356507, 0.9262769534156065, 0.8876968132696893,\n",
       "                    0.9538363477161362, 1.0322177918672497, 1.0363675252781614,\n",
       "                    1.1214184039523123, 0.6082960390366231, 0.7004029144408658,\n",
       "                    0.8885835994700414, 0.22414082415299952, 0.5814420473152127,\n",
       "                    0.8707024608529043, 0.926454951810757, 0.9861309118201458,\n",
       "                    1.2420546748900425, 1.3414084125362353, 0.40080236265888314,\n",
       "                    0.4255522150851606, 0.7641954786118441, 0.8250483407138104,\n",
       "                    0.5932192272166905, 0.6381958887502839, 0.9221385741828791,\n",
       "                    1.0417615361762218, 0.6667559211796307, 0.4380528375008552,\n",
       "                    0.48993469661342975, 0.9167084687640112, 1.279528416103515,\n",
       "                    1.7441553679800224],\n",
       "              'y': [-47.5, -80.0, -127.5, -160.0, -180.0, -180.625, -240.0,\n",
       "                    -243.75, -226.875, -300.0, -303.75, -350.0, -340.0, -313.4375,\n",
       "                    -386.25, -318.3984375, -440.0, -432.5, -439.375, -470.0,\n",
       "                    -520.0, -523.75, -550.0, -528.4375, -487.265625,\n",
       "                    -344.169921875, -580.0, -617.5, -680.0, -672.5, -730.0, -720.0,\n",
       "                    -726.25, -695.0, -767.5, -810.0, -802.5, -809.375, -763.4375,\n",
       "                    -682.03125]}],\n",
       "    'layout': {'autosize': False,\n",
       "               'height': 1445,\n",
       "               'hoverlabel': {'bgcolor': 'white', 'font': {'family': 'Rockwell', 'size': 16}},\n",
       "               'hovermode': 'closest',\n",
       "               'plot_bgcolor': '#ECEFF1',\n",
       "               'showlegend': False,\n",
       "               'template': '...',\n",
       "               'title': {'font': {'color': 'Black', 'size': 22},\n",
       "                         'text': '<b>Hierarchical Clustering</b>',\n",
       "                         'x': 0.5,\n",
       "                         'xanchor': 'center',\n",
       "                         'yanchor': 'top'},\n",
       "               'width': 1000,\n",
       "               'xaxis': {'mirror': 'allticks',\n",
       "                         'rangemode': 'tozero',\n",
       "                         'showgrid': False,\n",
       "                         'showline': True,\n",
       "                         'showticklabels': True,\n",
       "                         'ticks': 'outside',\n",
       "                         'type': 'linear',\n",
       "                         'zeroline': False},\n",
       "               'yaxis': {'mirror': 'allticks',\n",
       "                         'range': [-830.0, 0.0],\n",
       "                         'rangemode': 'tozero',\n",
       "                         'showgrid': False,\n",
       "                         'showline': True,\n",
       "                         'showticklabels': True,\n",
       "                         'tickmode': 'array',\n",
       "                         'ticks': 'outside',\n",
       "                         'ticktext': [76_criteria for processing_..., 7_data\n",
       "                                      subjects_criteria fo..., 60_criteria for\n",
       "                                      availabilit..., 19_the board of_of\n",
       "                                      director..., 48_communicates_business pa...,\n",
       "                                      59_protected information as...,\n",
       "                                      27_identification and authe...,\n",
       "                                      21_authentication_identific...,\n",
       "                                      40_authentication_identific..., 65_malicious\n",
       "                                      code_authentic..., 73_synchronization_of\n",
       "                                      milli..., 64_shared system resources_...,\n",
       "                                      69_least privilege_based ac...,\n",
       "                                      53_unauthorized_audit logs_..., 42_account\n",
       "                                      monitoring_syste..., 39_assignment\n",
       "                                      organization ..., 38_of behavior_rules of\n",
       "                                      beh..., 32_assignment organization ...,\n",
       "                                      18_audit records_audit log_..., 81_and\n",
       "                                      privacy representati..., 35_power supply_data\n",
       "                                      center..., 47_personnel or roles_emerg...,\n",
       "                                      80_onsite personnel_the org..., 28_wireless\n",
       "                                      networking_wire..., 67_network access_access\n",
       "                                      co..., 77_account management_autom..., 9_key\n",
       "                                      management_cryptograp...,\n",
       "                                      14_cryptographic_cryptograp..., 45_host\n",
       "                                      based_security func..., 30_at\n",
       "                                      rest_exfiltration_inf..., 46_split\n",
       "                                      tunneling_remote a..., 24_digital media_non\n",
       "                                      digita..., 33_firmware_software progra...,\n",
       "                                      55_system components_securi..., 37_automated\n",
       "                                      tools_tools an..., 70_maintenance\n",
       "                                      tools_mobile..., 10_incident\n",
       "                                      response_incide..., 71_contingency\n",
       "                                      plan_organiz..., 6_contingency_alternate\n",
       "                                      pro..., 54_controls are relevant_th...,\n",
       "                                      68_functions ports protocol..., 25_supply\n",
       "                                      chain_chain_the s..., 36_system component\n",
       "                                      or_syst..., 8_monitoring_security and p...,\n",
       "                                      57_and privacy_security and...,\n",
       "                                      49_penetration testing_asse..., 12_security\n",
       "                                      and privacy_sec..., 20_and privacy_security\n",
       "                                      and..., 50_remediation_action and m...,\n",
       "                                      29_malware_reconfiguration_..., 2_privileged\n",
       "                                      access_access ..., 5_business\n",
       "                                      continuity_resil..., 1_supply chain_and\n",
       "                                      procedur..., 58_datacenter_datacenter se...,\n",
       "                                      62_data protection impact_c..., 52_agreement\n",
       "                                      terms_of emplo..., 61_the cloud service_cloud\n",
       "                                      ..., 4_cloud service provider_se..., 13_cloud\n",
       "                                      service_cloud serv..., 0_the cloud\n",
       "                                      service_continu..., 15_cloud service_the\n",
       "                                      cloud ..., 11_cloud service_the cloud ...,\n",
       "                                      79_cloud service_cloud serv..., 56_temporary\n",
       "                                      files are_dete..., 41_hardcopy material_of\n",
       "                                      har..., 75_controls designed to_dat...,\n",
       "                                      34_public data transmission..., 44_and de\n",
       "                                      registration_regi..., 82_or re use_secure\n",
       "                                      disposa..., 51_pii_public cloud_persona...,\n",
       "                                      26_personally identifiable ..., 72_cloud\n",
       "                                      personally identif..., 23_public\n",
       "                                      cloud_personally ..., 63_personally\n",
       "                                      identifiable ..., 74_id management_user id\n",
       "                                      ma..., 16_personally identifiable_..., 31_iec\n",
       "                                      27002 2013_iec 27002..., 78_technical\n",
       "                                      compliance rev..., 43_personally\n",
       "                                      identifiable_..., 3_personally\n",
       "                                      identifiable_p..., 22_personally\n",
       "                                      identifiable_..., 17_personally\n",
       "                                      identifiable_..., 66_to third\n",
       "                                      parties_persona...],\n",
       "                         'tickvals': [-5.0, -15.0, -25.0, -35.0, -45.0, -55.0,\n",
       "                                      -65.0, -75.0, -85.0, -95.0, -105.0, -115.0,\n",
       "                                      -125.0, -135.0, -145.0, -155.0, -165.0,\n",
       "                                      -175.0, -185.0, -195.0, -205.0, -215.0,\n",
       "                                      -225.0, -235.0, -245.0, -255.0, -265.0,\n",
       "                                      -275.0, -285.0, -295.0, -305.0, -315.0,\n",
       "                                      -325.0, -335.0, -345.0, -355.0, -365.0,\n",
       "                                      -375.0, -385.0, -395.0, -405.0, -415.0,\n",
       "                                      -425.0, -435.0, -445.0, -455.0, -465.0,\n",
       "                                      -475.0, -485.0, -495.0, -505.0, -515.0,\n",
       "                                      -525.0, -535.0, -545.0, -555.0, -565.0,\n",
       "                                      -575.0, -585.0, -595.0, -605.0, -615.0,\n",
       "                                      -625.0, -635.0, -645.0, -655.0, -665.0,\n",
       "                                      -675.0, -685.0, -695.0, -705.0, -715.0,\n",
       "                                      -725.0, -735.0, -745.0, -755.0, -765.0,\n",
       "                                      -775.0, -785.0, -795.0, -805.0, -815.0,\n",
       "                                      -825.0],\n",
       "                         'type': 'linear',\n",
       "                         'zeroline': False}}\n",
       "})"
      ]
     },
     "execution_count": 85,
     "metadata": {},
     "output_type": "execute_result"
    }
   ],
   "source": [
    "# visualize these results\n",
    "# NOTE: the differences between topics aren't that clear from the keywords. I want to try with the min-max distance thing\n",
    "topic_model.visualize_hierarchy(hierarchical_topics=hierarchical_topics)"
   ]
  },
  {
   "cell_type": "markdown",
   "metadata": {},
   "source": [
    "***"
   ]
  },
  {
   "cell_type": "code",
   "execution_count": 88,
   "metadata": {},
   "outputs": [
    {
     "name": "stderr",
     "output_type": "stream",
     "text": [
      "0it [00:00, ?it/s]"
     ]
    },
    {
     "name": "stderr",
     "output_type": "stream",
     "text": [
      "9it [00:46,  5.11s/it]\n"
     ]
    },
    {
     "ename": "ValueError",
     "evalue": "Mime type rendering requires nbformat>=4.2.0 but it is not installed",
     "output_type": "error",
     "traceback": [
      "\u001b[1;31m---------------------------------------------------------------------------\u001b[0m",
      "\u001b[1;31mValueError\u001b[0m                                Traceback (most recent call last)",
      "File \u001b[1;32mc:\\analysis 2024-02-19\\privacyvenvv2\\Lib\\site-packages\\IPython\\core\\formatters.py:925\u001b[0m, in \u001b[0;36mIPythonDisplayFormatter.__call__\u001b[1;34m(self, obj)\u001b[0m\n\u001b[0;32m    923\u001b[0m method \u001b[38;5;241m=\u001b[39m get_real_method(obj, \u001b[38;5;28mself\u001b[39m\u001b[38;5;241m.\u001b[39mprint_method)\n\u001b[0;32m    924\u001b[0m \u001b[38;5;28;01mif\u001b[39;00m method \u001b[38;5;129;01mis\u001b[39;00m \u001b[38;5;129;01mnot\u001b[39;00m \u001b[38;5;28;01mNone\u001b[39;00m:\n\u001b[1;32m--> 925\u001b[0m     \u001b[43mmethod\u001b[49m\u001b[43m(\u001b[49m\u001b[43m)\u001b[49m\n\u001b[0;32m    926\u001b[0m     \u001b[38;5;28;01mreturn\u001b[39;00m \u001b[38;5;28;01mTrue\u001b[39;00m\n",
      "File \u001b[1;32mc:\\analysis 2024-02-19\\privacyvenvv2\\Lib\\site-packages\\plotly\\basedatatypes.py:832\u001b[0m, in \u001b[0;36mBaseFigure._ipython_display_\u001b[1;34m(self)\u001b[0m\n\u001b[0;32m    829\u001b[0m \u001b[38;5;28;01mimport\u001b[39;00m \u001b[38;5;21;01mplotly\u001b[39;00m\u001b[38;5;21;01m.\u001b[39;00m\u001b[38;5;21;01mio\u001b[39;00m \u001b[38;5;28;01mas\u001b[39;00m \u001b[38;5;21;01mpio\u001b[39;00m\n\u001b[0;32m    831\u001b[0m \u001b[38;5;28;01mif\u001b[39;00m pio\u001b[38;5;241m.\u001b[39mrenderers\u001b[38;5;241m.\u001b[39mrender_on_display \u001b[38;5;129;01mand\u001b[39;00m pio\u001b[38;5;241m.\u001b[39mrenderers\u001b[38;5;241m.\u001b[39mdefault:\n\u001b[1;32m--> 832\u001b[0m     \u001b[43mpio\u001b[49m\u001b[38;5;241;43m.\u001b[39;49m\u001b[43mshow\u001b[49m\u001b[43m(\u001b[49m\u001b[38;5;28;43mself\u001b[39;49m\u001b[43m)\u001b[49m\n\u001b[0;32m    833\u001b[0m \u001b[38;5;28;01melse\u001b[39;00m:\n\u001b[0;32m    834\u001b[0m     \u001b[38;5;28mprint\u001b[39m(\u001b[38;5;28mrepr\u001b[39m(\u001b[38;5;28mself\u001b[39m))\n",
      "File \u001b[1;32mc:\\analysis 2024-02-19\\privacyvenvv2\\Lib\\site-packages\\plotly\\io\\_renderers.py:394\u001b[0m, in \u001b[0;36mshow\u001b[1;34m(fig, renderer, validate, **kwargs)\u001b[0m\n\u001b[0;32m    389\u001b[0m         \u001b[38;5;28;01mraise\u001b[39;00m \u001b[38;5;167;01mValueError\u001b[39;00m(\n\u001b[0;32m    390\u001b[0m             \u001b[38;5;124m\"\u001b[39m\u001b[38;5;124mMime type rendering requires ipython but it is not installed\u001b[39m\u001b[38;5;124m\"\u001b[39m\n\u001b[0;32m    391\u001b[0m         )\n\u001b[0;32m    393\u001b[0m     \u001b[38;5;28;01mif\u001b[39;00m \u001b[38;5;129;01mnot\u001b[39;00m nbformat \u001b[38;5;129;01mor\u001b[39;00m Version(nbformat\u001b[38;5;241m.\u001b[39m__version__) \u001b[38;5;241m<\u001b[39m Version(\u001b[38;5;124m\"\u001b[39m\u001b[38;5;124m4.2.0\u001b[39m\u001b[38;5;124m\"\u001b[39m):\n\u001b[1;32m--> 394\u001b[0m         \u001b[38;5;28;01mraise\u001b[39;00m \u001b[38;5;167;01mValueError\u001b[39;00m(\n\u001b[0;32m    395\u001b[0m             \u001b[38;5;124m\"\u001b[39m\u001b[38;5;124mMime type rendering requires nbformat>=4.2.0 but it is not installed\u001b[39m\u001b[38;5;124m\"\u001b[39m\n\u001b[0;32m    396\u001b[0m         )\n\u001b[0;32m    398\u001b[0m     ipython_display\u001b[38;5;241m.\u001b[39mdisplay(bundle, raw\u001b[38;5;241m=\u001b[39m\u001b[38;5;28;01mTrue\u001b[39;00m)\n\u001b[0;32m    400\u001b[0m \u001b[38;5;66;03m# external renderers\u001b[39;00m\n",
      "\u001b[1;31mValueError\u001b[0m: Mime type rendering requires nbformat>=4.2.0 but it is not installed"
     ]
    },
    {
     "data": {
      "application/vnd.plotly.v1+json": {
       "config": {
        "plotlyServerURL": "https://plot.ly"
       },
       "data": [
        {
         "hoverinfo": "text",
         "hovertext": [
          "<b>Topic 0</b><br>Words: event types, pm, criterion, event logging, of the",
          "<b>Topic 0</b><br>Words: the cloud service, cloud service, provider, service provider, cloud service provider",
          "<b>Topic 0</b><br>Words: minimization, the identified purpose, minimization objectives, data minimization, de identified",
          "<b>Topic 0</b><br>Words: csc, cloud service, provider, cloud service provider, service provider"
         ],
         "marker": {
          "color": "#E69F00"
         },
         "name": "0_the cloud service_continuous_cloud ser...",
         "orientation": "h",
         "type": "bar",
         "visible": true,
         "x": [
          6,
          121,
          1,
          4
         ],
         "y": [
          "fedramp",
          "c5",
          "iso_27701",
          "ccm"
         ]
        },
        {
         "hoverinfo": "text",
         "hovertext": [
          "<b>Topic 1</b><br>Words: training and awareness, being provided should, the training is, and awareness shall, subject to timely",
          "<b>Topic 1</b><br>Words: risk monitoring, monitoring risk monitoring, effectiveness monitoring, organizational position descriptions, risk response measures",
          "<b>Topic 1</b><br>Words: supply chain, and procedures, policies and procedures, policies and, audit"
         ],
         "marker": {
          "color": "#56B4E9"
         },
         "name": "1_supply chain_and procedures_policies a...",
         "orientation": "h",
         "type": "bar",
         "visible": "legendonly",
         "x": [
          1,
          2,
          44
         ],
         "y": [
          "eu_coc",
          "fedramp",
          "ccm"
         ]
        },
        {
         "hoverinfo": "text",
         "hovertext": [
          "<b>Topic 2</b><br>Words: hardcopy materials, where hardcopy materials, materials are destroyed, hardcopy materials control, hardcopy materials are",
          "<b>Topic 2</b><br>Words: objectives and what, organization shall define, information minimization objectives, document data minimization, information minimization",
          "<b>Topic 2</b><br>Words: privileged access, access management, identity access, identity access management, processes procedures and",
          "<b>Topic 2</b><br>Words: hardcopy materials, where hardcopy materials, materials are destroyed, hardcopy materials control, hardcopy materials are"
         ],
         "marker": {
          "color": "#009E73"
         },
         "name": "2_privileged access_access management_id...",
         "orientation": "h",
         "type": "bar",
         "visible": "legendonly",
         "x": [
          1,
          1,
          40,
          1
         ],
         "y": [
          "iso_27018",
          "iso_27701",
          "ccm",
          "iso_27002"
         ]
        },
        {
         "hoverinfo": "text",
         "hovertext": [
          "<b>Topic 3</b><br>Words: personally identifiable, personally identifiable information, identifiable information, identifiable, the organization shall"
         ],
         "marker": {
          "color": "#F0E442"
         },
         "name": "3_personally identifiable_personally ide...",
         "orientation": "h",
         "type": "bar",
         "visible": "legendonly",
         "x": [
          32
         ],
         "y": [
          "iso_27701"
         ]
        },
        {
         "hoverinfo": "text",
         "hovertext": [
          "<b>Topic 4</b><br>Words: cloud service provider, service provider, cloud service, service provider shall, customer personal data"
         ],
         "marker": {
          "color": "#D55E00"
         },
         "name": "4_cloud service provider_service provide...",
         "orientation": "h",
         "type": "bar",
         "visible": "legendonly",
         "x": [
          29
         ],
         "y": [
          "eu_coc"
         ]
        },
        {
         "hoverinfo": "text",
         "hovertext": [
          "<b>Topic 5</b><br>Words: business continuity, resilience, and procedures, operational resilience, policies and procedures"
         ],
         "marker": {
          "color": "#0072B2"
         },
         "name": "5_business continuity_resilience_and pro...",
         "orientation": "h",
         "type": "bar",
         "visible": "legendonly",
         "x": [
          22
         ],
         "y": [
          "ccm"
         ]
        },
        {
         "hoverinfo": "text",
         "hovertext": [
          "<b>Topic 6</b><br>Words: contingency, alternate processing, contingency planning, alternate processing site, telecommunications services"
         ],
         "marker": {
          "color": "#CC79A7"
         },
         "name": "6_contingency_alternate processing_conti...",
         "orientation": "h",
         "type": "bar",
         "visible": "legendonly",
         "x": [
          21
         ],
         "y": [
          "fedramp"
         ]
        },
        {
         "hoverinfo": "text",
         "hovertext": [
          "<b>Topic 7</b><br>Words: data subjects, criteria for privacy, of personal information, objectives related to, to privacy"
         ],
         "marker": {
          "color": "#E69F00"
         },
         "name": "7_data subjects_criteria for privacy_of ...",
         "orientation": "h",
         "type": "bar",
         "visible": "legendonly",
         "x": [
          20
         ],
         "y": [
          "soc2"
         ]
        },
        {
         "hoverinfo": "text",
         "hovertext": [
          "<b>Topic 8</b><br>Words: monitoring, security and privacy, and privacy, security and, the system",
          "<b>Topic 8</b><br>Words: the entity, system changes, process is, process is in, is in place",
          "<b>Topic 8</b><br>Words: or percentage of, or percentage, count or, count or percentage, percentage of"
         ],
         "marker": {
          "color": "#56B4E9"
         },
         "name": "8_monitoring_security and privacy_and pr...",
         "orientation": "h",
         "type": "bar",
         "visible": "legendonly",
         "x": [
          13,
          2,
          4
         ],
         "y": [
          "fedramp",
          "soc2",
          "ccm"
         ]
        },
        {
         "hoverinfo": "text",
         "hovertext": [
          "<b>Topic 9</b><br>Words: key management, cryptography encryption, encryption key management, cryptography encryption key, management system"
         ],
         "marker": {
          "color": "#009E73"
         },
         "name": "9_key management_cryptography encryption...",
         "orientation": "h",
         "type": "bar",
         "visible": "legendonly",
         "x": [
          18
         ],
         "y": [
          "ccm"
         ]
        }
       ],
       "layout": {
        "height": 900,
        "hoverlabel": {
         "bgcolor": "white",
         "font": {
          "family": "Rockwell",
          "size": 16
         }
        },
        "legend": {
         "title": {
          "text": "<b>Global Topic Representation"
         }
        },
        "template": {
         "data": {
          "bar": [
           {
            "error_x": {
             "color": "rgb(36,36,36)"
            },
            "error_y": {
             "color": "rgb(36,36,36)"
            },
            "marker": {
             "line": {
              "color": "white",
              "width": 0.5
             },
             "pattern": {
              "fillmode": "overlay",
              "size": 10,
              "solidity": 0.2
             }
            },
            "type": "bar"
           }
          ],
          "barpolar": [
           {
            "marker": {
             "line": {
              "color": "white",
              "width": 0.5
             },
             "pattern": {
              "fillmode": "overlay",
              "size": 10,
              "solidity": 0.2
             }
            },
            "type": "barpolar"
           }
          ],
          "carpet": [
           {
            "aaxis": {
             "endlinecolor": "rgb(36,36,36)",
             "gridcolor": "white",
             "linecolor": "white",
             "minorgridcolor": "white",
             "startlinecolor": "rgb(36,36,36)"
            },
            "baxis": {
             "endlinecolor": "rgb(36,36,36)",
             "gridcolor": "white",
             "linecolor": "white",
             "minorgridcolor": "white",
             "startlinecolor": "rgb(36,36,36)"
            },
            "type": "carpet"
           }
          ],
          "choropleth": [
           {
            "colorbar": {
             "outlinewidth": 1,
             "tickcolor": "rgb(36,36,36)",
             "ticks": "outside"
            },
            "type": "choropleth"
           }
          ],
          "contour": [
           {
            "colorbar": {
             "outlinewidth": 1,
             "tickcolor": "rgb(36,36,36)",
             "ticks": "outside"
            },
            "colorscale": [
             [
              0,
              "#440154"
             ],
             [
              0.1111111111111111,
              "#482878"
             ],
             [
              0.2222222222222222,
              "#3e4989"
             ],
             [
              0.3333333333333333,
              "#31688e"
             ],
             [
              0.4444444444444444,
              "#26828e"
             ],
             [
              0.5555555555555556,
              "#1f9e89"
             ],
             [
              0.6666666666666666,
              "#35b779"
             ],
             [
              0.7777777777777778,
              "#6ece58"
             ],
             [
              0.8888888888888888,
              "#b5de2b"
             ],
             [
              1,
              "#fde725"
             ]
            ],
            "type": "contour"
           }
          ],
          "contourcarpet": [
           {
            "colorbar": {
             "outlinewidth": 1,
             "tickcolor": "rgb(36,36,36)",
             "ticks": "outside"
            },
            "type": "contourcarpet"
           }
          ],
          "heatmap": [
           {
            "colorbar": {
             "outlinewidth": 1,
             "tickcolor": "rgb(36,36,36)",
             "ticks": "outside"
            },
            "colorscale": [
             [
              0,
              "#440154"
             ],
             [
              0.1111111111111111,
              "#482878"
             ],
             [
              0.2222222222222222,
              "#3e4989"
             ],
             [
              0.3333333333333333,
              "#31688e"
             ],
             [
              0.4444444444444444,
              "#26828e"
             ],
             [
              0.5555555555555556,
              "#1f9e89"
             ],
             [
              0.6666666666666666,
              "#35b779"
             ],
             [
              0.7777777777777778,
              "#6ece58"
             ],
             [
              0.8888888888888888,
              "#b5de2b"
             ],
             [
              1,
              "#fde725"
             ]
            ],
            "type": "heatmap"
           }
          ],
          "heatmapgl": [
           {
            "colorbar": {
             "outlinewidth": 1,
             "tickcolor": "rgb(36,36,36)",
             "ticks": "outside"
            },
            "colorscale": [
             [
              0,
              "#440154"
             ],
             [
              0.1111111111111111,
              "#482878"
             ],
             [
              0.2222222222222222,
              "#3e4989"
             ],
             [
              0.3333333333333333,
              "#31688e"
             ],
             [
              0.4444444444444444,
              "#26828e"
             ],
             [
              0.5555555555555556,
              "#1f9e89"
             ],
             [
              0.6666666666666666,
              "#35b779"
             ],
             [
              0.7777777777777778,
              "#6ece58"
             ],
             [
              0.8888888888888888,
              "#b5de2b"
             ],
             [
              1,
              "#fde725"
             ]
            ],
            "type": "heatmapgl"
           }
          ],
          "histogram": [
           {
            "marker": {
             "line": {
              "color": "white",
              "width": 0.6
             }
            },
            "type": "histogram"
           }
          ],
          "histogram2d": [
           {
            "colorbar": {
             "outlinewidth": 1,
             "tickcolor": "rgb(36,36,36)",
             "ticks": "outside"
            },
            "colorscale": [
             [
              0,
              "#440154"
             ],
             [
              0.1111111111111111,
              "#482878"
             ],
             [
              0.2222222222222222,
              "#3e4989"
             ],
             [
              0.3333333333333333,
              "#31688e"
             ],
             [
              0.4444444444444444,
              "#26828e"
             ],
             [
              0.5555555555555556,
              "#1f9e89"
             ],
             [
              0.6666666666666666,
              "#35b779"
             ],
             [
              0.7777777777777778,
              "#6ece58"
             ],
             [
              0.8888888888888888,
              "#b5de2b"
             ],
             [
              1,
              "#fde725"
             ]
            ],
            "type": "histogram2d"
           }
          ],
          "histogram2dcontour": [
           {
            "colorbar": {
             "outlinewidth": 1,
             "tickcolor": "rgb(36,36,36)",
             "ticks": "outside"
            },
            "colorscale": [
             [
              0,
              "#440154"
             ],
             [
              0.1111111111111111,
              "#482878"
             ],
             [
              0.2222222222222222,
              "#3e4989"
             ],
             [
              0.3333333333333333,
              "#31688e"
             ],
             [
              0.4444444444444444,
              "#26828e"
             ],
             [
              0.5555555555555556,
              "#1f9e89"
             ],
             [
              0.6666666666666666,
              "#35b779"
             ],
             [
              0.7777777777777778,
              "#6ece58"
             ],
             [
              0.8888888888888888,
              "#b5de2b"
             ],
             [
              1,
              "#fde725"
             ]
            ],
            "type": "histogram2dcontour"
           }
          ],
          "mesh3d": [
           {
            "colorbar": {
             "outlinewidth": 1,
             "tickcolor": "rgb(36,36,36)",
             "ticks": "outside"
            },
            "type": "mesh3d"
           }
          ],
          "parcoords": [
           {
            "line": {
             "colorbar": {
              "outlinewidth": 1,
              "tickcolor": "rgb(36,36,36)",
              "ticks": "outside"
             }
            },
            "type": "parcoords"
           }
          ],
          "pie": [
           {
            "automargin": true,
            "type": "pie"
           }
          ],
          "scatter": [
           {
            "fillpattern": {
             "fillmode": "overlay",
             "size": 10,
             "solidity": 0.2
            },
            "type": "scatter"
           }
          ],
          "scatter3d": [
           {
            "line": {
             "colorbar": {
              "outlinewidth": 1,
              "tickcolor": "rgb(36,36,36)",
              "ticks": "outside"
             }
            },
            "marker": {
             "colorbar": {
              "outlinewidth": 1,
              "tickcolor": "rgb(36,36,36)",
              "ticks": "outside"
             }
            },
            "type": "scatter3d"
           }
          ],
          "scattercarpet": [
           {
            "marker": {
             "colorbar": {
              "outlinewidth": 1,
              "tickcolor": "rgb(36,36,36)",
              "ticks": "outside"
             }
            },
            "type": "scattercarpet"
           }
          ],
          "scattergeo": [
           {
            "marker": {
             "colorbar": {
              "outlinewidth": 1,
              "tickcolor": "rgb(36,36,36)",
              "ticks": "outside"
             }
            },
            "type": "scattergeo"
           }
          ],
          "scattergl": [
           {
            "marker": {
             "colorbar": {
              "outlinewidth": 1,
              "tickcolor": "rgb(36,36,36)",
              "ticks": "outside"
             }
            },
            "type": "scattergl"
           }
          ],
          "scattermapbox": [
           {
            "marker": {
             "colorbar": {
              "outlinewidth": 1,
              "tickcolor": "rgb(36,36,36)",
              "ticks": "outside"
             }
            },
            "type": "scattermapbox"
           }
          ],
          "scatterpolar": [
           {
            "marker": {
             "colorbar": {
              "outlinewidth": 1,
              "tickcolor": "rgb(36,36,36)",
              "ticks": "outside"
             }
            },
            "type": "scatterpolar"
           }
          ],
          "scatterpolargl": [
           {
            "marker": {
             "colorbar": {
              "outlinewidth": 1,
              "tickcolor": "rgb(36,36,36)",
              "ticks": "outside"
             }
            },
            "type": "scatterpolargl"
           }
          ],
          "scatterternary": [
           {
            "marker": {
             "colorbar": {
              "outlinewidth": 1,
              "tickcolor": "rgb(36,36,36)",
              "ticks": "outside"
             }
            },
            "type": "scatterternary"
           }
          ],
          "surface": [
           {
            "colorbar": {
             "outlinewidth": 1,
             "tickcolor": "rgb(36,36,36)",
             "ticks": "outside"
            },
            "colorscale": [
             [
              0,
              "#440154"
             ],
             [
              0.1111111111111111,
              "#482878"
             ],
             [
              0.2222222222222222,
              "#3e4989"
             ],
             [
              0.3333333333333333,
              "#31688e"
             ],
             [
              0.4444444444444444,
              "#26828e"
             ],
             [
              0.5555555555555556,
              "#1f9e89"
             ],
             [
              0.6666666666666666,
              "#35b779"
             ],
             [
              0.7777777777777778,
              "#6ece58"
             ],
             [
              0.8888888888888888,
              "#b5de2b"
             ],
             [
              1,
              "#fde725"
             ]
            ],
            "type": "surface"
           }
          ],
          "table": [
           {
            "cells": {
             "fill": {
              "color": "rgb(237,237,237)"
             },
             "line": {
              "color": "white"
             }
            },
            "header": {
             "fill": {
              "color": "rgb(217,217,217)"
             },
             "line": {
              "color": "white"
             }
            },
            "type": "table"
           }
          ]
         },
         "layout": {
          "annotationdefaults": {
           "arrowhead": 0,
           "arrowwidth": 1
          },
          "autotypenumbers": "strict",
          "coloraxis": {
           "colorbar": {
            "outlinewidth": 1,
            "tickcolor": "rgb(36,36,36)",
            "ticks": "outside"
           }
          },
          "colorscale": {
           "diverging": [
            [
             0,
             "rgb(103,0,31)"
            ],
            [
             0.1,
             "rgb(178,24,43)"
            ],
            [
             0.2,
             "rgb(214,96,77)"
            ],
            [
             0.3,
             "rgb(244,165,130)"
            ],
            [
             0.4,
             "rgb(253,219,199)"
            ],
            [
             0.5,
             "rgb(247,247,247)"
            ],
            [
             0.6,
             "rgb(209,229,240)"
            ],
            [
             0.7,
             "rgb(146,197,222)"
            ],
            [
             0.8,
             "rgb(67,147,195)"
            ],
            [
             0.9,
             "rgb(33,102,172)"
            ],
            [
             1,
             "rgb(5,48,97)"
            ]
           ],
           "sequential": [
            [
             0,
             "#440154"
            ],
            [
             0.1111111111111111,
             "#482878"
            ],
            [
             0.2222222222222222,
             "#3e4989"
            ],
            [
             0.3333333333333333,
             "#31688e"
            ],
            [
             0.4444444444444444,
             "#26828e"
            ],
            [
             0.5555555555555556,
             "#1f9e89"
            ],
            [
             0.6666666666666666,
             "#35b779"
            ],
            [
             0.7777777777777778,
             "#6ece58"
            ],
            [
             0.8888888888888888,
             "#b5de2b"
            ],
            [
             1,
             "#fde725"
            ]
           ],
           "sequentialminus": [
            [
             0,
             "#440154"
            ],
            [
             0.1111111111111111,
             "#482878"
            ],
            [
             0.2222222222222222,
             "#3e4989"
            ],
            [
             0.3333333333333333,
             "#31688e"
            ],
            [
             0.4444444444444444,
             "#26828e"
            ],
            [
             0.5555555555555556,
             "#1f9e89"
            ],
            [
             0.6666666666666666,
             "#35b779"
            ],
            [
             0.7777777777777778,
             "#6ece58"
            ],
            [
             0.8888888888888888,
             "#b5de2b"
            ],
            [
             1,
             "#fde725"
            ]
           ]
          },
          "colorway": [
           "#1F77B4",
           "#FF7F0E",
           "#2CA02C",
           "#D62728",
           "#9467BD",
           "#8C564B",
           "#E377C2",
           "#7F7F7F",
           "#BCBD22",
           "#17BECF"
          ],
          "font": {
           "color": "rgb(36,36,36)"
          },
          "geo": {
           "bgcolor": "white",
           "lakecolor": "white",
           "landcolor": "white",
           "showlakes": true,
           "showland": true,
           "subunitcolor": "white"
          },
          "hoverlabel": {
           "align": "left"
          },
          "hovermode": "closest",
          "mapbox": {
           "style": "light"
          },
          "paper_bgcolor": "white",
          "plot_bgcolor": "white",
          "polar": {
           "angularaxis": {
            "gridcolor": "rgb(232,232,232)",
            "linecolor": "rgb(36,36,36)",
            "showgrid": false,
            "showline": true,
            "ticks": "outside"
           },
           "bgcolor": "white",
           "radialaxis": {
            "gridcolor": "rgb(232,232,232)",
            "linecolor": "rgb(36,36,36)",
            "showgrid": false,
            "showline": true,
            "ticks": "outside"
           }
          },
          "scene": {
           "xaxis": {
            "backgroundcolor": "white",
            "gridcolor": "rgb(232,232,232)",
            "gridwidth": 2,
            "linecolor": "rgb(36,36,36)",
            "showbackground": true,
            "showgrid": false,
            "showline": true,
            "ticks": "outside",
            "zeroline": false,
            "zerolinecolor": "rgb(36,36,36)"
           },
           "yaxis": {
            "backgroundcolor": "white",
            "gridcolor": "rgb(232,232,232)",
            "gridwidth": 2,
            "linecolor": "rgb(36,36,36)",
            "showbackground": true,
            "showgrid": false,
            "showline": true,
            "ticks": "outside",
            "zeroline": false,
            "zerolinecolor": "rgb(36,36,36)"
           },
           "zaxis": {
            "backgroundcolor": "white",
            "gridcolor": "rgb(232,232,232)",
            "gridwidth": 2,
            "linecolor": "rgb(36,36,36)",
            "showbackground": true,
            "showgrid": false,
            "showline": true,
            "ticks": "outside",
            "zeroline": false,
            "zerolinecolor": "rgb(36,36,36)"
           }
          },
          "shapedefaults": {
           "fillcolor": "black",
           "line": {
            "width": 0
           },
           "opacity": 0.3
          },
          "ternary": {
           "aaxis": {
            "gridcolor": "rgb(232,232,232)",
            "linecolor": "rgb(36,36,36)",
            "showgrid": false,
            "showline": true,
            "ticks": "outside"
           },
           "baxis": {
            "gridcolor": "rgb(232,232,232)",
            "linecolor": "rgb(36,36,36)",
            "showgrid": false,
            "showline": true,
            "ticks": "outside"
           },
           "bgcolor": "white",
           "caxis": {
            "gridcolor": "rgb(232,232,232)",
            "linecolor": "rgb(36,36,36)",
            "showgrid": false,
            "showline": true,
            "ticks": "outside"
           }
          },
          "title": {
           "x": 0.05
          },
          "xaxis": {
           "automargin": true,
           "gridcolor": "rgb(232,232,232)",
           "linecolor": "rgb(36,36,36)",
           "showgrid": false,
           "showline": true,
           "ticks": "outside",
           "title": {
            "standoff": 15
           },
           "zeroline": false,
           "zerolinecolor": "rgb(36,36,36)"
          },
          "yaxis": {
           "automargin": true,
           "gridcolor": "rgb(232,232,232)",
           "linecolor": "rgb(36,36,36)",
           "showgrid": false,
           "showline": true,
           "ticks": "outside",
           "title": {
            "standoff": 15
           },
           "zeroline": false,
           "zerolinecolor": "rgb(36,36,36)"
          }
         }
        },
        "title": {
         "font": {
          "color": "Black",
          "size": 22
         },
         "text": "<b>Topics per Class</b>",
         "x": 0.4,
         "xanchor": "center",
         "y": 0.95,
         "yanchor": "top"
        },
        "width": 1250,
        "xaxis": {
         "showgrid": true,
         "title": {
          "text": "Frequency"
         }
        },
        "yaxis": {
         "showgrid": true,
         "title": {
          "text": "Class"
         }
        }
       }
      },
      "text/html": [
       "<div>                        <script type=\"text/javascript\">window.PlotlyConfig = {MathJaxConfig: 'local'};</script>\n",
       "        <script charset=\"utf-8\" src=\"https://cdn.plot.ly/plotly-2.29.1.min.js\"></script>                <div id=\"bdf9b57a-6c08-41fc-916c-4a854f6384ea\" class=\"plotly-graph-div\" style=\"height:900px; width:1250px;\"></div>            <script type=\"text/javascript\">                                    window.PLOTLYENV=window.PLOTLYENV || {};                                    if (document.getElementById(\"bdf9b57a-6c08-41fc-916c-4a854f6384ea\")) {                    Plotly.newPlot(                        \"bdf9b57a-6c08-41fc-916c-4a854f6384ea\",                        [{\"hoverinfo\":\"text\",\"hovertext\":[\"\\u003cb\\u003eTopic 0\\u003c\\u002fb\\u003e\\u003cbr\\u003eWords: event types, pm, criterion, event logging, of the\",\"\\u003cb\\u003eTopic 0\\u003c\\u002fb\\u003e\\u003cbr\\u003eWords: the cloud service, cloud service, provider, service provider, cloud service provider\",\"\\u003cb\\u003eTopic 0\\u003c\\u002fb\\u003e\\u003cbr\\u003eWords: minimization, the identified purpose, minimization objectives, data minimization, de identified\",\"\\u003cb\\u003eTopic 0\\u003c\\u002fb\\u003e\\u003cbr\\u003eWords: csc, cloud service, provider, cloud service provider, service provider\"],\"marker\":{\"color\":\"#E69F00\"},\"name\":\"0_the cloud service_continuous_cloud ser...\",\"orientation\":\"h\",\"visible\":true,\"x\":[6,121,1,4],\"y\":[\"fedramp\",\"c5\",\"iso_27701\",\"ccm\"],\"type\":\"bar\"},{\"hoverinfo\":\"text\",\"hovertext\":[\"\\u003cb\\u003eTopic 1\\u003c\\u002fb\\u003e\\u003cbr\\u003eWords: training and awareness, being provided should, the training is, and awareness shall, subject to timely\",\"\\u003cb\\u003eTopic 1\\u003c\\u002fb\\u003e\\u003cbr\\u003eWords: risk monitoring, monitoring risk monitoring, effectiveness monitoring, organizational position descriptions, risk response measures\",\"\\u003cb\\u003eTopic 1\\u003c\\u002fb\\u003e\\u003cbr\\u003eWords: supply chain, and procedures, policies and procedures, policies and, audit\"],\"marker\":{\"color\":\"#56B4E9\"},\"name\":\"1_supply chain_and procedures_policies a...\",\"orientation\":\"h\",\"visible\":\"legendonly\",\"x\":[1,2,44],\"y\":[\"eu_coc\",\"fedramp\",\"ccm\"],\"type\":\"bar\"},{\"hoverinfo\":\"text\",\"hovertext\":[\"\\u003cb\\u003eTopic 2\\u003c\\u002fb\\u003e\\u003cbr\\u003eWords: hardcopy materials, where hardcopy materials, materials are destroyed, hardcopy materials control, hardcopy materials are\",\"\\u003cb\\u003eTopic 2\\u003c\\u002fb\\u003e\\u003cbr\\u003eWords: objectives and what, organization shall define, information minimization objectives, document data minimization, information minimization\",\"\\u003cb\\u003eTopic 2\\u003c\\u002fb\\u003e\\u003cbr\\u003eWords: privileged access, access management, identity access, identity access management, processes procedures and\",\"\\u003cb\\u003eTopic 2\\u003c\\u002fb\\u003e\\u003cbr\\u003eWords: hardcopy materials, where hardcopy materials, materials are destroyed, hardcopy materials control, hardcopy materials are\"],\"marker\":{\"color\":\"#009E73\"},\"name\":\"2_privileged access_access management_id...\",\"orientation\":\"h\",\"visible\":\"legendonly\",\"x\":[1,1,40,1],\"y\":[\"iso_27018\",\"iso_27701\",\"ccm\",\"iso_27002\"],\"type\":\"bar\"},{\"hoverinfo\":\"text\",\"hovertext\":[\"\\u003cb\\u003eTopic 3\\u003c\\u002fb\\u003e\\u003cbr\\u003eWords: personally identifiable, personally identifiable information, identifiable information, identifiable, the organization shall\"],\"marker\":{\"color\":\"#F0E442\"},\"name\":\"3_personally identifiable_personally ide...\",\"orientation\":\"h\",\"visible\":\"legendonly\",\"x\":[32],\"y\":[\"iso_27701\"],\"type\":\"bar\"},{\"hoverinfo\":\"text\",\"hovertext\":[\"\\u003cb\\u003eTopic 4\\u003c\\u002fb\\u003e\\u003cbr\\u003eWords: cloud service provider, service provider, cloud service, service provider shall, customer personal data\"],\"marker\":{\"color\":\"#D55E00\"},\"name\":\"4_cloud service provider_service provide...\",\"orientation\":\"h\",\"visible\":\"legendonly\",\"x\":[29],\"y\":[\"eu_coc\"],\"type\":\"bar\"},{\"hoverinfo\":\"text\",\"hovertext\":[\"\\u003cb\\u003eTopic 5\\u003c\\u002fb\\u003e\\u003cbr\\u003eWords: business continuity, resilience, and procedures, operational resilience, policies and procedures\"],\"marker\":{\"color\":\"#0072B2\"},\"name\":\"5_business continuity_resilience_and pro...\",\"orientation\":\"h\",\"visible\":\"legendonly\",\"x\":[22],\"y\":[\"ccm\"],\"type\":\"bar\"},{\"hoverinfo\":\"text\",\"hovertext\":[\"\\u003cb\\u003eTopic 6\\u003c\\u002fb\\u003e\\u003cbr\\u003eWords: contingency, alternate processing, contingency planning, alternate processing site, telecommunications services\"],\"marker\":{\"color\":\"#CC79A7\"},\"name\":\"6_contingency_alternate processing_conti...\",\"orientation\":\"h\",\"visible\":\"legendonly\",\"x\":[21],\"y\":[\"fedramp\"],\"type\":\"bar\"},{\"hoverinfo\":\"text\",\"hovertext\":[\"\\u003cb\\u003eTopic 7\\u003c\\u002fb\\u003e\\u003cbr\\u003eWords: data subjects, criteria for privacy, of personal information, objectives related to, to privacy\"],\"marker\":{\"color\":\"#E69F00\"},\"name\":\"7_data subjects_criteria for privacy_of ...\",\"orientation\":\"h\",\"visible\":\"legendonly\",\"x\":[20],\"y\":[\"soc2\"],\"type\":\"bar\"},{\"hoverinfo\":\"text\",\"hovertext\":[\"\\u003cb\\u003eTopic 8\\u003c\\u002fb\\u003e\\u003cbr\\u003eWords: monitoring, security and privacy, and privacy, security and, the system\",\"\\u003cb\\u003eTopic 8\\u003c\\u002fb\\u003e\\u003cbr\\u003eWords: the entity, system changes, process is, process is in, is in place\",\"\\u003cb\\u003eTopic 8\\u003c\\u002fb\\u003e\\u003cbr\\u003eWords: or percentage of, or percentage, count or, count or percentage, percentage of\"],\"marker\":{\"color\":\"#56B4E9\"},\"name\":\"8_monitoring_security and privacy_and pr...\",\"orientation\":\"h\",\"visible\":\"legendonly\",\"x\":[13,2,4],\"y\":[\"fedramp\",\"soc2\",\"ccm\"],\"type\":\"bar\"},{\"hoverinfo\":\"text\",\"hovertext\":[\"\\u003cb\\u003eTopic 9\\u003c\\u002fb\\u003e\\u003cbr\\u003eWords: key management, cryptography encryption, encryption key management, cryptography encryption key, management system\"],\"marker\":{\"color\":\"#009E73\"},\"name\":\"9_key management_cryptography encryption...\",\"orientation\":\"h\",\"visible\":\"legendonly\",\"x\":[18],\"y\":[\"ccm\"],\"type\":\"bar\"}],                        {\"template\":{\"data\":{\"barpolar\":[{\"marker\":{\"line\":{\"color\":\"white\",\"width\":0.5},\"pattern\":{\"fillmode\":\"overlay\",\"size\":10,\"solidity\":0.2}},\"type\":\"barpolar\"}],\"bar\":[{\"error_x\":{\"color\":\"rgb(36,36,36)\"},\"error_y\":{\"color\":\"rgb(36,36,36)\"},\"marker\":{\"line\":{\"color\":\"white\",\"width\":0.5},\"pattern\":{\"fillmode\":\"overlay\",\"size\":10,\"solidity\":0.2}},\"type\":\"bar\"}],\"carpet\":[{\"aaxis\":{\"endlinecolor\":\"rgb(36,36,36)\",\"gridcolor\":\"white\",\"linecolor\":\"white\",\"minorgridcolor\":\"white\",\"startlinecolor\":\"rgb(36,36,36)\"},\"baxis\":{\"endlinecolor\":\"rgb(36,36,36)\",\"gridcolor\":\"white\",\"linecolor\":\"white\",\"minorgridcolor\":\"white\",\"startlinecolor\":\"rgb(36,36,36)\"},\"type\":\"carpet\"}],\"choropleth\":[{\"colorbar\":{\"outlinewidth\":1,\"tickcolor\":\"rgb(36,36,36)\",\"ticks\":\"outside\"},\"type\":\"choropleth\"}],\"contourcarpet\":[{\"colorbar\":{\"outlinewidth\":1,\"tickcolor\":\"rgb(36,36,36)\",\"ticks\":\"outside\"},\"type\":\"contourcarpet\"}],\"contour\":[{\"colorbar\":{\"outlinewidth\":1,\"tickcolor\":\"rgb(36,36,36)\",\"ticks\":\"outside\"},\"colorscale\":[[0.0,\"#440154\"],[0.1111111111111111,\"#482878\"],[0.2222222222222222,\"#3e4989\"],[0.3333333333333333,\"#31688e\"],[0.4444444444444444,\"#26828e\"],[0.5555555555555556,\"#1f9e89\"],[0.6666666666666666,\"#35b779\"],[0.7777777777777778,\"#6ece58\"],[0.8888888888888888,\"#b5de2b\"],[1.0,\"#fde725\"]],\"type\":\"contour\"}],\"heatmapgl\":[{\"colorbar\":{\"outlinewidth\":1,\"tickcolor\":\"rgb(36,36,36)\",\"ticks\":\"outside\"},\"colorscale\":[[0.0,\"#440154\"],[0.1111111111111111,\"#482878\"],[0.2222222222222222,\"#3e4989\"],[0.3333333333333333,\"#31688e\"],[0.4444444444444444,\"#26828e\"],[0.5555555555555556,\"#1f9e89\"],[0.6666666666666666,\"#35b779\"],[0.7777777777777778,\"#6ece58\"],[0.8888888888888888,\"#b5de2b\"],[1.0,\"#fde725\"]],\"type\":\"heatmapgl\"}],\"heatmap\":[{\"colorbar\":{\"outlinewidth\":1,\"tickcolor\":\"rgb(36,36,36)\",\"ticks\":\"outside\"},\"colorscale\":[[0.0,\"#440154\"],[0.1111111111111111,\"#482878\"],[0.2222222222222222,\"#3e4989\"],[0.3333333333333333,\"#31688e\"],[0.4444444444444444,\"#26828e\"],[0.5555555555555556,\"#1f9e89\"],[0.6666666666666666,\"#35b779\"],[0.7777777777777778,\"#6ece58\"],[0.8888888888888888,\"#b5de2b\"],[1.0,\"#fde725\"]],\"type\":\"heatmap\"}],\"histogram2dcontour\":[{\"colorbar\":{\"outlinewidth\":1,\"tickcolor\":\"rgb(36,36,36)\",\"ticks\":\"outside\"},\"colorscale\":[[0.0,\"#440154\"],[0.1111111111111111,\"#482878\"],[0.2222222222222222,\"#3e4989\"],[0.3333333333333333,\"#31688e\"],[0.4444444444444444,\"#26828e\"],[0.5555555555555556,\"#1f9e89\"],[0.6666666666666666,\"#35b779\"],[0.7777777777777778,\"#6ece58\"],[0.8888888888888888,\"#b5de2b\"],[1.0,\"#fde725\"]],\"type\":\"histogram2dcontour\"}],\"histogram2d\":[{\"colorbar\":{\"outlinewidth\":1,\"tickcolor\":\"rgb(36,36,36)\",\"ticks\":\"outside\"},\"colorscale\":[[0.0,\"#440154\"],[0.1111111111111111,\"#482878\"],[0.2222222222222222,\"#3e4989\"],[0.3333333333333333,\"#31688e\"],[0.4444444444444444,\"#26828e\"],[0.5555555555555556,\"#1f9e89\"],[0.6666666666666666,\"#35b779\"],[0.7777777777777778,\"#6ece58\"],[0.8888888888888888,\"#b5de2b\"],[1.0,\"#fde725\"]],\"type\":\"histogram2d\"}],\"histogram\":[{\"marker\":{\"line\":{\"color\":\"white\",\"width\":0.6}},\"type\":\"histogram\"}],\"mesh3d\":[{\"colorbar\":{\"outlinewidth\":1,\"tickcolor\":\"rgb(36,36,36)\",\"ticks\":\"outside\"},\"type\":\"mesh3d\"}],\"parcoords\":[{\"line\":{\"colorbar\":{\"outlinewidth\":1,\"tickcolor\":\"rgb(36,36,36)\",\"ticks\":\"outside\"}},\"type\":\"parcoords\"}],\"pie\":[{\"automargin\":true,\"type\":\"pie\"}],\"scatter3d\":[{\"line\":{\"colorbar\":{\"outlinewidth\":1,\"tickcolor\":\"rgb(36,36,36)\",\"ticks\":\"outside\"}},\"marker\":{\"colorbar\":{\"outlinewidth\":1,\"tickcolor\":\"rgb(36,36,36)\",\"ticks\":\"outside\"}},\"type\":\"scatter3d\"}],\"scattercarpet\":[{\"marker\":{\"colorbar\":{\"outlinewidth\":1,\"tickcolor\":\"rgb(36,36,36)\",\"ticks\":\"outside\"}},\"type\":\"scattercarpet\"}],\"scattergeo\":[{\"marker\":{\"colorbar\":{\"outlinewidth\":1,\"tickcolor\":\"rgb(36,36,36)\",\"ticks\":\"outside\"}},\"type\":\"scattergeo\"}],\"scattergl\":[{\"marker\":{\"colorbar\":{\"outlinewidth\":1,\"tickcolor\":\"rgb(36,36,36)\",\"ticks\":\"outside\"}},\"type\":\"scattergl\"}],\"scattermapbox\":[{\"marker\":{\"colorbar\":{\"outlinewidth\":1,\"tickcolor\":\"rgb(36,36,36)\",\"ticks\":\"outside\"}},\"type\":\"scattermapbox\"}],\"scatterpolargl\":[{\"marker\":{\"colorbar\":{\"outlinewidth\":1,\"tickcolor\":\"rgb(36,36,36)\",\"ticks\":\"outside\"}},\"type\":\"scatterpolargl\"}],\"scatterpolar\":[{\"marker\":{\"colorbar\":{\"outlinewidth\":1,\"tickcolor\":\"rgb(36,36,36)\",\"ticks\":\"outside\"}},\"type\":\"scatterpolar\"}],\"scatter\":[{\"fillpattern\":{\"fillmode\":\"overlay\",\"size\":10,\"solidity\":0.2},\"type\":\"scatter\"}],\"scatterternary\":[{\"marker\":{\"colorbar\":{\"outlinewidth\":1,\"tickcolor\":\"rgb(36,36,36)\",\"ticks\":\"outside\"}},\"type\":\"scatterternary\"}],\"surface\":[{\"colorbar\":{\"outlinewidth\":1,\"tickcolor\":\"rgb(36,36,36)\",\"ticks\":\"outside\"},\"colorscale\":[[0.0,\"#440154\"],[0.1111111111111111,\"#482878\"],[0.2222222222222222,\"#3e4989\"],[0.3333333333333333,\"#31688e\"],[0.4444444444444444,\"#26828e\"],[0.5555555555555556,\"#1f9e89\"],[0.6666666666666666,\"#35b779\"],[0.7777777777777778,\"#6ece58\"],[0.8888888888888888,\"#b5de2b\"],[1.0,\"#fde725\"]],\"type\":\"surface\"}],\"table\":[{\"cells\":{\"fill\":{\"color\":\"rgb(237,237,237)\"},\"line\":{\"color\":\"white\"}},\"header\":{\"fill\":{\"color\":\"rgb(217,217,217)\"},\"line\":{\"color\":\"white\"}},\"type\":\"table\"}]},\"layout\":{\"annotationdefaults\":{\"arrowhead\":0,\"arrowwidth\":1},\"autotypenumbers\":\"strict\",\"coloraxis\":{\"colorbar\":{\"outlinewidth\":1,\"tickcolor\":\"rgb(36,36,36)\",\"ticks\":\"outside\"}},\"colorscale\":{\"diverging\":[[0.0,\"rgb(103,0,31)\"],[0.1,\"rgb(178,24,43)\"],[0.2,\"rgb(214,96,77)\"],[0.3,\"rgb(244,165,130)\"],[0.4,\"rgb(253,219,199)\"],[0.5,\"rgb(247,247,247)\"],[0.6,\"rgb(209,229,240)\"],[0.7,\"rgb(146,197,222)\"],[0.8,\"rgb(67,147,195)\"],[0.9,\"rgb(33,102,172)\"],[1.0,\"rgb(5,48,97)\"]],\"sequential\":[[0.0,\"#440154\"],[0.1111111111111111,\"#482878\"],[0.2222222222222222,\"#3e4989\"],[0.3333333333333333,\"#31688e\"],[0.4444444444444444,\"#26828e\"],[0.5555555555555556,\"#1f9e89\"],[0.6666666666666666,\"#35b779\"],[0.7777777777777778,\"#6ece58\"],[0.8888888888888888,\"#b5de2b\"],[1.0,\"#fde725\"]],\"sequentialminus\":[[0.0,\"#440154\"],[0.1111111111111111,\"#482878\"],[0.2222222222222222,\"#3e4989\"],[0.3333333333333333,\"#31688e\"],[0.4444444444444444,\"#26828e\"],[0.5555555555555556,\"#1f9e89\"],[0.6666666666666666,\"#35b779\"],[0.7777777777777778,\"#6ece58\"],[0.8888888888888888,\"#b5de2b\"],[1.0,\"#fde725\"]]},\"colorway\":[\"#1F77B4\",\"#FF7F0E\",\"#2CA02C\",\"#D62728\",\"#9467BD\",\"#8C564B\",\"#E377C2\",\"#7F7F7F\",\"#BCBD22\",\"#17BECF\"],\"font\":{\"color\":\"rgb(36,36,36)\"},\"geo\":{\"bgcolor\":\"white\",\"lakecolor\":\"white\",\"landcolor\":\"white\",\"showlakes\":true,\"showland\":true,\"subunitcolor\":\"white\"},\"hoverlabel\":{\"align\":\"left\"},\"hovermode\":\"closest\",\"mapbox\":{\"style\":\"light\"},\"paper_bgcolor\":\"white\",\"plot_bgcolor\":\"white\",\"polar\":{\"angularaxis\":{\"gridcolor\":\"rgb(232,232,232)\",\"linecolor\":\"rgb(36,36,36)\",\"showgrid\":false,\"showline\":true,\"ticks\":\"outside\"},\"bgcolor\":\"white\",\"radialaxis\":{\"gridcolor\":\"rgb(232,232,232)\",\"linecolor\":\"rgb(36,36,36)\",\"showgrid\":false,\"showline\":true,\"ticks\":\"outside\"}},\"scene\":{\"xaxis\":{\"backgroundcolor\":\"white\",\"gridcolor\":\"rgb(232,232,232)\",\"gridwidth\":2,\"linecolor\":\"rgb(36,36,36)\",\"showbackground\":true,\"showgrid\":false,\"showline\":true,\"ticks\":\"outside\",\"zeroline\":false,\"zerolinecolor\":\"rgb(36,36,36)\"},\"yaxis\":{\"backgroundcolor\":\"white\",\"gridcolor\":\"rgb(232,232,232)\",\"gridwidth\":2,\"linecolor\":\"rgb(36,36,36)\",\"showbackground\":true,\"showgrid\":false,\"showline\":true,\"ticks\":\"outside\",\"zeroline\":false,\"zerolinecolor\":\"rgb(36,36,36)\"},\"zaxis\":{\"backgroundcolor\":\"white\",\"gridcolor\":\"rgb(232,232,232)\",\"gridwidth\":2,\"linecolor\":\"rgb(36,36,36)\",\"showbackground\":true,\"showgrid\":false,\"showline\":true,\"ticks\":\"outside\",\"zeroline\":false,\"zerolinecolor\":\"rgb(36,36,36)\"}},\"shapedefaults\":{\"fillcolor\":\"black\",\"line\":{\"width\":0},\"opacity\":0.3},\"ternary\":{\"aaxis\":{\"gridcolor\":\"rgb(232,232,232)\",\"linecolor\":\"rgb(36,36,36)\",\"showgrid\":false,\"showline\":true,\"ticks\":\"outside\"},\"baxis\":{\"gridcolor\":\"rgb(232,232,232)\",\"linecolor\":\"rgb(36,36,36)\",\"showgrid\":false,\"showline\":true,\"ticks\":\"outside\"},\"bgcolor\":\"white\",\"caxis\":{\"gridcolor\":\"rgb(232,232,232)\",\"linecolor\":\"rgb(36,36,36)\",\"showgrid\":false,\"showline\":true,\"ticks\":\"outside\"}},\"title\":{\"x\":0.05},\"xaxis\":{\"automargin\":true,\"gridcolor\":\"rgb(232,232,232)\",\"linecolor\":\"rgb(36,36,36)\",\"showgrid\":false,\"showline\":true,\"ticks\":\"outside\",\"title\":{\"standoff\":15},\"zeroline\":false,\"zerolinecolor\":\"rgb(36,36,36)\"},\"yaxis\":{\"automargin\":true,\"gridcolor\":\"rgb(232,232,232)\",\"linecolor\":\"rgb(36,36,36)\",\"showgrid\":false,\"showline\":true,\"ticks\":\"outside\",\"title\":{\"standoff\":15},\"zeroline\":false,\"zerolinecolor\":\"rgb(36,36,36)\"}}},\"xaxis\":{\"showgrid\":true,\"title\":{\"text\":\"Frequency\"}},\"yaxis\":{\"showgrid\":true,\"title\":{\"text\":\"Class\"}},\"title\":{\"font\":{\"size\":22,\"color\":\"Black\"},\"text\":\"\\u003cb\\u003eTopics per Class\\u003c\\u002fb\\u003e\",\"y\":0.95,\"x\":0.4,\"xanchor\":\"center\",\"yanchor\":\"top\"},\"hoverlabel\":{\"font\":{\"size\":16,\"family\":\"Rockwell\"},\"bgcolor\":\"white\"},\"width\":1250,\"height\":900,\"legend\":{\"title\":{\"text\":\"\\u003cb\\u003eGlobal Topic Representation\"}}},                        {\"responsive\": true}                    )                };                            </script>        </div>"
      ],
      "text/plain": [
       "Figure({\n",
       "    'data': [{'hoverinfo': 'text',\n",
       "              'hovertext': [<b>Topic 0</b><br>Words: event types, pm, criterion,\n",
       "                            event logging, of the, <b>Topic 0</b><br>Words: the\n",
       "                            cloud service, cloud service, provider, service\n",
       "                            provider, cloud service provider, <b>Topic\n",
       "                            0</b><br>Words: minimization, the identified purpose,\n",
       "                            minimization objectives, data minimization, de\n",
       "                            identified, <b>Topic 0</b><br>Words: csc, cloud\n",
       "                            service, provider, cloud service provider, service\n",
       "                            provider],\n",
       "              'marker': {'color': '#E69F00'},\n",
       "              'name': '0_the cloud service_continuous_cloud ser...',\n",
       "              'orientation': 'h',\n",
       "              'type': 'bar',\n",
       "              'visible': True,\n",
       "              'x': array([  6, 121,   1,   4], dtype=int64),\n",
       "              'y': array(['fedramp', 'c5', 'iso_27701', 'ccm'], dtype=object)},\n",
       "             {'hoverinfo': 'text',\n",
       "              'hovertext': [<b>Topic 1</b><br>Words: training and awareness, being\n",
       "                            provided should, the training is, and awareness shall,\n",
       "                            subject to timely, <b>Topic 1</b><br>Words: risk\n",
       "                            monitoring, monitoring risk monitoring, effectiveness\n",
       "                            monitoring, organizational position descriptions, risk\n",
       "                            response measures, <b>Topic 1</b><br>Words: supply\n",
       "                            chain, and procedures, policies and procedures,\n",
       "                            policies and, audit],\n",
       "              'marker': {'color': '#56B4E9'},\n",
       "              'name': '1_supply chain_and procedures_policies a...',\n",
       "              'orientation': 'h',\n",
       "              'type': 'bar',\n",
       "              'visible': 'legendonly',\n",
       "              'x': array([ 1,  2, 44], dtype=int64),\n",
       "              'y': array(['eu_coc', 'fedramp', 'ccm'], dtype=object)},\n",
       "             {'hoverinfo': 'text',\n",
       "              'hovertext': [<b>Topic 2</b><br>Words: hardcopy materials, where\n",
       "                            hardcopy materials, materials are destroyed, hardcopy\n",
       "                            materials control, hardcopy materials are, <b>Topic\n",
       "                            2</b><br>Words: objectives and what, organization shall\n",
       "                            define, information minimization objectives, document\n",
       "                            data minimization, information minimization, <b>Topic\n",
       "                            2</b><br>Words: privileged access, access management,\n",
       "                            identity access, identity access management, processes\n",
       "                            procedures and, <b>Topic 2</b><br>Words: hardcopy\n",
       "                            materials, where hardcopy materials, materials are\n",
       "                            destroyed, hardcopy materials control, hardcopy\n",
       "                            materials are],\n",
       "              'marker': {'color': '#009E73'},\n",
       "              'name': '2_privileged access_access management_id...',\n",
       "              'orientation': 'h',\n",
       "              'type': 'bar',\n",
       "              'visible': 'legendonly',\n",
       "              'x': array([ 1,  1, 40,  1], dtype=int64),\n",
       "              'y': array(['iso_27018', 'iso_27701', 'ccm', 'iso_27002'], dtype=object)},\n",
       "             {'hoverinfo': 'text',\n",
       "              'hovertext': [<b>Topic 3</b><br>Words: personally identifiable,\n",
       "                            personally identifiable information, identifiable\n",
       "                            information, identifiable, the organization shall],\n",
       "              'marker': {'color': '#F0E442'},\n",
       "              'name': '3_personally identifiable_personally ide...',\n",
       "              'orientation': 'h',\n",
       "              'type': 'bar',\n",
       "              'visible': 'legendonly',\n",
       "              'x': array([32], dtype=int64),\n",
       "              'y': array(['iso_27701'], dtype=object)},\n",
       "             {'hoverinfo': 'text',\n",
       "              'hovertext': [<b>Topic 4</b><br>Words: cloud service provider,\n",
       "                            service provider, cloud service, service provider\n",
       "                            shall, customer personal data],\n",
       "              'marker': {'color': '#D55E00'},\n",
       "              'name': '4_cloud service provider_service provide...',\n",
       "              'orientation': 'h',\n",
       "              'type': 'bar',\n",
       "              'visible': 'legendonly',\n",
       "              'x': array([29], dtype=int64),\n",
       "              'y': array(['eu_coc'], dtype=object)},\n",
       "             {'hoverinfo': 'text',\n",
       "              'hovertext': [<b>Topic 5</b><br>Words: business continuity,\n",
       "                            resilience, and procedures, operational resilience,\n",
       "                            policies and procedures],\n",
       "              'marker': {'color': '#0072B2'},\n",
       "              'name': '5_business continuity_resilience_and pro...',\n",
       "              'orientation': 'h',\n",
       "              'type': 'bar',\n",
       "              'visible': 'legendonly',\n",
       "              'x': array([22], dtype=int64),\n",
       "              'y': array(['ccm'], dtype=object)},\n",
       "             {'hoverinfo': 'text',\n",
       "              'hovertext': [<b>Topic 6</b><br>Words: contingency, alternate\n",
       "                            processing, contingency planning, alternate processing\n",
       "                            site, telecommunications services],\n",
       "              'marker': {'color': '#CC79A7'},\n",
       "              'name': '6_contingency_alternate processing_conti...',\n",
       "              'orientation': 'h',\n",
       "              'type': 'bar',\n",
       "              'visible': 'legendonly',\n",
       "              'x': array([21], dtype=int64),\n",
       "              'y': array(['fedramp'], dtype=object)},\n",
       "             {'hoverinfo': 'text',\n",
       "              'hovertext': [<b>Topic 7</b><br>Words: data subjects, criteria for\n",
       "                            privacy, of personal information, objectives related\n",
       "                            to, to privacy],\n",
       "              'marker': {'color': '#E69F00'},\n",
       "              'name': '7_data subjects_criteria for privacy_of ...',\n",
       "              'orientation': 'h',\n",
       "              'type': 'bar',\n",
       "              'visible': 'legendonly',\n",
       "              'x': array([20], dtype=int64),\n",
       "              'y': array(['soc2'], dtype=object)},\n",
       "             {'hoverinfo': 'text',\n",
       "              'hovertext': [<b>Topic 8</b><br>Words: monitoring, security and\n",
       "                            privacy, and privacy, security and, the system,\n",
       "                            <b>Topic 8</b><br>Words: the entity, system changes,\n",
       "                            process is, process is in, is in place, <b>Topic\n",
       "                            8</b><br>Words: or percentage of, or percentage, count\n",
       "                            or, count or percentage, percentage of],\n",
       "              'marker': {'color': '#56B4E9'},\n",
       "              'name': '8_monitoring_security and privacy_and pr...',\n",
       "              'orientation': 'h',\n",
       "              'type': 'bar',\n",
       "              'visible': 'legendonly',\n",
       "              'x': array([13,  2,  4], dtype=int64),\n",
       "              'y': array(['fedramp', 'soc2', 'ccm'], dtype=object)},\n",
       "             {'hoverinfo': 'text',\n",
       "              'hovertext': [<b>Topic 9</b><br>Words: key management, cryptography\n",
       "                            encryption, encryption key management, cryptography\n",
       "                            encryption key, management system],\n",
       "              'marker': {'color': '#009E73'},\n",
       "              'name': '9_key management_cryptography encryption...',\n",
       "              'orientation': 'h',\n",
       "              'type': 'bar',\n",
       "              'visible': 'legendonly',\n",
       "              'x': array([18], dtype=int64),\n",
       "              'y': array(['ccm'], dtype=object)}],\n",
       "    'layout': {'height': 900,\n",
       "               'hoverlabel': {'bgcolor': 'white', 'font': {'family': 'Rockwell', 'size': 16}},\n",
       "               'legend': {'title': {'text': '<b>Global Topic Representation'}},\n",
       "               'template': '...',\n",
       "               'title': {'font': {'color': 'Black', 'size': 22},\n",
       "                         'text': '<b>Topics per Class</b>',\n",
       "                         'x': 0.4,\n",
       "                         'xanchor': 'center',\n",
       "                         'y': 0.95,\n",
       "                         'yanchor': 'top'},\n",
       "               'width': 1250,\n",
       "               'xaxis': {'showgrid': True, 'title': {'text': 'Frequency'}},\n",
       "               'yaxis': {'showgrid': True, 'title': {'text': 'Class'}}}\n",
       "})"
      ]
     },
     "execution_count": 88,
     "metadata": {},
     "output_type": "execute_result"
    }
   ],
   "source": [
    "# inspect topics per document (e.g., FedRAMP). not sure this is displaying right? can check with pivot tables\n",
    "# topics per class\n",
    "classes = np.array(df_merged['document'])\n",
    "\n",
    "# Create topic model and calculate topics per class\n",
    "# topic_model = BERTopic()\n",
    "# topic_model = BERTopic(embedding_model=finetuned_model,  \n",
    "#                        verbose=True,\n",
    "#                        n_gram_range=(1, 3),\n",
    "#                        min_topic_size=5,\n",
    "#                        calculate_probabilities=True,\n",
    "#                        representation_model=representation_model)\n",
    "# topics, probs = topic_model.fit_transform(docs)\n",
    "topics_per_class = topic_model.topics_per_class(docs, classes=classes)\n",
    "topic_model.visualize_topics_per_class(topics_per_class)\n"
   ]
  },
  {
   "cell_type": "markdown",
   "metadata": {},
   "source": [
    "## Merge Topics"
   ]
  },
  {
   "cell_type": "code",
   "execution_count": 89,
   "metadata": {},
   "outputs": [],
   "source": [
    "# merge topics\n",
    "\n",
    "\"\"\"\n",
    "In BERTopic, you can use .merge_topics to manually select and merge those topics. Doing so will update their topic representation which in turn updates the entire model\n",
    "\n",
    "topics_to_merge = [1, 2]\n",
    "topic_model.merge_topics(docs, topics_to_merge)\n",
    "\"\"\"\n",
    "\n",
    "# If you have several groups of topics you want to merge, create a list of lists instead:\n",
    "\n",
    "# NOTE: there are more merges possible but these are a good starting point\n",
    "topics_to_merge = [[56, 41, 75, 34, 44, 82, 51, 26, 72, 23, 63, 74, 16, 31, 78, 43, 3, 22, 17, 66],  # PII management\n",
    "                    [15, 11, 79],  # CSP general? unclear but really closely related topics\n",
    "                    [10, 71, 6],  # incident response and contingency plan \n",
    "                    [8, 57],\n",
    "                    [25, 36, 1],  # supply chain. note that 1 isn't in same hierarchy, could impact results after merge?\n",
    "                    [37, 70],  # mobile\n",
    "                    [6, 71, 10, 54],  # contingency planning and incident response\n",
    "                    [45, 30, 46]]  # network isolation\n",
    "            \n",
    "# to merge:\n",
    "topic_model.merge_topics(docs, topics_to_merge)"
   ]
  },
  {
   "cell_type": "code",
   "execution_count": 94,
   "metadata": {},
   "outputs": [
    {
     "name": "stdout",
     "output_type": "stream",
     "text": [
      "Cluster  0:  personally identifiable information             personally identifiable            identifiable information\n",
      "Cluster  1:                    the cloud service                       cloud service                          continuous\n",
      "Cluster  2:                         supply chain                            security                                  of\n",
      "Cluster  3:                          contingency                   incident response                alternate processing\n",
      "Cluster  4:                            should be                   privileged access                   access management\n",
      "Cluster  5:                        cloud service                   the cloud service              cloud service customer\n",
      "Cluster  6:               cloud service provider                    service provider                       cloud service\n",
      "Cluster  7:                 security and privacy                         and privacy                        security and\n",
      "Cluster  8:                  business continuity                           should be                          resilience\n",
      "Cluster  9:                              network                            boundary                 boundary protection\n",
      "Cluster 10:                        data subjects                criteria for privacy                         for privacy\n",
      "Cluster 11:                       key management             cryptography encryption         cryptography encryption key\n",
      "Cluster 12:                 security and privacy                        security and                         and privacy\n",
      "Cluster 13:                        cloud service              cloud service provider                    service provider\n",
      "Cluster 14:                        cryptographic            cryptographic mechanisms                        cryptography\n",
      "Cluster 15:                        audit records                           audit log                        audit record\n",
      "Cluster 16:                          mobile code                   maintenance tools                     automated tools\n",
      "Cluster 17:                       authentication   identification and authentication                  and authentication\n",
      "Cluster 18:                          and privacy                security and privacy                organization defined\n",
      "Cluster 19:                         the board of                            board of                        of directors\n",
      "Cluster 20:                         system media                   non digital media                         non digital\n",
      "Cluster 21:    identification and authentication                  and authentication                organizational users\n",
      "Cluster 22:                              malware                              tamper                     reconfiguration\n",
      "Cluster 23:      assignment organization defined      regulations policies standards                regulations policies\n",
      "Cluster 24:                  wireless networking    wireless networking capabilities             networking capabilities\n",
      "Cluster 25:                             firmware                   software programs            firmware and information\n",
      "Cluster 26:                         power supply                        data centers        and environmental protection\n",
      "Cluster 27:                          of behavior                   rules of behavior                            rules of\n",
      "Cluster 28:      assignment organization defined             assignment organization                organization defined\n",
      "Cluster 29:    identification and authentication                  and authentication   authenticators identification and\n",
      "Cluster 30:                   account monitoring                     system accounts     assignment organization defined\n",
      "Cluster 31:                          remediation               action and milestones                      plan of action\n",
      "Cluster 32:                  penetration testing                           assessors                   the organizations\n",
      "Cluster 33:                         communicates                   business partners                        and business\n",
      "Cluster 34:                   personnel or roles                organization defined              environmental controls\n",
      "Cluster 35:                         unauthorized                          audit logs                     to unauthorized\n",
      "Cluster 36:               this privacy principle               controls are relevant                    with legal basis\n",
      "Cluster 37:                    system components           security relevant changes              detection and response\n",
      "Cluster 38:                        the agreement                     agreement terms                       of employment\n",
      "Cluster 39:                      least privilege                 based access scheme                       access scheme\n",
      "Cluster 40:               data protection impact                   change management                     management data\n",
      "Cluster 41:                           the entity           criteria for availability                          mitigation\n",
      "Cluster 42:         protected information assets               protected information                  information assets\n",
      "Cluster 43:              policies and procedures                 datacenter security                          datacenter\n",
      "Cluster 44:                    the cloud service                       cloud service              cloud service provider\n",
      "Cluster 45:                       access control                      network access                      control points\n",
      "Cluster 46:            functions ports protocols                     functions ports                 ports protocols and\n",
      "Cluster 47:                            passwords                      malicious code                       authenticator\n",
      "Cluster 48:                      synchronization          coordinated universal time              system components time\n",
      "Cluster 49:              shared system resources                       shared system                    system resources\n",
      "Cluster 50:             for processing integrity             criteria for processing                processing integrity\n",
      "Cluster 51:                 organization defined         and privacy representatives              organization generated\n",
      "Cluster 52:                     the organization                 organization should             the organization should\n",
      "Cluster 53:                   account management                system account usage               remote access methods\n"
     ]
    }
   ],
   "source": [
    "# Print top terms for each topic\n",
    "\n",
    "for k, v in topic_model.get_topics().items():\n",
    "    if k != -1:\n",
    "        print(f'Cluster {k : >2}:  {v[0][0]: >35} {v[1][0]: >35} {v[2][0]: >35}')"
   ]
  },
  {
   "cell_type": "code",
   "execution_count": 95,
   "metadata": {},
   "outputs": [
    {
     "name": "stderr",
     "output_type": "stream",
     "text": [
      "100%|██████████| 53/53 [00:13<00:00,  3.82it/s]"
     ]
    },
    {
     "name": "stdout",
     "output_type": "stream",
     "text": [
      ".\n",
      "├─cloud service_the cloud_the cloud service_customer_service provider\n",
      "│    ├─cloud service_the cloud_the cloud service_provider_service provider\n",
      "│    │    ├─customer_cloud service_cloud service provider_service provider_the customer\n",
      "│    │    │    ├─■──the cloud service_cloud service_cloud service provider_provide the customer_subcontractors or ── Topic: 44\n",
      "│    │    │    └─customer_cloud service_cloud service provider_service provider_the customer\n",
      "│    │    │         ├─■──cloud service provider_service provider_cloud service_service provider shall_customer personal data ── Topic: 6\n",
      "│    │    │         └─■──cloud service_cloud service provider_service provider_the customer_the cloud service ── Topic: 13\n",
      "│    │    └─the cloud_cloud service_the cloud service_criterion_provider\n",
      "│    │         ├─■──cloud service_the cloud service_cloud service customer_cloud service provider_service provider ── Topic: 5\n",
      "│    │         └─■──the cloud service_cloud service_continuous_provider_service provider ── Topic: 1\n",
      "│    └─■──personally identifiable information_personally identifiable_identifiable information_identifiable_pu ── Topic: 0\n",
      "└─security_organization_organization defined_systems_organizations\n",
      "     ├─organization_organization defined_systems_assignment organization defined_assignment organization\n",
      "     │    ├─security_and procedures_security and_security and privacy_and privacy\n",
      "     │    │    ├─risk_should be_supply chain_security and_security and privacy\n",
      "     │    │    │    ├─the organization_management data_include but is_is not limited_but is not\n",
      "     │    │    │    │    ├─■──data protection impact_change management_management data_impact assessment_change management baselin ── Topic: 40\n",
      "     │    │    │    │    └─■──the agreement_agreement terms_of employment_the employee_include but is ── Topic: 38\n",
      "     │    │    │    └─risk_supply chain_should be_security and_security and privacy\n",
      "     │    │    │         ├─risk_supply chain_chain_security and_security and privacy\n",
      "     │    │    │         │    ├─■──policies and procedures_datacenter security_datacenter_continual effectiveness_datacenter security s ── Topic: 43\n",
      "     │    │    │         │    └─risk_supply chain_chain_security and_security and privacy\n",
      "     │    │    │         │         ├─risk_supply chain_chain_security and_security and privacy\n",
      "     │    │    │         │         │    ├─■──should be_privileged access_access management_processes procedures and_processes procedures ── Topic: 4\n",
      "     │    │    │         │         │    └─risk_supply chain_chain_security and_the system\n",
      "     │    │    │         │         │         ├─■──business continuity_should be_resilience_and procedures_security ── Topic: 8\n",
      "     │    │    │         │         │         └─supply chain_chain_risk_security and_and privacy\n",
      "     │    │    │         │         │              ├─■──supply chain_security_of_and procedures_ssrm ── Topic: 2\n",
      "     │    │    │         │         │              └─■──security and privacy_and privacy_security and_development_requirements ── Topic: 7\n",
      "     │    │    │         │         └─■──malware_tamper_reconfiguration_dynamic reconfiguration_tamper resistance and ── Topic: 22\n",
      "     │    │    │         └─■──remediation_action and milestones_plan of action_vulnerability management vulnerability_management v ── Topic: 31\n",
      "     │    │    └─and procedures_security and privacy_and privacy_security and_organization defined\n",
      "     │    │         ├─■──security and privacy_security and_and privacy_assignment organization_assignment organization define ── Topic: 12\n",
      "     │    │         └─■──and privacy_security and privacy_organization defined_security and_contingency ── Topic: 18\n",
      "     │    └─of_organization defined_organization_organizations_assignment organization\n",
      "     │         ├─of_organization defined_organization_assignment organization defined_assignment organization\n",
      "     │         │    ├─environmental_physical access_physical and environmental_physical and_and environmental\n",
      "     │         │    │    ├─and environmental protection_environmental protection_physical and environmental_and environmental_p\n",
      "     │         │    │    │    ├─■──power supply_data centers_and environmental protection_environmental protection_physical and environ ── Topic: 26\n",
      "     │         │    │    │    └─■──personnel or roles_organization defined_environmental controls_emergency responders_and environmenta ── Topic: 34\n",
      "     │         │    │    └─access control_wireless access_remote access_wireless networking_physical access to\n",
      "     │         │    │         ├─wireless access_access control_wireless networking_physical access to_intrusion\n",
      "     │         │    │         │    ├─■──the organization_organization should_the organization should_onsite personnel_the return of ── Topic: 52\n",
      "     │         │    │         │    └─access control_wireless networking_networking capabilities_wireless networking capabilities_control \n",
      "     │         │    │         │         ├─■──wireless networking_wireless networking capabilities_networking capabilities_unauthorized_intrusion  ── Topic: 24\n",
      "     │         │    │         │         └─■──access control_network access_control points_access control points_network access to ── Topic: 45\n",
      "     │         │    │         └─■──account management_system account usage_remote access methods_automated system account_account usage ── Topic: 53\n",
      "     │         │    └─of_organization defined_organization_organizations_assignment organization defined\n",
      "     │         │         ├─of_system_organizations_contingency_media\n",
      "     │         │         │    ├─cryptographic_media_of_system_key management\n",
      "     │         │         │    │    ├─cryptographic_key management_of_management_cryptography\n",
      "     │         │         │    │    │    ├─■──key management_cryptography encryption_cryptography encryption key_encryption key management_managem ── Topic: 11\n",
      "     │         │         │    │    │    └─cryptographic_network_system and_cryptographic mechanisms_and communications protection\n",
      "     │         │         │    │    │         ├─■──cryptographic_cryptographic mechanisms_cryptography_cryptographic mechanisms to_implement cryptograp ── Topic: 14\n",
      "     │         │         │    │    │         └─■──network_boundary_boundary protection_interfaces_host based ── Topic: 9\n",
      "     │         │         │    │    └─■──system media_non digital media_non digital_portable storage_storage devices ── Topic: 20\n",
      "     │         │         │    └─contingency_site_incident response_software_planning\n",
      "     │         │         │         ├─contingency_site_incident response_software_planning\n",
      "     │         │         │         │    ├─software programs_assignment organization defined_firmware and information_information integrity_sof\n",
      "     │         │         │         │    │    ├─■──system components_security relevant changes_detection and response_component authenticity_and inform ── Topic: 37\n",
      "     │         │         │         │    │    └─■──firmware_software programs_firmware and information_software firmware and_software firmware ── Topic: 25\n",
      "     │         │         │         │    └─contingency_site_incident response_planning_contingency planning\n",
      "     │         │         │         │         ├─■──mobile code_maintenance tools_automated tools_tools and_tools can ── Topic: 16\n",
      "     │         │         │         │         └─contingency_site_incident response_planning_alternate processing\n",
      "     │         │         │         │              ├─■──contingency_incident response_alternate processing_contingency planning_alternate processing site ── Topic: 3\n",
      "     │         │         │         │              └─■──penetration testing_assessors_the organizations_flaw_impartiality ── Topic: 32\n",
      "     │         │         │         └─■──functions ports protocols_functions ports_ports protocols and_protocols and services_system componen ── Topic: 46\n",
      "     │         │         └─audit_organization defined_organization_assignment organization defined_assignment organization\n",
      "     │         │              ├─audit_organization defined_organization_assignment organization defined_assignment organization\n",
      "     │         │              │    ├─system clocks_shared system resources_shared system_least privilege_synchronization\n",
      "     │         │              │    │    ├─■──synchronization_coordinated universal time_system components time_of milliseconds_internal system cl ── Topic: 48\n",
      "     │         │              │    │    └─shared system resources_shared system_least privilege_system resources_unauthorized\n",
      "     │         │              │    │         ├─shared system resources_shared system_system resources_least privilege_users or roles\n",
      "     │         │              │    │         │    ├─■──shared system resources_shared system_system resources_users or roles_information in shared ── Topic: 49\n",
      "     │         │              │    │         │    └─■──least privilege_based access scheme_access scheme_privileged accounts_based access ── Topic: 39\n",
      "     │         │              │    │         └─■──unauthorized_audit logs_to unauthorized_unauthorized changes_respond to unauthorized ── Topic: 35\n",
      "     │         │              │    └─audit_organization defined_organization_assignment organization_assignment organization defined\n",
      "     │         │              │         ├─audit_organization defined_assignment organization_assignment organization defined_organization\n",
      "     │         │              │         │    ├─assignment organization_assignment organization defined_organization defined_organizational_rules of\n",
      "     │         │              │         │    │    ├─■──account monitoring_system accounts_assignment organization defined_access control account_control ac ── Topic: 30\n",
      "     │         │              │         │    │    └─assignment organization defined_assignment organization_rules of behavior_of behavior_organizational\n",
      "     │         │              │         │    │         ├─■──assignment organization defined_assignment organization_organization defined_access agreements_defin ── Topic: 28\n",
      "     │         │              │         │    │         └─■──of behavior_rules of behavior_rules of_publicly accessible_organizational ── Topic: 27\n",
      "     │         │              │         │    └─audit records_audit log_audit record_assignment organization defined_of audit\n",
      "     │         │              │         │         ├─■──assignment organization defined_regulations policies standards_regulations policies_directives regul ── Topic: 23\n",
      "     │         │              │         │         └─■──audit records_audit log_audit record_log storage_audit log storage ── Topic: 15\n",
      "     │         │              │         └─■──organization defined_and privacy representatives_organization generated_organization generated alert ── Topic: 51\n",
      "     │         │              └─■──this privacy principle_controls are relevant_with legal basis_conditions for collection_with clearly ── Topic: 36\n",
      "     │         └─authentication_authenticators_identification and authentication_and authentication_identification an\n",
      "     │              ├─■──passwords_malicious code_authenticator_authentication_passphrases ── Topic: 47\n",
      "     │              └─authentication_identification and authentication_and authentication_identification and_authenticator\n",
      "     │                   ├─authentication_identification and authentication_and authentication_authenticators_multi factor\n",
      "     │                   │    ├─■──identification and authentication_and authentication_authenticators identification and_cached authen ── Topic: 29\n",
      "     │                   │    └─■──authentication_identification and authentication_and authentication_multi factor authentication_fact ── Topic: 17\n",
      "     │                   └─■──identification and authentication_and authentication_organizational users_authentication_verificatio ── Topic: 21\n",
      "     └─of focus_points of focus_points of_criteria for_communicates\n",
      "          ├─of focus_points of focus_points of_communicates_board of directors\n",
      "          │    ├─■──protected information assets_protected information_information assets_processes are in_to protected  ── Topic: 42\n",
      "          │    └─of focus_points of focus_points of_communicates_board of directors\n",
      "          │         ├─■──communicates_business partners_and business_and business partners_vendors and business ── Topic: 33\n",
      "          │         └─■──the board of_board of_of directors_board of directors_coso ── Topic: 19\n",
      "          └─data subjects_criteria for privacy_for privacy_entity objectives_the entity objectives\n",
      "               ├─■──the entity_criteria for availability_mitigation_plan testing_recovery plan ── Topic: 41\n",
      "               └─data subjects_criteria for privacy_of personal information_the entity objectives_objectives related \n",
      "                    ├─■──data subjects_criteria for privacy_for privacy_of personal information_objectives related to ── Topic: 10\n",
      "                    └─■──for processing integrity_criteria for processing_processing integrity_for processing_completely and  ── Topic: 50\n",
      "\n"
     ]
    },
    {
     "name": "stderr",
     "output_type": "stream",
     "text": [
      "\n"
     ]
    }
   ],
   "source": [
    "# printing tree\n",
    "hierarchical_topics = topic_model.hierarchical_topics(docs)\n",
    "tree = topic_model.get_topic_tree(hierarchical_topics)\n",
    "print(tree)"
   ]
  },
  {
   "cell_type": "markdown",
   "metadata": {},
   "source": [
    "## pivot table to check how the topics now align to documents\n"
   ]
  },
  {
   "cell_type": "code",
   "execution_count": 99,
   "metadata": {},
   "outputs": [
    {
     "data": {
      "text/html": [
       "<div>\n",
       "<style scoped>\n",
       "    .dataframe tbody tr th:only-of-type {\n",
       "        vertical-align: middle;\n",
       "    }\n",
       "\n",
       "    .dataframe tbody tr th {\n",
       "        vertical-align: top;\n",
       "    }\n",
       "\n",
       "    .dataframe thead th {\n",
       "        text-align: right;\n",
       "    }\n",
       "</style>\n",
       "<table border=\"1\" class=\"dataframe\">\n",
       "  <thead>\n",
       "    <tr style=\"text-align: right;\">\n",
       "      <th></th>\n",
       "      <th>control_category</th>\n",
       "      <th>control_code</th>\n",
       "      <th>control_name</th>\n",
       "      <th>control_text</th>\n",
       "      <th>page</th>\n",
       "      <th>document</th>\n",
       "      <th>control_text_corrected</th>\n",
       "      <th>full_control_text</th>\n",
       "      <th>finetune_embeddings</th>\n",
       "    </tr>\n",
       "  </thead>\n",
       "  <tbody>\n",
       "    <tr>\n",
       "      <th>0</th>\n",
       "      <td>organisation of information security (ois)</td>\n",
       "      <td>OIS-01</td>\n",
       "      <td>information security management system (isms)</td>\n",
       "      <td>basic criterion: the cloud service provider operates an information security management system (isms) in accordance with iso/iec 27001. the scope of the isms covers the cloud service provider’s or...</td>\n",
       "      <td>36.0</td>\n",
       "      <td>c5</td>\n",
       "      <td>Basic criterion: The cloud service provider operates an Information Security Management System (ISMS) in accordance with ISO/IEC 27001. The scope of the ISMS covers the cloud service provider's or...</td>\n",
       "      <td>Organisation of information security (ois). Information security management system (isms). Basic criterion: The cloud service provider operates an Information Security Management System (ISMS) in ...</td>\n",
       "      <td>[0.26916763186454773, -0.17895491421222687, 0.05843820422887802, 0.10326196253299713, 0.41640037298202515, -0.26914629340171814, 0.020081838592886925, 0.2376757264137268, 0.32093170285224915, 0.48...</td>\n",
       "    </tr>\n",
       "    <tr>\n",
       "      <th>1</th>\n",
       "      <td>organisation of information security (ois)</td>\n",
       "      <td>OIS-02</td>\n",
       "      <td>information security policy</td>\n",
       "      <td>basic criterion: the top management of the cloud service provider has adopted an information security policy and communicated it to internal and external employees as well as cloud customers. the ...</td>\n",
       "      <td>36.0</td>\n",
       "      <td>c5</td>\n",
       "      <td>Basic criterion: The top management of the cloud service provider has adopted an information security policy and communicated it to internal and external employees, as well as cloud customers. The...</td>\n",
       "      <td>Organisation of information security (ois). Information security policy. Basic criterion: The top management of the cloud service provider has adopted an information security policy and communicat...</td>\n",
       "      <td>[0.30318355560302734, -0.28403574228286743, 0.011182880960404873, 0.11411823332309723, 0.5018870830535889, -0.15271033346652985, 0.13693717122077942, 0.2578427791595459, 0.3121120035648346, 0.2964...</td>\n",
       "    </tr>\n",
       "  </tbody>\n",
       "</table>\n",
       "</div>"
      ],
      "text/plain": [
       "                             control_category  ...                                                                                                                                                                                      finetune_embeddings\n",
       "0  organisation of information security (ois)  ...  [0.26916763186454773, -0.17895491421222687, 0.05843820422887802, 0.10326196253299713, 0.41640037298202515, -0.26914629340171814, 0.020081838592886925, 0.2376757264137268, 0.32093170285224915, 0.48...\n",
       "1  organisation of information security (ois)  ...  [0.30318355560302734, -0.28403574228286743, 0.011182880960404873, 0.11411823332309723, 0.5018870830535889, -0.15271033346652985, 0.13693717122077942, 0.2578427791595459, 0.3121120035648346, 0.2964...\n",
       "\n",
       "[2 rows x 9 columns]"
      ]
     },
     "execution_count": 99,
     "metadata": {},
     "output_type": "execute_result"
    }
   ],
   "source": [
    "# first we trim crap from df_merged\n",
    "to_delete = ['extended_fipps_label', 'BERTembeddings', 'BERTlargeembeddings', 'ada2_embeddings', 'all-mpnet-base-v2_embeddings', 'ada2_embeddings_new', 'topic', 'probs', 'representative_docs', 'top_words', 'topic_label', 'is_representative', 'count']\n",
    "\n",
    "for col in to_delete:\n",
    "    del df_merged[col]\n",
    "\n",
    "df_merged.head(2)"
   ]
  },
  {
   "cell_type": "code",
   "execution_count": 97,
   "metadata": {},
   "outputs": [
    {
     "data": {
      "text/html": [
       "<div>\n",
       "<style scoped>\n",
       "    .dataframe tbody tr th:only-of-type {\n",
       "        vertical-align: middle;\n",
       "    }\n",
       "\n",
       "    .dataframe tbody tr th {\n",
       "        vertical-align: top;\n",
       "    }\n",
       "\n",
       "    .dataframe thead th {\n",
       "        text-align: right;\n",
       "    }\n",
       "</style>\n",
       "<table border=\"1\" class=\"dataframe\">\n",
       "  <thead>\n",
       "    <tr style=\"text-align: right;\">\n",
       "      <th></th>\n",
       "      <th>temp_full_control_text</th>\n",
       "      <th>Topic</th>\n",
       "      <th>Name</th>\n",
       "      <th>Representation</th>\n",
       "      <th>Representative_Docs</th>\n",
       "      <th>Top_n_words</th>\n",
       "      <th>Probability</th>\n",
       "      <th>Representative_document</th>\n",
       "    </tr>\n",
       "  </thead>\n",
       "  <tbody>\n",
       "    <tr>\n",
       "      <th>0</th>\n",
       "      <td>Organisation of information security (ois). Information security management system (isms). Basic criterion: The cloud service provider operates an Information Security Management System (ISMS) in ...</td>\n",
       "      <td>1</td>\n",
       "      <td>1_the cloud service_cloud service_continuous_provider</td>\n",
       "      <td>[the cloud service, cloud service, continuous, provider, service provider, cloud service provider, auditing, continuous auditing, of the cloud, basic criterion]</td>\n",
       "      <td>[Product safety and security (pss). Guidelines and recommendations for cloud customers. Basic criterion: The cloud service provider provides cloud customers with guidelines and recommendations for...</td>\n",
       "      <td>the cloud service - cloud service - continuous - provider - service provider - cloud service provider - auditing - continuous auditing - of the cloud - basic criterion</td>\n",
       "      <td>0.164448</td>\n",
       "      <td>False</td>\n",
       "    </tr>\n",
       "    <tr>\n",
       "      <th>1</th>\n",
       "      <td>Organisation of information security (ois). Information security policy. Basic criterion: The top management of the cloud service provider has adopted an information security policy and communicat...</td>\n",
       "      <td>1</td>\n",
       "      <td>1_the cloud service_cloud service_continuous_provider</td>\n",
       "      <td>[the cloud service, cloud service, continuous, provider, service provider, cloud service provider, auditing, continuous auditing, of the cloud, basic criterion]</td>\n",
       "      <td>[Product safety and security (pss). Guidelines and recommendations for cloud customers. Basic criterion: The cloud service provider provides cloud customers with guidelines and recommendations for...</td>\n",
       "      <td>the cloud service - cloud service - continuous - provider - service provider - cloud service provider - auditing - continuous auditing - of the cloud - basic criterion</td>\n",
       "      <td>0.328016</td>\n",
       "      <td>False</td>\n",
       "    </tr>\n",
       "  </tbody>\n",
       "</table>\n",
       "</div>"
      ],
      "text/plain": [
       "                                                                                                                                                                                    temp_full_control_text  ...  Representative_document\n",
       "0  Organisation of information security (ois). Information security management system (isms). Basic criterion: The cloud service provider operates an Information Security Management System (ISMS) in ...  ...                    False\n",
       "1  Organisation of information security (ois). Information security policy. Basic criterion: The top management of the cloud service provider has adopted an information security policy and communicat...  ...                    False\n",
       "\n",
       "[2 rows x 8 columns]"
      ]
     },
     "execution_count": 97,
     "metadata": {},
     "output_type": "execute_result"
    }
   ],
   "source": [
    "# next we make a df from the topic modeling\n",
    "df_temp = topic_model.get_document_info(docs)\n",
    "df_temp.rename(columns={'Document': 'temp_full_control_text'}, inplace = True)\n",
    "df_temp.head(2)"
   ]
  },
  {
   "cell_type": "code",
   "execution_count": 100,
   "metadata": {},
   "outputs": [],
   "source": [
    "# concat the dfs\n",
    "df_for_inspectionv2 = pd.concat([df, df_temp], axis=1)"
   ]
  },
  {
   "cell_type": "code",
   "execution_count": 161,
   "metadata": {},
   "outputs": [
    {
     "data": {
      "text/html": [
       "<div>\n",
       "<style scoped>\n",
       "    .dataframe tbody tr th:only-of-type {\n",
       "        vertical-align: middle;\n",
       "    }\n",
       "\n",
       "    .dataframe tbody tr th {\n",
       "        vertical-align: top;\n",
       "    }\n",
       "\n",
       "    .dataframe thead th {\n",
       "        text-align: right;\n",
       "    }\n",
       "</style>\n",
       "<table border=\"1\" class=\"dataframe\">\n",
       "  <thead>\n",
       "    <tr style=\"text-align: right;\">\n",
       "      <th></th>\n",
       "      <th>Unnamed: 0.1</th>\n",
       "      <th>extended_fipps_label</th>\n",
       "      <th>Unnamed: 1</th>\n",
       "      <th>Unnamed: 0</th>\n",
       "      <th>control_category</th>\n",
       "      <th>control_code</th>\n",
       "      <th>control_name</th>\n",
       "      <th>control_text</th>\n",
       "      <th>page</th>\n",
       "      <th>document</th>\n",
       "      <th>control_text_corrected</th>\n",
       "      <th>full_control_text</th>\n",
       "      <th>BERTembeddings</th>\n",
       "      <th>BERTlargeembeddings</th>\n",
       "      <th>ada2_embeddings</th>\n",
       "      <th>all-mpnet-base-v2_embeddings</th>\n",
       "      <th>ada2_embeddings_new</th>\n",
       "      <th>topic</th>\n",
       "      <th>probs</th>\n",
       "      <th>temp_full_control_text</th>\n",
       "      <th>Topic</th>\n",
       "      <th>Name</th>\n",
       "      <th>Representation</th>\n",
       "      <th>Representative_Docs</th>\n",
       "      <th>Top_n_words</th>\n",
       "      <th>Probability</th>\n",
       "      <th>Representative_document</th>\n",
       "    </tr>\n",
       "  </thead>\n",
       "  <tbody>\n",
       "    <tr>\n",
       "      <th>0</th>\n",
       "      <td>0</td>\n",
       "      <td>NaN</td>\n",
       "      <td>0</td>\n",
       "      <td>0.0</td>\n",
       "      <td>organisation of information security (ois)</td>\n",
       "      <td>OIS-01</td>\n",
       "      <td>information security management system (isms)</td>\n",
       "      <td>basic criterion: the cloud service provider operates an information security management system (isms) in accordance with iso/iec 27001. the scope of the isms covers the cloud service provider’s or...</td>\n",
       "      <td>36.0</td>\n",
       "      <td>c5</td>\n",
       "      <td>Basic criterion: The cloud service provider operates an Information Security Management System (ISMS) in accordance with ISO/IEC 27001. The scope of the ISMS covers the cloud service provider's or...</td>\n",
       "      <td>Organisation of information security (ois). Information security management system (isms). Basic criterion: The cloud service provider operates an Information Security Management System (ISMS) in ...</td>\n",
       "      <td>[-2.34765545e-01 -2.21934378e-01 -9.93741989e-01  3.67022187e-01\\n  8.49737585e-01 -1.64016023e-01 -6.38136506e-01 -1.12917721e-01\\n -9.66692090e-01 -9.99156654e-01 -7.52763391e-01  8.85846198e-01...</td>\n",
       "      <td>[-0.99997824 -0.9996931   0.9999947  ... -0.99998593  0.9952955\\n -0.9961389 ]</td>\n",
       "      <td>[0.017099885269999504, -0.01439644955098629, 0.00117865193169564, -0.0317063108086586, -0.01916027069091797, 0.03131260722875595, -0.025590771809220314, -0.03850426897406578, 0.0047671012580394745...</td>\n",
       "      <td>[0.025447199121117592, -0.047563113272190094, -0.0010698908008635044, -0.02945668436586857, -0.05244108662009239, 0.0008069048053584993, 0.042670611292123795, 0.04808742180466652, -0.0093944948166...</td>\n",
       "      <td>[0.017112663, -0.0144224055, 0.001129416, -0.031731915, -0.019304238, 0.031469453, -0.025629625, -0.03850349, 0.004901518, -0.020209739, 0.021745155, 0.0050229076, -0.011312205, -0.00075540465, -0...</td>\n",
       "      <td>0</td>\n",
       "      <td>1.0</td>\n",
       "      <td>Organisation of information security (ois). Information security management system (isms). Basic criterion: The cloud service provider operates an Information Security Management System (ISMS) in ...</td>\n",
       "      <td>1</td>\n",
       "      <td>1_the cloud service_cloud service_continuous_provider</td>\n",
       "      <td>[the cloud service, cloud service, continuous, provider, service provider, cloud service provider, auditing, continuous auditing, of the cloud, basic criterion]</td>\n",
       "      <td>[Product safety and security (pss). Guidelines and recommendations for cloud customers. Basic criterion: The cloud service provider provides cloud customers with guidelines and recommendations for...</td>\n",
       "      <td>the cloud service - cloud service - continuous - provider - service provider - cloud service provider - auditing - continuous auditing - of the cloud - basic criterion</td>\n",
       "      <td>0.164448</td>\n",
       "      <td>False</td>\n",
       "    </tr>\n",
       "    <tr>\n",
       "      <th>1</th>\n",
       "      <td>1</td>\n",
       "      <td>NaN</td>\n",
       "      <td>1</td>\n",
       "      <td>1.0</td>\n",
       "      <td>organisation of information security (ois)</td>\n",
       "      <td>OIS-02</td>\n",
       "      <td>information security policy</td>\n",
       "      <td>basic criterion: the top management of the cloud service provider has adopted an information security policy and communicated it to internal and external employees as well as cloud customers. the ...</td>\n",
       "      <td>36.0</td>\n",
       "      <td>c5</td>\n",
       "      <td>Basic criterion: The top management of the cloud service provider has adopted an information security policy and communicated it to internal and external employees, as well as cloud customers. The...</td>\n",
       "      <td>Organisation of information security (ois). Information security policy. Basic criterion: The top management of the cloud service provider has adopted an information security policy and communicat...</td>\n",
       "      <td>[-6.86250806e-01 -4.82106537e-01 -9.97918665e-01  6.63456619e-01\\n  8.98568869e-01 -3.34756434e-01  1.12952009e-01  2.46998787e-01\\n -9.75181043e-01 -9.99981463e-01 -7.59770513e-01  9.54410553e-01...</td>\n",
       "      <td>[-0.9995211  -0.998107    0.9999736  ... -0.99775356  0.9597814\\n -0.98308253]</td>\n",
       "      <td>[0.01658015325665474, -0.006132795009762049, 0.003490208415314555, -0.04595108702778816, -0.0068142167292535305, 0.02606022357940674, -0.009393647313117981, -0.023387720808386803, 0.00281377276405...</td>\n",
       "      <td>[0.04575734958052635, -0.019889475777745247, -0.00013527192641049623, -0.029681429266929626, -0.07318992912769318, -0.021198689937591553, 0.035301703959703445, 0.044299498200416565, 0.001085930271...</td>\n",
       "      <td>[0.016641092, -0.006172235, 0.0033654645, -0.04578628, -0.006897207, 0.026138885, -0.009265004, -0.023478437, 0.0030578503, -0.03195196, 0.020618457, -0.004482852, 0.0057864706, 0.007921479, -0.00...</td>\n",
       "      <td>0</td>\n",
       "      <td>1.0</td>\n",
       "      <td>Organisation of information security (ois). Information security policy. Basic criterion: The top management of the cloud service provider has adopted an information security policy and communicat...</td>\n",
       "      <td>1</td>\n",
       "      <td>1_the cloud service_cloud service_continuous_provider</td>\n",
       "      <td>[the cloud service, cloud service, continuous, provider, service provider, cloud service provider, auditing, continuous auditing, of the cloud, basic criterion]</td>\n",
       "      <td>[Product safety and security (pss). Guidelines and recommendations for cloud customers. Basic criterion: The cloud service provider provides cloud customers with guidelines and recommendations for...</td>\n",
       "      <td>the cloud service - cloud service - continuous - provider - service provider - cloud service provider - auditing - continuous auditing - of the cloud - basic criterion</td>\n",
       "      <td>0.328016</td>\n",
       "      <td>False</td>\n",
       "    </tr>\n",
       "    <tr>\n",
       "      <th>2</th>\n",
       "      <td>2</td>\n",
       "      <td>NaN</td>\n",
       "      <td>2</td>\n",
       "      <td>2.0</td>\n",
       "      <td>organisation of information security (ois)</td>\n",
       "      <td>OIS-03</td>\n",
       "      <td>interfaces and dependencies</td>\n",
       "      <td>basic criterion: interfaces and dependencies between cloud service delivery activities performed by the cloud service provider and activities performed by third parties are documented and communic...</td>\n",
       "      <td>37.0</td>\n",
       "      <td>c5</td>\n",
       "      <td>Basic criterion: Interfaces and dependencies between cloud service delivery activities performed by the cloud service provider and activities performed by third parties are documented and communic...</td>\n",
       "      <td>Organisation of information security (ois). Interfaces and dependencies. Basic criterion: Interfaces and dependencies between cloud service delivery activities performed by the cloud service provi...</td>\n",
       "      <td>[-0.31162736 -0.3930869  -0.9984547   0.36828983  0.9144251  -0.33310673\\n -0.6419001   0.16103128 -0.9918847  -0.9995398  -0.8787695   0.941377\\n  0.09024994  0.94268304 -0.5306556  -0.5521342  -...</td>\n",
       "      <td>[-0.9999912  -0.99972457  0.999996   ... -0.9999959   0.99831015\\n -0.9972545 ]</td>\n",
       "      <td>[0.007835658267140388, -0.0041145686991512775, 0.017787961289286613, -0.014626561664044857, 0.002270983997732401, 0.030338583514094353, -0.007794953417032957, -0.0182221457362175, 0.00386355607770...</td>\n",
       "      <td>[0.031252745538949966, -0.0051760380156338215, 0.004831104073673487, -0.03803708404302597, -0.08529587835073471, -0.011238569393754005, 0.0484217032790184, 0.01367255300283432, 0.04232234135270119...</td>\n",
       "      <td>[0.00785735, -0.004132233, 0.017587436, -0.0146154845, 0.0023629724, 0.030316614, -0.0077623557, -0.018510234, 0.003952423, -0.039436024, 0.015958969, 0.0066699265, 0.0059947916, -0.0014749494, -0...</td>\n",
       "      <td>0</td>\n",
       "      <td>1.0</td>\n",
       "      <td>Organisation of information security (ois). Interfaces and dependencies. Basic criterion: Interfaces and dependencies between cloud service delivery activities performed by the cloud service provi...</td>\n",
       "      <td>1</td>\n",
       "      <td>1_the cloud service_cloud service_continuous_provider</td>\n",
       "      <td>[the cloud service, cloud service, continuous, provider, service provider, cloud service provider, auditing, continuous auditing, of the cloud, basic criterion]</td>\n",
       "      <td>[Product safety and security (pss). Guidelines and recommendations for cloud customers. Basic criterion: The cloud service provider provides cloud customers with guidelines and recommendations for...</td>\n",
       "      <td>the cloud service - cloud service - continuous - provider - service provider - cloud service provider - auditing - continuous auditing - of the cloud - basic criterion</td>\n",
       "      <td>0.248260</td>\n",
       "      <td>False</td>\n",
       "    </tr>\n",
       "    <tr>\n",
       "      <th>3</th>\n",
       "      <td>3</td>\n",
       "      <td>risk assessment</td>\n",
       "      <td>3</td>\n",
       "      <td>3.0</td>\n",
       "      <td>organisation of information security (ois)</td>\n",
       "      <td>OIS-04</td>\n",
       "      <td>segregation of duties</td>\n",
       "      <td>basic criterion: conflicting tasks and responsibilities are separated based on an ois-06 risk assessment to reduce the risk of unauthorised or unintended changes or misuse of cloud customer data p...</td>\n",
       "      <td>38.0</td>\n",
       "      <td>c5</td>\n",
       "      <td>Basic criterion: Conflicting tasks and responsibilities are separated based on an OIS-06 risk assessment to reduce the risk of unauthorized or unintended changes or misuse of cloud customer data p...</td>\n",
       "      <td>Organisation of information security (ois). Segregation of duties. Basic criterion: Conflicting tasks and responsibilities are separated based on an OIS-06 risk assessment to reduce the risk of un...</td>\n",
       "      <td>[-1.26607642e-01  1.74753163e-02 -8.93225491e-01 -1.01690978e-01\\n  5.05746186e-01 -1.56378970e-01 -8.32797289e-01 -1.71892509e-01\\n -6.36364758e-01 -9.94106650e-01 -3.80956352e-01  2.64591187e-01...</td>\n",
       "      <td>[-0.9999812  -0.99968517  0.99999386 ... -0.9999936   0.9962414\\n -0.99698454]</td>\n",
       "      <td>[0.011924328282475471, -0.02276644855737686, 0.007795905228704214, -0.0424332395195961, -0.020201215520501137, 0.03396262601017952, -0.009666387923061848, -0.015765497460961342, -0.002267960458993...</td>\n",
       "      <td>[0.04159489646553993, 0.02648993209004402, -0.00977355893701315, -0.015823548659682274, -0.060550931841135025, 0.00342398788779974, 0.03466673940420151, -0.0167149156332016, 0.002295789774507284, ...</td>\n",
       "      <td>[0.011999014, -0.02294126, 0.007658234, -0.042351037, -0.020346155, 0.03411091, -0.009684823, -0.015717773, -0.0022590118, -0.024278942, 0.023850884, -0.013289878, 0.008581235, -0.00031477347, -0....</td>\n",
       "      <td>0</td>\n",
       "      <td>1.0</td>\n",
       "      <td>Organisation of information security (ois). Segregation of duties. Basic criterion: Conflicting tasks and responsibilities are separated based on an OIS-06 risk assessment to reduce the risk of un...</td>\n",
       "      <td>1</td>\n",
       "      <td>1_the cloud service_cloud service_continuous_provider</td>\n",
       "      <td>[the cloud service, cloud service, continuous, provider, service provider, cloud service provider, auditing, continuous auditing, of the cloud, basic criterion]</td>\n",
       "      <td>[Product safety and security (pss). Guidelines and recommendations for cloud customers. Basic criterion: The cloud service provider provides cloud customers with guidelines and recommendations for...</td>\n",
       "      <td>the cloud service - cloud service - continuous - provider - service provider - cloud service provider - auditing - continuous auditing - of the cloud - basic criterion</td>\n",
       "      <td>0.186898</td>\n",
       "      <td>False</td>\n",
       "    </tr>\n",
       "  </tbody>\n",
       "</table>\n",
       "</div>"
      ],
      "text/plain": [
       "   Unnamed: 0.1 extended_fipps_label  ...  Probability  Representative_document\n",
       "0             0                  NaN  ...     0.164448                    False\n",
       "1             1                  NaN  ...     0.328016                    False\n",
       "2             2                  NaN  ...     0.248260                    False\n",
       "3             3      risk assessment  ...     0.186898                    False\n",
       "\n",
       "[4 rows x 27 columns]"
      ]
     },
     "execution_count": 161,
     "metadata": {},
     "output_type": "execute_result"
    }
   ],
   "source": [
    "df_for_inspectionv2.head(4)"
   ]
  },
  {
   "cell_type": "code",
   "execution_count": 109,
   "metadata": {},
   "outputs": [
    {
     "ename": "KeyError",
     "evalue": "'OpenAI'",
     "output_type": "error",
     "traceback": [
      "\u001b[1;31m---------------------------------------------------------------------------\u001b[0m",
      "\u001b[1;31mKeyError\u001b[0m                                  Traceback (most recent call last)",
      "Cell \u001b[1;32mIn[109], line 5\u001b[0m\n\u001b[0;32m      2\u001b[0m \u001b[38;5;28;01mfrom\u001b[39;00m \u001b[38;5;21;01mbertopic\u001b[39;00m\u001b[38;5;21;01m.\u001b[39;00m\u001b[38;5;21;01mrepresentation\u001b[39;00m \u001b[38;5;28;01mimport\u001b[39;00m KeyBERTInspired, MaximalMarginalRelevance, OpenAI\n\u001b[0;32m      4\u001b[0m \u001b[38;5;28;01mfor\u001b[39;00m i \u001b[38;5;129;01min\u001b[39;00m \u001b[38;5;28mrange\u001b[39m(\u001b[38;5;241m1\u001b[39m, \u001b[38;5;28mmax\u001b[39m(topic_model\u001b[38;5;241m.\u001b[39mget_topics()\u001b[38;5;241m.\u001b[39mkeys())\u001b[38;5;241m+\u001b[39m\u001b[38;5;241m1\u001b[39m):\n\u001b[1;32m----> 5\u001b[0m     \u001b[38;5;28mprint\u001b[39m(\u001b[38;5;124mf\u001b[39m\u001b[38;5;124m\"\u001b[39m\u001b[38;5;132;01m{\u001b[39;00mi\u001b[38;5;132;01m}\u001b[39;00m\u001b[38;5;124m \u001b[39m\u001b[38;5;132;01m{\u001b[39;00m\u001b[43mtopic_model\u001b[49m\u001b[38;5;241;43m.\u001b[39;49m\u001b[43mget_topic\u001b[49m\u001b[43m(\u001b[49m\u001b[43mi\u001b[49m\u001b[43m,\u001b[49m\u001b[38;5;250;43m \u001b[39;49m\u001b[43mfull\u001b[49m\u001b[38;5;241;43m=\u001b[39;49m\u001b[38;5;28;43;01mTrue\u001b[39;49;00m\u001b[43m)\u001b[49m\u001b[43m[\u001b[49m\u001b[38;5;124;43m'\u001b[39;49m\u001b[38;5;124;43mOpenAI\u001b[39;49m\u001b[38;5;124;43m'\u001b[39;49m\u001b[43m]\u001b[49m[\u001b[38;5;241m0\u001b[39m][\u001b[38;5;241m0\u001b[39m]\u001b[38;5;132;01m}\u001b[39;00m\u001b[38;5;124m: \u001b[39m\u001b[38;5;132;01m{\u001b[39;00mtopic_model\u001b[38;5;241m.\u001b[39mget_topic_freq(i)\u001b[38;5;132;01m}\u001b[39;00m\u001b[38;5;124m\"\u001b[39m)\n",
      "\u001b[1;31mKeyError\u001b[0m: 'OpenAI'"
     ]
    }
   ],
   "source": [
    "# for i in range(1, max(topic_model.get_topics().keys())+1):\n",
    "#     print(f\"{i} {topic_model.get_topic(i, full=True)['OpenAI'][0][0]}: {topic_model.get_topic_freq(i)}\")"
   ]
  },
  {
   "cell_type": "code",
   "execution_count": 105,
   "metadata": {},
   "outputs": [
    {
     "ename": "KeyError",
     "evalue": "'topic_label'",
     "output_type": "error",
     "traceback": [
      "\u001b[1;31m---------------------------------------------------------------------------\u001b[0m",
      "\u001b[1;31mKeyError\u001b[0m                                  Traceback (most recent call last)",
      "Cell \u001b[1;32mIn[105], line 5\u001b[0m\n\u001b[0;32m      2\u001b[0m df_merged[\u001b[38;5;124m'\u001b[39m\u001b[38;5;124mcount\u001b[39m\u001b[38;5;124m'\u001b[39m] \u001b[38;5;241m=\u001b[39m \u001b[38;5;241m1\u001b[39m\n\u001b[0;32m      4\u001b[0m \u001b[38;5;66;03m# Step 2: Create the pivot table using 'docs' as index, 'topic' as columns, and the new 'count' column for values\u001b[39;00m\n\u001b[1;32m----> 5\u001b[0m pivot_table \u001b[38;5;241m=\u001b[39m \u001b[43mdf_merged\u001b[49m\u001b[38;5;241;43m.\u001b[39;49m\u001b[43mpivot_table\u001b[49m\u001b[43m(\u001b[49m\u001b[43mindex\u001b[49m\u001b[38;5;241;43m=\u001b[39;49m\u001b[38;5;124;43m'\u001b[39;49m\u001b[38;5;124;43mdocument\u001b[39;49m\u001b[38;5;124;43m'\u001b[39;49m\u001b[43m,\u001b[49m\u001b[43m \u001b[49m\u001b[43mcolumns\u001b[49m\u001b[38;5;241;43m=\u001b[39;49m\u001b[38;5;124;43m'\u001b[39;49m\u001b[38;5;124;43mtopic_label\u001b[39;49m\u001b[38;5;124;43m'\u001b[39;49m\u001b[43m,\u001b[49m\u001b[43m \u001b[49m\u001b[43mvalues\u001b[49m\u001b[38;5;241;43m=\u001b[39;49m\u001b[38;5;124;43m'\u001b[39;49m\u001b[38;5;124;43mcount\u001b[39;49m\u001b[38;5;124;43m'\u001b[39;49m\u001b[43m,\u001b[49m\u001b[43m \u001b[49m\u001b[43maggfunc\u001b[49m\u001b[38;5;241;43m=\u001b[39;49m\u001b[38;5;124;43m'\u001b[39;49m\u001b[38;5;124;43mcount\u001b[39;49m\u001b[38;5;124;43m'\u001b[39;49m\u001b[43m,\u001b[49m\u001b[43m \u001b[49m\u001b[43mfill_value\u001b[49m\u001b[38;5;241;43m=\u001b[39;49m\u001b[38;5;241;43m0\u001b[39;49m\u001b[43m)\u001b[49m\n\u001b[0;32m      7\u001b[0m pivot_table\u001b[38;5;241m.\u001b[39mloc[\u001b[38;5;124m'\u001b[39m\u001b[38;5;124mTotal\u001b[39m\u001b[38;5;124m'\u001b[39m] \u001b[38;5;241m=\u001b[39m pivot_table\u001b[38;5;241m.\u001b[39msum()\n",
      "File \u001b[1;32mc:\\analysis 2024-02-19\\privacyvenvv2\\Lib\\site-packages\\pandas\\core\\frame.py:9496\u001b[0m, in \u001b[0;36mDataFrame.pivot_table\u001b[1;34m(self, values, index, columns, aggfunc, fill_value, margins, dropna, margins_name, observed, sort)\u001b[0m\n\u001b[0;32m   9479\u001b[0m \u001b[38;5;129m@Substitution\u001b[39m(\u001b[38;5;124m\"\u001b[39m\u001b[38;5;124m\"\u001b[39m)\n\u001b[0;32m   9480\u001b[0m \u001b[38;5;129m@Appender\u001b[39m(_shared_docs[\u001b[38;5;124m\"\u001b[39m\u001b[38;5;124mpivot_table\u001b[39m\u001b[38;5;124m\"\u001b[39m])\n\u001b[0;32m   9481\u001b[0m \u001b[38;5;28;01mdef\u001b[39;00m \u001b[38;5;21mpivot_table\u001b[39m(\n\u001b[1;32m   (...)\u001b[0m\n\u001b[0;32m   9492\u001b[0m     sort: \u001b[38;5;28mbool\u001b[39m \u001b[38;5;241m=\u001b[39m \u001b[38;5;28;01mTrue\u001b[39;00m,\n\u001b[0;32m   9493\u001b[0m ) \u001b[38;5;241m-\u001b[39m\u001b[38;5;241m>\u001b[39m DataFrame:\n\u001b[0;32m   9494\u001b[0m     \u001b[38;5;28;01mfrom\u001b[39;00m \u001b[38;5;21;01mpandas\u001b[39;00m\u001b[38;5;21;01m.\u001b[39;00m\u001b[38;5;21;01mcore\u001b[39;00m\u001b[38;5;21;01m.\u001b[39;00m\u001b[38;5;21;01mreshape\u001b[39;00m\u001b[38;5;21;01m.\u001b[39;00m\u001b[38;5;21;01mpivot\u001b[39;00m \u001b[38;5;28;01mimport\u001b[39;00m pivot_table\n\u001b[1;32m-> 9496\u001b[0m     \u001b[38;5;28;01mreturn\u001b[39;00m \u001b[43mpivot_table\u001b[49m\u001b[43m(\u001b[49m\n\u001b[0;32m   9497\u001b[0m \u001b[43m        \u001b[49m\u001b[38;5;28;43mself\u001b[39;49m\u001b[43m,\u001b[49m\n\u001b[0;32m   9498\u001b[0m \u001b[43m        \u001b[49m\u001b[43mvalues\u001b[49m\u001b[38;5;241;43m=\u001b[39;49m\u001b[43mvalues\u001b[49m\u001b[43m,\u001b[49m\n\u001b[0;32m   9499\u001b[0m \u001b[43m        \u001b[49m\u001b[43mindex\u001b[49m\u001b[38;5;241;43m=\u001b[39;49m\u001b[43mindex\u001b[49m\u001b[43m,\u001b[49m\n\u001b[0;32m   9500\u001b[0m \u001b[43m        \u001b[49m\u001b[43mcolumns\u001b[49m\u001b[38;5;241;43m=\u001b[39;49m\u001b[43mcolumns\u001b[49m\u001b[43m,\u001b[49m\n\u001b[0;32m   9501\u001b[0m \u001b[43m        \u001b[49m\u001b[43maggfunc\u001b[49m\u001b[38;5;241;43m=\u001b[39;49m\u001b[43maggfunc\u001b[49m\u001b[43m,\u001b[49m\n\u001b[0;32m   9502\u001b[0m \u001b[43m        \u001b[49m\u001b[43mfill_value\u001b[49m\u001b[38;5;241;43m=\u001b[39;49m\u001b[43mfill_value\u001b[49m\u001b[43m,\u001b[49m\n\u001b[0;32m   9503\u001b[0m \u001b[43m        \u001b[49m\u001b[43mmargins\u001b[49m\u001b[38;5;241;43m=\u001b[39;49m\u001b[43mmargins\u001b[49m\u001b[43m,\u001b[49m\n\u001b[0;32m   9504\u001b[0m \u001b[43m        \u001b[49m\u001b[43mdropna\u001b[49m\u001b[38;5;241;43m=\u001b[39;49m\u001b[43mdropna\u001b[49m\u001b[43m,\u001b[49m\n\u001b[0;32m   9505\u001b[0m \u001b[43m        \u001b[49m\u001b[43mmargins_name\u001b[49m\u001b[38;5;241;43m=\u001b[39;49m\u001b[43mmargins_name\u001b[49m\u001b[43m,\u001b[49m\n\u001b[0;32m   9506\u001b[0m \u001b[43m        \u001b[49m\u001b[43mobserved\u001b[49m\u001b[38;5;241;43m=\u001b[39;49m\u001b[43mobserved\u001b[49m\u001b[43m,\u001b[49m\n\u001b[0;32m   9507\u001b[0m \u001b[43m        \u001b[49m\u001b[43msort\u001b[49m\u001b[38;5;241;43m=\u001b[39;49m\u001b[43msort\u001b[49m\u001b[43m,\u001b[49m\n\u001b[0;32m   9508\u001b[0m \u001b[43m    \u001b[49m\u001b[43m)\u001b[49m\n",
      "File \u001b[1;32mc:\\analysis 2024-02-19\\privacyvenvv2\\Lib\\site-packages\\pandas\\core\\reshape\\pivot.py:102\u001b[0m, in \u001b[0;36mpivot_table\u001b[1;34m(data, values, index, columns, aggfunc, fill_value, margins, dropna, margins_name, observed, sort)\u001b[0m\n\u001b[0;32m     99\u001b[0m     table \u001b[38;5;241m=\u001b[39m concat(pieces, keys\u001b[38;5;241m=\u001b[39mkeys, axis\u001b[38;5;241m=\u001b[39m\u001b[38;5;241m1\u001b[39m)\n\u001b[0;32m    100\u001b[0m     \u001b[38;5;28;01mreturn\u001b[39;00m table\u001b[38;5;241m.\u001b[39m__finalize__(data, method\u001b[38;5;241m=\u001b[39m\u001b[38;5;124m\"\u001b[39m\u001b[38;5;124mpivot_table\u001b[39m\u001b[38;5;124m\"\u001b[39m)\n\u001b[1;32m--> 102\u001b[0m table \u001b[38;5;241m=\u001b[39m \u001b[43m__internal_pivot_table\u001b[49m\u001b[43m(\u001b[49m\n\u001b[0;32m    103\u001b[0m \u001b[43m    \u001b[49m\u001b[43mdata\u001b[49m\u001b[43m,\u001b[49m\n\u001b[0;32m    104\u001b[0m \u001b[43m    \u001b[49m\u001b[43mvalues\u001b[49m\u001b[43m,\u001b[49m\n\u001b[0;32m    105\u001b[0m \u001b[43m    \u001b[49m\u001b[43mindex\u001b[49m\u001b[43m,\u001b[49m\n\u001b[0;32m    106\u001b[0m \u001b[43m    \u001b[49m\u001b[43mcolumns\u001b[49m\u001b[43m,\u001b[49m\n\u001b[0;32m    107\u001b[0m \u001b[43m    \u001b[49m\u001b[43maggfunc\u001b[49m\u001b[43m,\u001b[49m\n\u001b[0;32m    108\u001b[0m \u001b[43m    \u001b[49m\u001b[43mfill_value\u001b[49m\u001b[43m,\u001b[49m\n\u001b[0;32m    109\u001b[0m \u001b[43m    \u001b[49m\u001b[43mmargins\u001b[49m\u001b[43m,\u001b[49m\n\u001b[0;32m    110\u001b[0m \u001b[43m    \u001b[49m\u001b[43mdropna\u001b[49m\u001b[43m,\u001b[49m\n\u001b[0;32m    111\u001b[0m \u001b[43m    \u001b[49m\u001b[43mmargins_name\u001b[49m\u001b[43m,\u001b[49m\n\u001b[0;32m    112\u001b[0m \u001b[43m    \u001b[49m\u001b[43mobserved\u001b[49m\u001b[43m,\u001b[49m\n\u001b[0;32m    113\u001b[0m \u001b[43m    \u001b[49m\u001b[43msort\u001b[49m\u001b[43m,\u001b[49m\n\u001b[0;32m    114\u001b[0m \u001b[43m\u001b[49m\u001b[43m)\u001b[49m\n\u001b[0;32m    115\u001b[0m \u001b[38;5;28;01mreturn\u001b[39;00m table\u001b[38;5;241m.\u001b[39m__finalize__(data, method\u001b[38;5;241m=\u001b[39m\u001b[38;5;124m\"\u001b[39m\u001b[38;5;124mpivot_table\u001b[39m\u001b[38;5;124m\"\u001b[39m)\n",
      "File \u001b[1;32mc:\\analysis 2024-02-19\\privacyvenvv2\\Lib\\site-packages\\pandas\\core\\reshape\\pivot.py:172\u001b[0m, in \u001b[0;36m__internal_pivot_table\u001b[1;34m(data, values, index, columns, aggfunc, fill_value, margins, dropna, margins_name, observed, sort)\u001b[0m\n\u001b[0;32m    169\u001b[0m     values \u001b[38;5;241m=\u001b[39m \u001b[38;5;28mlist\u001b[39m(values)\n\u001b[0;32m    171\u001b[0m observed_bool \u001b[38;5;241m=\u001b[39m \u001b[38;5;28;01mFalse\u001b[39;00m \u001b[38;5;28;01mif\u001b[39;00m observed \u001b[38;5;129;01mis\u001b[39;00m lib\u001b[38;5;241m.\u001b[39mno_default \u001b[38;5;28;01melse\u001b[39;00m observed\n\u001b[1;32m--> 172\u001b[0m grouped \u001b[38;5;241m=\u001b[39m \u001b[43mdata\u001b[49m\u001b[38;5;241;43m.\u001b[39;49m\u001b[43mgroupby\u001b[49m\u001b[43m(\u001b[49m\u001b[43mkeys\u001b[49m\u001b[43m,\u001b[49m\u001b[43m \u001b[49m\u001b[43mobserved\u001b[49m\u001b[38;5;241;43m=\u001b[39;49m\u001b[43mobserved_bool\u001b[49m\u001b[43m,\u001b[49m\u001b[43m \u001b[49m\u001b[43msort\u001b[49m\u001b[38;5;241;43m=\u001b[39;49m\u001b[43msort\u001b[49m\u001b[43m,\u001b[49m\u001b[43m \u001b[49m\u001b[43mdropna\u001b[49m\u001b[38;5;241;43m=\u001b[39;49m\u001b[43mdropna\u001b[49m\u001b[43m)\u001b[49m\n\u001b[0;32m    173\u001b[0m \u001b[38;5;28;01mif\u001b[39;00m observed \u001b[38;5;129;01mis\u001b[39;00m lib\u001b[38;5;241m.\u001b[39mno_default \u001b[38;5;129;01mand\u001b[39;00m \u001b[38;5;28many\u001b[39m(\n\u001b[0;32m    174\u001b[0m     ping\u001b[38;5;241m.\u001b[39m_passed_categorical \u001b[38;5;28;01mfor\u001b[39;00m ping \u001b[38;5;129;01min\u001b[39;00m grouped\u001b[38;5;241m.\u001b[39m_grouper\u001b[38;5;241m.\u001b[39mgroupings\n\u001b[0;32m    175\u001b[0m ):\n\u001b[0;32m    176\u001b[0m     warnings\u001b[38;5;241m.\u001b[39mwarn(\n\u001b[0;32m    177\u001b[0m         \u001b[38;5;124m\"\u001b[39m\u001b[38;5;124mThe default value of observed=False is deprecated and will change \u001b[39m\u001b[38;5;124m\"\u001b[39m\n\u001b[0;32m    178\u001b[0m         \u001b[38;5;124m\"\u001b[39m\u001b[38;5;124mto observed=True in a future version of pandas. Specify \u001b[39m\u001b[38;5;124m\"\u001b[39m\n\u001b[1;32m   (...)\u001b[0m\n\u001b[0;32m    181\u001b[0m         stacklevel\u001b[38;5;241m=\u001b[39mfind_stack_level(),\n\u001b[0;32m    182\u001b[0m     )\n",
      "File \u001b[1;32mc:\\analysis 2024-02-19\\privacyvenvv2\\Lib\\site-packages\\pandas\\core\\frame.py:9170\u001b[0m, in \u001b[0;36mDataFrame.groupby\u001b[1;34m(self, by, axis, level, as_index, sort, group_keys, observed, dropna)\u001b[0m\n\u001b[0;32m   9167\u001b[0m \u001b[38;5;28;01mif\u001b[39;00m level \u001b[38;5;129;01mis\u001b[39;00m \u001b[38;5;28;01mNone\u001b[39;00m \u001b[38;5;129;01mand\u001b[39;00m by \u001b[38;5;129;01mis\u001b[39;00m \u001b[38;5;28;01mNone\u001b[39;00m:\n\u001b[0;32m   9168\u001b[0m     \u001b[38;5;28;01mraise\u001b[39;00m \u001b[38;5;167;01mTypeError\u001b[39;00m(\u001b[38;5;124m\"\u001b[39m\u001b[38;5;124mYou have to supply one of \u001b[39m\u001b[38;5;124m'\u001b[39m\u001b[38;5;124mby\u001b[39m\u001b[38;5;124m'\u001b[39m\u001b[38;5;124m and \u001b[39m\u001b[38;5;124m'\u001b[39m\u001b[38;5;124mlevel\u001b[39m\u001b[38;5;124m'\u001b[39m\u001b[38;5;124m\"\u001b[39m)\n\u001b[1;32m-> 9170\u001b[0m \u001b[38;5;28;01mreturn\u001b[39;00m \u001b[43mDataFrameGroupBy\u001b[49m\u001b[43m(\u001b[49m\n\u001b[0;32m   9171\u001b[0m \u001b[43m    \u001b[49m\u001b[43mobj\u001b[49m\u001b[38;5;241;43m=\u001b[39;49m\u001b[38;5;28;43mself\u001b[39;49m\u001b[43m,\u001b[49m\n\u001b[0;32m   9172\u001b[0m \u001b[43m    \u001b[49m\u001b[43mkeys\u001b[49m\u001b[38;5;241;43m=\u001b[39;49m\u001b[43mby\u001b[49m\u001b[43m,\u001b[49m\n\u001b[0;32m   9173\u001b[0m \u001b[43m    \u001b[49m\u001b[43maxis\u001b[49m\u001b[38;5;241;43m=\u001b[39;49m\u001b[43maxis\u001b[49m\u001b[43m,\u001b[49m\n\u001b[0;32m   9174\u001b[0m \u001b[43m    \u001b[49m\u001b[43mlevel\u001b[49m\u001b[38;5;241;43m=\u001b[39;49m\u001b[43mlevel\u001b[49m\u001b[43m,\u001b[49m\n\u001b[0;32m   9175\u001b[0m \u001b[43m    \u001b[49m\u001b[43mas_index\u001b[49m\u001b[38;5;241;43m=\u001b[39;49m\u001b[43mas_index\u001b[49m\u001b[43m,\u001b[49m\n\u001b[0;32m   9176\u001b[0m \u001b[43m    \u001b[49m\u001b[43msort\u001b[49m\u001b[38;5;241;43m=\u001b[39;49m\u001b[43msort\u001b[49m\u001b[43m,\u001b[49m\n\u001b[0;32m   9177\u001b[0m \u001b[43m    \u001b[49m\u001b[43mgroup_keys\u001b[49m\u001b[38;5;241;43m=\u001b[39;49m\u001b[43mgroup_keys\u001b[49m\u001b[43m,\u001b[49m\n\u001b[0;32m   9178\u001b[0m \u001b[43m    \u001b[49m\u001b[43mobserved\u001b[49m\u001b[38;5;241;43m=\u001b[39;49m\u001b[43mobserved\u001b[49m\u001b[43m,\u001b[49m\n\u001b[0;32m   9179\u001b[0m \u001b[43m    \u001b[49m\u001b[43mdropna\u001b[49m\u001b[38;5;241;43m=\u001b[39;49m\u001b[43mdropna\u001b[49m\u001b[43m,\u001b[49m\n\u001b[0;32m   9180\u001b[0m \u001b[43m\u001b[49m\u001b[43m)\u001b[49m\n",
      "File \u001b[1;32mc:\\analysis 2024-02-19\\privacyvenvv2\\Lib\\site-packages\\pandas\\core\\groupby\\groupby.py:1329\u001b[0m, in \u001b[0;36mGroupBy.__init__\u001b[1;34m(self, obj, keys, axis, level, grouper, exclusions, selection, as_index, sort, group_keys, observed, dropna)\u001b[0m\n\u001b[0;32m   1326\u001b[0m \u001b[38;5;28mself\u001b[39m\u001b[38;5;241m.\u001b[39mdropna \u001b[38;5;241m=\u001b[39m dropna\n\u001b[0;32m   1328\u001b[0m \u001b[38;5;28;01mif\u001b[39;00m grouper \u001b[38;5;129;01mis\u001b[39;00m \u001b[38;5;28;01mNone\u001b[39;00m:\n\u001b[1;32m-> 1329\u001b[0m     grouper, exclusions, obj \u001b[38;5;241m=\u001b[39m \u001b[43mget_grouper\u001b[49m\u001b[43m(\u001b[49m\n\u001b[0;32m   1330\u001b[0m \u001b[43m        \u001b[49m\u001b[43mobj\u001b[49m\u001b[43m,\u001b[49m\n\u001b[0;32m   1331\u001b[0m \u001b[43m        \u001b[49m\u001b[43mkeys\u001b[49m\u001b[43m,\u001b[49m\n\u001b[0;32m   1332\u001b[0m \u001b[43m        \u001b[49m\u001b[43maxis\u001b[49m\u001b[38;5;241;43m=\u001b[39;49m\u001b[43maxis\u001b[49m\u001b[43m,\u001b[49m\n\u001b[0;32m   1333\u001b[0m \u001b[43m        \u001b[49m\u001b[43mlevel\u001b[49m\u001b[38;5;241;43m=\u001b[39;49m\u001b[43mlevel\u001b[49m\u001b[43m,\u001b[49m\n\u001b[0;32m   1334\u001b[0m \u001b[43m        \u001b[49m\u001b[43msort\u001b[49m\u001b[38;5;241;43m=\u001b[39;49m\u001b[43msort\u001b[49m\u001b[43m,\u001b[49m\n\u001b[0;32m   1335\u001b[0m \u001b[43m        \u001b[49m\u001b[43mobserved\u001b[49m\u001b[38;5;241;43m=\u001b[39;49m\u001b[38;5;28;43;01mFalse\u001b[39;49;00m\u001b[43m \u001b[49m\u001b[38;5;28;43;01mif\u001b[39;49;00m\u001b[43m \u001b[49m\u001b[43mobserved\u001b[49m\u001b[43m \u001b[49m\u001b[38;5;129;43;01mis\u001b[39;49;00m\u001b[43m \u001b[49m\u001b[43mlib\u001b[49m\u001b[38;5;241;43m.\u001b[39;49m\u001b[43mno_default\u001b[49m\u001b[43m \u001b[49m\u001b[38;5;28;43;01melse\u001b[39;49;00m\u001b[43m \u001b[49m\u001b[43mobserved\u001b[49m\u001b[43m,\u001b[49m\n\u001b[0;32m   1336\u001b[0m \u001b[43m        \u001b[49m\u001b[43mdropna\u001b[49m\u001b[38;5;241;43m=\u001b[39;49m\u001b[38;5;28;43mself\u001b[39;49m\u001b[38;5;241;43m.\u001b[39;49m\u001b[43mdropna\u001b[49m\u001b[43m,\u001b[49m\n\u001b[0;32m   1337\u001b[0m \u001b[43m    \u001b[49m\u001b[43m)\u001b[49m\n\u001b[0;32m   1339\u001b[0m \u001b[38;5;28;01mif\u001b[39;00m observed \u001b[38;5;129;01mis\u001b[39;00m lib\u001b[38;5;241m.\u001b[39mno_default:\n\u001b[0;32m   1340\u001b[0m     \u001b[38;5;28;01mif\u001b[39;00m \u001b[38;5;28many\u001b[39m(ping\u001b[38;5;241m.\u001b[39m_passed_categorical \u001b[38;5;28;01mfor\u001b[39;00m ping \u001b[38;5;129;01min\u001b[39;00m grouper\u001b[38;5;241m.\u001b[39mgroupings):\n",
      "File \u001b[1;32mc:\\analysis 2024-02-19\\privacyvenvv2\\Lib\\site-packages\\pandas\\core\\groupby\\grouper.py:1043\u001b[0m, in \u001b[0;36mget_grouper\u001b[1;34m(obj, key, axis, level, sort, observed, validate, dropna)\u001b[0m\n\u001b[0;32m   1041\u001b[0m         in_axis, level, gpr \u001b[38;5;241m=\u001b[39m \u001b[38;5;28;01mFalse\u001b[39;00m, gpr, \u001b[38;5;28;01mNone\u001b[39;00m\n\u001b[0;32m   1042\u001b[0m     \u001b[38;5;28;01melse\u001b[39;00m:\n\u001b[1;32m-> 1043\u001b[0m         \u001b[38;5;28;01mraise\u001b[39;00m \u001b[38;5;167;01mKeyError\u001b[39;00m(gpr)\n\u001b[0;32m   1044\u001b[0m \u001b[38;5;28;01melif\u001b[39;00m \u001b[38;5;28misinstance\u001b[39m(gpr, Grouper) \u001b[38;5;129;01mand\u001b[39;00m gpr\u001b[38;5;241m.\u001b[39mkey \u001b[38;5;129;01mis\u001b[39;00m \u001b[38;5;129;01mnot\u001b[39;00m \u001b[38;5;28;01mNone\u001b[39;00m:\n\u001b[0;32m   1045\u001b[0m     \u001b[38;5;66;03m# Add key to exclusions\u001b[39;00m\n\u001b[0;32m   1046\u001b[0m     exclusions\u001b[38;5;241m.\u001b[39madd(gpr\u001b[38;5;241m.\u001b[39mkey)\n",
      "\u001b[1;31mKeyError\u001b[0m: 'topic_label'"
     ]
    }
   ],
   "source": [
    "# Step 1: Add a helper column for counting if needed\n",
    "df_merged['count'] = 1\n",
    "\n",
    "# Step 2: Create the pivot table using 'docs' as index, 'topic' as columns, and the new 'count' column for values\n",
    "pivot_table = df_merged.pivot_table(index='document', columns='topic_label', values='count', aggfunc='count', fill_value=0)\n",
    "\n",
    "pivot_table.loc['Total'] = pivot_table.sum()"
   ]
  },
  {
   "cell_type": "code",
   "execution_count": null,
   "metadata": {},
   "outputs": [],
   "source": [
    "# Now, pivot_table should have documents as rows and topics as columns with counts\n",
    "pivot_table\n"
   ]
  },
  {
   "cell_type": "code",
   "execution_count": null,
   "metadata": {},
   "outputs": [],
   "source": []
  },
  {
   "cell_type": "code",
   "execution_count": null,
   "metadata": {},
   "outputs": [],
   "source": [
    "# # Block 2: Use Pre-generated Embeddings for Topic Modeling with BERTopic, min-max\n",
    "\n",
    "# # Load pre-generated embeddings\n",
    "# pre_generated_embeddings = list(df_merged['finetune_embeddings'].values)\n",
    "# pre_generated_embeddings = np.array(pre_generated_embeddings)\n",
    "\n",
    "# # Create a representation model\n",
    "# representation_model = KeyBERTInspired(random_state=42)\n",
    "\n",
    "# # Instantiate BERTopic with your fine-tuned model's embeddings and the representation model\n",
    "# topic_model = BERTopic(embedding_model='all-MiniLM-L6-v2',  # needed, but doesn't regenerate embeddings. see https://github.com/MaartenGr/BERTopic/issues/1601\n",
    "#                        verbose=True,\n",
    "#                        n_gram_range=(1, 3),\n",
    "#                        min_topic_size=2,\n",
    "#                        calculate_probabilities=True,\n",
    "#                        representation_model=representation_model)\n",
    "\n",
    "# # Fit BERTopic to your documents using pre-generated embeddings\n",
    "# topics, probs = topic_model.fit_transform(docs, embeddings=pre_generated_embeddings)\n"
   ]
  },
  {
   "cell_type": "code",
   "execution_count": null,
   "metadata": {},
   "outputs": [],
   "source": [
    "\n",
    "\n",
    "# # Optional: Print top terms for each topic\n",
    "# space = \" \"*10\n",
    "# for k, v in topic_model.get_topics().items():\n",
    "    \n",
    "#     if k != -1:  # Exclude outlier topic if present\n",
    "#         print(f'Cluster {k: 3}: {\",     \".join([term for term, _ in v[:3]])}')"
   ]
  },
  {
   "cell_type": "code",
   "execution_count": null,
   "metadata": {},
   "outputs": [],
   "source": []
  }
 ],
 "metadata": {
  "kernelspec": {
   "display_name": "privacyvenvv2",
   "language": "python",
   "name": "python3"
  },
  "language_info": {
   "codemirror_mode": {
    "name": "ipython",
    "version": 3
   },
   "file_extension": ".py",
   "mimetype": "text/x-python",
   "name": "python",
   "nbconvert_exporter": "python",
   "pygments_lexer": "ipython3",
   "version": "3.11.5"
  }
 },
 "nbformat": 4,
 "nbformat_minor": 2
}
