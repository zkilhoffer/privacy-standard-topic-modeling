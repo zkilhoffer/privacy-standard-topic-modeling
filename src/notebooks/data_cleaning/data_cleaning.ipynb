{
 "cells": [
  {
   "cell_type": "markdown",
   "metadata": {},
   "source": [
    "***\n",
    "\n",
    "# Data Cleaning\n",
    "\n",
    "  > [Zachary Kilhoffer](https://zkilhoffer.github.io/ \"Author's website\")\n",
    "\n",
    "  > Updated 2024-06-17\n",
    "\n",
    "***\n",
    "\n",
    "## Description\n",
    "- The code is part of the pipelines described in: \n",
    "  - Kilhoffer, Z. et al. (2024 in press). \"Cloud Privacy Beyond Legal Compliance: An NLP analysis of certifiable privacy and security standards\".\n",
    "- The paper will be released on 2024-06-28 at the [IEEE Cloud Summit](https://www.ieeecloudsummit.org/2024-program \"Program of IEEE Cloud Summit 2024\").\n",
    "- This script cleans/cleanses the text data before subsequent work, notably creating embeddings.\n",
    "  - By making calls to OpenAI, we use an LLM to batch correct errors that remain from the optical character recognition (OCR) process\n",
    "\n",
    "### Input files:\n",
    " `df = pd.read_excel('df_2023-12-16.xlsx')`\n",
    "\n",
    " `reference_only_df = pd.read_excel('reference_only_df_2023-12-16.xlsx')`\n",
    "\n",
    "### Output files:\n",
    "`df_2023-12-16.xlsx`\n",
    "\n",
    "`reference_only_df_2023-12-16.xlsx`\n",
    "\n",
    "***"
   ]
  },
  {
   "cell_type": "code",
   "execution_count": 1,
   "metadata": {},
   "outputs": [
    {
     "name": "stderr",
     "output_type": "stream",
     "text": [
      "/Users/Zak/Library/CloudStorage/Dropbox/Documents/Education/PhD/Cisco/Cloud Certifications Evaluation V2/Privacy Certifications 2023-12-12/ciscovenv/lib/python3.9/site-packages/fuzzywuzzy/fuzz.py:11: UserWarning: Using slow pure-python SequenceMatcher. Install python-Levenshtein to remove this warning\n",
      "  warnings.warn('Using slow pure-python SequenceMatcher. Install python-Levenshtein to remove this warning')\n",
      "[nltk_data] Downloading package words to /Users/Zak/nltk_data...\n",
      "[nltk_data]   Package words is already up-to-date!\n",
      "[nltk_data] Downloading package punkt to /Users/Zak/nltk_data...\n",
      "[nltk_data]   Package punkt is already up-to-date!\n"
     ]
    },
    {
     "data": {
      "text/plain": [
       "True"
      ]
     },
     "execution_count": 1,
     "metadata": {},
     "output_type": "execute_result"
    }
   ],
   "source": [
    "import warnings\n",
    "import pandas as pd\n",
    "import numpy as np\n",
    "import openpyxl\n",
    "\n",
    "from openai import OpenAI\n",
    "import nltk\n",
    "from nltk.corpus import words\n",
    "\n",
    "# Download the words dataset from nltk\n",
    "nltk.download('words')\n",
    "nltk.download('punkt')"
   ]
  },
  {
   "cell_type": "markdown",
   "metadata": {},
   "source": [
    "# Setup"
   ]
  },
  {
   "cell_type": "code",
   "execution_count": 2,
   "metadata": {},
   "outputs": [],
   "source": [
    "# display tweaks\n",
    "pd.set_option(\"display.max_colwidth\", 200)  # how much text is showing within a cell\n",
    "pd.set_option(\"display.max_columns\", False)\n",
    "pd.set_option(\"display.max_rows\", False)\n",
    "warnings.filterwarnings(\"ignore\")"
   ]
  },
  {
   "cell_type": "code",
   "execution_count": 3,
   "metadata": {},
   "outputs": [],
   "source": [
    "# load data, which is all OCR'd text\n",
    "df = pd.read_excel(\n",
    "    r\"/Users/Zak/Library/CloudStorage/Dropbox/Documents/Education/PhD/Cisco/Cloud Certifications Evaluation V2/Privacy Certifications 2023-12-12/data/intermediate/all_document_data.xlsx\",\n",
    "    index_col=0,\n",
    ")"
   ]
  },
  {
   "cell_type": "markdown",
   "metadata": {},
   "source": [
    "#### TODO: control_text not corrected here"
   ]
  },
  {
   "cell_type": "code",
   "execution_count": 4,
   "metadata": {},
   "outputs": [
    {
     "data": {
      "text/html": [
       "<div>\n",
       "<style scoped>\n",
       "    .dataframe tbody tr th:only-of-type {\n",
       "        vertical-align: middle;\n",
       "    }\n",
       "\n",
       "    .dataframe tbody tr th {\n",
       "        vertical-align: top;\n",
       "    }\n",
       "\n",
       "    .dataframe thead th {\n",
       "        text-align: right;\n",
       "    }\n",
       "</style>\n",
       "<table border=\"1\" class=\"dataframe\">\n",
       "  <thead>\n",
       "    <tr style=\"text-align: right;\">\n",
       "      <th></th>\n",
       "      <th>control_category</th>\n",
       "      <th>control_code</th>\n",
       "      <th>control_name</th>\n",
       "      <th>control_text</th>\n",
       "      <th>page</th>\n",
       "      <th>document</th>\n",
       "    </tr>\n",
       "  </thead>\n",
       "  <tbody>\n",
       "    <tr>\n",
       "      <th>0.0</th>\n",
       "      <td>Organisation of Information Security (OIS)</td>\n",
       "      <td>OIS-01</td>\n",
       "      <td>Information Security Management System (ISMS)</td>\n",
       "      <td>Basic Criterion  The Cloud Service Provider operates an information security management system (ISMS) in accordance with ISO/IEC 27001. The scope of the ISMS covers the Cloud Service Provider’s or...</td>\n",
       "      <td>36</td>\n",
       "      <td>c5</td>\n",
       "    </tr>\n",
       "  </tbody>\n",
       "</table>\n",
       "</div>"
      ],
      "text/plain": [
       "                               control_category control_code  ... page document\n",
       "0.0  Organisation of Information Security (OIS)       OIS-01  ...   36       c5\n",
       "\n",
       "[1 rows x 6 columns]"
      ]
     },
     "execution_count": 4,
     "metadata": {},
     "output_type": "execute_result"
    }
   ],
   "source": [
    "df.head(1)"
   ]
  },
  {
   "cell_type": "code",
   "execution_count": 5,
   "metadata": {},
   "outputs": [
    {
     "name": "stdout",
     "output_type": "stream",
     "text": [
      "Number of np.NaN in df[\"control_text\"]: 106.\n"
     ]
    }
   ],
   "source": [
    "# remove rows where control_text is np.Nan\n",
    "print(f'Number of np.NaN in df[\"control_text\"]: {df[\"control_text\"].value_counts(dropna=False)[0]}.')\n",
    "df.dropna(subset=['control_text'], inplace=True)"
   ]
  },
  {
   "cell_type": "markdown",
   "metadata": {},
   "source": [
    "# Fix OCR Errors"
   ]
  },
  {
   "cell_type": "markdown",
   "metadata": {},
   "source": [
    "Notes\n",
    "- c5: control_name is very short, control_text is detail\n",
    "- ccm\n",
    "- eu_coc: control_name is closer to control text. control_text is actually \"control guidance\"\n",
    "- fedramp\n",
    "- iso_27001\n",
    "- iso_27002 - most of the control_text is referential, refering to iso/iec 27002: 2013\n",
    "- iso_27017\n",
    "- iso_27018\n",
    "- iso_27701\n",
    "- nist\n",
    "- soc2"
   ]
  },
  {
   "cell_type": "code",
   "execution_count": 6,
   "metadata": {},
   "outputs": [],
   "source": [
    "# lowercase text\n",
    "df['control_text'] = df['control_text'].apply(lambda x: x.lower())\n",
    "df['control_name'] = df['control_name'].apply(lambda x: x.lower() if isinstance(x, str) else '')\n",
    "df['control_category'] = df['control_category'].apply(lambda x: x.lower() if isinstance(x, str) else '')"
   ]
  },
  {
   "cell_type": "code",
   "execution_count": 7,
   "metadata": {},
   "outputs": [],
   "source": [
    "# after visually inspecting the possibly wrong column, made this replacement list\n",
    "replacements = {'crite-ria': 'criteria',\n",
    "                '1so/iec': 'iso/iec',\n",
    "                '1so': 'iso',\n",
    "                '(<>)': '',\n",
    "                'iso/ iec': 'iso/iec',\n",
    "                'applies.implementation': 'applies. implementation',\n",
    "                'ofiso/iec': 'of iso/iec',\n",
    "                'iso/lec': 'iso/iec',\n",
    "                ' ofthe ': ' of the ',\n",
    "                ' pll': ' pii',\n",
    "                'cus-tomer': 'customer',\n",
    "                '1s0/iec': 'iso/iec',\n",
    "                'iso/i ec': 'iso/iec',\n",
    "                'per-sonal': 'personal',\n",
    "                'infor-mation': 'information',\n",
    "                'applies.public': 'applies. public',\n",
    "                'thecustomer': 'the customer',\n",
    "                'incidentresponse': 'incident response',\n",
    "                'integritychecking': 'integrity checking',\n",
    "                'incident-response': 'incident response',\n",
    "                'integrity-checking': 'integrity checking',\n",
    "                'service-cloud': 'service cloud',\n",
    "                'servicecloud': 'service cloud',\n",
    "                'integrity-checking': 'integrity checking' ,\n",
    "                'provider-cloud': 'provider cloud',\n",
    "                'providercloud': 'provider cloud',\n",
    "                'organization-level': 'organization level',\n",
    "                'csp': 'cloud service provider',\n",
    "                'basic criterion ': 'basic criterion: ',\n",
    "                'inter- national': 'international',\n",
    "                'organiza- tions': 'organizations',\n",
    "                'ad-dress': 'address',\n",
    "                'regard-ing': 'regarding'\n",
    "                }\n",
    "# Replace the strings in 'control_text' column\n",
    "for key, value in replacements.items():\n",
    "    df['control_text'] = df['control_text'].str.replace(key, value)\n",
    "\n",
    "# Replace the strings in 'control_name' column\n",
    "for key, value in replacements.items():\n",
    "    df['control_name'] = df['control_name'].str.replace(key, value)"
   ]
  },
  {
   "cell_type": "code",
   "execution_count": 15,
   "metadata": {},
   "outputs": [],
   "source": [
    "# replace /n\n",
    "df['control_text'] = df['control_text'].str.replace('\\n', ' ')\n",
    "\n",
    "# remove extra spaces\n",
    "df[\"control_text\"] = df[\"control_text\"].apply(lambda x: \" \".join(x.split()))\n",
    "\n",
    "# remove trailing/leading spaces\n",
    "df[\"control_text\"] = df[\"control_text\"].apply(lambda x: x.strip() if type(x) == str else x)\n",
    "df[\"control_name\"] = df[\"control_name\"].dropna().apply(lambda x: x.strip() if type(x) == str else x)\n",
    "df[\"control_code\"] = df[\"control_code\"].dropna().apply(lambda x: x.strip() if type(x) == str else x)\n",
    "df[\"control_category\"] = df[\"control_category\"].dropna().apply(lambda x: x.strip() if type(x) == str else x)\n",
    "\n",
    "# could be that PLMs misunderstand the acronym 'pii', so replace with whole phrase\n",
    "df['control_text'] = df['control_text'].str.replace('pii', 'personally identifiable information')\n",
    "df['control_name'] = df['control_name'].str.replace('pii', 'personally identifiable information')"
   ]
  },
  {
   "cell_type": "code",
   "execution_count": null,
   "metadata": {},
   "outputs": [],
   "source": [
    "# # Find candidates for misspellings to manually check, build dictionary of string replacements\n",
    "\n",
    "# # Load the list of English words\n",
    "# english_words = words.words()\n",
    "\n",
    "# # Find words not in English\n",
    "# def non_english_words(text):\n",
    "#     words = text.split()\n",
    "#     return ' '.join([word for word in words if word not in english_words])\n",
    "\n",
    "# df['possibly_wrong'] = df['control_text'].apply(non_english_words)\n",
    "# df.drop(axis=1, columns=['possibly_wrong'], inplace=True)  # cleanup"
   ]
  },
  {
   "cell_type": "code",
   "execution_count": 16,
   "metadata": {},
   "outputs": [],
   "source": [
    "# dict of string replacements for control texts, made by visually inspecting the possibly wrong column\n",
    "replacements = {'crite-ria': 'criteria',\n",
    "                '1so/iec': 'iso/iec',\n",
    "                '1so': 'iso',\n",
    "                '(<>)': '',\n",
    "                'iso/ iec': 'iso/iec',\n",
    "                'applies.implementation': 'applies. implementation',\n",
    "                'ofiso/iec': 'of iso/iec',\n",
    "                'iso/lec': 'iso/iec',\n",
    "                ' ofthe ': ' of the ',\n",
    "                ' pll': ' pii',\n",
    "                'cus-tomer': 'customer',\n",
    "                '1s0/iec': 'iso/iec',\n",
    "                'iso/i ec': 'iso/iec',\n",
    "                'per-sonal': 'personal',\n",
    "                'infor-mation': 'information',\n",
    "                'applies.public': 'applies. public',\n",
    "                'thecustomer': 'the customer',\n",
    "                'incidentresponse': 'incident response',\n",
    "                'integritychecking': 'integrity checking',\n",
    "                'incident-response': 'incident response',\n",
    "                'integrity-checking': 'integrity checking',\n",
    "                'service-cloud': 'service cloud',\n",
    "                'servicecloud': 'service cloud',\n",
    "                'integrity-checking': 'integrity checking' ,\n",
    "                'provider-cloud': 'provider cloud',\n",
    "                'providercloud': 'provider cloud',\n",
    "                'organization-level': 'organization level',\n",
    "                'csp': 'cloud service provider',\n",
    "                'basic criterion ': 'basic criterion: ',\n",
    "                'inter- national': 'international',\n",
    "                'organiza- tions': 'organizations',\n",
    "                'ad-dress': 'address',\n",
    "                'regard-ing': 'regarding'\n",
    "                }\n",
    "\n",
    "# Replace the strings in 'control_text' column\n",
    "for key, value in replacements.items():\n",
    "    df['control_text'] = df['control_text'].str.replace(key, value)\n",
    "\n",
    "# Replace the strings in 'control_name' column\n",
    "for key, value in replacements.items():\n",
    "    df['control_name'] = df['control_name'].str.replace(key, value)"
   ]
  },
  {
   "cell_type": "markdown",
   "metadata": {},
   "source": [
    "## OpenAI OCR error correction"
   ]
  },
  {
   "cell_type": "code",
   "execution_count": 17,
   "metadata": {},
   "outputs": [],
   "source": [
    "# function to retrieve key\n",
    "def read_key_from_file(filename=r\"/Users/Zak/Library/CloudStorage/Dropbox/Documents/Education/PhD/Cisco/Cloud Certifications Evaluation V2/Privacy Certifications 2023-12-12/key.txt\"):\n",
    "    with open(filename, 'r') as file:\n",
    "        return file.read().strip()\n",
    "\n",
    "# initialize client\n",
    "client = OpenAI(organization='org-NZYm3UxLmOOtDWjZAqHm6X9i', api_key=read_key_from_file())"
   ]
  },
  {
   "cell_type": "code",
   "execution_count": 18,
   "metadata": {},
   "outputs": [
    {
     "data": {
      "text/plain": [
       "'control the organization should determine and securely maintain the necessary records in support of its obligations for the processing of personally identifiable information. implementation guidance a way to maintain records of the processing of personally identifiable information is to have an inventory or list of the personally identifiable information processing activities that theorganization performs. such an inventory can include: the type of processing; the purposes for the processing; a description of the categories of personally identifiable information and personally identifiable information principals (e.g. children); the categories of recipients to whom personally identifiable information has been or will be disclosed, including recipients in third countries or international organizations; a general description of the technical and organizational security measures; and a privacy impact assessment report. such an inventory should have an owner who is responsible for its accuracy and completeness.'"
      ]
     },
     "execution_count": 18,
     "metadata": {},
     "output_type": "execute_result"
    }
   ],
   "source": [
    "# text we'll check\n",
    "text_to_check = df.loc[1506]['control_text']\n",
    "text_to_check"
   ]
  },
  {
   "cell_type": "code",
   "execution_count": 19,
   "metadata": {},
   "outputs": [
    {
     "data": {
      "text/plain": [
       "'Control: The organization should determine and securely maintain the necessary records in support of its obligations for the processing of personally identifiable information. \\n\\nImplementation guidance: A way to maintain records of the processing of personally identifiable information is to have an inventory or list of the personally identifiable information processing activities that the organization performs. \\n\\nSuch an inventory can include:\\n\\n- The type of processing\\n- The purposes for the processing\\n- A description of the categories of personally identifiable information and personally identifiable information principals (e.g., children)\\n- The categories of recipients to whom personally identifiable information has been or will be disclosed, including recipients in third countries or international organizations\\n- A general description of the technical and organizational security measures\\n- A privacy impact assessment report\\n\\nSuch an inventory should have an owner who is responsible for its accuracy and completeness.'"
      ]
     },
     "execution_count": 19,
     "metadata": {},
     "output_type": "execute_result"
    }
   ],
   "source": [
    "# querying API\n",
    "completion = client.chat.completions.create(\n",
    "  model=\"gpt-3.5-turbo\",\n",
    "  messages=[\n",
    "    {\"role\": \"system\", \"content\": \"I will provide you text from cybersecurity and privacy documentation like ISO-IEC 27017, FedRamp, etc. The text is the result of imperfect optical character recognition (OCR), which needs to have errors fixed. Your job is to return the same text with OCR errors corrected. Some text I give you will include headings. This is especially likely if there's no ending punctuation. When some part of the text is likely to be a heading, treat it like its own sentence, separating it from other text with a period. Examples of headings may include something like 'Controls' or 'Responsibilities of data controller'.\"},\n",
    "    {\"role\": \"user\", \"content\": text_to_check}\n",
    "  ]\n",
    ")\n",
    "\n",
    "# completion.choices[0].message['content']\n",
    "completion.choices[0].message.content"
   ]
  },
  {
   "cell_type": "code",
   "execution_count": 20,
   "metadata": {},
   "outputs": [],
   "source": [
    "# function to correct OCR errored text\n",
    "def ocr_correction(text_to_check):\n",
    "    completion = client.chat.completions.create(\n",
    "        model=\"gpt-3.5-turbo\",\n",
    "        messages=[\n",
    "            {\n",
    "                \"role\": \"system\",\n",
    "                \"content\": \"I will provide you text from cybersecurity and privacy documentation like FedRamp, SOC-2, etc. The text is the result of imperfect optical character recognition (OCR), which needs to have errors fixed. Your job is to return the same text with OCR errors corrected. Some text I give you will include headings. Text is especially likely to be a heading if there's no ending punctuation. When some part of the text is likely to be a heading, treat it like its own sentence, separating it from other text with a period. Examples of headings may include something like 'Controls' or 'Responsibilities of data controller'.\",\n",
    "            },\n",
    "            {\"role\": \"user\", \"content\": text_to_check},\n",
    "        ],\n",
    "    )\n",
    "    return completion.choices[0].message.content"
   ]
  },
  {
   "cell_type": "code",
   "execution_count": null,
   "metadata": {},
   "outputs": [],
   "source": [
    "Note: correcting the text of the control's name was not successful. Once in a while ChatGPT just started writing stuff about the name of the control, rather than simply returning a corrected version of it."
   ]
  },
  {
   "cell_type": "code",
   "execution_count": 24,
   "metadata": {},
   "outputs": [],
   "source": [
    "# applying function to correct OCR text\n",
    "df['control_text_corrected'] = df['control_text'].apply(lambda x: ocr_correction(x))"
   ]
  },
  {
   "cell_type": "markdown",
   "metadata": {},
   "source": [
    "# Create full_control_text column"
   ]
  },
  {
   "cell_type": "code",
   "execution_count": 32,
   "metadata": {},
   "outputs": [],
   "source": [
    "# combining all potentially useful information for control text\n",
    "# goal is to separate the control category, name, and text with a period\n",
    "# this requires a conditional so we don't have full_control_texts that start with '.' sometimes\n",
    "\n",
    "def concatenate_with_condition(row):\n",
    "    result = f\"{row['control_category']}\".capitalize()\n",
    "    \n",
    "    if len(result) > 1:\n",
    "        result += '. '\n",
    "    if len(row['control_name']) > 2:\n",
    "        result += f\"{row['control_name'].strip().capitalize()}. \"\n",
    "    result += f\"{row['control_text_corrected']}\"     \n",
    "\n",
    "    return result"
   ]
  },
  {
   "cell_type": "code",
   "execution_count": 33,
   "metadata": {},
   "outputs": [
    {
     "name": "stdout",
     "output_type": "stream",
     "text": [
      "(1661, 9)\n"
     ]
    }
   ],
   "source": [
    "# Apply the custom function to create the new column\n",
    "df['full_control_text'] = df.apply(concatenate_with_condition, axis=1)\n",
    "\n",
    "print(df.shape)"
   ]
  },
  {
   "cell_type": "code",
   "execution_count": 34,
   "metadata": {},
   "outputs": [],
   "source": [
    "# fixing the \"nan. <control text>\" problem for some documents. the documents: iso_27002, iso_27018, iso_27017, eu_coc, iso_27701\n",
    "df['full_control_text'] = df['full_control_text'].str.replace('Nan. ', '')"
   ]
  },
  {
   "cell_type": "markdown",
   "metadata": {},
   "source": [
    "# Identifying reference-only controls\n",
    "\n",
    "- It's valuable to remove controls that are mere references like \"the blah blah in ISO/IEC 10.1.2 applies\"\n",
    "- But some of the longer texts have interesting information, so we keep them (>250 characters)\n",
    "- We use rules and regex to identify the reference controls"
   ]
  },
  {
   "cell_type": "code",
   "execution_count": 35,
   "metadata": {},
   "outputs": [
    {
     "data": {
      "text/plain": [
       "document\n",
       "fedramp      410\n",
       "iso_27701    238\n",
       "ccm          197\n",
       "iso_27017    154\n",
       "c5           121\n",
       "iso_27018    114\n",
       "iso_27002    110\n",
       "nist         100\n",
       "iso_27001     93\n",
       "eu_coc        62\n",
       "soc2          61\n",
       "NaN            1\n",
       "Name: count, dtype: int64"
      ]
     },
     "execution_count": 35,
     "metadata": {},
     "output_type": "execute_result"
    }
   ],
   "source": [
    "df['document'].value_counts(dropna=False)"
   ]
  },
  {
   "cell_type": "code",
   "execution_count": 36,
   "metadata": {},
   "outputs": [],
   "source": [
    "# Define the updated regex patterns\n",
    "pattern1 = r\"the control.*implementation guidance and other information stated in.*appl\"\n",
    "pattern2 = r\"the requirements stated in.*appl\"\n",
    "pattern3 = r\"the requirement stated in.*appl\"\n",
    "pattern4 = r\"the objective specified in.*appl\"\n",
    "pattern5 = r\"the objectives specified in.*appl\"\n",
    "pattern6 = r\"control.*and the associated implementation guidance.*specified in.*appl\"\n",
    "pattern7 = r\"the objective specified in.*iso.*appl\"\n",
    "pattern8 = r\"the objectives specified in iso.*appl\"\n",
    "pattern9 = r\"control.*implementation guidance and other information.*appl\"\n",
    "\n",
    "reference_only_df = df[\n",
    "    (df[\"control_text\"].str.len() < 250)\n",
    "    & (\n",
    "        df[\"control_text\"].str.contains(pattern1, regex=True)\n",
    "        | df[\"control_text\"].str.contains(pattern2, regex=True)\n",
    "        | df[\"control_text\"].str.contains(pattern3, regex=True)\n",
    "        | df[\"control_text\"].str.contains(pattern4, regex=True)\n",
    "        | df[\"control_text\"].str.contains(pattern5, regex=True)\n",
    "        | df[\"control_text\"].str.contains(pattern6, regex=True)\n",
    "        | df[\"control_text\"].str.contains(pattern7, regex=True)\n",
    "        | df[\"control_text\"].str.contains(pattern8, regex=True)\n",
    "        | df[\"control_text\"].str.contains(pattern9, regex=True)\n",
    "    )\n",
    "]\n",
    "\n",
    "# drop NIST (not certifiable)\n",
    "df.drop(df[df['document'] == 'nist'].index, inplace=True)\n",
    "\n",
    "# remove ISO/IEC 27001\n",
    "df_27001 = df[df['document'] == 'iso_27001']\n",
    "reference_only_df = pd.concat([df_27001, reference_only_df])\n",
    "\n",
    "# filter the reference_only_df out of df\n",
    "df.drop(reference_only_df.index, inplace=True)"
   ]
  },
  {
   "cell_type": "markdown",
   "metadata": {},
   "source": [
    "# Saving results"
   ]
  },
  {
   "cell_type": "code",
   "execution_count": 40,
   "metadata": {},
   "outputs": [
    {
     "data": {
      "text/html": [
       "<div>\n",
       "<style scoped>\n",
       "    .dataframe tbody tr th:only-of-type {\n",
       "        vertical-align: middle;\n",
       "    }\n",
       "\n",
       "    .dataframe tbody tr th {\n",
       "        vertical-align: top;\n",
       "    }\n",
       "\n",
       "    .dataframe thead th {\n",
       "        text-align: right;\n",
       "    }\n",
       "</style>\n",
       "<table border=\"1\" class=\"dataframe\">\n",
       "  <thead>\n",
       "    <tr style=\"text-align: right;\">\n",
       "      <th></th>\n",
       "      <th>control_category</th>\n",
       "      <th>control_code</th>\n",
       "      <th>control_name</th>\n",
       "      <th>control_text</th>\n",
       "      <th>page</th>\n",
       "      <th>document</th>\n",
       "      <th>control_text_corrected</th>\n",
       "      <th>control_name_corrected</th>\n",
       "      <th>full_control_text</th>\n",
       "    </tr>\n",
       "  </thead>\n",
       "  <tbody>\n",
       "    <tr>\n",
       "      <th>792.0</th>\n",
       "      <td>organizational controls</td>\n",
       "      <td>5.1</td>\n",
       "      <td>policies for information security</td>\n",
       "      <td>control information security policy and topic-specific policies shall be defined, approved by management, published, communicated to and acknowledged by relevant personnel and relevant interested ...</td>\n",
       "      <td>16</td>\n",
       "      <td>iso_27001</td>\n",
       "      <td>Control information security policy and topic-specific policies shall be defined, approved by management, published, communicated to, and acknowledged by relevant personnel and relevant interested...</td>\n",
       "      <td>Policies for Information Security.</td>\n",
       "      <td>Organizational controls. Policies for information security. Control information security policy and topic-specific policies shall be defined, approved by management, published, communicated to, an...</td>\n",
       "    </tr>\n",
       "    <tr>\n",
       "      <th>793.0</th>\n",
       "      <td>organizational controls</td>\n",
       "      <td>5.2</td>\n",
       "      <td>information security roles and responsibilities</td>\n",
       "      <td>control information security roles and responsibilities shall be defined and allocated according to the organization needs.</td>\n",
       "      <td>16</td>\n",
       "      <td>iso_27001</td>\n",
       "      <td>Control: Information Security Roles and Responsibilities\\n\\nShall be defined and allocated according to the organization's needs.</td>\n",
       "      <td>Information Security Roles and Responsibilities.</td>\n",
       "      <td>Organizational controls. Information security roles and responsibilities. Control: Information Security Roles and Responsibilities\\n\\nShall be defined and allocated according to the organization's...</td>\n",
       "    </tr>\n",
       "    <tr>\n",
       "      <th>794.0</th>\n",
       "      <td>organizational controls</td>\n",
       "      <td>5.3</td>\n",
       "      <td>segregation of duties</td>\n",
       "      <td>control conflicting duties and conflicting areas of responsibility shall be segregated.</td>\n",
       "      <td>16</td>\n",
       "      <td>iso_27001</td>\n",
       "      <td>Control conflicting duties and conflicting areas of responsibility shall be segregated.</td>\n",
       "      <td>Segregation of Duties.</td>\n",
       "      <td>Organizational controls. Segregation of duties. Control conflicting duties and conflicting areas of responsibility shall be segregated.</td>\n",
       "    </tr>\n",
       "    <tr>\n",
       "      <th>795.0</th>\n",
       "      <td>organizational controls</td>\n",
       "      <td>5.4</td>\n",
       "      <td>management responsibilities</td>\n",
       "      <td>control management shall require all personnel to apply information security in accordance with the established information security policy, topic-specific policies and procedures of the organizat...</td>\n",
       "      <td>16</td>\n",
       "      <td>iso_27001</td>\n",
       "      <td>Control management shall require all personnel to apply information security in accordance with the established information security policy, topic-specific policies, and procedures of the organiza...</td>\n",
       "      <td>Management Responsibilities.</td>\n",
       "      <td>Organizational controls. Management responsibilities. Control management shall require all personnel to apply information security in accordance with the established information security policy, t...</td>\n",
       "    </tr>\n",
       "    <tr>\n",
       "      <th>796.0</th>\n",
       "      <td>organizational controls</td>\n",
       "      <td>5.5</td>\n",
       "      <td>contact with authorities</td>\n",
       "      <td>control the organization shall establish and maintain contact with relevant authorities.</td>\n",
       "      <td>16</td>\n",
       "      <td>iso_27001</td>\n",
       "      <td>Control: The organization shall establish and maintain contact with relevant authorities.</td>\n",
       "      <td>Contact with Authorities.</td>\n",
       "      <td>Organizational controls. Contact with authorities. Control: The organization shall establish and maintain contact with relevant authorities.</td>\n",
       "    </tr>\n",
       "  </tbody>\n",
       "</table>\n",
       "</div>"
      ],
      "text/plain": [
       "              control_category  ...                                                                                                                                                                                        full_control_text\n",
       "792.0  organizational controls  ...  Organizational controls. Policies for information security. Control information security policy and topic-specific policies shall be defined, approved by management, published, communicated to, an...\n",
       "793.0  organizational controls  ...  Organizational controls. Information security roles and responsibilities. Control: Information Security Roles and Responsibilities\\n\\nShall be defined and allocated according to the organization's...\n",
       "794.0  organizational controls  ...                                                                  Organizational controls. Segregation of duties. Control conflicting duties and conflicting areas of responsibility shall be segregated.\n",
       "795.0  organizational controls  ...  Organizational controls. Management responsibilities. Control management shall require all personnel to apply information security in accordance with the established information security policy, t...\n",
       "796.0  organizational controls  ...                                                             Organizational controls. Contact with authorities. Control: The organization shall establish and maintain contact with relevant authorities.\n",
       "\n",
       "[5 rows x 9 columns]"
      ]
     },
     "execution_count": 40,
     "metadata": {},
     "output_type": "execute_result"
    }
   ],
   "source": [
    "# inspect reference only df\n",
    "reference_only_df.head()"
   ]
  },
  {
   "cell_type": "code",
   "execution_count": 39,
   "metadata": {},
   "outputs": [
    {
     "data": {
      "text/html": [
       "<div>\n",
       "<style scoped>\n",
       "    .dataframe tbody tr th:only-of-type {\n",
       "        vertical-align: middle;\n",
       "    }\n",
       "\n",
       "    .dataframe tbody tr th {\n",
       "        vertical-align: top;\n",
       "    }\n",
       "\n",
       "    .dataframe thead th {\n",
       "        text-align: right;\n",
       "    }\n",
       "</style>\n",
       "<table border=\"1\" class=\"dataframe\">\n",
       "  <thead>\n",
       "    <tr style=\"text-align: right;\">\n",
       "      <th></th>\n",
       "      <th>control_category</th>\n",
       "      <th>control_code</th>\n",
       "      <th>control_name</th>\n",
       "      <th>control_text</th>\n",
       "      <th>page</th>\n",
       "      <th>document</th>\n",
       "      <th>control_text_corrected</th>\n",
       "      <th>full_control_text</th>\n",
       "    </tr>\n",
       "  </thead>\n",
       "  <tbody>\n",
       "    <tr>\n",
       "      <th>0.0</th>\n",
       "      <td>organisation of information security (ois)</td>\n",
       "      <td>OIS-01</td>\n",
       "      <td>information security management system (isms)</td>\n",
       "      <td>basic criterion: the cloud service provider operates an information security management system (isms) in accordance with iso/iec 27001. the scope of the isms covers the cloud service provider’s or...</td>\n",
       "      <td>36</td>\n",
       "      <td>c5</td>\n",
       "      <td>Basic criterion: The cloud service provider operates an Information Security Management System (ISMS) in accordance with ISO/IEC 27001. The scope of the ISMS covers the cloud service provider's or...</td>\n",
       "      <td>Organisation of information security (ois). Information security management system (isms). Basic criterion: The cloud service provider operates an Information Security Management System (ISMS) in ...</td>\n",
       "    </tr>\n",
       "    <tr>\n",
       "      <th>1.0</th>\n",
       "      <td>organisation of information security (ois)</td>\n",
       "      <td>OIS-02</td>\n",
       "      <td>information security policy</td>\n",
       "      <td>basic criterion: the top management of the cloud service provider has adopted an information security policy and communicated it to internal and external employees as well as cloud customers. the ...</td>\n",
       "      <td>36</td>\n",
       "      <td>c5</td>\n",
       "      <td>Basic criterion: The top management of the cloud service provider has adopted an information security policy and communicated it to internal and external employees, as well as cloud customers. The...</td>\n",
       "      <td>Organisation of information security (ois). Information security policy. Basic criterion: The top management of the cloud service provider has adopted an information security policy and communicat...</td>\n",
       "    </tr>\n",
       "    <tr>\n",
       "      <th>2.0</th>\n",
       "      <td>organisation of information security (ois)</td>\n",
       "      <td>OIS-03</td>\n",
       "      <td>interfaces and dependencies</td>\n",
       "      <td>basic criterion: interfaces and dependencies between cloud service delivery activities performed by the cloud service provider and activities performed by third parties are documented and communic...</td>\n",
       "      <td>37</td>\n",
       "      <td>c5</td>\n",
       "      <td>Basic criterion: Interfaces and dependencies between cloud service delivery activities performed by the cloud service provider and activities performed by third parties are documented and communic...</td>\n",
       "      <td>Organisation of information security (ois). Interfaces and dependencies. Basic criterion: Interfaces and dependencies between cloud service delivery activities performed by the cloud service provi...</td>\n",
       "    </tr>\n",
       "    <tr>\n",
       "      <th>3.0</th>\n",
       "      <td>organisation of information security (ois)</td>\n",
       "      <td>OIS-04</td>\n",
       "      <td>segregation of duties</td>\n",
       "      <td>basic criterion: conflicting tasks and responsibilities are separated based on an ois-06 risk assessment to reduce the risk of unauthorised or unintended changes or misuse of cloud customer data p...</td>\n",
       "      <td>38</td>\n",
       "      <td>c5</td>\n",
       "      <td>Basic criterion: Conflicting tasks and responsibilities are separated based on an OIS-06 risk assessment to reduce the risk of unauthorized or unintended changes or misuse of cloud customer data p...</td>\n",
       "      <td>Organisation of information security (ois). Segregation of duties. Basic criterion: Conflicting tasks and responsibilities are separated based on an OIS-06 risk assessment to reduce the risk of un...</td>\n",
       "    </tr>\n",
       "    <tr>\n",
       "      <th>4.0</th>\n",
       "      <td>organisation of information security (ois)</td>\n",
       "      <td>OIS-05</td>\n",
       "      <td>contact with relevant government agencies and interest groups</td>\n",
       "      <td>basic criterion: the cloud service provider leverages relevant authorities and interest groups in order to stay informed about current threats and vulnerabilities. the information flows into the p...</td>\n",
       "      <td>38</td>\n",
       "      <td>c5</td>\n",
       "      <td>Basic criterion: The cloud service provider leverages relevant authorities and interest groups in order to stay informed about current threats and vulnerabilities. The information flows into the p...</td>\n",
       "      <td>Organisation of information security (ois). Contact with relevant government agencies and interest groups. Basic criterion: The cloud service provider leverages relevant authorities and interest g...</td>\n",
       "    </tr>\n",
       "  </tbody>\n",
       "</table>\n",
       "</div>"
      ],
      "text/plain": [
       "                               control_category  ...                                                                                                                                                                                        full_control_text\n",
       "0.0  organisation of information security (ois)  ...  Organisation of information security (ois). Information security management system (isms). Basic criterion: The cloud service provider operates an Information Security Management System (ISMS) in ...\n",
       "1.0  organisation of information security (ois)  ...  Organisation of information security (ois). Information security policy. Basic criterion: The top management of the cloud service provider has adopted an information security policy and communicat...\n",
       "2.0  organisation of information security (ois)  ...  Organisation of information security (ois). Interfaces and dependencies. Basic criterion: Interfaces and dependencies between cloud service delivery activities performed by the cloud service provi...\n",
       "3.0  organisation of information security (ois)  ...  Organisation of information security (ois). Segregation of duties. Basic criterion: Conflicting tasks and responsibilities are separated based on an OIS-06 risk assessment to reduce the risk of un...\n",
       "4.0  organisation of information security (ois)  ...  Organisation of information security (ois). Contact with relevant government agencies and interest groups. Basic criterion: The cloud service provider leverages relevant authorities and interest g...\n",
       "\n",
       "[5 rows x 8 columns]"
      ]
     },
     "execution_count": 39,
     "metadata": {},
     "output_type": "execute_result"
    }
   ],
   "source": [
    "# inspect main df\n",
    "df.head()"
   ]
  },
  {
   "cell_type": "code",
   "execution_count": 41,
   "metadata": {},
   "outputs": [
    {
     "data": {
      "text/plain": [
       "document\n",
       "iso_27017    107\n",
       "iso_27701     97\n",
       "iso_27001     93\n",
       "iso_27018     70\n",
       "iso_27002     69\n",
       "Name: count, dtype: int64"
      ]
     },
     "execution_count": 41,
     "metadata": {},
     "output_type": "execute_result"
    }
   ],
   "source": [
    "# further inspection\n",
    "reference_only_df['document'].value_counts()"
   ]
  },
  {
   "cell_type": "code",
   "execution_count": 42,
   "metadata": {},
   "outputs": [
    {
     "data": {
      "text/plain": [
       "document\n",
       "fedramp      410\n",
       "ccm          197\n",
       "iso_27701    141\n",
       "c5           121\n",
       "eu_coc        62\n",
       "soc2          61\n",
       "iso_27017     47\n",
       "iso_27018     44\n",
       "iso_27002     41\n",
       "Name: count, dtype: int64"
      ]
     },
     "execution_count": 42,
     "metadata": {},
     "output_type": "execute_result"
    }
   ],
   "source": [
    "# further inspection\n",
    "df['document'].value_counts()"
   ]
  },
  {
   "cell_type": "code",
   "execution_count": 43,
   "metadata": {},
   "outputs": [],
   "source": [
    "# savings results\n",
    "df.to_excel('df_2023-12-16.xlsx')\n",
    "reference_only_df.to_excel('reference_only_df_2023-12-16.xlsx')"
   ]
  },
  {
   "cell_type": "code",
   "execution_count": null,
   "metadata": {},
   "outputs": [],
   "source": []
  }
 ],
 "metadata": {
  "kernelspec": {
   "display_name": "ciscovenv",
   "language": "python",
   "name": "python3"
  },
  "language_info": {
   "codemirror_mode": {
    "name": "ipython",
    "version": 3
   },
   "file_extension": ".py",
   "mimetype": "text/x-python",
   "name": "python",
   "nbconvert_exporter": "python",
   "pygments_lexer": "ipython3",
   "version": "3.9.1"
  }
 },
 "nbformat": 4,
 "nbformat_minor": 2
}
