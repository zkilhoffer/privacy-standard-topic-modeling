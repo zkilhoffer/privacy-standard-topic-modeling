{
 "cells": [
  {
   "cell_type": "markdown",
   "metadata": {},
   "source": [
    "# 1-OCR.ipynb\n",
    "\n",
    "  > [Zachary Kilhoffer](https://zkilhoffer.github.io/ \"Author's website\")\n",
    "\n",
    "  > Updated 2024-06-17\n",
    "\n",
    "## Description\n",
    "The code is part of the topic modeling pipeline for privacy standards described in this paper: \n",
    "- [Kilhoffer, Z. et al. (2024). \"Cloud Privacy Beyond Legal Compliance: An NLP analysis of certifiable privacy and security standards\"](https://ieeexplore.ieee.org/document/10631062 \"IEEE page for paper\")\n",
    "\n",
    "\n",
    "This script shows much of the data cleaning work required. \n",
    "\n",
    "It handles OCR error correction by querying a GPT model.\n",
    "***"
   ]
  },
  {
   "cell_type": "code",
   "execution_count": null,
   "metadata": {},
   "outputs": [],
   "source": [
    "import pandas as pd"
   ]
  },
  {
   "cell_type": "code",
   "execution_count": null,
   "metadata": {},
   "outputs": [],
   "source": [
    "# load data, which is all OCR'd text\n",
    "df = pd.read_excel(\n",
    "    r\"all_document_data.xlsx\",\n",
    "    index_col=0,\n",
    ")"
   ]
  },
  {
   "cell_type": "markdown",
   "metadata": {},
   "source": [
    "Notes about the standards after manual inspection:\n",
    "- c5: control_name is very short, control_text is detail;\n",
    "- eu_coc: naming conventions different. control_name is closer to control text. control_text is actually \"control guidance\";\n",
    "- iso_27002 - most of the control_text is referential."
   ]
  },
  {
   "cell_type": "markdown",
   "metadata": {},
   "source": [
    "## OpenAI OCR error correction"
   ]
  },
  {
   "cell_type": "code",
   "execution_count": null,
   "metadata": {},
   "outputs": [],
   "source": [
    "from openai import OpenAI\n",
    "\n",
    "# function to retrieve key\n",
    "def read_key_from_file(filename=r\"../YOURS-HERE.txt\"):\n",
    "    with open(filename, 'r') as file:\n",
    "        return file.read().strip()\n",
    "\n",
    "# initialize client\n",
    "client = OpenAI(organization=\"YOURS-HERE\", api_key=read_key_from_file())"
   ]
  },
  {
   "cell_type": "code",
   "execution_count": null,
   "metadata": {},
   "outputs": [
    {
     "data": {
      "text/plain": [
       "'control the organization should determine and securely maintain the necessary records in support of its obligations for the processing of personally identifiable information. implementation guidance a way to maintain records of the processing of personally identifiable information is to have an inventory or list of the personally identifiable information processing activities that theorganization performs. such an inventory can include: the type of processing; the purposes for the processing; a description of the categories of personally identifiable information and personally identifiable information principals (e.g. children); the categories of recipients to whom personally identifiable information has been or will be disclosed, including recipients in third countries or international organizations; a general description of the technical and organizational security measures; and a privacy impact assessment report. such an inventory should have an owner who is responsible for its accuracy and completeness.'"
      ]
     },
     "metadata": {},
     "output_type": "display_data"
    }
   ],
   "source": [
    "# make a variable with some random text before we get charged money from API calls to OpenAI!\n",
    "text_to_check = df.loc[1506]['control_text']\n",
    "# the text will look a little messy because of OCR errors\n",
    "text_to_check"
   ]
  },
  {
   "cell_type": "code",
   "execution_count": null,
   "metadata": {},
   "outputs": [
    {
     "data": {
      "text/plain": [
       "'Control: The organization should determine and securely maintain the necessary records in support of its obligations for the processing of personally identifiable information. \\n\\nImplementation guidance: A way to maintain records of the processing of personally identifiable information is to have an inventory or list of the personally identifiable information processing activities that the organization performs. \\n\\nSuch an inventory can include:\\n\\n- The type of processing\\n- The purposes for the processing\\n- A description of the categories of personally identifiable information and personally identifiable information principals (e.g., children)\\n- The categories of recipients to whom personally identifiable information has been or will be disclosed, including recipients in third countries or international organizations\\n- A general description of the technical and organizational security measures\\n- A privacy impact assessment report\\n\\nSuch an inventory should have an owner who is responsible for its accuracy and completeness.'"
      ]
     },
     "metadata": {},
     "output_type": "display_data"
    }
   ],
   "source": [
    "# querying API\n",
    "completion = client.chat.completions.create(\n",
    "  model=\"gpt-3.5-turbo\",  # plenty of choices of models, but this one is cheap, fast, and pretty good\n",
    "  messages=[\n",
    "    {\"role\": \"system\", \"content\": \"I will provide you text from cybersecurity and privacy documentation like ISO-IEC 27017, FedRamp, etc. The text is the result of imperfect optical character recognition (OCR), which needs to have errors fixed. Your job is to return the same text with OCR errors corrected. Some text I give you will include headings. This is especially likely if there's no ending punctuation. When some part of the text is likely to be a heading, treat it like its own sentence, separating it from other text with a period. Examples of headings may include something like 'Controls' or 'Responsibilities of data controller'.\"},\n",
    "    {\"role\": \"user\", \"content\": text_to_check}\n",
    "  ]\n",
    ")\n",
    "\n",
    "# Show main part of response\n",
    "completion.choices[0].message.content"
   ]
  },
  {
   "cell_type": "code",
   "execution_count": null,
   "metadata": {},
   "outputs": [],
   "source": [
    "# That worked, so we make our function\n",
    "def ocr_correction(text_to_check):\n",
    "    completion = client.chat.completions.create(\n",
    "        model=\"gpt-3.5-turbo\",\n",
    "        messages=[\n",
    "            {\n",
    "                \"role\": \"system\",\n",
    "                \"content\": \"I will provide you text from cybersecurity and privacy documentation like FedRamp, SOC-2, etc. The text is the result of imperfect optical character recognition (OCR), which needs to have errors fixed. Your job is to return the same text with OCR errors corrected. Some text I give you will include headings. Text is especially likely to be a heading if there's no ending punctuation. When some part of the text is likely to be a heading, treat it like its own sentence, separating it from other text with a period. Examples of headings may include something like 'Controls' or 'Responsibilities of data controller'.\",\n",
    "            },\n",
    "            {\"role\": \"user\", \"content\": text_to_check},\n",
    "        ],\n",
    "    )\n",
    "    return completion.choices[0].message.content"
   ]
  },
  {
   "cell_type": "markdown",
   "metadata": {},
   "source": [
    "Note: correcting the text of the control's name was not successful, probably due to the shorter texts? \n",
    "\n",
    "Once in a while ChatGPT just started writing stuff about the name of the control, rather than simply returning a version of it with any OCR errors fixed."
   ]
  },
  {
   "cell_type": "code",
   "execution_count": null,
   "metadata": {},
   "outputs": [],
   "source": [
    "# applying function to correct OCR text\n",
    "df['control_text_corrected'] = df['control_text'].apply(lambda x: ocr_correction(x))"
   ]
  },
  {
   "cell_type": "code",
   "execution_count": null,
   "metadata": {},
   "outputs": [
    {
     "name": "stdout",
     "output_type": "stream",
     "text": [
      "(1661, 9)\n"
     ]
    }
   ],
   "source": [
    "# Apply the custom function to create the new column\n",
    "df['full_control_text'] = df.apply(concatenate_with_condition, axis=1)\n",
    "\n",
    "print(df.shape)"
   ]
  },
  {
   "cell_type": "code",
   "execution_count": null,
   "metadata": {},
   "outputs": [],
   "source": [
    "# fixing the \"nan. <control text>\" problem for some documents. the documents: iso_27002, iso_27018, iso_27017, eu_coc, iso_27701\n",
    "df['full_control_text'] = df['full_control_text'].str.replace('Nan. ', '')"
   ]
  },
  {
   "cell_type": "markdown",
   "metadata": {},
   "source": [
    "# Identifying reference-only controls\n",
    "\n",
    "- It's valuable to remove controls that are mere references like \"the blah blah in ISO/IEC 10.1.2 applies\"\n",
    "- But some of the longer texts have interesting information, so we keep them (>250 characters)\n",
    "- We use rules and regex to identify the reference controls\n",
    "\n",
    "\n",
    "The actual code was longer but not really instructive, as I can't show the original texts due to copyright."
   ]
  },
  {
   "cell_type": "code",
   "execution_count": null,
   "metadata": {},
   "outputs": [
    {
     "data": {
      "text/plain": [
       "document\n",
       "fedramp      410\n",
       "iso_27701    238\n",
       "ccm          197\n",
       "iso_27017    154\n",
       "c5           121\n",
       "iso_27018    114\n",
       "iso_27002    110\n",
       "nist         100\n",
       "iso_27001     93\n",
       "eu_coc        62\n",
       "soc2          61\n",
       "NaN            1\n",
       "Name: count, dtype: int64"
      ]
     },
     "metadata": {},
     "output_type": "display_data"
    }
   ],
   "source": [
    "df['document'].value_counts(dropna=False)"
   ]
  },
  {
   "cell_type": "code",
   "execution_count": null,
   "metadata": {},
   "outputs": [],
   "source": [
    "# regex patterns into one\n",
    "pattern = (\n",
    "    r\"the control.*implementation guidance and other information stated in.*appl|\"\n",
    "    r\"the requirements stated in.*appl|\"\n",
    "    r\"the requirement stated in.*appl|\"\n",
    "    r\"the objective specified in.*appl|\"\n",
    "    r\"the objectives specified in.*appl|\"\n",
    "    r\"control.*and the associated implementation guidance.*specified in.*appl|\"\n",
    "    r\"the objective specified in.*iso.*appl|\"\n",
    "    r\"the objectives specified in iso.*appl|\"\n",
    "    r\"control.*implementation guidance and other information.*appl\"\n",
    ")\n",
    "\n",
    "# Apply the pattern and length condition to filter the dataframe\n",
    "reference_only_df = df[\n",
    "    (df[\"control_text\"].str.len() < 250)\n",
    "    & df[\"control_text\"].str.contains(pattern, regex=True)\n",
    "]"
   ]
  },
  {
   "cell_type": "code",
   "execution_count": null,
   "metadata": {},
   "outputs": [
    {
     "data": {
      "text/plain": [
       "document\n",
       "iso_27017    107\n",
       "iso_27701     97\n",
       "iso_27001     93\n",
       "iso_27018     70\n",
       "iso_27002     69\n",
       "Name: count, dtype: int64"
      ]
     },
     "metadata": {},
     "output_type": "display_data"
    }
   ],
   "source": [
    "# how many controls from each document are referential?\n",
    "reference_only_df['document'].value_counts()"
   ]
  },
  {
   "cell_type": "code",
   "execution_count": null,
   "metadata": {},
   "outputs": [
    {
     "data": {
      "text/plain": [
       "document\n",
       "fedramp      410\n",
       "ccm          197\n",
       "iso_27701    141\n",
       "c5           121\n",
       "eu_coc        62\n",
       "soc2          61\n",
       "iso_27017     47\n",
       "iso_27018     44\n",
       "iso_27002     41\n",
       "Name: count, dtype: int64"
      ]
     },
     "metadata": {},
     "output_type": "display_data"
    }
   ],
   "source": [
    "# how many controls from each document in total?\n",
    "df['document'].value_counts()"
   ]
  },
  {
   "cell_type": "code",
   "execution_count": null,
   "metadata": {},
   "outputs": [],
   "source": []
  }
 ],
 "metadata": {
  "kernelspec": {
   "display_name": "venv",
   "language": "python",
   "name": "python3"
  },
  "language_info": {
   "codemirror_mode": {
    "name": "ipython",
    "version": 3
   },
   "file_extension": ".py",
   "mimetype": "text/x-python",
   "name": "python",
   "nbconvert_exporter": "python",
   "pygments_lexer": "ipython3",
   "version": "3.12.4"
  }
 },
 "nbformat": 4,
 "nbformat_minor": 2
}
