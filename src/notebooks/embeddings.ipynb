{
 "cells": [
  {
   "cell_type": "markdown",
   "metadata": {},
   "source": [
    "# TODO: add a column for referential or substantive controls to the base dataset and the one with embeddings"
   ]
  },
  {
   "cell_type": "markdown",
   "metadata": {},
   "source": [
    "***\n",
    "\n",
    "# Embeddings\n",
    "\n",
    "- By [Zachary Kilhoffer](https://zkilhoffer.github.io/)\n",
    "- Updated 2024-06-17\n",
    "\n",
    "***\n",
    "\n",
    "### Description\n",
    "- The code is part of the pipelines described in: \n",
    "  - Kilhoffer, Z. et al. (2024 in press). \"Cloud Privacy Beyond Legal Compliance: An NLP analysis of certifiable privacy and security standards\".\n",
    "- The paper will be released on 2024-06-28 at the [IEEE Cloud Summit](https://www.ieeecloudsummit.org/2024-program).\n",
    "\n",
    "***\n",
    "\n",
    "- This is a pipeline to create embeddings from texts using a pre-trained LLMs. \n",
    "- You can easily repeat this process with a different LLM than BERT, adding the embeddings as a new column.\n",
    "- This can be useful, for example, for a one-shot learning topic model pipeline using BERTopic for models A, B, and C (using different embeddings), then visualize and compare results as needed.\n",
    "\n",
    "***\n",
    "\n",
    "### Input files:\n",
    " - df = pd.read_excel('df_noembeddings_github.xlsx')\n",
    "\n",
    "### Output files:\n",
    "- 'df_embeddings_2023-12-16.xlsx'\n",
    "- 'reference_only_df_embeddings_2023-12-16.xlsx'\n",
    "\n",
    "***"
   ]
  },
  {
   "cell_type": "code",
   "execution_count": 47,
   "metadata": {},
   "outputs": [],
   "source": [
    "! pip freeze > requirements_embeddings.txt"
   ]
  },
  {
   "cell_type": "code",
   "execution_count": 1,
   "metadata": {},
   "outputs": [
    {
     "name": "stderr",
     "output_type": "stream",
     "text": [
      "/Users/Zak/Desktop/privacy-standard-topic-modeling/venv/lib/python3.12/site-packages/tqdm/auto.py:21: TqdmWarning: IProgress not found. Please update jupyter and ipywidgets. See https://ipywidgets.readthedocs.io/en/stable/user_install.html\n",
      "  from .autonotebook import tqdm as notebook_tqdm\n"
     ]
    }
   ],
   "source": [
    "import warnings\n",
    "import pandas as pd\n",
    "# import numpy\n",
    "# import torch\n",
    "# import openpyxl\n",
    "from transformers import BertTokenizer, BertModel, pipeline\n",
    "from bertopic import BERTopic\n",
    "# import matplotlib\n",
    "import matplotlib.pyplot as plt\n",
    "# from sentence_transformers import SentenceTransformer"
   ]
  },
  {
   "cell_type": "markdown",
   "metadata": {},
   "source": [
    "# Setup"
   ]
  },
  {
   "cell_type": "code",
   "execution_count": 2,
   "metadata": {},
   "outputs": [],
   "source": [
    "# display tweaks\n",
    "pd.set_option(\"display.max_colwidth\", 200)  # how much text is showing within a cell\n",
    "pd.set_option(\"display.max_columns\", False)\n",
    "pd.set_option(\"display.max_rows\", False)\n",
    "warnings.filterwarnings(\"ignore\")"
   ]
  },
  {
   "cell_type": "code",
   "execution_count": 5,
   "metadata": {},
   "outputs": [],
   "source": [
    "# load data\n",
    "df = pd.read_excel('../data/df_noembeddings_github.xlsx', index_col=0)"
   ]
  },
  {
   "cell_type": "code",
   "execution_count": 8,
   "metadata": {},
   "outputs": [
    {
     "data": {
      "text/html": [
       "<div>\n",
       "<style scoped>\n",
       "    .dataframe tbody tr th:only-of-type {\n",
       "        vertical-align: middle;\n",
       "    }\n",
       "\n",
       "    .dataframe tbody tr th {\n",
       "        vertical-align: top;\n",
       "    }\n",
       "\n",
       "    .dataframe thead th {\n",
       "        text-align: right;\n",
       "    }\n",
       "</style>\n",
       "<table border=\"1\" class=\"dataframe\">\n",
       "  <thead>\n",
       "    <tr style=\"text-align: right;\">\n",
       "      <th></th>\n",
       "      <th>control_category</th>\n",
       "      <th>control_code</th>\n",
       "      <th>control_name</th>\n",
       "      <th>document</th>\n",
       "      <th>control_text_corrected</th>\n",
       "      <th>full_control_text</th>\n",
       "    </tr>\n",
       "  </thead>\n",
       "  <tbody>\n",
       "    <tr>\n",
       "      <th>121</th>\n",
       "      <td>audit &amp; assurance</td>\n",
       "      <td>A&amp;A-01</td>\n",
       "      <td>audit and assurance policy and procedures</td>\n",
       "      <td>ccm</td>\n",
       "      <td>Establish, document, approve, communicate, apply, evaluate, and maintain audit and assurance policies and procedures and standards. Review and update the policies and procedures at least annually....</td>\n",
       "      <td>Audit &amp; assurance. Audit and assurance policy and procedures. Establish, document, approve, communicate, apply, evaluate, and maintain audit and assurance policies and procedures and standards. Re...</td>\n",
       "    </tr>\n",
       "    <tr>\n",
       "      <th>122</th>\n",
       "      <td>audit &amp; assurance</td>\n",
       "      <td>A&amp;A-02</td>\n",
       "      <td>independent assessments</td>\n",
       "      <td>ccm</td>\n",
       "      <td>Conduct an independent audit and assurance assessment according to relevant standards at least annually. The independent audit and assurance should be free from conflicts of interest and undue inf...</td>\n",
       "      <td>Audit &amp; assurance. Independent assessments. Conduct an independent audit and assurance assessment according to relevant standards at least annually. The independent audit and assurance should be f...</td>\n",
       "    </tr>\n",
       "  </tbody>\n",
       "</table>\n",
       "</div>"
      ],
      "text/plain": [
       "      control_category  ...                                                                                                                                                                                        full_control_text\n",
       "121  audit & assurance  ...  Audit & assurance. Audit and assurance policy and procedures. Establish, document, approve, communicate, apply, evaluate, and maintain audit and assurance policies and procedures and standards. Re...\n",
       "122  audit & assurance  ...  Audit & assurance. Independent assessments. Conduct an independent audit and assurance assessment according to relevant standards at least annually. The independent audit and assurance should be f...\n",
       "\n",
       "[2 rows x 6 columns]"
      ]
     },
     "execution_count": 8,
     "metadata": {},
     "output_type": "execute_result"
    }
   ],
   "source": [
    "# inspect df\n",
    "df.head(2)"
   ]
  },
  {
   "cell_type": "code",
   "execution_count": 7,
   "metadata": {},
   "outputs": [
    {
     "name": "stdout",
     "output_type": "stream",
     "text": [
      "Number of control texts longer than limit: 8.\n"
     ]
    },
    {
     "data": {
      "image/png": "[encoded data removed]",
      "text/plain": [
       "<Figure size 640x480 with 1 Axes>"
      ]
     },
     "metadata": {},
     "output_type": "display_data"
    }
   ],
   "source": [
    "# How long are the texts? \n",
    "# BERT embeddings will truncate texts over 512 tokens. \n",
    "\n",
    "l = df['full_control_text'].apply(lambda x: len(x.split(' ')))\n",
    "z = len([x for x in l if x >= 512])\n",
    "print(f'Number of control texts longer than limit: {z}.')\n",
    "\n",
    "ax = l.hist(bins=30)  # create histogram using axes object\n",
    "ax.set_title('How many tokens long are control texts?')\n",
    "plt.axvline(x=512, color='red', linewidth=1)\n",
    "props = dict(boxstyle='square', facecolor='white', alpha=0.5)\n",
    "\n",
    "ax.text(0.95, 0.7, f'{z} values >= 512', transform=ax.transAxes, fontsize=10,\n",
    "        verticalalignment='top', horizontalalignment='right', bbox=props)\n",
    "plt.show()"
   ]
  },
  {
   "cell_type": "code",
   "execution_count": 9,
   "metadata": {},
   "outputs": [],
   "source": [
    "# create list for encoding\n",
    "docs = list(df['full_control_text'].values)"
   ]
  },
  {
   "cell_type": "markdown",
   "metadata": {},
   "source": [
    "# BERT base\n",
    "\n",
    "First we create embeddings using \"bert-base-uncased\", a popular model available on HuggingFace.\n",
    "\n",
    "Feel free to play around with different models!\n",
    "\n"
   ]
  },
  {
   "cell_type": "code",
   "execution_count": 11,
   "metadata": {},
   "outputs": [],
   "source": [
    "# Load pre-trained BERT model and tokenizer\n",
    "model_name = \"bert-base-uncased\"  \n",
    "model = BertModel.from_pretrained(model_name)\n",
    "tokenizer = BertTokenizer.from_pretrained(model_name)\n",
    "\n",
    "# function to do BERT embedding on text\n",
    "def get_embedding(text):\n",
    "    encoded_input = tokenizer(text, return_tensors='pt', truncation=True, max_length=512)\n",
    "    output = model(**encoded_input)\n",
    "    \n",
    "    # Use the pooler output (representation of [CLS] token) and detach it to convert tensor to numpy\n",
    "    embedding = output[1].detach().numpy()\n",
    "    return embedding"
   ]
  },
  {
   "cell_type": "code",
   "execution_count": 12,
   "metadata": {},
   "outputs": [],
   "source": [
    "# create embeddings for each row based on the text in column \"full_control_text\"\n",
    "# this column has the \"control category\" and \"control name\" for additional context\n",
    "df['BERTembeddings'] = df['full_control_text'].apply(get_embedding)"
   ]
  },
  {
   "cell_type": "code",
   "execution_count": 14,
   "metadata": {},
   "outputs": [],
   "source": [
    "# transform embeddings from embedded list [[num, num]] to simple list [num, num]\n",
    "df['BERTembeddings'] = df['BERTembeddings'].apply(lambda x: x[0])"
   ]
  },
  {
   "cell_type": "code",
   "execution_count": 15,
   "metadata": {},
   "outputs": [
    {
     "data": {
      "text/html": [
       "<div>\n",
       "<style scoped>\n",
       "    .dataframe tbody tr th:only-of-type {\n",
       "        vertical-align: middle;\n",
       "    }\n",
       "\n",
       "    .dataframe tbody tr th {\n",
       "        vertical-align: top;\n",
       "    }\n",
       "\n",
       "    .dataframe thead th {\n",
       "        text-align: right;\n",
       "    }\n",
       "</style>\n",
       "<table border=\"1\" class=\"dataframe\">\n",
       "  <thead>\n",
       "    <tr style=\"text-align: right;\">\n",
       "      <th></th>\n",
       "      <th>control_category</th>\n",
       "      <th>control_code</th>\n",
       "      <th>control_name</th>\n",
       "      <th>document</th>\n",
       "      <th>control_text_corrected</th>\n",
       "      <th>full_control_text</th>\n",
       "      <th>BERTembeddings</th>\n",
       "    </tr>\n",
       "  </thead>\n",
       "  <tbody>\n",
       "    <tr>\n",
       "      <th>121</th>\n",
       "      <td>audit &amp; assurance</td>\n",
       "      <td>A&amp;A-01</td>\n",
       "      <td>audit and assurance policy and procedures</td>\n",
       "      <td>ccm</td>\n",
       "      <td>Establish, document, approve, communicate, apply, evaluate, and maintain audit and assurance policies and procedures and standards. Review and update the policies and procedures at least annually....</td>\n",
       "      <td>Audit &amp; assurance. Audit and assurance policy and procedures. Establish, document, approve, communicate, apply, evaluate, and maintain audit and assurance policies and procedures and standards. Re...</td>\n",
       "      <td>[-0.32711124, -0.24001496, -0.9943467, 0.52882636, 0.87031597, -0.3757414, -0.5379881, -0.029107185, -0.9781098, -0.9988584, -0.82185704, 0.9518274, 0.34914154, 0.90948486, -0.26283824, -0.5794722...</td>\n",
       "    </tr>\n",
       "    <tr>\n",
       "      <th>122</th>\n",
       "      <td>audit &amp; assurance</td>\n",
       "      <td>A&amp;A-02</td>\n",
       "      <td>independent assessments</td>\n",
       "      <td>ccm</td>\n",
       "      <td>Conduct an independent audit and assurance assessment according to relevant standards at least annually. The independent audit and assurance should be free from conflicts of interest and undue inf...</td>\n",
       "      <td>Audit &amp; assurance. Independent assessments. Conduct an independent audit and assurance assessment according to relevant standards at least annually. The independent audit and assurance should be f...</td>\n",
       "      <td>[-0.71023166, -0.40096354, -0.99866545, 0.8446086, 0.9410193, -0.51828206, 0.5187864, 0.13894705, -0.99262995, -0.99993604, -0.9070421, 0.987048, 0.5374107, 0.9503139, -0.060270753, -0.85017586, -...</td>\n",
       "    </tr>\n",
       "  </tbody>\n",
       "</table>\n",
       "</div>"
      ],
      "text/plain": [
       "      control_category  ...                                                                                                                                                                                           BERTembeddings\n",
       "121  audit & assurance  ...  [-0.32711124, -0.24001496, -0.9943467, 0.52882636, 0.87031597, -0.3757414, -0.5379881, -0.029107185, -0.9781098, -0.9988584, -0.82185704, 0.9518274, 0.34914154, 0.90948486, -0.26283824, -0.5794722...\n",
       "122  audit & assurance  ...  [-0.71023166, -0.40096354, -0.99866545, 0.8446086, 0.9410193, -0.51828206, 0.5187864, 0.13894705, -0.99262995, -0.99993604, -0.9070421, 0.987048, 0.5374107, 0.9503139, -0.060270753, -0.85017586, -...\n",
       "\n",
       "[2 rows x 7 columns]"
      ]
     },
     "execution_count": 15,
     "metadata": {},
     "output_type": "execute_result"
    }
   ],
   "source": [
    "# inspect\n",
    "df.head(2)"
   ]
  },
  {
   "cell_type": "code",
   "execution_count": 58,
   "metadata": {},
   "outputs": [],
   "source": [
    "# savings results\n",
    "df.to_excel('../data/df_embeddings_github_test.xlsx')"
   ]
  },
  {
   "cell_type": "code",
   "execution_count": null,
   "metadata": {},
   "outputs": [],
   "source": []
  },
  {
   "cell_type": "code",
   "execution_count": null,
   "metadata": {},
   "outputs": [],
   "source": []
  }
 ],
 "metadata": {
  "kernelspec": {
   "display_name": "ciscovenv",
   "language": "python",
   "name": "python3"
  },
  "language_info": {
   "codemirror_mode": {
    "name": "ipython",
    "version": 3
   },
   "file_extension": ".py",
   "mimetype": "text/x-python",
   "name": "python",
   "nbconvert_exporter": "python",
   "pygments_lexer": "ipython3",
   "version": "3.12.4"
  }
 },
 "nbformat": 4,
 "nbformat_minor": 2
}
