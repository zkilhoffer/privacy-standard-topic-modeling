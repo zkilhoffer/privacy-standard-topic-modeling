{
 "cells": [
  {
   "cell_type": "markdown",
   "metadata": {},
   "source": [
    "***\n",
    "\n",
    "# Embeddings\n",
    "\n",
    "- By [Zachary Kilhoffer](https://zkilhoffer.github.io/)\n",
    "- Updated 2024-06-17\n",
    "\n",
    "***\n",
    "\n",
    "### Description\n",
    "- The code is part of the pipelines described in: \n",
    "  - Kilhoffer, Z. et al. (2024 in press). \"Cloud Privacy Beyond Legal Compliance: An NLP analysis of certifiable privacy and security standards\".\n",
    "- The paper will be released on 2024-06-28 at the [IEEE Cloud Summit](https://www.ieeecloudsummit.org/2024-program).\n",
    "\n",
    "***\n",
    "\n",
    "- This is a pipeline to create embeddings from texts using a selection of pre-trained LLMs. \n",
    "- This can be handy to quickly compare/assess Topic Modeling results.\n",
    "- For example, you can run a one-shot learning topic model pipeline using BERTopic for models A, B, and C, then visualize and compare results as needed.\n",
    "- Note: The choice of dimensionality reduction technique also plays a big factor in the embeddings.\n",
    "\n",
    "***\n",
    "\n",
    "### Input files:\n",
    " - df = pd.read_excel('df_2023-12-16.xlsx')\n",
    " - reference_only_df = pd.read_excel('reference_only_df_2023-12-16.xlsx')\n",
    "\n",
    "### Output files:\n",
    "- 'df_embeddings_2023-12-16.xlsx'\n",
    "- 'reference_only_df_embeddings_2023-12-16.xlsx'\n",
    "\n",
    "***"
   ]
  },
  {
   "cell_type": "code",
   "execution_count": 1,
   "metadata": {},
   "outputs": [
    {
     "name": "stderr",
     "output_type": "stream",
     "text": [
      "c:\\Users\\zakki\\topic modeling github rev\\venv\\Lib\\site-packages\\tqdm\\auto.py:21: TqdmWarning: IProgress not found. Please update jupyter and ipywidgets. See https://ipywidgets.readthedocs.io/en/stable/user_install.html\n",
      "  from .autonotebook import tqdm as notebook_tqdm\n"
     ]
    },
    {
     "ename": "ValueError",
     "evalue": "numpy.dtype size changed, may indicate binary incompatibility. Expected 96 from C header, got 88 from PyObject",
     "output_type": "error",
     "traceback": [
      "\u001b[1;31m---------------------------------------------------------------------------\u001b[0m",
      "\u001b[1;31mValueError\u001b[0m                                Traceback (most recent call last)",
      "Cell \u001b[1;32mIn[1], line 7\u001b[0m\n\u001b[0;32m      5\u001b[0m \u001b[38;5;28;01mimport\u001b[39;00m \u001b[38;5;21;01mopenpyxl\u001b[39;00m\n\u001b[0;32m      6\u001b[0m \u001b[38;5;28;01mfrom\u001b[39;00m \u001b[38;5;21;01mtransformers\u001b[39;00m \u001b[38;5;28;01mimport\u001b[39;00m BertTokenizer, BertModel, pipeline\n\u001b[1;32m----> 7\u001b[0m \u001b[38;5;28;01mfrom\u001b[39;00m \u001b[38;5;21;01mbertopic\u001b[39;00m \u001b[38;5;28;01mimport\u001b[39;00m BERTopic\n\u001b[0;32m      8\u001b[0m \u001b[38;5;66;03m# from fuzzywuzzy import fuzz, process\u001b[39;00m\n\u001b[0;32m      9\u001b[0m \u001b[38;5;28;01mimport\u001b[39;00m \u001b[38;5;21;01mnltk\u001b[39;00m\n",
      "File \u001b[1;32mc:\\Users\\zakki\\topic modeling github rev\\venv\\Lib\\site-packages\\bertopic\\__init__.py:1\u001b[0m\n\u001b[1;32m----> 1\u001b[0m \u001b[38;5;28;01mfrom\u001b[39;00m \u001b[38;5;21;01mbertopic\u001b[39;00m\u001b[38;5;21;01m.\u001b[39;00m\u001b[38;5;21;01m_bertopic\u001b[39;00m \u001b[38;5;28;01mimport\u001b[39;00m BERTopic\n\u001b[0;32m      3\u001b[0m __version__ \u001b[38;5;241m=\u001b[39m \u001b[38;5;124m\"\u001b[39m\u001b[38;5;124m0.16.2\u001b[39m\u001b[38;5;124m\"\u001b[39m\n\u001b[0;32m      5\u001b[0m __all__ \u001b[38;5;241m=\u001b[39m [\n\u001b[0;32m      6\u001b[0m     \u001b[38;5;124m\"\u001b[39m\u001b[38;5;124mBERTopic\u001b[39m\u001b[38;5;124m\"\u001b[39m,\n\u001b[0;32m      7\u001b[0m ]\n",
      "File \u001b[1;32mc:\\Users\\zakki\\topic modeling github rev\\venv\\Lib\\site-packages\\bertopic\\_bertopic.py:37\u001b[0m\n\u001b[0;32m     34\u001b[0m \u001b[38;5;28;01mfrom\u001b[39;00m \u001b[38;5;21;01mtyping\u001b[39;00m \u001b[38;5;28;01mimport\u001b[39;00m List, Tuple, Union, Mapping, Any, Callable, Iterable\n\u001b[0;32m     36\u001b[0m \u001b[38;5;66;03m# Models\u001b[39;00m\n\u001b[1;32m---> 37\u001b[0m \u001b[38;5;28;01mimport\u001b[39;00m \u001b[38;5;21;01mhdbscan\u001b[39;00m\n\u001b[0;32m     38\u001b[0m \u001b[38;5;28;01mfrom\u001b[39;00m \u001b[38;5;21;01mumap\u001b[39;00m \u001b[38;5;28;01mimport\u001b[39;00m UMAP\n\u001b[0;32m     39\u001b[0m \u001b[38;5;28;01mfrom\u001b[39;00m \u001b[38;5;21;01msklearn\u001b[39;00m\u001b[38;5;21;01m.\u001b[39;00m\u001b[38;5;21;01mpreprocessing\u001b[39;00m \u001b[38;5;28;01mimport\u001b[39;00m normalize\n",
      "File \u001b[1;32mc:\\Users\\zakki\\topic modeling github rev\\venv\\Lib\\site-packages\\hdbscan\\__init__.py:1\u001b[0m\n\u001b[1;32m----> 1\u001b[0m \u001b[38;5;28;01mfrom\u001b[39;00m \u001b[38;5;21;01m.\u001b[39;00m\u001b[38;5;21;01mhdbscan_\u001b[39;00m \u001b[38;5;28;01mimport\u001b[39;00m HDBSCAN, hdbscan\n\u001b[0;32m      2\u001b[0m \u001b[38;5;28;01mfrom\u001b[39;00m \u001b[38;5;21;01m.\u001b[39;00m\u001b[38;5;21;01mrobust_single_linkage_\u001b[39;00m \u001b[38;5;28;01mimport\u001b[39;00m RobustSingleLinkage, robust_single_linkage\n\u001b[0;32m      3\u001b[0m \u001b[38;5;28;01mfrom\u001b[39;00m \u001b[38;5;21;01m.\u001b[39;00m\u001b[38;5;21;01mvalidity\u001b[39;00m \u001b[38;5;28;01mimport\u001b[39;00m validity_index\n",
      "File \u001b[1;32mc:\\Users\\zakki\\topic modeling github rev\\venv\\Lib\\site-packages\\hdbscan\\hdbscan_.py:20\u001b[0m\n\u001b[0;32m     16\u001b[0m \u001b[38;5;28;01mfrom\u001b[39;00m \u001b[38;5;21;01mjoblib\u001b[39;00m\u001b[38;5;21;01m.\u001b[39;00m\u001b[38;5;21;01mparallel\u001b[39;00m \u001b[38;5;28;01mimport\u001b[39;00m cpu_count\n\u001b[0;32m     18\u001b[0m \u001b[38;5;28;01mfrom\u001b[39;00m \u001b[38;5;21;01mscipy\u001b[39;00m\u001b[38;5;21;01m.\u001b[39;00m\u001b[38;5;21;01msparse\u001b[39;00m \u001b[38;5;28;01mimport\u001b[39;00m csgraph\n\u001b[1;32m---> 20\u001b[0m \u001b[38;5;28;01mfrom\u001b[39;00m \u001b[38;5;21;01m.\u001b[39;00m\u001b[38;5;21;01m_hdbscan_linkage\u001b[39;00m \u001b[38;5;28;01mimport\u001b[39;00m (\n\u001b[0;32m     21\u001b[0m     single_linkage,\n\u001b[0;32m     22\u001b[0m     mst_linkage_core,\n\u001b[0;32m     23\u001b[0m     mst_linkage_core_vector,\n\u001b[0;32m     24\u001b[0m     label,\n\u001b[0;32m     25\u001b[0m )\n\u001b[0;32m     26\u001b[0m \u001b[38;5;28;01mfrom\u001b[39;00m \u001b[38;5;21;01m.\u001b[39;00m\u001b[38;5;21;01m_hdbscan_tree\u001b[39;00m \u001b[38;5;28;01mimport\u001b[39;00m (\n\u001b[0;32m     27\u001b[0m     condense_tree,\n\u001b[0;32m     28\u001b[0m     compute_stability,\n\u001b[0;32m     29\u001b[0m     get_clusters,\n\u001b[0;32m     30\u001b[0m     outlier_scores,\n\u001b[0;32m     31\u001b[0m )\n\u001b[0;32m     32\u001b[0m \u001b[38;5;28;01mfrom\u001b[39;00m \u001b[38;5;21;01m.\u001b[39;00m\u001b[38;5;21;01m_hdbscan_reachability\u001b[39;00m \u001b[38;5;28;01mimport\u001b[39;00m mutual_reachability, sparse_mutual_reachability\n",
      "File \u001b[1;32mhdbscan\\_hdbscan_linkage.pyx:1\u001b[0m, in \u001b[0;36minit hdbscan._hdbscan_linkage\u001b[1;34m()\u001b[0m\n",
      "\u001b[1;31mValueError\u001b[0m: numpy.dtype size changed, may indicate binary incompatibility. Expected 96 from C header, got 88 from PyObject"
     ]
    }
   ],
   "source": [
    "import os, re, warnings, random\n",
    "import pandas as pd\n",
    "import numpy\n",
    "import torch\n",
    "import openpyxl\n",
    "from transformers import BertTokenizer, BertModel, pipeline\n",
    "from bertopic import BERTopic\n",
    "# from fuzzywuzzy import fuzz, process\n",
    "import nltk\n",
    "from nltk.corpus import words\n",
    "from sklearn.cluster import KMeans\n",
    "from sklearn.cluster import AgglomerativeClustering\n",
    "import matplotlib\n",
    "import matplotlib.pyplot as plt\n",
    "from openai import OpenAI\n",
    "from sentence_transformers import SentenceTransformer"
   ]
  },
  {
   "cell_type": "markdown",
   "metadata": {},
   "source": [
    "# Setup"
   ]
  },
  {
   "cell_type": "code",
   "execution_count": 10,
   "metadata": {},
   "outputs": [],
   "source": [
    "# display tweaks\n",
    "pd.set_option(\"display.max_colwidth\", 200)  # how much text is showing within a cell\n",
    "pd.set_option(\"display.max_columns\", False)\n",
    "pd.set_option(\"display.max_rows\", False)\n",
    "warnings.filterwarnings(\"ignore\")"
   ]
  },
  {
   "cell_type": "code",
   "execution_count": 11,
   "metadata": {},
   "outputs": [],
   "source": [
    "# load data\n",
    "df = pd.read_excel('df_2023-12-16.xlsx')\n",
    "reference_only_df = pd.read_excel('reference_only_df_2023-12-16.xlsx')"
   ]
  },
  {
   "cell_type": "code",
   "execution_count": 12,
   "metadata": {},
   "outputs": [
    {
     "data": {
      "text/html": [
       "<div>\n",
       "<style scoped>\n",
       "    .dataframe tbody tr th:only-of-type {\n",
       "        vertical-align: middle;\n",
       "    }\n",
       "\n",
       "    .dataframe tbody tr th {\n",
       "        vertical-align: top;\n",
       "    }\n",
       "\n",
       "    .dataframe thead th {\n",
       "        text-align: right;\n",
       "    }\n",
       "</style>\n",
       "<table border=\"1\" class=\"dataframe\">\n",
       "  <thead>\n",
       "    <tr style=\"text-align: right;\">\n",
       "      <th></th>\n",
       "      <th>Unnamed: 0</th>\n",
       "      <th>control_category</th>\n",
       "      <th>control_code</th>\n",
       "      <th>control_name</th>\n",
       "      <th>control_text</th>\n",
       "      <th>page</th>\n",
       "      <th>document</th>\n",
       "      <th>control_text_corrected</th>\n",
       "      <th>full_control_text</th>\n",
       "    </tr>\n",
       "  </thead>\n",
       "  <tbody>\n",
       "    <tr>\n",
       "      <th>0</th>\n",
       "      <td>0.0</td>\n",
       "      <td>organisation of information security (ois)</td>\n",
       "      <td>OIS-01</td>\n",
       "      <td>information security management system (isms)</td>\n",
       "      <td>basic criterion: the cloud service provider operates an information security management system (isms) in accordance with iso/iec 27001. the scope of the isms covers the cloud service provider’s or...</td>\n",
       "      <td>36.0</td>\n",
       "      <td>c5</td>\n",
       "      <td>Basic criterion: The cloud service provider operates an Information Security Management System (ISMS) in accordance with ISO/IEC 27001. The scope of the ISMS covers the cloud service provider's or...</td>\n",
       "      <td>Organisation of information security (ois). Information security management system (isms). Basic criterion: The cloud service provider operates an Information Security Management System (ISMS) in ...</td>\n",
       "    </tr>\n",
       "  </tbody>\n",
       "</table>\n",
       "</div>"
      ],
      "text/plain": [
       "   Unnamed: 0  ...                                                                                                                                                                                        full_control_text\n",
       "0         0.0  ...  Organisation of information security (ois). Information security management system (isms). Basic criterion: The cloud service provider operates an Information Security Management System (ISMS) in ...\n",
       "\n",
       "[1 rows x 9 columns]"
      ]
     },
     "execution_count": 12,
     "metadata": {},
     "output_type": "execute_result"
    }
   ],
   "source": [
    "# inspect df\n",
    "df.head(1)"
   ]
  },
  {
   "cell_type": "code",
   "execution_count": 13,
   "metadata": {},
   "outputs": [
    {
     "data": {
      "text/html": [
       "<div>\n",
       "<style scoped>\n",
       "    .dataframe tbody tr th:only-of-type {\n",
       "        vertical-align: middle;\n",
       "    }\n",
       "\n",
       "    .dataframe tbody tr th {\n",
       "        vertical-align: top;\n",
       "    }\n",
       "\n",
       "    .dataframe thead th {\n",
       "        text-align: right;\n",
       "    }\n",
       "</style>\n",
       "<table border=\"1\" class=\"dataframe\">\n",
       "  <thead>\n",
       "    <tr style=\"text-align: right;\">\n",
       "      <th></th>\n",
       "      <th>Unnamed: 0</th>\n",
       "      <th>control_category</th>\n",
       "      <th>control_code</th>\n",
       "      <th>control_name</th>\n",
       "      <th>control_text</th>\n",
       "      <th>page</th>\n",
       "      <th>document</th>\n",
       "      <th>control_text_corrected</th>\n",
       "      <th>control_name_corrected</th>\n",
       "      <th>full_control_text</th>\n",
       "    </tr>\n",
       "  </thead>\n",
       "  <tbody>\n",
       "    <tr>\n",
       "      <th>0</th>\n",
       "      <td>792</td>\n",
       "      <td>organizational controls</td>\n",
       "      <td>5.1</td>\n",
       "      <td>policies for information security</td>\n",
       "      <td>control information security policy and topic-specific policies shall be defined, approved by management, published, communicated to and acknowledged by relevant personnel and relevant interested ...</td>\n",
       "      <td>16</td>\n",
       "      <td>iso_27001</td>\n",
       "      <td>Control information security policy and topic-specific policies shall be defined, approved by management, published, communicated to, and acknowledged by relevant personnel and relevant interested...</td>\n",
       "      <td>Policies for Information Security.</td>\n",
       "      <td>Organizational controls. Policies for information security. Control information security policy and topic-specific policies shall be defined, approved by management, published, communicated to, an...</td>\n",
       "    </tr>\n",
       "  </tbody>\n",
       "</table>\n",
       "</div>"
      ],
      "text/plain": [
       "   Unnamed: 0  ...                                                                                                                                                                                        full_control_text\n",
       "0         792  ...  Organizational controls. Policies for information security. Control information security policy and topic-specific policies shall be defined, approved by management, published, communicated to, an...\n",
       "\n",
       "[1 rows x 10 columns]"
      ]
     },
     "execution_count": 13,
     "metadata": {},
     "output_type": "execute_result"
    }
   ],
   "source": [
    "# inspect reference only df\n",
    "reference_only_df.head(1)"
   ]
  },
  {
   "cell_type": "code",
   "execution_count": 14,
   "metadata": {},
   "outputs": [
    {
     "name": "stdout",
     "output_type": "stream",
     "text": [
      "19\n"
     ]
    },
    {
     "data": {
      "image/png": "[encoded data removed]",
      "text/plain": [
       "<Figure size 640x480 with 1 Axes>"
      ]
     },
     "metadata": {},
     "output_type": "display_data"
    }
   ],
   "source": [
    "# How long are the texts? \n",
    "# Mostly much < 512 limit of BERT. \n",
    "\n",
    "l = df['full_control_text'].apply(lambda x: len(x.split(' ')))\n",
    "z = len([x for x in l if x >= 512])\n",
    "print(z)\n",
    "\n",
    "ax = l.hist(bins=30)  # create histogram using axes object\n",
    "ax.set_title('How many \"tokens\" long are control texts?')\n",
    "plt.axvline(x=512, color='red', linewidth=1)\n",
    "props = dict(boxstyle='square', facecolor='white', alpha=0.5)\n",
    "\n",
    "ax.text(0.95, 0.7, f'{z} values >= 512', transform=ax.transAxes, fontsize=10,\n",
    "        verticalalignment='top', horizontalalignment='right', bbox=props)\n",
    "plt.show()"
   ]
  },
  {
   "cell_type": "code",
   "execution_count": 15,
   "metadata": {},
   "outputs": [],
   "source": [
    "# create list for encoding\n",
    "docs = list(df['full_control_text'].values)\n",
    "docs_reference_only = list(reference_only_df['full_control_text'].values)"
   ]
  },
  {
   "cell_type": "markdown",
   "metadata": {},
   "source": [
    "# BERT base\n",
    "\n",
    "<div class=\"alert alert-block alert-warning\">\n",
    "<b>TO DO:</b> \n",
    "\n",
    "- Check if the length of tokens is a limitation here and what to do about it. \n",
    "- Check also if better model than bert-base-uncased/bert-large-uncased.\n",
    "- No pretained privacy models were found on huggingface at present.\n",
    "</div>\n"
   ]
  },
  {
   "cell_type": "code",
   "execution_count": 16,
   "metadata": {},
   "outputs": [],
   "source": [
    "# Load pre-trained BERT model and tokenizer\n",
    "model_name = \"bert-base-uncased\"  \n",
    "model = BertModel.from_pretrained(model_name)\n",
    "tokenizer = BertTokenizer.from_pretrained(model_name)\n",
    "\n",
    "# function to do BERT embedding on text\n",
    "def get_embedding(text):\n",
    "    encoded_input = tokenizer(text, return_tensors='pt', truncation=True, max_length=512)\n",
    "    output = model(**encoded_input)\n",
    "    \n",
    "    # Use the pooler output (representation of [CLS] token) and detach it to convert tensor to numpy\n",
    "    embedding = output[1].detach().numpy()\n",
    "    return embedding\n",
    "\n",
    "df['BERTembeddings'] = df['full_control_text'].apply(get_embedding)\n",
    "reference_only_df['BERTembeddings'] = reference_only_df['full_control_text'].apply(get_embedding)"
   ]
  },
  {
   "cell_type": "markdown",
   "metadata": {},
   "source": [
    "# BERT large"
   ]
  },
  {
   "cell_type": "code",
   "execution_count": 17,
   "metadata": {},
   "outputs": [],
   "source": [
    "# You can also experiment with the larger version of BERT if desired\n",
    "model_name = \"bert-large-uncased\"\n",
    "model = BertModel.from_pretrained(model_name)\n",
    "tokenizer = BertTokenizer.from_pretrained(model_name)\n",
    "\n",
    "df['BERTlargeembeddings'] = df['full_control_text'].apply(get_embedding)\n",
    "reference_only_df['BERTlargeembeddings'] = reference_only_df['full_control_text'].apply(get_embedding)"
   ]
  },
  {
   "cell_type": "markdown",
   "metadata": {},
   "source": [
    "# Ada2"
   ]
  },
  {
   "cell_type": "code",
   "execution_count": 20,
   "metadata": {},
   "outputs": [],
   "source": [
    "# reads key.txt in the current directory for making API calls\n",
    "def read_key_from_file(filename=r\"key.txt\"):  # replace with yours\n",
    "    with open(filename, 'r') as file:\n",
    "        return file.read().strip()\n",
    "\n",
    "# setup client with your API key and organization\n",
    "# replace 'YOUR_ORG_HERE' \n",
    "client = OpenAI(organization='YOUR_ORG_HERE', api_key=read_key_from_file())\n",
    "    "
   ]
  },
  {
   "cell_type": "code",
   "execution_count": 30,
   "metadata": {},
   "outputs": [],
   "source": [
    "# testing with short text\n",
    "# creates embeddings if the setup worked properly\n",
    "response = client.embeddings.create(\n",
    "    input=\"Was mich nicht umbringt\",\n",
    "    model=\"text-embedding-ada-002\"\n",
    ")\n",
    "\n",
    "# show result\n",
    "print(response.data[0].embedding)"
   ]
  },
  {
   "cell_type": "code",
   "execution_count": null,
   "metadata": {},
   "outputs": [],
   "source": [
    "# Creates embeddings by querying OpenAI for each text\n",
    "# Make sure you understand how OpenAI charges you for API calls before running the whole thing!\n",
    "\n",
    "# create embeddings column based on full_control_text column\n",
    "df['ada2_embeddings'] = df['full_control_text'].apply(\n",
    "    lambda text: client.embeddings.create(\n",
    "        input=text, \n",
    "        model=\"text-embedding-ada-002\"\n",
    "    ).data[0].embedding\n",
    ")"
   ]
  },
  {
   "cell_type": "markdown",
   "metadata": {},
   "source": [
    "# all-mpnet-base-v2\n",
    "\n",
    "Unlike BERT, all-mpnet-base-v2 is a sentence transformer suited for longer texts."
   ]
  },
  {
   "cell_type": "code",
   "execution_count": 29,
   "metadata": {},
   "outputs": [],
   "source": [
    "# make embeddings for main df\n",
    "docs = list(df['full_control_text'].values)\n",
    "sentence_model = SentenceTransformer(\"all-mpnet-base-v2\")\n",
    "embeddings = sentence_model.encode(docs, show_progress_bar=False)"
   ]
  },
  {
   "cell_type": "code",
   "execution_count": null,
   "metadata": {},
   "outputs": [],
   "source": [
    "df['all-mpnet-base-v2_embeddings'] = embeddings.tolist()"
   ]
  },
  {
   "cell_type": "code",
   "execution_count": 43,
   "metadata": {},
   "outputs": [],
   "source": [
    "# make embeddings for reference df\n",
    "docs = list(reference_only_df['full_control_text'].values)\n",
    "sentence_model = SentenceTransformer(\"all-mpnet-base-v2\")\n",
    "embeddings = sentence_model.encode(docs, show_progress_bar=False)"
   ]
  },
  {
   "cell_type": "code",
   "execution_count": 44,
   "metadata": {},
   "outputs": [],
   "source": [
    "reference_only_df['all-mpnet-base-v2_embeddings'] = embeddings.tolist()"
   ]
  },
  {
   "cell_type": "code",
   "execution_count": 34,
   "metadata": {},
   "outputs": [
    {
     "data": {
      "text/html": [
       "<div>\n",
       "<style scoped>\n",
       "    .dataframe tbody tr th:only-of-type {\n",
       "        vertical-align: middle;\n",
       "    }\n",
       "\n",
       "    .dataframe tbody tr th {\n",
       "        vertical-align: top;\n",
       "    }\n",
       "\n",
       "    .dataframe thead th {\n",
       "        text-align: right;\n",
       "    }\n",
       "</style>\n",
       "<table border=\"1\" class=\"dataframe\">\n",
       "  <thead>\n",
       "    <tr style=\"text-align: right;\">\n",
       "      <th></th>\n",
       "      <th>Unnamed: 0</th>\n",
       "      <th>control_category</th>\n",
       "      <th>control_code</th>\n",
       "      <th>control_name</th>\n",
       "      <th>control_text</th>\n",
       "      <th>page</th>\n",
       "      <th>document</th>\n",
       "      <th>control_text_corrected</th>\n",
       "      <th>full_control_text</th>\n",
       "      <th>BERTembeddings</th>\n",
       "      <th>BERTlargeembeddings</th>\n",
       "      <th>ada2_embeddings</th>\n",
       "      <th>all-mpnet-base-v2_embeddings</th>\n",
       "    </tr>\n",
       "  </thead>\n",
       "  <tbody>\n",
       "    <tr>\n",
       "      <th>0</th>\n",
       "      <td>0.0</td>\n",
       "      <td>organisation of information security (ois)</td>\n",
       "      <td>OIS-01</td>\n",
       "      <td>information security management system (isms)</td>\n",
       "      <td>basic criterion: the cloud service provider operates an information security management system (isms) in accordance with iso/iec 27001. the scope of the isms covers the cloud service provider’s or...</td>\n",
       "      <td>36.0</td>\n",
       "      <td>c5</td>\n",
       "      <td>Basic criterion: The cloud service provider operates an Information Security Management System (ISMS) in accordance with ISO/IEC 27001. The scope of the ISMS covers the cloud service provider's or...</td>\n",
       "      <td>Organisation of information security (ois). Information security management system (isms). Basic criterion: The cloud service provider operates an Information Security Management System (ISMS) in ...</td>\n",
       "      <td>[[-0.23476554, -0.22193438, -0.993742, 0.3670222, 0.8497376, -0.16401602, -0.6381365, -0.11291772, -0.9666921, -0.99915665, -0.7527634, 0.8858462, 0.110614575, 0.8264292, -0.5260503, -0.41770533, ...</td>\n",
       "      <td>[[-0.99997824, -0.9996931, 0.9999947, -0.99673074, -0.99972194, 0.99620223, -0.9999648, 0.99980146, 0.9931228, -0.99844056, -0.9996434, 0.99999297, -1.0, -0.9129203, 0.9927433, -0.99991816, -0.999...</td>\n",
       "      <td>[0.017099885269999504, -0.01439644955098629, 0.00117865193169564, -0.0317063108086586, -0.01916027069091797, 0.03131260722875595, -0.025590771809220314, -0.03850426897406578, 0.0047671012580394745...</td>\n",
       "      <td>[0.025447199121117592, -0.047563113272190094, -0.0010698908008635044, -0.02945668436586857, -0.05244108662009239, 0.0008069048053584993, 0.042670611292123795, 0.04808742180466652, -0.0093944948166...</td>\n",
       "    </tr>\n",
       "  </tbody>\n",
       "</table>\n",
       "</div>"
      ],
      "text/plain": [
       "   Unnamed: 0  ...                                                                                                                                                                             all-mpnet-base-v2_embeddings\n",
       "0         0.0  ...  [0.025447199121117592, -0.047563113272190094, -0.0010698908008635044, -0.02945668436586857, -0.05244108662009239, 0.0008069048053584993, 0.042670611292123795, 0.04808742180466652, -0.0093944948166...\n",
       "\n",
       "[1 rows x 13 columns]"
      ]
     },
     "execution_count": 34,
     "metadata": {},
     "output_type": "execute_result"
    }
   ],
   "source": [
    "# embeddings not in same form (see last columns)\n",
    "df.head(1)"
   ]
  },
  {
   "cell_type": "code",
   "execution_count": 45,
   "metadata": {},
   "outputs": [
    {
     "data": {
      "text/html": [
       "<div>\n",
       "<style scoped>\n",
       "    .dataframe tbody tr th:only-of-type {\n",
       "        vertical-align: middle;\n",
       "    }\n",
       "\n",
       "    .dataframe tbody tr th {\n",
       "        vertical-align: top;\n",
       "    }\n",
       "\n",
       "    .dataframe thead th {\n",
       "        text-align: right;\n",
       "    }\n",
       "</style>\n",
       "<table border=\"1\" class=\"dataframe\">\n",
       "  <thead>\n",
       "    <tr style=\"text-align: right;\">\n",
       "      <th></th>\n",
       "      <th>Unnamed: 0</th>\n",
       "      <th>control_category</th>\n",
       "      <th>control_code</th>\n",
       "      <th>control_name</th>\n",
       "      <th>control_text</th>\n",
       "      <th>page</th>\n",
       "      <th>document</th>\n",
       "      <th>control_text_corrected</th>\n",
       "      <th>control_name_corrected</th>\n",
       "      <th>full_control_text</th>\n",
       "      <th>BERTembeddings</th>\n",
       "      <th>BERTlargeembeddings</th>\n",
       "      <th>ada2_embeddings</th>\n",
       "      <th>all-mpnet-base-v2_embeddings</th>\n",
       "    </tr>\n",
       "  </thead>\n",
       "  <tbody>\n",
       "    <tr>\n",
       "      <th>0</th>\n",
       "      <td>792</td>\n",
       "      <td>organizational controls</td>\n",
       "      <td>5.1</td>\n",
       "      <td>policies for information security</td>\n",
       "      <td>control information security policy and topic-specific policies shall be defined, approved by management, published, communicated to and acknowledged by relevant personnel and relevant interested ...</td>\n",
       "      <td>16</td>\n",
       "      <td>iso_27001</td>\n",
       "      <td>Control information security policy and topic-specific policies shall be defined, approved by management, published, communicated to, and acknowledged by relevant personnel and relevant interested...</td>\n",
       "      <td>Policies for Information Security.</td>\n",
       "      <td>Organizational controls. Policies for information security. Control information security policy and topic-specific policies shall be defined, approved by management, published, communicated to, an...</td>\n",
       "      <td>[[-0.7483474, -0.47950372, -0.9906762, 0.69624037, 0.8326306, -0.48163402, 0.3763824, 0.29337865, -0.95828897, -0.9999495, -0.79352665, 0.9742392, 0.85484904, 0.85074604, 0.33535042, -0.7259503, -...</td>\n",
       "      <td>[[-0.9773716, -0.9911405, 0.9997901, -0.9620378, -0.99899524, 0.6847769, -0.9994272, 0.99745417, 0.8713079, -0.9988649, -0.9956875, 0.9997872, -0.9999962, -0.0641057, 0.8665115, -0.9958053, -0.999...</td>\n",
       "      <td>[-0.005201301537454128, -0.025325844064354897, 0.015064510516822338, -0.030514303594827652, -0.014101306907832623, 0.009888894855976105, -0.008880740962922573, -0.009432977996766567, 0.00741024967...</td>\n",
       "      <td>[0.027031106874346733, -0.0008645474445074797, 0.015083176083862782, -0.02167108654975891, -0.061075322329998016, -0.036764826625585556, 0.049642447382211685, 0.02928995154798031, -0.0301633365452...</td>\n",
       "    </tr>\n",
       "  </tbody>\n",
       "</table>\n",
       "</div>"
      ],
      "text/plain": [
       "   Unnamed: 0  ...                                                                                                                                                                             all-mpnet-base-v2_embeddings\n",
       "0         792  ...  [0.027031106874346733, -0.0008645474445074797, 0.015083176083862782, -0.02167108654975891, -0.061075322329998016, -0.036764826625585556, 0.049642447382211685, 0.02928995154798031, -0.0301633365452...\n",
       "\n",
       "[1 rows x 14 columns]"
      ]
     },
     "execution_count": 45,
     "metadata": {},
     "output_type": "execute_result"
    }
   ],
   "source": [
    "# embeddings not in same form (see last columns)\n",
    "reference_only_df.head(1)"
   ]
  },
  {
   "cell_type": "code",
   "execution_count": 40,
   "metadata": {},
   "outputs": [],
   "source": [
    "# put embeddings in same form (simple list, not list of one element which is a list of embeddings)\n",
    "df['BERTembeddings'] = df['BERTembeddings'].apply(lambda x: x[0])\n",
    "df['BERTlargeembeddings'] = df['BERTlargeembeddings'].apply(lambda x: x[0])"
   ]
  },
  {
   "cell_type": "code",
   "execution_count": 46,
   "metadata": {},
   "outputs": [],
   "source": [
    "# put embeddings in same form (simple list, not list of one element which is a list of embeddings)\n",
    "reference_only_df['BERTembeddings'] = reference_only_df['BERTembeddings'].apply(lambda x: x[0])\n",
    "reference_only_df['BERTlargeembeddings'] = reference_only_df['BERTlargeembeddings'].apply(lambda x: x[0])"
   ]
  },
  {
   "cell_type": "code",
   "execution_count": 47,
   "metadata": {},
   "outputs": [
    {
     "data": {
      "text/html": [
       "<div>\n",
       "<style scoped>\n",
       "    .dataframe tbody tr th:only-of-type {\n",
       "        vertical-align: middle;\n",
       "    }\n",
       "\n",
       "    .dataframe tbody tr th {\n",
       "        vertical-align: top;\n",
       "    }\n",
       "\n",
       "    .dataframe thead th {\n",
       "        text-align: right;\n",
       "    }\n",
       "</style>\n",
       "<table border=\"1\" class=\"dataframe\">\n",
       "  <thead>\n",
       "    <tr style=\"text-align: right;\">\n",
       "      <th></th>\n",
       "      <th>Unnamed: 0</th>\n",
       "      <th>control_category</th>\n",
       "      <th>control_code</th>\n",
       "      <th>control_name</th>\n",
       "      <th>control_text</th>\n",
       "      <th>page</th>\n",
       "      <th>document</th>\n",
       "      <th>control_text_corrected</th>\n",
       "      <th>full_control_text</th>\n",
       "      <th>BERTembeddings</th>\n",
       "      <th>BERTlargeembeddings</th>\n",
       "      <th>ada2_embeddings</th>\n",
       "      <th>all-mpnet-base-v2_embeddings</th>\n",
       "    </tr>\n",
       "  </thead>\n",
       "  <tbody>\n",
       "    <tr>\n",
       "      <th>0</th>\n",
       "      <td>0.0</td>\n",
       "      <td>organisation of information security (ois)</td>\n",
       "      <td>OIS-01</td>\n",
       "      <td>information security management system (isms)</td>\n",
       "      <td>basic criterion: the cloud service provider operates an information security management system (isms) in accordance with iso/iec 27001. the scope of the isms covers the cloud service provider’s or...</td>\n",
       "      <td>36.0</td>\n",
       "      <td>c5</td>\n",
       "      <td>Basic criterion: The cloud service provider operates an Information Security Management System (ISMS) in accordance with ISO/IEC 27001. The scope of the ISMS covers the cloud service provider's or...</td>\n",
       "      <td>Organisation of information security (ois). Information security management system (isms). Basic criterion: The cloud service provider operates an Information Security Management System (ISMS) in ...</td>\n",
       "      <td>[-0.23476554, -0.22193438, -0.993742, 0.3670222, 0.8497376, -0.16401602, -0.6381365, -0.11291772, -0.9666921, -0.99915665, -0.7527634, 0.8858462, 0.110614575, 0.8264292, -0.5260503, -0.41770533, -...</td>\n",
       "      <td>[-0.99997824, -0.9996931, 0.9999947, -0.99673074, -0.99972194, 0.99620223, -0.9999648, 0.99980146, 0.9931228, -0.99844056, -0.9996434, 0.99999297, -1.0, -0.9129203, 0.9927433, -0.99991816, -0.9999...</td>\n",
       "      <td>[0.017099885269999504, -0.01439644955098629, 0.00117865193169564, -0.0317063108086586, -0.01916027069091797, 0.03131260722875595, -0.025590771809220314, -0.03850426897406578, 0.0047671012580394745...</td>\n",
       "      <td>[0.025447199121117592, -0.047563113272190094, -0.0010698908008635044, -0.02945668436586857, -0.05244108662009239, 0.0008069048053584993, 0.042670611292123795, 0.04808742180466652, -0.0093944948166...</td>\n",
       "    </tr>\n",
       "  </tbody>\n",
       "</table>\n",
       "</div>"
      ],
      "text/plain": [
       "   Unnamed: 0  ...                                                                                                                                                                             all-mpnet-base-v2_embeddings\n",
       "0         0.0  ...  [0.025447199121117592, -0.047563113272190094, -0.0010698908008635044, -0.02945668436586857, -0.05244108662009239, 0.0008069048053584993, 0.042670611292123795, 0.04808742180466652, -0.0093944948166...\n",
       "\n",
       "[1 rows x 13 columns]"
      ]
     },
     "execution_count": 47,
     "metadata": {},
     "output_type": "execute_result"
    }
   ],
   "source": [
    "# now all embeddings in correct form\n",
    "df.head(1)"
   ]
  },
  {
   "cell_type": "code",
   "execution_count": 51,
   "metadata": {},
   "outputs": [
    {
     "data": {
      "text/html": [
       "<div>\n",
       "<style scoped>\n",
       "    .dataframe tbody tr th:only-of-type {\n",
       "        vertical-align: middle;\n",
       "    }\n",
       "\n",
       "    .dataframe tbody tr th {\n",
       "        vertical-align: top;\n",
       "    }\n",
       "\n",
       "    .dataframe thead th {\n",
       "        text-align: right;\n",
       "    }\n",
       "</style>\n",
       "<table border=\"1\" class=\"dataframe\">\n",
       "  <thead>\n",
       "    <tr style=\"text-align: right;\">\n",
       "      <th></th>\n",
       "      <th>Unnamed: 0</th>\n",
       "      <th>control_category</th>\n",
       "      <th>control_code</th>\n",
       "      <th>control_name</th>\n",
       "      <th>control_text</th>\n",
       "      <th>page</th>\n",
       "      <th>document</th>\n",
       "      <th>control_text_corrected</th>\n",
       "      <th>control_name_corrected</th>\n",
       "      <th>full_control_text</th>\n",
       "      <th>BERTembeddings</th>\n",
       "      <th>BERTlargeembeddings</th>\n",
       "      <th>ada2_embeddings</th>\n",
       "      <th>all-mpnet-base-v2_embeddings</th>\n",
       "    </tr>\n",
       "  </thead>\n",
       "  <tbody>\n",
       "    <tr>\n",
       "      <th>0</th>\n",
       "      <td>792</td>\n",
       "      <td>organizational controls</td>\n",
       "      <td>5.1</td>\n",
       "      <td>policies for information security</td>\n",
       "      <td>control information security policy and topic-specific policies shall be defined, approved by management, published, communicated to and acknowledged by relevant personnel and relevant interested ...</td>\n",
       "      <td>16</td>\n",
       "      <td>iso_27001</td>\n",
       "      <td>Control information security policy and topic-specific policies shall be defined, approved by management, published, communicated to, and acknowledged by relevant personnel and relevant interested...</td>\n",
       "      <td>Policies for Information Security.</td>\n",
       "      <td>Organizational controls. Policies for information security. Control information security policy and topic-specific policies shall be defined, approved by management, published, communicated to, an...</td>\n",
       "      <td>[-0.7483474, -0.47950372, -0.9906762, 0.69624037, 0.8326306, -0.48163402, 0.3763824, 0.29337865, -0.95828897, -0.9999495, -0.79352665, 0.9742392, 0.85484904, 0.85074604, 0.33535042, -0.7259503, -0...</td>\n",
       "      <td>[-0.9773716, -0.9911405, 0.9997901, -0.9620378, -0.99899524, 0.6847769, -0.9994272, 0.99745417, 0.8713079, -0.9988649, -0.9956875, 0.9997872, -0.9999962, -0.0641057, 0.8665115, -0.9958053, -0.9999...</td>\n",
       "      <td>[-0.005201301537454128, -0.025325844064354897, 0.015064510516822338, -0.030514303594827652, -0.014101306907832623, 0.009888894855976105, -0.008880740962922573, -0.009432977996766567, 0.00741024967...</td>\n",
       "      <td>[0.027031106874346733, -0.0008645474445074797, 0.015083176083862782, -0.02167108654975891, -0.061075322329998016, -0.036764826625585556, 0.049642447382211685, 0.02928995154798031, -0.0301633365452...</td>\n",
       "    </tr>\n",
       "  </tbody>\n",
       "</table>\n",
       "</div>"
      ],
      "text/plain": [
       "   Unnamed: 0  ...                                                                                                                                                                             all-mpnet-base-v2_embeddings\n",
       "0         792  ...  [0.027031106874346733, -0.0008645474445074797, 0.015083176083862782, -0.02167108654975891, -0.061075322329998016, -0.036764826625585556, 0.049642447382211685, 0.02928995154798031, -0.0301633365452...\n",
       "\n",
       "[1 rows x 14 columns]"
      ]
     },
     "execution_count": 51,
     "metadata": {},
     "output_type": "execute_result"
    }
   ],
   "source": [
    "# now all embeddings in correct form\n",
    "reference_only_df.head(1)"
   ]
  },
  {
   "cell_type": "code",
   "execution_count": 49,
   "metadata": {},
   "outputs": [],
   "source": [
    "# savings results\n",
    "df.to_excel('../data/intermediate/df_embeddings_2023-12-16.xlsx')\n",
    "reference_only_df.to_excel('../data/intermediate/reference_only_df_embeddings_2023-12-16.xlsx')"
   ]
  },
  {
   "cell_type": "code",
   "execution_count": null,
   "metadata": {},
   "outputs": [],
   "source": []
  }
 ],
 "metadata": {
  "kernelspec": {
   "display_name": "ciscovenv",
   "language": "python",
   "name": "python3"
  },
  "language_info": {
   "codemirror_mode": {
    "name": "ipython",
    "version": 3
   },
   "file_extension": ".py",
   "mimetype": "text/x-python",
   "name": "python",
   "nbconvert_exporter": "python",
   "pygments_lexer": "ipython3",
   "version": "3.11.5"
  }
 },
 "nbformat": 4,
 "nbformat_minor": 2
}
