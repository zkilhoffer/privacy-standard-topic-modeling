{
 "cells": [
  {
   "cell_type": "markdown",
   "metadata": {},
   "source": [
    "***\n",
    "\n",
    "# Topic Modeling\n",
    "\n",
    "- By [Zachary Kilhoffer](https://zkilhoffer.github.io/)\n",
    "- Updated 2024-06-17\n",
    "\n",
    "***\n",
    "\n",
    "## Description\n",
    "- The code is part of the pipelines described in: \n",
    "  - Kilhoffer, Z. et al. (2024 in press). \"Cloud Privacy Beyond Legal Compliance: An NLP analysis of certifiable privacy and security standards\".\n",
    "- The paper will be released on 2024-06-28 at the [IEEE Cloud Summit](https://www.ieeecloudsummit.org/2024-program).\n",
    "- This is the main topic modeling script.\n",
    "- This is part of the BERTopic topic modeling pipeline.\n",
    "\n",
    "***\n",
    "\n",
    "### Input files:\n",
    "Data: \n",
    "  \n",
    "  > `controls_df_no_copyright.xlsx`\n",
    "\n",
    "Fine-tuned LLM: \n",
    "\n",
    "  > `fine_tuned_model`\n",
    "\n",
    "***"
   ]
  },
  {
   "cell_type": "code",
   "execution_count": null,
   "metadata": {},
   "outputs": [],
   "source": []
  },
  {
   "cell_type": "code",
   "execution_count": null,
   "metadata": {},
   "outputs": [],
   "source": []
  },
  {
   "cell_type": "code",
   "execution_count": null,
   "metadata": {},
   "outputs": [],
   "source": []
  }
 ],
 "metadata": {
  "language_info": {
   "name": "python"
  }
 },
 "nbformat": 4,
 "nbformat_minor": 2
}
