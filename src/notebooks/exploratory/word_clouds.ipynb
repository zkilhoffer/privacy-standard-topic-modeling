{
 "cells": [
  {
   "cell_type": "markdown",
   "metadata": {},
   "source": [
    "***\n",
    "\n",
    "# Word Clouds\n",
    "\n",
    "- By [Zachary Kilhoffer](https://zkilhoffer.github.io/)\n",
    "- Updated 2024-06-17\n",
    "\n",
    "***\n",
    "\n",
    "## Description\n",
    "\n",
    "- Creating quick word clouds can be a nice and intuitive way to look at similarities between texts.\n",
    "- This is code that may be useful to play around with for exploring text.\n",
    "\n",
    "***"
   ]
  },
  {
   "cell_type": "code",
   "execution_count": null,
   "metadata": {},
   "outputs": [],
   "source": [
    "import os, re, warnings, random\n",
    "import pandas as pd\n",
    "import numpy as np\n",
    "import openpyxl\n",
    "import matplotlib\n",
    "import matplotlib.pyplot as plt\n",
    "from wordcloud import WordCloud, STOPWORDS, ImageColorGenerator"
   ]
  },
  {
   "cell_type": "code",
   "execution_count": null,
   "metadata": {},
   "outputs": [],
   "source": [
    "# display tweaks\n",
    "pd.set_option(\"display.max_colwidth\", 200)  # how much text is showing within a cell\n",
    "pd.set_option(\"display.max_columns\", False)\n",
    "pd.set_option(\"display.max_rows\", False)\n",
    "warnings.filterwarnings(\"ignore\")"
   ]
  },
  {
   "cell_type": "code",
   "execution_count": null,
   "metadata": {},
   "outputs": [],
   "source": [
    "# load data\n",
    "df = pd.read_excel('../data/df_embeddings_publicdomain.xlsx')"
   ]
  },
  {
   "cell_type": "code",
   "execution_count": null,
   "metadata": {},
   "outputs": [],
   "source": [
    "# preparing for loop to get all text from all docs\n",
    "documents_list = df[\"document\"].value_counts().index.to_list()\n",
    "documents_list\n",
    "d = dict.fromkeys(documents_list)\n",
    "\n",
    "# creating words for wordcloud\n",
    "for doc in documents_list:\n",
    "    # produce words from pandas series matching one doc\n",
    "    words = df[df[\"document\"] == f\"{doc}\"][\"full_control_text\"]\n",
    "    # concatenate all cells in series\n",
    "    d[f\"{doc}\"] = \" \".join(words)\n",
    "d"
   ]
  },
  {
   "cell_type": "code",
   "execution_count": null,
   "metadata": {},
   "outputs": [],
   "source": [
    "for doc in sorted(documents_list):\n",
    "    wordcloud = WordCloud(\n",
    "        background_color=\"white\", collocations=False, stopwords=STOPWORDS\n",
    "    )  # , contour_color=\"white\", contour_width=1\n",
    "    wordcloud.generate(d[f\"{doc}\"])\n",
    "    plt.imshow(wordcloud, interpolation=\"bilinear\")\n",
    "    plt.axis(\"off\")\n",
    "    plt.title(f\"{doc}\")\n",
    "    plt.show()"
   ]
  },
  {
   "cell_type": "code",
   "execution_count": null,
   "metadata": {},
   "outputs": [],
   "source": [
    "# # to display all wordcloud figures together\n",
    "# def display_wordcloud(top_words, title, n_components):\n",
    "#     plt.figure()\n",
    "#     j = np.ceil(n_components/4)\n",
    "#     j = int(j)\n",
    "#     print(j)\n",
    "\n",
    "#     i=1\n",
    "#     for k, v in d.items():\n",
    "#         plt.subplot(j, 4, i).set_title(\"Document: \" + k)\n",
    "#         plt.plot()\n",
    "#         plt.imshow(WordCloud().fit_words(v))\n",
    "#         plt.axis(\"off\")\n",
    "#         i+=1\n",
    "#     # fig.suptitle(title)\n",
    "#     plt.show()"
   ]
  }
 ],
 "metadata": {
  "kernelspec": {
   "display_name": "ciscovenv",
   "language": "python",
   "name": "python3"
  },
  "language_info": {
   "name": "python",
   "version": "3.9.1"
  }
 },
 "nbformat": 4,
 "nbformat_minor": 2
}
