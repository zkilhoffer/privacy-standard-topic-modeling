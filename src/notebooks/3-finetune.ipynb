{
 "cells": [
  {
   "cell_type": "markdown",
   "metadata": {},
   "source": [
    "# Finetunes an LLM to improve topic modeling results.\n",
    "\n",
    "2024-06-17\n",
    "\n",
    "Author: Zachary Kilhoffer\n",
    "\n",
    "Requirements:\n",
    "- 'data\\df_2024-02-28.xlsx'\n",
    "- 'data\\df_ada_2024-02-28.xlsx'\n",
    "\n",
    "Outputs:\n",
    "- fine_tuned_model\n",
    "- domain_adapted_model\n",
    "\n",
    "\n",
    "See https://maartengr.github.io/BERTopic/getting_started/parameter%20tuning/parametertuning.html#umap\n",
    "\n",
    "\n",
    "### Important Note\n",
    "- data-clean.csv doesn't contain any IP protected controls texts, so only those from FedRAMP and C5\n",
    "- for the paper, we used 9 documents\n"
   ]
  },
  {
   "cell_type": "code",
   "execution_count": 31,
   "metadata": {},
   "outputs": [
    {
     "name": "stderr",
     "output_type": "stream",
     "text": [
      "huggingface/tokenizers: The current process just got forked, after parallelism has already been used. Disabling parallelism to avoid deadlocks...\n",
      "To disable this warning, you can either:\n",
      "\t- Avoid using `tokenizers` before the fork if possible\n",
      "\t- Explicitly set the environment variable TOKENIZERS_PARALLELISM=(true | false)\n"
     ]
    }
   ],
   "source": [
    "! pip freeze > requirements-3-finetune.txt"
   ]
  },
  {
   "cell_type": "code",
   "execution_count": 1,
   "metadata": {},
   "outputs": [],
   "source": [
    "import pandas as pd\n",
    "import transformers\n",
    "from transformers import (\n",
    "    AutoTokenizer,\n",
    "    DataCollatorForLanguageModeling,\n",
    "    Trainer,\n",
    "    TrainingArguments,\n",
    "    AutoModelForMaskedLM,\n",
    "    AutoModelForSequenceClassification,\n",
    ")\n",
    "from datasets import Dataset\n",
    "import accelerate\n",
    "from sklearn.preprocessing import LabelEncoder\n",
    "import joblib  # save the label encoder\n"
   ]
  },
  {
   "cell_type": "code",
   "execution_count": 2,
   "metadata": {},
   "outputs": [],
   "source": [
    "# display tweaks\n",
    "pd.set_option(\"display.max_colwidth\", 200)  # how much text is showing within a cell\n",
    "pd.set_option(\"display.max_columns\", False)\n",
    "pd.set_option(\"display.max_rows\", False)\n",
    "# warnings.filterwarnings(\"ignore\")"
   ]
  },
  {
   "cell_type": "code",
   "execution_count": 3,
   "metadata": {},
   "outputs": [],
   "source": [
    "# load data\n",
    "data = \"../data/data-clean.csv\"  # the documents we want to embed must be in their own rows\n",
    "df = pd.read_csv(data, index_col=0)"
   ]
  },
  {
   "cell_type": "code",
   "execution_count": 4,
   "metadata": {},
   "outputs": [
    {
     "name": "stdout",
     "output_type": "stream",
     "text": [
      "(531, 6)\n"
     ]
    },
    {
     "data": {
      "text/html": [
       "<div>\n",
       "<style scoped>\n",
       "    .dataframe tbody tr th:only-of-type {\n",
       "        vertical-align: middle;\n",
       "    }\n",
       "\n",
       "    .dataframe tbody tr th {\n",
       "        vertical-align: top;\n",
       "    }\n",
       "\n",
       "    .dataframe thead th {\n",
       "        text-align: right;\n",
       "    }\n",
       "</style>\n",
       "<table border=\"1\" class=\"dataframe\">\n",
       "  <thead>\n",
       "    <tr style=\"text-align: right;\">\n",
       "      <th></th>\n",
       "      <th>control_category</th>\n",
       "      <th>control_code</th>\n",
       "      <th>control_name</th>\n",
       "      <th>document</th>\n",
       "      <th>control_text_corrected</th>\n",
       "      <th>full_control_text</th>\n",
       "    </tr>\n",
       "  </thead>\n",
       "  <tbody>\n",
       "    <tr>\n",
       "      <th>0</th>\n",
       "      <td>organisation of information security (ois)</td>\n",
       "      <td>OIS-01</td>\n",
       "      <td>information security management system (isms)</td>\n",
       "      <td>c5</td>\n",
       "      <td>Basic criterion: The cloud service provider operates an Information Security Management System (ISMS) in accordance with ISO/IEC 27001. The scope of the ISMS covers the cloud service provider's or...</td>\n",
       "      <td>Organisation of information security (ois). Information security management system (isms). Basic criterion: The cloud service provider operates an Information Security Management System (ISMS) in ...</td>\n",
       "    </tr>\n",
       "    <tr>\n",
       "      <th>1</th>\n",
       "      <td>organisation of information security (ois)</td>\n",
       "      <td>OIS-02</td>\n",
       "      <td>information security policy</td>\n",
       "      <td>c5</td>\n",
       "      <td>Basic criterion: The top management of the cloud service provider has adopted an information security policy and communicated it to internal and external employees, as well as cloud customers. The...</td>\n",
       "      <td>Organisation of information security (ois). Information security policy. Basic criterion: The top management of the cloud service provider has adopted an information security policy and communicat...</td>\n",
       "    </tr>\n",
       "    <tr>\n",
       "      <th>2</th>\n",
       "      <td>organisation of information security (ois)</td>\n",
       "      <td>OIS-03</td>\n",
       "      <td>interfaces and dependencies</td>\n",
       "      <td>c5</td>\n",
       "      <td>Basic criterion: Interfaces and dependencies between cloud service delivery activities performed by the cloud service provider and activities performed by third parties are documented and communic...</td>\n",
       "      <td>Organisation of information security (ois). Interfaces and dependencies. Basic criterion: Interfaces and dependencies between cloud service delivery activities performed by the cloud service provi...</td>\n",
       "    </tr>\n",
       "  </tbody>\n",
       "</table>\n",
       "</div>"
      ],
      "text/plain": [
       "                             control_category  ...                                                                                                                                                                                        full_control_text\n",
       "0  organisation of information security (ois)  ...  Organisation of information security (ois). Information security management system (isms). Basic criterion: The cloud service provider operates an Information Security Management System (ISMS) in ...\n",
       "1  organisation of information security (ois)  ...  Organisation of information security (ois). Information security policy. Basic criterion: The top management of the cloud service provider has adopted an information security policy and communicat...\n",
       "2  organisation of information security (ois)  ...  Organisation of information security (ois). Interfaces and dependencies. Basic criterion: Interfaces and dependencies between cloud service delivery activities performed by the cloud service provi...\n",
       "\n",
       "[3 rows x 6 columns]"
      ]
     },
     "execution_count": 4,
     "metadata": {},
     "output_type": "execute_result"
    }
   ],
   "source": [
    "# inspect df\n",
    "print(df.shape)\n",
    "df.head(3)"
   ]
  },
  {
   "cell_type": "markdown",
   "metadata": {},
   "source": [
    "# Finetuning with domain-specific lexicon"
   ]
  },
  {
   "cell_type": "code",
   "execution_count": 5,
   "metadata": {},
   "outputs": [],
   "source": [
    "# 1. Prepare dataset for domain-specific lexicon\n",
    "texts = list(df['full_control_text'].values)"
   ]
  },
  {
   "cell_type": "code",
   "execution_count": 6,
   "metadata": {},
   "outputs": [
    {
     "name": "stderr",
     "output_type": "stream",
     "text": [
      "/Users/Zak/Desktop/privacy-standard-topic-modeling/venv/lib/python3.12/site-packages/transformers/tokenization_utils_base.py:1601: FutureWarning: `clean_up_tokenization_spaces` was not set. It will be set to `True` by default. This behavior will be depracted in transformers v4.45, and will be then set to `False` by default. For more details check this issue: https://github.com/huggingface/transformers/issues/31884\n",
      "  warnings.warn(\n"
     ]
    },
    {
     "data": {
      "application/vnd.jupyter.widget-view+json": {
       "model_id": "af845ea965dc461aa30fd97e1e81569d",
       "version_major": 2,
       "version_minor": 0
      },
      "text/plain": [
       "Map:   0%|          | 0/531 [00:00<?, ? examples/s]"
      ]
     },
     "metadata": {},
     "output_type": "display_data"
    }
   ],
   "source": [
    "# 2. Tokenize Your Dataset\n",
    "tokenizer = AutoTokenizer.from_pretrained(\"bert-base-cased\")\n",
    "\n",
    "def tokenize_function(examples):\n",
    "    return tokenizer(examples[\"text\"], padding=\"max_length\", truncation=True, max_length=512)\n",
    "\n",
    "# Create a Dataset object from your texts\n",
    "dataset = Dataset.from_dict({\"text\": texts})\n",
    "\n",
    "# Tokenize the dataset\n",
    "tokenized_dataset = dataset.map(tokenize_function, batched=True)"
   ]
  },
  {
   "cell_type": "code",
   "execution_count": 7,
   "metadata": {},
   "outputs": [],
   "source": [
    "# 3. Create a Data Collator for MLM\n",
    "data_collator = DataCollatorForLanguageModeling(tokenizer=tokenizer, mlm=True, mlm_probability=0.15)"
   ]
  },
  {
   "cell_type": "code",
   "execution_count": 8,
   "metadata": {},
   "outputs": [
    {
     "name": "stderr",
     "output_type": "stream",
     "text": [
      "Some weights of the model checkpoint at bert-base-cased were not used when initializing BertForMaskedLM: ['bert.pooler.dense.bias', 'bert.pooler.dense.weight', 'cls.seq_relationship.bias', 'cls.seq_relationship.weight']\n",
      "- This IS expected if you are initializing BertForMaskedLM from the checkpoint of a model trained on another task or with another architecture (e.g. initializing a BertForSequenceClassification model from a BertForPreTraining model).\n",
      "- This IS NOT expected if you are initializing BertForMaskedLM from the checkpoint of a model that you expect to be exactly identical (initializing a BertForSequenceClassification model from a BertForSequenceClassification model).\n"
     ]
    }
   ],
   "source": [
    "# 4a. Initialize model settings\n",
    "model = AutoModelForMaskedLM.from_pretrained(\"bert-base-cased\")"
   ]
  },
  {
   "cell_type": "markdown",
   "metadata": {},
   "source": [
    "> Note: the warning is expected because we only use the parts of the model relevant for masked language modeling (MLM)."
   ]
  },
  {
   "cell_type": "code",
   "execution_count": 9,
   "metadata": {},
   "outputs": [],
   "source": [
    "# 4b. Initialize model settings\n",
    "training_args = TrainingArguments(\n",
    "    output_dir=\"./outputs/test_pretrained_model\",\n",
    "    overwrite_output_dir=True,\n",
    "    num_train_epochs=3,\n",
    "    per_device_train_batch_size=4,  # Reduced batch size, used 16 for actual model described in paper\n",
    "    save_steps=10_000,\n",
    "    save_total_limit=2,\n",
    ")"
   ]
  },
  {
   "cell_type": "code",
   "execution_count": 10,
   "metadata": {},
   "outputs": [],
   "source": [
    "# 4c. Initialize model settings\n",
    "trainer = Trainer(\n",
    "    model=model,\n",
    "    args=training_args,\n",
    "    data_collator=data_collator,\n",
    "    train_dataset=tokenized_dataset,  # Directly use the tokenized dataset here\n",
    ")"
   ]
  },
  {
   "cell_type": "code",
   "execution_count": 11,
   "metadata": {},
   "outputs": [
    {
     "data": {
      "application/vnd.jupyter.widget-view+json": {
       "model_id": "b97913c1efa04fdc859c1909ef34815a",
       "version_major": 2,
       "version_minor": 0
      },
      "text/plain": [
       "  0%|          | 0/399 [00:00<?, ?it/s]"
      ]
     },
     "metadata": {},
     "output_type": "display_data"
    },
    {
     "name": "stdout",
     "output_type": "stream",
     "text": [
      "{'train_runtime': 323.2761, 'train_samples_per_second': 4.928, 'train_steps_per_second': 1.234, 'train_loss': 1.8546662677200814, 'epoch': 3.0}\n"
     ]
    },
    {
     "data": {
      "text/plain": [
       "TrainOutput(global_step=399, training_loss=1.8546662677200814, metrics={'train_runtime': 323.2761, 'train_samples_per_second': 4.928, 'train_steps_per_second': 1.234, 'total_flos': 419277799010304.0, 'train_loss': 1.8546662677200814, 'epoch': 3.0})"
      ]
     },
     "execution_count": 11,
     "metadata": {},
     "output_type": "execute_result"
    }
   ],
   "source": [
    "# 5. Train the model\n",
    "trainer.train()"
   ]
  },
  {
   "cell_type": "code",
   "execution_count": 12,
   "metadata": {},
   "outputs": [
    {
     "data": {
      "text/plain": [
       "('../outputs/domain_adapted_model/tokenizer_config.json',\n",
       " '../outputs/domain_adapted_model/special_tokens_map.json',\n",
       " '../outputs/domain_adapted_model/vocab.txt',\n",
       " '../outputs/domain_adapted_model/added_tokens.json',\n",
       " '../outputs/domain_adapted_model/tokenizer.json')"
      ]
     },
     "execution_count": 12,
     "metadata": {},
     "output_type": "execute_result"
    }
   ],
   "source": [
    "# 6. Save the further pretrained Model\n",
    "model.save_pretrained(\"../outputs/domain_adapted_model\")\n",
    "tokenizer.save_pretrained(\"../outputs/domain_adapted_model\")"
   ]
  },
  {
   "cell_type": "markdown",
   "metadata": {},
   "source": [
    "# Finetuning with human-labeled data"
   ]
  },
  {
   "cell_type": "code",
   "execution_count": 13,
   "metadata": {},
   "outputs": [],
   "source": [
    "# Importing training data. We still need to format it a bit before finetuning\n",
    "df_training = pd.read_excel('../data/train-data-redacted.xlsx', sheet_name='Data')\n",
    "temp_labels = pd.read_excel('../data/train-data-redacted.xlsx', sheet_name='Label Choices')"
   ]
  },
  {
   "cell_type": "code",
   "execution_count": 14,
   "metadata": {},
   "outputs": [
    {
     "name": "stdout",
     "output_type": "stream",
     "text": [
      "(30, 9)\n"
     ]
    },
    {
     "data": {
      "text/html": [
       "<div>\n",
       "<style scoped>\n",
       "    .dataframe tbody tr th:only-of-type {\n",
       "        vertical-align: middle;\n",
       "    }\n",
       "\n",
       "    .dataframe tbody tr th {\n",
       "        vertical-align: top;\n",
       "    }\n",
       "\n",
       "    .dataframe thead th {\n",
       "        text-align: right;\n",
       "    }\n",
       "</style>\n",
       "<table border=\"1\" class=\"dataframe\">\n",
       "  <thead>\n",
       "    <tr style=\"text-align: right;\">\n",
       "      <th></th>\n",
       "      <th>researcher1</th>\n",
       "      <th>researcher2</th>\n",
       "      <th>researcher3</th>\n",
       "      <th>control_category</th>\n",
       "      <th>page</th>\n",
       "      <th>document</th>\n",
       "      <th>control_text</th>\n",
       "      <th>Labels Considered</th>\n",
       "      <th>researcher_notes</th>\n",
       "    </tr>\n",
       "  </thead>\n",
       "  <tbody>\n",
       "    <tr>\n",
       "      <th>0</th>\n",
       "      <td>CLD</td>\n",
       "      <td>CLD</td>\n",
       "      <td>CLD</td>\n",
       "      <td>organisation of information security (ois)</td>\n",
       "      <td>38.0</td>\n",
       "      <td>c5</td>\n",
       "      <td>Basic criterion: Conflicting tasks and responsibilities are separated based on an OIS-06 risk assessment to reduce the risk of unauthorized or unintended changes or misuse of cloud customer data p...</td>\n",
       "      <td>CLD, GOV, MON</td>\n",
       "      <td>NaN</td>\n",
       "    </tr>\n",
       "    <tr>\n",
       "      <th>1</th>\n",
       "      <td>CLD</td>\n",
       "      <td>IAC</td>\n",
       "      <td>CLD</td>\n",
       "      <td>product safety and security (pss)</td>\n",
       "      <td>118.0</td>\n",
       "      <td>c5</td>\n",
       "      <td>Basic criterion: Access to the functions provided by the cloud service is restricted by access controls (authorization mechanisms) that verify whether users, IT components, or applications are aut...</td>\n",
       "      <td>DCH, IAC</td>\n",
       "      <td>NaN</td>\n",
       "    </tr>\n",
       "    <tr>\n",
       "      <th>2</th>\n",
       "      <td>GOV</td>\n",
       "      <td>CPL</td>\n",
       "      <td>SEA</td>\n",
       "      <td>application &amp; interface security</td>\n",
       "      <td>NaN</td>\n",
       "      <td>ccm</td>\n",
       "      <td>REDACTED</td>\n",
       "      <td>CPL, MON,</td>\n",
       "      <td>NaN</td>\n",
       "    </tr>\n",
       "    <tr>\n",
       "      <th>3</th>\n",
       "      <td>GOV</td>\n",
       "      <td>GOV</td>\n",
       "      <td>GOV</td>\n",
       "      <td>NaN</td>\n",
       "      <td>NaN</td>\n",
       "      <td>eu_coc</td>\n",
       "      <td>REDACTED</td>\n",
       "      <td>DCH, PRI</td>\n",
       "      <td>which country == big picture governance/compliance</td>\n",
       "    </tr>\n",
       "    <tr>\n",
       "      <th>4</th>\n",
       "      <td>PRI</td>\n",
       "      <td>PRI</td>\n",
       "      <td>PRI</td>\n",
       "      <td>NaN</td>\n",
       "      <td>NaN</td>\n",
       "      <td>eu_coc</td>\n",
       "      <td>REDACTED</td>\n",
       "      <td>CFG, DCH</td>\n",
       "      <td>sharing personal data</td>\n",
       "    </tr>\n",
       "  </tbody>\n",
       "</table>\n",
       "</div>"
      ],
      "text/plain": [
       "  researcher1  ...                                    researcher_notes\n",
       "0         CLD  ...                                                 NaN\n",
       "1         CLD  ...                                                 NaN\n",
       "2         GOV  ...                                                 NaN\n",
       "3         GOV  ...  which country == big picture governance/compliance\n",
       "4         PRI  ...                               sharing personal data\n",
       "\n",
       "[5 rows x 9 columns]"
      ]
     },
     "execution_count": 14,
     "metadata": {},
     "output_type": "execute_result"
    }
   ],
   "source": [
    "# inspect df_training\n",
    "print(df_training.shape)\n",
    "df_training.head()"
   ]
  },
  {
   "cell_type": "code",
   "execution_count": 15,
   "metadata": {},
   "outputs": [],
   "source": [
    "# Remove unneeded columns\n",
    "to_drop = ['control_category', 'page', 'document', 'Labels Considered', 'researcher_notes']\n",
    "df_training = df_training.drop(columns=to_drop)"
   ]
  },
  {
   "cell_type": "code",
   "execution_count": 16,
   "metadata": {},
   "outputs": [],
   "source": [
    "# Get rid of invisible spaces in strings\n",
    "cols = ['researcher1', 'researcher2', 'researcher3']\n",
    "\n",
    "for col in cols:\n",
    "    df_training[col] = df_training[col].apply(lambda x: str(x).strip())"
   ]
  },
  {
   "cell_type": "code",
   "execution_count": 17,
   "metadata": {},
   "outputs": [
    {
     "name": "stdout",
     "output_type": "stream",
     "text": [
      "(30, 4)\n"
     ]
    },
    {
     "data": {
      "text/html": [
       "<div>\n",
       "<style scoped>\n",
       "    .dataframe tbody tr th:only-of-type {\n",
       "        vertical-align: middle;\n",
       "    }\n",
       "\n",
       "    .dataframe tbody tr th {\n",
       "        vertical-align: top;\n",
       "    }\n",
       "\n",
       "    .dataframe thead th {\n",
       "        text-align: right;\n",
       "    }\n",
       "</style>\n",
       "<table border=\"1\" class=\"dataframe\">\n",
       "  <thead>\n",
       "    <tr style=\"text-align: right;\">\n",
       "      <th></th>\n",
       "      <th>researcher1</th>\n",
       "      <th>researcher2</th>\n",
       "      <th>researcher3</th>\n",
       "      <th>control_text</th>\n",
       "    </tr>\n",
       "  </thead>\n",
       "  <tbody>\n",
       "    <tr>\n",
       "      <th>0</th>\n",
       "      <td>CLD</td>\n",
       "      <td>CLD</td>\n",
       "      <td>CLD</td>\n",
       "      <td>Basic criterion: Conflicting tasks and responsibilities are separated based on an OIS-06 risk assessment to reduce the risk of unauthorized or unintended changes or misuse of cloud customer data p...</td>\n",
       "    </tr>\n",
       "    <tr>\n",
       "      <th>1</th>\n",
       "      <td>CLD</td>\n",
       "      <td>IAC</td>\n",
       "      <td>CLD</td>\n",
       "      <td>Basic criterion: Access to the functions provided by the cloud service is restricted by access controls (authorization mechanisms) that verify whether users, IT components, or applications are aut...</td>\n",
       "    </tr>\n",
       "    <tr>\n",
       "      <th>2</th>\n",
       "      <td>GOV</td>\n",
       "      <td>CPL</td>\n",
       "      <td>SEA</td>\n",
       "      <td>REDACTED</td>\n",
       "    </tr>\n",
       "    <tr>\n",
       "      <th>3</th>\n",
       "      <td>GOV</td>\n",
       "      <td>GOV</td>\n",
       "      <td>GOV</td>\n",
       "      <td>REDACTED</td>\n",
       "    </tr>\n",
       "    <tr>\n",
       "      <th>4</th>\n",
       "      <td>PRI</td>\n",
       "      <td>PRI</td>\n",
       "      <td>PRI</td>\n",
       "      <td>REDACTED</td>\n",
       "    </tr>\n",
       "  </tbody>\n",
       "</table>\n",
       "</div>"
      ],
      "text/plain": [
       "  researcher1  ...                                                                                                                                                                                             control_text\n",
       "0         CLD  ...  Basic criterion: Conflicting tasks and responsibilities are separated based on an OIS-06 risk assessment to reduce the risk of unauthorized or unintended changes or misuse of cloud customer data p...\n",
       "1         CLD  ...  Basic criterion: Access to the functions provided by the cloud service is restricted by access controls (authorization mechanisms) that verify whether users, IT components, or applications are aut...\n",
       "2         GOV  ...                                                                                                                                                                                                 REDACTED\n",
       "3         GOV  ...                                                                                                                                                                                                 REDACTED\n",
       "4         PRI  ...                                                                                                                                                                                                 REDACTED\n",
       "\n",
       "[5 rows x 4 columns]"
      ]
     },
     "execution_count": 17,
     "metadata": {},
     "output_type": "execute_result"
    }
   ],
   "source": [
    "# Inspect df_training\n",
    "print(df_training.shape)\n",
    "df_training.head()"
   ]
  },
  {
   "cell_type": "code",
   "execution_count": 18,
   "metadata": {},
   "outputs": [],
   "source": [
    "# Get rid of invisible spaces in strings in other data\n",
    "temp_labels[\"Abbreviation\"] = temp_labels[\"Abbreviation\"].apply(lambda x: str(x).strip())"
   ]
  },
  {
   "cell_type": "code",
   "execution_count": 19,
   "metadata": {},
   "outputs": [
    {
     "name": "stdout",
     "output_type": "stream",
     "text": [
      "(33, 3)\n"
     ]
    },
    {
     "data": {
      "text/html": [
       "<div>\n",
       "<style scoped>\n",
       "    .dataframe tbody tr th:only-of-type {\n",
       "        vertical-align: middle;\n",
       "    }\n",
       "\n",
       "    .dataframe tbody tr th {\n",
       "        vertical-align: top;\n",
       "    }\n",
       "\n",
       "    .dataframe thead th {\n",
       "        text-align: right;\n",
       "    }\n",
       "</style>\n",
       "<table border=\"1\" class=\"dataframe\">\n",
       "  <thead>\n",
       "    <tr style=\"text-align: right;\">\n",
       "      <th></th>\n",
       "      <th>Category</th>\n",
       "      <th>Abbreviation</th>\n",
       "      <th>Definition</th>\n",
       "    </tr>\n",
       "  </thead>\n",
       "  <tbody>\n",
       "    <tr>\n",
       "      <th>0</th>\n",
       "      <td>Cybersecurity &amp; Data Privacy Governance</td>\n",
       "      <td>GOV</td>\n",
       "      <td>Execute a documented, risk-based program that supports business objectives while encompassing appropriate cybersecurity and data privacy principles that addresses applicable statutory, regulatory ...</td>\n",
       "    </tr>\n",
       "    <tr>\n",
       "      <th>1</th>\n",
       "      <td>Artificial and Autonomous Technology</td>\n",
       "      <td>AAT</td>\n",
       "      <td>Ensure trustworthy and resilient Artificial Intelligence (AI) and autonomous technologies to achieve a beneficial impact by informing, advising or simplifying tasks, while minimizing emergent prop...</td>\n",
       "    </tr>\n",
       "    <tr>\n",
       "      <th>2</th>\n",
       "      <td>Asset Management</td>\n",
       "      <td>AST</td>\n",
       "      <td>Manage all technology assets from purchase through disposition, both physical and virtual, to ensure secured use, regardless of the asset’s location.</td>\n",
       "    </tr>\n",
       "    <tr>\n",
       "      <th>3</th>\n",
       "      <td>Business Continuity &amp; Disaster Recovery</td>\n",
       "      <td>BCD</td>\n",
       "      <td>Maintain a resilient capability to sustain business-critical functions while successfully responding to and recovering from incidents through well-documented and exercised processes.</td>\n",
       "    </tr>\n",
       "    <tr>\n",
       "      <th>4</th>\n",
       "      <td>Capacity &amp; Performance Planning</td>\n",
       "      <td>CAP</td>\n",
       "      <td>Govern the current and future capacities and performance of technology assets.</td>\n",
       "    </tr>\n",
       "  </tbody>\n",
       "</table>\n",
       "</div>"
      ],
      "text/plain": [
       "                                  Category  ...                                                                                                                                                                                               Definition\n",
       "0  Cybersecurity & Data Privacy Governance  ...  Execute a documented, risk-based program that supports business objectives while encompassing appropriate cybersecurity and data privacy principles that addresses applicable statutory, regulatory ...\n",
       "1     Artificial and Autonomous Technology  ...  Ensure trustworthy and resilient Artificial Intelligence (AI) and autonomous technologies to achieve a beneficial impact by informing, advising or simplifying tasks, while minimizing emergent prop...\n",
       "2                         Asset Management  ...                                                    Manage all technology assets from purchase through disposition, both physical and virtual, to ensure secured use, regardless of the asset’s location.\n",
       "3  Business Continuity & Disaster Recovery  ...                   Maintain a resilient capability to sustain business-critical functions while successfully responding to and recovering from incidents through well-documented and exercised processes.\n",
       "4          Capacity & Performance Planning  ...                                                                                                                           Govern the current and future capacities and performance of technology assets.\n",
       "\n",
       "[5 rows x 3 columns]"
      ]
     },
     "execution_count": 19,
     "metadata": {},
     "output_type": "execute_result"
    }
   ],
   "source": [
    "# Inspect temp_labels\n",
    "print(temp_labels.shape)\n",
    "temp_labels.head()"
   ]
  },
  {
   "cell_type": "markdown",
   "metadata": {},
   "source": [
    "> We will only take the majority opinion, where 2/3 or 3/3 researchers agreed after having a chance to reconsider.\n",
    "\n",
    "> For more info, see \"2-intercoder_reliability.ipynb\""
   ]
  },
  {
   "cell_type": "code",
   "execution_count": 20,
   "metadata": {},
   "outputs": [],
   "source": [
    "# Filter to only where 2/3 or 3/3 agree\n",
    "mask = (df_training[['researcher1', 'researcher2', 'researcher3']].apply(pd.Series.value_counts, axis=1).max(axis=1) >= 2)\n",
    "filtered_df = df_training[mask]"
   ]
  },
  {
   "cell_type": "code",
   "execution_count": 21,
   "metadata": {},
   "outputs": [
    {
     "data": {
      "text/html": [
       "<div>\n",
       "<style scoped>\n",
       "    .dataframe tbody tr th:only-of-type {\n",
       "        vertical-align: middle;\n",
       "    }\n",
       "\n",
       "    .dataframe tbody tr th {\n",
       "        vertical-align: top;\n",
       "    }\n",
       "\n",
       "    .dataframe thead th {\n",
       "        text-align: right;\n",
       "    }\n",
       "</style>\n",
       "<table border=\"1\" class=\"dataframe\">\n",
       "  <thead>\n",
       "    <tr style=\"text-align: right;\">\n",
       "      <th></th>\n",
       "      <th>researcher1</th>\n",
       "      <th>researcher2</th>\n",
       "      <th>researcher3</th>\n",
       "      <th>control_text</th>\n",
       "    </tr>\n",
       "  </thead>\n",
       "  <tbody>\n",
       "    <tr>\n",
       "      <th>0</th>\n",
       "      <td>CLD</td>\n",
       "      <td>CLD</td>\n",
       "      <td>CLD</td>\n",
       "      <td>Basic criterion: Conflicting tasks and responsibilities are separated based on an OIS-06 risk assessment to reduce the risk of unauthorized or unintended changes or misuse of cloud customer data p...</td>\n",
       "    </tr>\n",
       "    <tr>\n",
       "      <th>1</th>\n",
       "      <td>CLD</td>\n",
       "      <td>IAC</td>\n",
       "      <td>CLD</td>\n",
       "      <td>Basic criterion: Access to the functions provided by the cloud service is restricted by access controls (authorization mechanisms) that verify whether users, IT components, or applications are aut...</td>\n",
       "    </tr>\n",
       "    <tr>\n",
       "      <th>3</th>\n",
       "      <td>GOV</td>\n",
       "      <td>GOV</td>\n",
       "      <td>GOV</td>\n",
       "      <td>REDACTED</td>\n",
       "    </tr>\n",
       "    <tr>\n",
       "      <th>4</th>\n",
       "      <td>PRI</td>\n",
       "      <td>PRI</td>\n",
       "      <td>PRI</td>\n",
       "      <td>REDACTED</td>\n",
       "    </tr>\n",
       "    <tr>\n",
       "      <th>5</th>\n",
       "      <td>PRI</td>\n",
       "      <td>PRI</td>\n",
       "      <td>PRI</td>\n",
       "      <td>REDACTED</td>\n",
       "    </tr>\n",
       "  </tbody>\n",
       "</table>\n",
       "</div>"
      ],
      "text/plain": [
       "  researcher1  ...                                                                                                                                                                                             control_text\n",
       "0         CLD  ...  Basic criterion: Conflicting tasks and responsibilities are separated based on an OIS-06 risk assessment to reduce the risk of unauthorized or unintended changes or misuse of cloud customer data p...\n",
       "1         CLD  ...  Basic criterion: Access to the functions provided by the cloud service is restricted by access controls (authorization mechanisms) that verify whether users, IT components, or applications are aut...\n",
       "3         GOV  ...                                                                                                                                                                                                 REDACTED\n",
       "4         PRI  ...                                                                                                                                                                                                 REDACTED\n",
       "5         PRI  ...                                                                                                                                                                                                 REDACTED\n",
       "\n",
       "[5 rows x 4 columns]"
      ]
     },
     "execution_count": 21,
     "metadata": {},
     "output_type": "execute_result"
    }
   ],
   "source": [
    "# inspect filtering results\n",
    "filtered_df.head()"
   ]
  },
  {
   "cell_type": "markdown",
   "metadata": {},
   "source": [
    "> Unfortunately most of the values we used had to be redacted due to copyright.\n",
    "\n",
    "> In this code we must therefore get rid of the REDACTED values, too."
   ]
  },
  {
   "cell_type": "code",
   "execution_count": 22,
   "metadata": {},
   "outputs": [
    {
     "data": {
      "text/html": [
       "<div>\n",
       "<style scoped>\n",
       "    .dataframe tbody tr th:only-of-type {\n",
       "        vertical-align: middle;\n",
       "    }\n",
       "\n",
       "    .dataframe tbody tr th {\n",
       "        vertical-align: top;\n",
       "    }\n",
       "\n",
       "    .dataframe thead th {\n",
       "        text-align: right;\n",
       "    }\n",
       "</style>\n",
       "<table border=\"1\" class=\"dataframe\">\n",
       "  <thead>\n",
       "    <tr style=\"text-align: right;\">\n",
       "      <th></th>\n",
       "      <th>researcher1</th>\n",
       "      <th>researcher2</th>\n",
       "      <th>researcher3</th>\n",
       "      <th>control_text</th>\n",
       "    </tr>\n",
       "  </thead>\n",
       "  <tbody>\n",
       "    <tr>\n",
       "      <th>0</th>\n",
       "      <td>CLD</td>\n",
       "      <td>CLD</td>\n",
       "      <td>CLD</td>\n",
       "      <td>Basic criterion: Conflicting tasks and responsibilities are separated based on an OIS-06 risk assessment to reduce the risk of unauthorized or unintended changes or misuse of cloud customer data p...</td>\n",
       "    </tr>\n",
       "    <tr>\n",
       "      <th>1</th>\n",
       "      <td>CLD</td>\n",
       "      <td>IAC</td>\n",
       "      <td>CLD</td>\n",
       "      <td>Basic criterion: Access to the functions provided by the cloud service is restricted by access controls (authorization mechanisms) that verify whether users, IT components, or applications are aut...</td>\n",
       "    </tr>\n",
       "    <tr>\n",
       "      <th>7</th>\n",
       "      <td>TDA</td>\n",
       "      <td>TDA</td>\n",
       "      <td>TDA</td>\n",
       "      <td>Prevent the installation of [assignment: organization-defined software and firmware components] without verification that the component has been digitally signed using a certificate that is recogn...</td>\n",
       "    </tr>\n",
       "    <tr>\n",
       "      <th>9</th>\n",
       "      <td>CRY</td>\n",
       "      <td>CRY</td>\n",
       "      <td>CRY</td>\n",
       "      <td>Make provisions so that [assignment: organization-defined encrypted communications traffic] is visible to [assignment: organization-defined system monitoring tools and mechanisms]. Organizations b...</td>\n",
       "    </tr>\n",
       "    <tr>\n",
       "      <th>10</th>\n",
       "      <td>TDA</td>\n",
       "      <td>TDA</td>\n",
       "      <td>TDA</td>\n",
       "      <td>Assess and review the supply chain-related risks associated with suppliers or contractors and the system, system component, or system service they provide [assignment: organization-defined frequen...</td>\n",
       "    </tr>\n",
       "    <tr>\n",
       "      <th>11</th>\n",
       "      <td>HRS</td>\n",
       "      <td>SAT</td>\n",
       "      <td>SAT</td>\n",
       "      <td>Train organization-defined personnel or roles to detect counterfeit system components (including hardware, software, and firmware). None.</td>\n",
       "    </tr>\n",
       "    <tr>\n",
       "      <th>12</th>\n",
       "      <td>IAC</td>\n",
       "      <td>NET</td>\n",
       "      <td>NET</td>\n",
       "      <td>Authorize network access to [assignment: organization-defined privileged commands] only for [assignment: organization-defined compelling operational needs] and document the rationale for such acce...</td>\n",
       "    </tr>\n",
       "  </tbody>\n",
       "</table>\n",
       "</div>"
      ],
      "text/plain": [
       "   researcher1  ...                                                                                                                                                                                             control_text\n",
       "0          CLD  ...  Basic criterion: Conflicting tasks and responsibilities are separated based on an OIS-06 risk assessment to reduce the risk of unauthorized or unintended changes or misuse of cloud customer data p...\n",
       "1          CLD  ...  Basic criterion: Access to the functions provided by the cloud service is restricted by access controls (authorization mechanisms) that verify whether users, IT components, or applications are aut...\n",
       "7          TDA  ...  Prevent the installation of [assignment: organization-defined software and firmware components] without verification that the component has been digitally signed using a certificate that is recogn...\n",
       "9          CRY  ...  Make provisions so that [assignment: organization-defined encrypted communications traffic] is visible to [assignment: organization-defined system monitoring tools and mechanisms]. Organizations b...\n",
       "10         TDA  ...  Assess and review the supply chain-related risks associated with suppliers or contractors and the system, system component, or system service they provide [assignment: organization-defined frequen...\n",
       "11         HRS  ...                                                                Train organization-defined personnel or roles to detect counterfeit system components (including hardware, software, and firmware). None.\n",
       "12         IAC  ...  Authorize network access to [assignment: organization-defined privileged commands] only for [assignment: organization-defined compelling operational needs] and document the rationale for such acce...\n",
       "\n",
       "[7 rows x 4 columns]"
      ]
     },
     "execution_count": 22,
     "metadata": {},
     "output_type": "execute_result"
    }
   ],
   "source": [
    "# Filter redacted values\n",
    "filtered_df = filtered_df[filtered_df['control_text'] != \"REDACTED\"]\n",
    "\n",
    "# inspect results\n",
    "filtered_df"
   ]
  },
  {
   "cell_type": "code",
   "execution_count": 23,
   "metadata": {},
   "outputs": [
    {
     "data": {
      "text/html": [
       "<div>\n",
       "<style scoped>\n",
       "    .dataframe tbody tr th:only-of-type {\n",
       "        vertical-align: middle;\n",
       "    }\n",
       "\n",
       "    .dataframe tbody tr th {\n",
       "        vertical-align: top;\n",
       "    }\n",
       "\n",
       "    .dataframe thead th {\n",
       "        text-align: right;\n",
       "    }\n",
       "</style>\n",
       "<table border=\"1\" class=\"dataframe\">\n",
       "  <thead>\n",
       "    <tr style=\"text-align: right;\">\n",
       "      <th></th>\n",
       "      <th>control_text</th>\n",
       "      <th>label</th>\n",
       "    </tr>\n",
       "  </thead>\n",
       "  <tbody>\n",
       "    <tr>\n",
       "      <th>0</th>\n",
       "      <td>Basic criterion: Conflicting tasks and responsibilities are separated based on an OIS-06 risk assessment to reduce the risk of unauthorized or unintended changes or misuse of cloud customer data p...</td>\n",
       "      <td>CLD</td>\n",
       "    </tr>\n",
       "    <tr>\n",
       "      <th>1</th>\n",
       "      <td>Basic criterion: Access to the functions provided by the cloud service is restricted by access controls (authorization mechanisms) that verify whether users, IT components, or applications are aut...</td>\n",
       "      <td>CLD</td>\n",
       "    </tr>\n",
       "    <tr>\n",
       "      <th>7</th>\n",
       "      <td>Prevent the installation of [assignment: organization-defined software and firmware components] without verification that the component has been digitally signed using a certificate that is recogn...</td>\n",
       "      <td>TDA</td>\n",
       "    </tr>\n",
       "    <tr>\n",
       "      <th>9</th>\n",
       "      <td>Make provisions so that [assignment: organization-defined encrypted communications traffic] is visible to [assignment: organization-defined system monitoring tools and mechanisms]. Organizations b...</td>\n",
       "      <td>CRY</td>\n",
       "    </tr>\n",
       "    <tr>\n",
       "      <th>10</th>\n",
       "      <td>Assess and review the supply chain-related risks associated with suppliers or contractors and the system, system component, or system service they provide [assignment: organization-defined frequen...</td>\n",
       "      <td>TDA</td>\n",
       "    </tr>\n",
       "    <tr>\n",
       "      <th>11</th>\n",
       "      <td>Train organization-defined personnel or roles to detect counterfeit system components (including hardware, software, and firmware). None.</td>\n",
       "      <td>SAT</td>\n",
       "    </tr>\n",
       "    <tr>\n",
       "      <th>12</th>\n",
       "      <td>Authorize network access to [assignment: organization-defined privileged commands] only for [assignment: organization-defined compelling operational needs] and document the rationale for such acce...</td>\n",
       "      <td>NET</td>\n",
       "    </tr>\n",
       "  </tbody>\n",
       "</table>\n",
       "</div>"
      ],
      "text/plain": [
       "                                                                                                                                                                                               control_text label\n",
       "0   Basic criterion: Conflicting tasks and responsibilities are separated based on an OIS-06 risk assessment to reduce the risk of unauthorized or unintended changes or misuse of cloud customer data p...   CLD\n",
       "1   Basic criterion: Access to the functions provided by the cloud service is restricted by access controls (authorization mechanisms) that verify whether users, IT components, or applications are aut...   CLD\n",
       "7   Prevent the installation of [assignment: organization-defined software and firmware components] without verification that the component has been digitally signed using a certificate that is recogn...   TDA\n",
       "9   Make provisions so that [assignment: organization-defined encrypted communications traffic] is visible to [assignment: organization-defined system monitoring tools and mechanisms]. Organizations b...   CRY\n",
       "10  Assess and review the supply chain-related risks associated with suppliers or contractors and the system, system component, or system service they provide [assignment: organization-defined frequen...   TDA\n",
       "11                                                                Train organization-defined personnel or roles to detect counterfeit system components (including hardware, software, and firmware). None.   SAT\n",
       "12  Authorize network access to [assignment: organization-defined privileged commands] only for [assignment: organization-defined compelling operational needs] and document the rationale for such acce...   NET"
      ]
     },
     "execution_count": 23,
     "metadata": {},
     "output_type": "execute_result"
    }
   ],
   "source": [
    "# replace researcher labels with majority opinion\n",
    "filtered_df['label'] = ['CLD', 'CLD', 'TDA', 'CRY', 'TDA', 'SAT', 'NET']\n",
    "\n",
    "# remove unneeded columns\n",
    "to_drop = ['researcher1', 'researcher2', 'researcher3']\n",
    "filtered_df = filtered_df.drop(columns=to_drop)\n",
    "\n",
    "# inspect results\n",
    "filtered_df"
   ]
  },
  {
   "cell_type": "code",
   "execution_count": 24,
   "metadata": {},
   "outputs": [
    {
     "data": {
      "text/html": [
       "<div>\n",
       "<style scoped>\n",
       "    .dataframe tbody tr th:only-of-type {\n",
       "        vertical-align: middle;\n",
       "    }\n",
       "\n",
       "    .dataframe tbody tr th {\n",
       "        vertical-align: top;\n",
       "    }\n",
       "\n",
       "    .dataframe thead th {\n",
       "        text-align: right;\n",
       "    }\n",
       "</style>\n",
       "<table border=\"1\" class=\"dataframe\">\n",
       "  <thead>\n",
       "    <tr style=\"text-align: right;\">\n",
       "      <th></th>\n",
       "      <th>control_text</th>\n",
       "      <th>label</th>\n",
       "      <th>Definition</th>\n",
       "    </tr>\n",
       "  </thead>\n",
       "  <tbody>\n",
       "    <tr>\n",
       "      <th>0</th>\n",
       "      <td>Basic criterion: Conflicting tasks and responsibilities are separated based on an OIS-06 risk assessment to reduce the risk of unauthorized or unintended changes or misuse of cloud customer data p...</td>\n",
       "      <td>CLD</td>\n",
       "      <td>Govern cloud instances as an extension of on-premise technologies with equal or greater security protections than the organization’s own internal cybersecurity and privacy controls.</td>\n",
       "    </tr>\n",
       "    <tr>\n",
       "      <th>1</th>\n",
       "      <td>Basic criterion: Access to the functions provided by the cloud service is restricted by access controls (authorization mechanisms) that verify whether users, IT components, or applications are aut...</td>\n",
       "      <td>CLD</td>\n",
       "      <td>Govern cloud instances as an extension of on-premise technologies with equal or greater security protections than the organization’s own internal cybersecurity and privacy controls.</td>\n",
       "    </tr>\n",
       "    <tr>\n",
       "      <th>2</th>\n",
       "      <td>Prevent the installation of [assignment: organization-defined software and firmware components] without verification that the component has been digitally signed using a certificate that is recogn...</td>\n",
       "      <td>TDA</td>\n",
       "      <td>Develop and test systems, applications or services according to a Secure Software Development Framework (SSDF) to reduce the potential impact of undetected or unaddressed vulnerabilities and desig...</td>\n",
       "    </tr>\n",
       "    <tr>\n",
       "      <th>3</th>\n",
       "      <td>Make provisions so that [assignment: organization-defined encrypted communications traffic] is visible to [assignment: organization-defined system monitoring tools and mechanisms]. Organizations b...</td>\n",
       "      <td>CRY</td>\n",
       "      <td>Utilize appropriate cryptographic solutions and industry-recognized key management practices to protect the confidentiality and integrity of sensitive/regulated data both at rest and in transit.</td>\n",
       "    </tr>\n",
       "    <tr>\n",
       "      <th>4</th>\n",
       "      <td>Assess and review the supply chain-related risks associated with suppliers or contractors and the system, system component, or system service they provide [assignment: organization-defined frequen...</td>\n",
       "      <td>TDA</td>\n",
       "      <td>Develop and test systems, applications or services according to a Secure Software Development Framework (SSDF) to reduce the potential impact of undetected or unaddressed vulnerabilities and desig...</td>\n",
       "    </tr>\n",
       "  </tbody>\n",
       "</table>\n",
       "</div>"
      ],
      "text/plain": [
       "                                                                                                                                                                                              control_text  ...                                                                                                                                                                                               Definition\n",
       "0  Basic criterion: Conflicting tasks and responsibilities are separated based on an OIS-06 risk assessment to reduce the risk of unauthorized or unintended changes or misuse of cloud customer data p...  ...                    Govern cloud instances as an extension of on-premise technologies with equal or greater security protections than the organization’s own internal cybersecurity and privacy controls.\n",
       "1  Basic criterion: Access to the functions provided by the cloud service is restricted by access controls (authorization mechanisms) that verify whether users, IT components, or applications are aut...  ...                    Govern cloud instances as an extension of on-premise technologies with equal or greater security protections than the organization’s own internal cybersecurity and privacy controls.\n",
       "2  Prevent the installation of [assignment: organization-defined software and firmware components] without verification that the component has been digitally signed using a certificate that is recogn...  ...  Develop and test systems, applications or services according to a Secure Software Development Framework (SSDF) to reduce the potential impact of undetected or unaddressed vulnerabilities and desig...\n",
       "3  Make provisions so that [assignment: organization-defined encrypted communications traffic] is visible to [assignment: organization-defined system monitoring tools and mechanisms]. Organizations b...  ...       Utilize appropriate cryptographic solutions and industry-recognized key management practices to protect the confidentiality and integrity of sensitive/regulated data both at rest and in transit.\n",
       "4  Assess and review the supply chain-related risks associated with suppliers or contractors and the system, system component, or system service they provide [assignment: organization-defined frequen...  ...  Develop and test systems, applications or services according to a Secure Software Development Framework (SSDF) to reduce the potential impact of undetected or unaddressed vulnerabilities and desig...\n",
       "\n",
       "[5 rows x 3 columns]"
      ]
     },
     "execution_count": 24,
     "metadata": {},
     "output_type": "execute_result"
    }
   ],
   "source": [
    "# Merge df_training with temp_labels on df_training['33_label'] and df_ada['topic_num']\n",
    "to_drop = ['Abbreviation', 'Category']\n",
    "df_training = pd.merge(filtered_df, temp_labels, left_on='label', right_on='Abbreviation', how='left').drop(columns=to_drop)\n",
    "\n",
    "# inspect results\n",
    "df_training.head()"
   ]
  },
  {
   "cell_type": "code",
   "execution_count": 25,
   "metadata": {},
   "outputs": [
    {
     "data": {
      "text/html": [
       "<div>\n",
       "<style scoped>\n",
       "    .dataframe tbody tr th:only-of-type {\n",
       "        vertical-align: middle;\n",
       "    }\n",
       "\n",
       "    .dataframe tbody tr th {\n",
       "        vertical-align: top;\n",
       "    }\n",
       "\n",
       "    .dataframe thead th {\n",
       "        text-align: right;\n",
       "    }\n",
       "</style>\n",
       "<table border=\"1\" class=\"dataframe\">\n",
       "  <thead>\n",
       "    <tr style=\"text-align: right;\">\n",
       "      <th></th>\n",
       "      <th>control_text</th>\n",
       "      <th>final_label</th>\n",
       "    </tr>\n",
       "  </thead>\n",
       "  <tbody>\n",
       "    <tr>\n",
       "      <th>0</th>\n",
       "      <td>Basic criterion: Conflicting tasks and responsibilities are separated based on an OIS-06 risk assessment to reduce the risk of unauthorized or unintended changes or misuse of cloud customer data p...</td>\n",
       "      <td>CLD: Govern cloud instances as an extension of on-premise technologies with equal or greater security protections than the organization’s own internal cybersecurity and privacy controls.</td>\n",
       "    </tr>\n",
       "    <tr>\n",
       "      <th>1</th>\n",
       "      <td>Basic criterion: Access to the functions provided by the cloud service is restricted by access controls (authorization mechanisms) that verify whether users, IT components, or applications are aut...</td>\n",
       "      <td>CLD: Govern cloud instances as an extension of on-premise technologies with equal or greater security protections than the organization’s own internal cybersecurity and privacy controls.</td>\n",
       "    </tr>\n",
       "    <tr>\n",
       "      <th>2</th>\n",
       "      <td>Prevent the installation of [assignment: organization-defined software and firmware components] without verification that the component has been digitally signed using a certificate that is recogn...</td>\n",
       "      <td>TDA: Develop and test systems, applications or services according to a Secure Software Development Framework (SSDF) to reduce the potential impact of undetected or unaddressed vulnerabilities and ...</td>\n",
       "    </tr>\n",
       "    <tr>\n",
       "      <th>3</th>\n",
       "      <td>Make provisions so that [assignment: organization-defined encrypted communications traffic] is visible to [assignment: organization-defined system monitoring tools and mechanisms]. Organizations b...</td>\n",
       "      <td>CRY: Utilize appropriate cryptographic solutions and industry-recognized key management practices to protect the confidentiality and integrity of sensitive/regulated data both at rest and in transit.</td>\n",
       "    </tr>\n",
       "    <tr>\n",
       "      <th>4</th>\n",
       "      <td>Assess and review the supply chain-related risks associated with suppliers or contractors and the system, system component, or system service they provide [assignment: organization-defined frequen...</td>\n",
       "      <td>TDA: Develop and test systems, applications or services according to a Secure Software Development Framework (SSDF) to reduce the potential impact of undetected or unaddressed vulnerabilities and ...</td>\n",
       "    </tr>\n",
       "  </tbody>\n",
       "</table>\n",
       "</div>"
      ],
      "text/plain": [
       "                                                                                                                                                                                              control_text                                                                                                                                                                                              final_label\n",
       "0  Basic criterion: Conflicting tasks and responsibilities are separated based on an OIS-06 risk assessment to reduce the risk of unauthorized or unintended changes or misuse of cloud customer data p...               CLD: Govern cloud instances as an extension of on-premise technologies with equal or greater security protections than the organization’s own internal cybersecurity and privacy controls.\n",
       "1  Basic criterion: Access to the functions provided by the cloud service is restricted by access controls (authorization mechanisms) that verify whether users, IT components, or applications are aut...               CLD: Govern cloud instances as an extension of on-premise technologies with equal or greater security protections than the organization’s own internal cybersecurity and privacy controls.\n",
       "2  Prevent the installation of [assignment: organization-defined software and firmware components] without verification that the component has been digitally signed using a certificate that is recogn...  TDA: Develop and test systems, applications or services according to a Secure Software Development Framework (SSDF) to reduce the potential impact of undetected or unaddressed vulnerabilities and ...\n",
       "3  Make provisions so that [assignment: organization-defined encrypted communications traffic] is visible to [assignment: organization-defined system monitoring tools and mechanisms]. Organizations b...  CRY: Utilize appropriate cryptographic solutions and industry-recognized key management practices to protect the confidentiality and integrity of sensitive/regulated data both at rest and in transit.\n",
       "4  Assess and review the supply chain-related risks associated with suppliers or contractors and the system, system component, or system service they provide [assignment: organization-defined frequen...  TDA: Develop and test systems, applications or services according to a Secure Software Development Framework (SSDF) to reduce the potential impact of undetected or unaddressed vulnerabilities and ..."
      ]
     },
     "execution_count": 25,
     "metadata": {},
     "output_type": "execute_result"
    }
   ],
   "source": [
    "# concatenate the category and definition as we need one column of labels\n",
    "df_training['final_label'] = df_training['label'] + ': ' + df_training['Definition']\n",
    "df_training['final_label']\n",
    "\n",
    "to_drop = ['label', 'Definition']\n",
    "df_training = df_training.drop(columns=to_drop)\n",
    "\n",
    "# check results\n",
    "df_training.head()"
   ]
  },
  {
   "cell_type": "markdown",
   "metadata": {},
   "source": [
    "## Tokenizing training data"
   ]
  },
  {
   "cell_type": "code",
   "execution_count": 26,
   "metadata": {},
   "outputs": [
    {
     "name": "stderr",
     "output_type": "stream",
     "text": [
      "/Users/Zak/Desktop/privacy-standard-topic-modeling/venv/lib/python3.12/site-packages/transformers/tokenization_utils_base.py:1601: FutureWarning: `clean_up_tokenization_spaces` was not set. It will be set to `True` by default. This behavior will be depracted in transformers v4.45, and will be then set to `False` by default. For more details check this issue: https://github.com/huggingface/transformers/issues/31884\n",
      "  warnings.warn(\n"
     ]
    },
    {
     "data": {
      "application/vnd.jupyter.widget-view+json": {
       "model_id": "ba8ee9714a5c4265aaedf88f69036cdb",
       "version_major": 2,
       "version_minor": 0
      },
      "text/plain": [
       "Map:   0%|          | 0/7 [00:00<?, ? examples/s]"
      ]
     },
     "metadata": {},
     "output_type": "display_data"
    },
    {
     "name": "stderr",
     "output_type": "stream",
     "text": [
      "Some weights of BertForSequenceClassification were not initialized from the model checkpoint at ../outputs/domain_adapted_model and are newly initialized: ['bert.pooler.dense.bias', 'bert.pooler.dense.weight', 'classifier.bias', 'classifier.weight']\n",
      "You should probably TRAIN this model on a down-stream task to be able to use it for predictions and inference.\n"
     ]
    }
   ],
   "source": [
    "# df_training is DataFrame with labeled data\n",
    "texts = df_training['control_text'].values\n",
    "labels = df_training['final_label'].values\n",
    "\n",
    "# Convert text labels to integers\n",
    "label_encoder = LabelEncoder()\n",
    "encoded_labels = label_encoder.fit_transform(labels)\n",
    "\n",
    "# Create a Dataset object from your texts and encoded labels\n",
    "labeled_dataset = Dataset.from_dict({\"text\": texts, \"label\": encoded_labels})\n",
    "\n",
    "# Tokenize the labeled dataset\n",
    "tokenizer = AutoTokenizer.from_pretrained(\"bert-base-cased\")\n",
    "\n",
    "def tokenize_function(examples):\n",
    "    # Adjust the function to handle the mapping correctly for sequence classification\n",
    "    return tokenizer(examples[\"text\"], padding=\"max_length\", truncation=True, max_length=512)\n",
    "\n",
    "tokenized_labeled_dataset = labeled_dataset.map(tokenize_function, batched=True)\n",
    "\n",
    "# Ensure model is suited for sequence classification\n",
    "domain_adapted_model = \"../outputs/domain_adapted_model\"  # Importing the model already trained \n",
    "model = AutoModelForSequenceClassification.from_pretrained(domain_adapted_model, num_labels=len(label_encoder.classes_))"
   ]
  },
  {
   "cell_type": "code",
   "execution_count": 27,
   "metadata": {},
   "outputs": [],
   "source": [
    "# Define training arguments\n",
    "training_args = TrainingArguments(\n",
    "    output_dir=\"../outputs/fine_tuned_model\",\n",
    "    overwrite_output_dir=True,\n",
    "    num_train_epochs=3,\n",
    "    per_device_train_batch_size=16,\n",
    "    save_steps=10_000,\n",
    "    save_total_limit=2,\n",
    ")\n",
    "\n",
    "# Initialize the Trainer\n",
    "trainer = Trainer(\n",
    "    model=model,\n",
    "    args=training_args,\n",
    "    train_dataset=tokenized_labeled_dataset,\n",
    ")"
   ]
  },
  {
   "cell_type": "code",
   "execution_count": 28,
   "metadata": {},
   "outputs": [
    {
     "data": {
      "application/vnd.jupyter.widget-view+json": {
       "model_id": "519746e2abb64538809ecbe59cd62fe0",
       "version_major": 2,
       "version_minor": 0
      },
      "text/plain": [
       "  0%|          | 0/3 [00:00<?, ?it/s]"
      ]
     },
     "metadata": {},
     "output_type": "display_data"
    },
    {
     "name": "stdout",
     "output_type": "stream",
     "text": [
      "{'train_runtime': 5.5518, 'train_samples_per_second': 3.783, 'train_steps_per_second': 0.54, 'train_loss': 1.4827165603637695, 'epoch': 3.0}\n"
     ]
    },
    {
     "data": {
      "text/plain": [
       "TrainOutput(global_step=3, training_loss=1.4827165603637695, metrics={'train_runtime': 5.5518, 'train_samples_per_second': 3.783, 'train_steps_per_second': 0.54, 'total_flos': 5525480991744.0, 'train_loss': 1.4827165603637695, 'epoch': 3.0})"
      ]
     },
     "execution_count": 28,
     "metadata": {},
     "output_type": "execute_result"
    }
   ],
   "source": [
    "# Train the model\n",
    "trainer.train()"
   ]
  },
  {
   "cell_type": "code",
   "execution_count": 29,
   "metadata": {},
   "outputs": [
    {
     "data": {
      "text/plain": [
       "('outputs/fine_tuned_model/tokenizer_config.json',\n",
       " 'outputs/fine_tuned_model/special_tokens_map.json',\n",
       " 'outputs/fine_tuned_model/vocab.txt',\n",
       " 'outputs/fine_tuned_model/added_tokens.json',\n",
       " 'outputs/fine_tuned_model/tokenizer.json')"
      ]
     },
     "execution_count": 29,
     "metadata": {},
     "output_type": "execute_result"
    }
   ],
   "source": [
    "# Optionally, save the model and the tokenizer\n",
    "model.save_pretrained(\"../outputs/fine_tuned_model\")\n",
    "tokenizer.save_pretrained(\"../outputs/fine_tuned_model\")"
   ]
  },
  {
   "cell_type": "code",
   "execution_count": 30,
   "metadata": {},
   "outputs": [
    {
     "data": {
      "text/plain": [
       "['../outputs/fine_tuned_model/label_encoder.joblib']"
      ]
     },
     "execution_count": 30,
     "metadata": {},
     "output_type": "execute_result"
    }
   ],
   "source": [
    "# Also, save the label encoder for later use in inference to decode the predicted labels\n",
    "joblib.dump(label_encoder, \"../outputs/fine_tuned_model/label_encoder.joblib\")"
   ]
  },
  {
   "cell_type": "code",
   "execution_count": null,
   "metadata": {},
   "outputs": [],
   "source": []
  }
 ],
 "metadata": {
  "kernelspec": {
   "display_name": "venv",
   "language": "python",
   "name": "python3"
  },
  "language_info": {
   "codemirror_mode": {
    "name": "ipython",
    "version": 3
   },
   "file_extension": ".py",
   "mimetype": "text/x-python",
   "name": "python",
   "nbconvert_exporter": "python",
   "pygments_lexer": "ipython3",
   "version": "3.12.4"
  }
 },
 "nbformat": 4,
 "nbformat_minor": 2
}
