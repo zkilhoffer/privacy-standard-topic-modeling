{
 "cells": [
  {
   "cell_type": "markdown",
   "metadata": {},
   "source": [
    "# TODO: add a column for referential or substantive controls to the base dataset and the one with embeddings"
   ]
  },
  {
   "cell_type": "markdown",
   "metadata": {},
   "source": [
    "***\n",
    "\n",
    "# Embeddings\n",
    "\n",
    "- By [Zachary Kilhoffer](https://zkilhoffer.github.io/)\n",
    "- Updated 2024-06-17\n",
    "\n",
    "***\n",
    "\n",
    "### Description\n",
    "- This is a pipeline to create embeddings from texts using a pre-trained LLMs. \n",
    "- You can easily repeat this process with a different LLM than BERT, adding the new embeddings as new columns.\n",
    "- This can be useful, for example, for a one-shot learning topic model pipeline using BERTopic for models A, B, and C (using different embeddings), then visualize and compare results as needed.\n",
    "\n",
    "***\n",
    "\n",
    "### Inputs\n",
    "- data-clean.csv\n",
    "- /fine_tuned_model/\n",
    "\n",
    "### Outputs\n",
    "- data-clean-embeddings.csv\n",
    "\n",
    "\n",
    "***"
   ]
  },
  {
   "cell_type": "code",
   "execution_count": 18,
   "metadata": {},
   "outputs": [],
   "source": [
    "import warnings\n",
    "import pandas as pd\n",
    "from transformers import BertTokenizer, BertModel, pipeline\n",
    "from bertopic import BERTopic\n",
    "import matplotlib.pyplot as plt\n",
    "import json"
   ]
  },
  {
   "cell_type": "markdown",
   "metadata": {},
   "source": [
    "# Setup"
   ]
  },
  {
   "cell_type": "code",
   "execution_count": 2,
   "metadata": {},
   "outputs": [],
   "source": [
    "# display tweaks\n",
    "pd.set_option(\"display.max_colwidth\", 200)  # how much text is showing within a cell\n",
    "pd.set_option(\"display.max_columns\", False)\n",
    "pd.set_option(\"display.max_rows\", False)\n",
    "warnings.filterwarnings(\"ignore\")"
   ]
  },
  {
   "cell_type": "code",
   "execution_count": 3,
   "metadata": {},
   "outputs": [],
   "source": [
    "# load data\n",
    "df = pd.read_csv('../data/data-clean.csv', index_col=0)"
   ]
  },
  {
   "cell_type": "code",
   "execution_count": 4,
   "metadata": {},
   "outputs": [
    {
     "data": {
      "text/html": [
       "<div>\n",
       "<style scoped>\n",
       "    .dataframe tbody tr th:only-of-type {\n",
       "        vertical-align: middle;\n",
       "    }\n",
       "\n",
       "    .dataframe tbody tr th {\n",
       "        vertical-align: top;\n",
       "    }\n",
       "\n",
       "    .dataframe thead th {\n",
       "        text-align: right;\n",
       "    }\n",
       "</style>\n",
       "<table border=\"1\" class=\"dataframe\">\n",
       "  <thead>\n",
       "    <tr style=\"text-align: right;\">\n",
       "      <th></th>\n",
       "      <th>control_category</th>\n",
       "      <th>control_code</th>\n",
       "      <th>control_name</th>\n",
       "      <th>document</th>\n",
       "      <th>control_text_corrected</th>\n",
       "      <th>full_control_text</th>\n",
       "    </tr>\n",
       "  </thead>\n",
       "  <tbody>\n",
       "    <tr>\n",
       "      <th>0</th>\n",
       "      <td>organisation of information security (ois)</td>\n",
       "      <td>OIS-01</td>\n",
       "      <td>information security management system (isms)</td>\n",
       "      <td>c5</td>\n",
       "      <td>Basic criterion: The cloud service provider operates an Information Security Management System (ISMS) in accordance with ISO/IEC 27001. The scope of the ISMS covers the cloud service provider's or...</td>\n",
       "      <td>Organisation of information security (ois). Information security management system (isms). Basic criterion: The cloud service provider operates an Information Security Management System (ISMS) in ...</td>\n",
       "    </tr>\n",
       "    <tr>\n",
       "      <th>1</th>\n",
       "      <td>organisation of information security (ois)</td>\n",
       "      <td>OIS-02</td>\n",
       "      <td>information security policy</td>\n",
       "      <td>c5</td>\n",
       "      <td>Basic criterion: The top management of the cloud service provider has adopted an information security policy and communicated it to internal and external employees, as well as cloud customers. The...</td>\n",
       "      <td>Organisation of information security (ois). Information security policy. Basic criterion: The top management of the cloud service provider has adopted an information security policy and communicat...</td>\n",
       "    </tr>\n",
       "  </tbody>\n",
       "</table>\n",
       "</div>"
      ],
      "text/plain": [
       "                             control_category  ...                                                                                                                                                                                        full_control_text\n",
       "0  organisation of information security (ois)  ...  Organisation of information security (ois). Information security management system (isms). Basic criterion: The cloud service provider operates an Information Security Management System (ISMS) in ...\n",
       "1  organisation of information security (ois)  ...  Organisation of information security (ois). Information security policy. Basic criterion: The top management of the cloud service provider has adopted an information security policy and communicat...\n",
       "\n",
       "[2 rows x 6 columns]"
      ]
     },
     "execution_count": 4,
     "metadata": {},
     "output_type": "execute_result"
    }
   ],
   "source": [
    "# inspect df\n",
    "df.head(2)"
   ]
  },
  {
   "cell_type": "code",
   "execution_count": 5,
   "metadata": {},
   "outputs": [
    {
     "name": "stdout",
     "output_type": "stream",
     "text": [
      "Number of control texts longer than limit: 12.\n"
     ]
    },
    {
     "data": {
      "image/png": "[encoded data removed]",
      "text/plain": [
       "<Figure size 640x480 with 1 Axes>"
      ]
     },
     "metadata": {},
     "output_type": "display_data"
    }
   ],
   "source": [
    "# How long are the texts? \n",
    "# BERT embeddings will truncate texts over 512 tokens. \n",
    "\n",
    "l = df['full_control_text'].apply(lambda x: len(x.split(' ')))\n",
    "z = len([x for x in l if x >= 512])\n",
    "print(f'Number of control texts longer than limit: {z}.')\n",
    "\n",
    "ax = l.hist(bins=30)  # create histogram using axes object\n",
    "ax.set_title('How many tokens long are control texts?')\n",
    "plt.axvline(x=512, color='red', linewidth=1)\n",
    "props = dict(boxstyle='square', facecolor='white', alpha=0.5)\n",
    "\n",
    "ax.text(0.95, 0.7, f'{z} values >= 512', transform=ax.transAxes, fontsize=10,\n",
    "        verticalalignment='top', horizontalalignment='right', bbox=props)\n",
    "plt.show()"
   ]
  },
  {
   "cell_type": "code",
   "execution_count": 6,
   "metadata": {},
   "outputs": [],
   "source": [
    "# create list for encoding\n",
    "docs = list(df['full_control_text'].values)"
   ]
  },
  {
   "cell_type": "markdown",
   "metadata": {},
   "source": [
    "# BERT base\n",
    "\n",
    "- First we create embeddings using \"bert-base-uncased\", a popular model available on HuggingFace.\n",
    "- Note that BERT will truncate any texts longer than 512 tokens.\n",
    "- Feel free to play around with different models!"
   ]
  },
  {
   "cell_type": "code",
   "execution_count": 7,
   "metadata": {},
   "outputs": [],
   "source": [
    "# Load pre-trained BERT model and tokenizer\n",
    "model_name = \"bert-base-uncased\"  \n",
    "model = BertModel.from_pretrained(model_name)\n",
    "tokenizer = BertTokenizer.from_pretrained(model_name)\n",
    "\n",
    "# function to do BERT embedding on text\n",
    "def get_embedding(text):\n",
    "    encoded_input = tokenizer(text, return_tensors='pt', truncation=True, max_length=512)\n",
    "    output = model(**encoded_input)\n",
    "    \n",
    "    # Use the pooler output (representation of [CLS] token) and detach it to convert tensor to numpy\n",
    "    embedding = output[1].detach().numpy()\n",
    "    return embedding"
   ]
  },
  {
   "cell_type": "code",
   "execution_count": 8,
   "metadata": {},
   "outputs": [],
   "source": [
    "# create embeddings for each row based on the text in column \"full_control_text\"\n",
    "# this column has the \"control category\" and \"control name\" for additional context\n",
    "df['BERTembeddings'] = df['full_control_text'].apply(get_embedding)"
   ]
  },
  {
   "cell_type": "code",
   "execution_count": 9,
   "metadata": {},
   "outputs": [],
   "source": [
    "# transform embeddings from embedded list [[num, num]] to simple list [num, num]\n",
    "df['BERTembeddings'] = df['BERTembeddings'].apply(lambda x: x[0])"
   ]
  },
  {
   "cell_type": "code",
   "execution_count": 10,
   "metadata": {},
   "outputs": [
    {
     "data": {
      "text/html": [
       "<div>\n",
       "<style scoped>\n",
       "    .dataframe tbody tr th:only-of-type {\n",
       "        vertical-align: middle;\n",
       "    }\n",
       "\n",
       "    .dataframe tbody tr th {\n",
       "        vertical-align: top;\n",
       "    }\n",
       "\n",
       "    .dataframe thead th {\n",
       "        text-align: right;\n",
       "    }\n",
       "</style>\n",
       "<table border=\"1\" class=\"dataframe\">\n",
       "  <thead>\n",
       "    <tr style=\"text-align: right;\">\n",
       "      <th></th>\n",
       "      <th>control_category</th>\n",
       "      <th>control_code</th>\n",
       "      <th>control_name</th>\n",
       "      <th>document</th>\n",
       "      <th>control_text_corrected</th>\n",
       "      <th>full_control_text</th>\n",
       "      <th>BERTembeddings</th>\n",
       "    </tr>\n",
       "  </thead>\n",
       "  <tbody>\n",
       "    <tr>\n",
       "      <th>0</th>\n",
       "      <td>organisation of information security (ois)</td>\n",
       "      <td>OIS-01</td>\n",
       "      <td>information security management system (isms)</td>\n",
       "      <td>c5</td>\n",
       "      <td>Basic criterion: The cloud service provider operates an Information Security Management System (ISMS) in accordance with ISO/IEC 27001. The scope of the ISMS covers the cloud service provider's or...</td>\n",
       "      <td>Organisation of information security (ois). Information security management system (isms). Basic criterion: The cloud service provider operates an Information Security Management System (ISMS) in ...</td>\n",
       "      <td>[-0.23476624, -0.22193538, -0.993742, 0.36702338, 0.8497383, -0.16401638, -0.63813585, -0.112916954, -0.9666923, -0.99915665, -0.7527641, 0.8858468, 0.11061413, 0.82643, -0.5260496, -0.41770625, -...</td>\n",
       "    </tr>\n",
       "    <tr>\n",
       "      <th>1</th>\n",
       "      <td>organisation of information security (ois)</td>\n",
       "      <td>OIS-02</td>\n",
       "      <td>information security policy</td>\n",
       "      <td>c5</td>\n",
       "      <td>Basic criterion: The top management of the cloud service provider has adopted an information security policy and communicated it to internal and external employees, as well as cloud customers. The...</td>\n",
       "      <td>Organisation of information security (ois). Information security policy. Basic criterion: The top management of the cloud service provider has adopted an information security policy and communicat...</td>\n",
       "      <td>[-0.6862502, -0.482106, -0.99791867, 0.66345596, 0.8985687, -0.33475596, 0.11295092, 0.24699804, -0.975181, -0.99998146, -0.7597701, 0.9544105, 0.7198171, 0.9297444, 0.13951182, -0.7354342, -0.127...</td>\n",
       "    </tr>\n",
       "  </tbody>\n",
       "</table>\n",
       "</div>"
      ],
      "text/plain": [
       "                             control_category  ...                                                                                                                                                                                           BERTembeddings\n",
       "0  organisation of information security (ois)  ...  [-0.23476624, -0.22193538, -0.993742, 0.36702338, 0.8497383, -0.16401638, -0.63813585, -0.112916954, -0.9666923, -0.99915665, -0.7527641, 0.8858468, 0.11061413, 0.82643, -0.5260496, -0.41770625, -...\n",
       "1  organisation of information security (ois)  ...  [-0.6862502, -0.482106, -0.99791867, 0.66345596, 0.8985687, -0.33475596, 0.11295092, 0.24699804, -0.975181, -0.99998146, -0.7597701, 0.9544105, 0.7198171, 0.9297444, 0.13951182, -0.7354342, -0.127...\n",
       "\n",
       "[2 rows x 7 columns]"
      ]
     },
     "execution_count": 10,
     "metadata": {},
     "output_type": "execute_result"
    }
   ],
   "source": [
    "# inspect\n",
    "df.head(2)"
   ]
  },
  {
   "cell_type": "markdown",
   "metadata": {},
   "source": [
    "# Embeddings from Finetuned Model"
   ]
  },
  {
   "cell_type": "code",
   "execution_count": 13,
   "metadata": {},
   "outputs": [],
   "source": [
    "# Load finetuned BERT model and tokenizer locally\n",
    "model_path = \"../outputs/fine_tuned_model/\"\n",
    "model = BertModel.from_pretrained(model_path)\n",
    "tokenizer = BertTokenizer.from_pretrained(model_path)\n",
    "\n",
    "# function to do BERT embedding on text\n",
    "def get_embedding(text):\n",
    "    encoded_input = tokenizer(text, return_tensors='pt', truncation=True, max_length=512)\n",
    "    output = model(**encoded_input)\n",
    "    \n",
    "    # Use the pooler output (representation of [CLS] token) and detach it to convert tensor to numpy\n",
    "    embedding = output[1].detach().numpy()\n",
    "    return embedding"
   ]
  },
  {
   "cell_type": "code",
   "execution_count": 14,
   "metadata": {},
   "outputs": [],
   "source": [
    "# create embeddings for each row based on the text in column \"full_control_text\"\n",
    "# this column has the \"control category\" and \"control name\" for additional context\n",
    "df['finetuned_embeddings'] = df['full_control_text'].apply(get_embedding)"
   ]
  },
  {
   "cell_type": "code",
   "execution_count": 16,
   "metadata": {},
   "outputs": [],
   "source": [
    "# transform embeddings from embedded list [[num, num]] to simple list [num, num]\n",
    "df['finetuned_embeddings'] = df['finetuned_embeddings'].apply(lambda x: x[0])"
   ]
  },
  {
   "cell_type": "markdown",
   "metadata": {},
   "source": [
    "# Savings results"
   ]
  },
  {
   "cell_type": "code",
   "execution_count": 20,
   "metadata": {},
   "outputs": [],
   "source": [
    "# need to convert the embeddings so they're stored properly\n",
    "# we convert the ndarray to a list, then serialize it to a JSON string\n",
    "df['BERTembeddings'] = df['BERTembeddings'].apply(lambda x: json.dumps(x.tolist()))\n",
    "df['finetuned_embeddings'] = df['finetuned_embeddings'].apply(lambda x: json.dumps(x.tolist()))\n"
   ]
  },
  {
   "cell_type": "code",
   "execution_count": 23,
   "metadata": {},
   "outputs": [],
   "source": [
    "output_filename = \"data-clean-embeddings.csv\"\n",
    "df.to_csv(f\"../data/{output_filename}\")"
   ]
  },
  {
   "cell_type": "code",
   "execution_count": null,
   "metadata": {},
   "outputs": [],
   "source": []
  }
 ],
 "metadata": {
  "kernelspec": {
   "display_name": "ciscovenv",
   "language": "python",
   "name": "python3"
  },
  "language_info": {
   "codemirror_mode": {
    "name": "ipython",
    "version": 3
   },
   "file_extension": ".py",
   "mimetype": "text/x-python",
   "name": "python",
   "nbconvert_exporter": "python",
   "pygments_lexer": "ipython3",
   "version": "3.12.4"
  }
 },
 "nbformat": 4,
 "nbformat_minor": 2
}
